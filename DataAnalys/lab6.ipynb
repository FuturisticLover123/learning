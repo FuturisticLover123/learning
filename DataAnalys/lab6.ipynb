{
  "cells": [
    {
      "cell_type": "markdown",
      "metadata": {
        "id": "view-in-github",
        "colab_type": "text"
      },
      "source": [
        "<a href=\"https://colab.research.google.com/github/FuturisticLover123/learning/blob/main/DataAnalys/lab6.ipynb\" target=\"_parent\"><img src=\"https://colab.research.google.com/assets/colab-badge.svg\" alt=\"Open In Colab\"/></a>"
      ]
    },
    {
      "cell_type": "markdown",
      "metadata": {
        "id": "lbonv3OSlEN2"
      },
      "source": [
        "# ЛБ06. Градиентный спуск"
      ]
    },
    {
      "cell_type": "code",
      "execution_count": null,
      "metadata": {
        "id": "07MZ-k6KlEN4"
      },
      "outputs": [],
      "source": [
        "import numpy as np\n",
        "import pandas as pd\n",
        "import matplotlib.pyplot as plt\n",
        "from matplotlib.animation import FuncAnimation, PillowWriter"
      ]
    },
    {
      "cell_type": "code",
      "execution_count": null,
      "metadata": {
        "id": "jg9cz1a4lEN4"
      },
      "outputs": [],
      "source": [
        "import os\n",
        "os.makedirs(\"output\", exist_ok=True)"
      ]
    },
    {
      "cell_type": "markdown",
      "metadata": {
        "id": "d4Q6ft2ZlEN5"
      },
      "source": [
        "## 2.4.1"
      ]
    },
    {
      "cell_type": "code",
      "execution_count": null,
      "metadata": {
        "id": "Eyy6o4wLlEN5"
      },
      "outputs": [],
      "source": [
        "def f_xy(x, y):\n",
        "    return np.sin(x) * np.cos(y)"
      ]
    },
    {
      "cell_type": "code",
      "execution_count": null,
      "metadata": {
        "id": "m3ib2dHFlEN5"
      },
      "outputs": [],
      "source": [
        "def grad_f_xy(x, y):\n",
        "    return np.array([np.cos(x) * np.cos(y), -np.sin(x) * np.sin(y)])"
      ]
    },
    {
      "cell_type": "code",
      "execution_count": null,
      "metadata": {
        "id": "IfUxR8qilEN5"
      },
      "outputs": [],
      "source": [
        "# Numerical optimization starting near (1, 1)\n",
        "def gradient_descent_f_xy(start, learning_rate=0.1, max_iters=1000, tol=1e-6):\n",
        "    point = np.array(start)\n",
        "    for i in range(max_iters):\n",
        "        grad = grad_f_xy(point[0], point[1])\n",
        "        new_point = point - learning_rate * grad\n",
        "        if np.linalg.norm(new_point - point) < tol:\n",
        "            break\n",
        "        point = new_point\n",
        "    return point"
      ]
    },
    {
      "cell_type": "code",
      "execution_count": null,
      "metadata": {
        "id": "Xy5K0OVAlEN6",
        "outputId": "447d4ce7-63a0-4556-b1ab-f33b820ee909"
      },
      "outputs": [
        {
          "name": "stdout",
          "output_type": "stream",
          "text": [
            "[1.57079085 3.14158457] -0.9999999999523462\n"
          ]
        }
      ],
      "source": [
        "start_point = [1, 1]\n",
        "min_point = gradient_descent_f_xy(start_point)\n",
        "print(min_point, f_xy(*min_point))"
      ]
    },
    {
      "cell_type": "markdown",
      "metadata": {
        "id": "vXyCvV6UlEN6"
      },
      "source": [
        "## 2.4.2"
      ]
    },
    {
      "cell_type": "code",
      "execution_count": null,
      "metadata": {
        "id": "_10G_kNXlEN6"
      },
      "outputs": [],
      "source": [
        "x = [\n",
        "    [0, 1, 2, 3],\n",
        "    [-1, -2, -3, -4],\n",
        "    [-12, 3, 4, 5],\n",
        "    [4, 2, 3, 1],\n",
        "    [6, -1, -2, 5]\n",
        "]\n",
        "\n",
        "y = [0.1, 0.85, 0.05, 0.08, 0.76]\n",
        "\n",
        "a0 = [1, 1, -1, 1]"
      ]
    },
    {
      "cell_type": "code",
      "execution_count": null,
      "metadata": {
        "id": "Y2SraBeKlEN7",
        "outputId": "0ba8391f-d607-4973-d52a-64ef9a4c9434"
      },
      "outputs": [
        {
          "data": {
            "text/plain": [
              "(array([[  0.,   1.,   2.,   3.],\n",
              "        [ -1.,  -2.,  -3.,  -4.],\n",
              "        [-12.,   3.,   4.,   5.],\n",
              "        [  4.,   2.,   3.,   1.],\n",
              "        [  6.,  -1.,  -2.,   5.]]),\n",
              " array([0.1 , 0.85, 0.05, 0.08, 0.76]),\n",
              " array([ 1.,  1., -1.,  1.]))"
            ]
          },
          "execution_count": 8,
          "metadata": {},
          "output_type": "execute_result"
        }
      ],
      "source": [
        "X = np.array(x, dtype='float64')\n",
        "Y = np.array(y, dtype='float64')\n",
        "A0 = np.array(a0, dtype='float64')\n",
        "\n",
        "X, Y, A0"
      ]
    },
    {
      "cell_type": "code",
      "execution_count": null,
      "metadata": {
        "id": "QmoBGC0HlEN7"
      },
      "outputs": [],
      "source": [
        "def f_xa(x, a):\n",
        "    return 1 / (1 + np.exp(-np.dot(a, x)))\n",
        "\n",
        "def grad_f_xa(x, a):\n",
        "    fx = f_xa(x, a)\n",
        "    return fx * (1 - fx) * x\n",
        "\n",
        "def loss(a, X, Y):\n",
        "    total_loss = 0\n",
        "    for i in range(len(X)):\n",
        "        fx = f_xa(X[i], a)\n",
        "        total_loss += (fx - Y[i])**2\n",
        "    return total_loss\n",
        "\n",
        "def grad_loss(a, X, Y):\n",
        "    grad = np.zeros_like(a)\n",
        "    for i in range(len(X)):\n",
        "        fx = f_xa(X[i], a)\n",
        "        grad_f = grad_f_xa(X[i], a)\n",
        "        grad += 2 * (fx - Y[i]) * grad_f\n",
        "    return grad\n",
        "\n",
        "def gradient_descent_f_xa(a0, X, Y, learning_rate=0.01, max_iters=1000, tol=1e-6):\n",
        "    a = a0.copy()\n",
        "    history = [a.copy()]\n",
        "    for i in range(max_iters):\n",
        "        grad = grad_loss(a, X, Y)\n",
        "        new_a = a - learning_rate * grad\n",
        "        if np.linalg.norm(new_a - a) < tol:\n",
        "            break\n",
        "        a = new_a\n",
        "        history.append(a.copy())\n",
        "    return a, history"
      ]
    },
    {
      "cell_type": "code",
      "execution_count": null,
      "metadata": {
        "id": "F7aevyTFlEN7",
        "outputId": "7203294e-eef2-46eb-fbed-e68cd267779e"
      },
      "outputs": [
        {
          "name": "stdout",
          "output_type": "stream",
          "text": [
            "2.4.1: Minimum of f(x,y) near (1,1) is at [1.57079085 3.14158457], value = -0.9999999999523462\n",
            "2.4.2: Best parameters a = [ 0.37607457  0.55852446 -1.75148469  0.38431714], loss = 0.0645005984204657\n"
          ]
        },
        {
          "name": "stderr",
          "output_type": "stream",
          "text": [
            "d:\\code files\\unik\\DS\\.venv\\Lib\\site-packages\\matplotlib\\animation.py:908: UserWarning: Animation was deleted without rendering anything. This is most likely not intended. To prevent deletion, assign the Animation to a variable, e.g. `anim`, that exists until you output the Animation using `plt.show()` or `anim.save()`.\n",
            "  warnings.warn(\n"
          ]
        },
        {
          "data": {
            "image/png": "[encoded data removed]",
            "text/plain": [
              "<Figure size 640x480 with 1 Axes>"
            ]
          },
          "metadata": {},
          "output_type": "display_data"
        }
      ],
      "source": [
        "best_a, history = gradient_descent_f_xa(A0, X, Y)\n",
        "print(f\"2.4.2: Best parameters a = {best_a}, loss = {loss(best_a, X, Y)}\")\n",
        "\n",
        "fig, ax = plt.subplots()\n",
        "a_vals = np.linspace(-2, 2, 100)\n",
        "loss_vals = [loss(np.array([a, a, a, a]), X, Y) for a in a_vals]\n",
        "ax.plot(a_vals, loss_vals, label='Loss function')\n",
        "line, = ax.plot([], [], 'ro', label='Current a')\n",
        "ax.set_xlabel('a (all components same for visualization)')\n",
        "ax.set_ylabel('Loss')\n",
        "ax.legend()\n",
        "\n",
        "def init():\n",
        "    line.set_data([], [])\n",
        "    return line,\n",
        "\n",
        "def update(frame):\n",
        "    a = history[frame]\n",
        "    avg_a = np.mean(a)\n",
        "    l = loss(a, X, Y)\n",
        "    line.set_data(avg_a, l)\n",
        "    return line,\n",
        "\n",
        "ani = FuncAnimation(fig, update, frames=len(history), init_func=init, blit=True)\n",
        "# ani.save(filename='output/gsd-animation.gif', writer=PillowWriter())\n",
        "plt.show()"
      ]
    },
    {
      "cell_type": "code",
      "execution_count": null,
      "metadata": {
        "id": "zH-J8W_clEN7"
      },
      "outputs": [],
      "source": []
    }
  ],
  "metadata": {
    "kernelspec": {
      "display_name": ".venv",
      "language": "python",
      "name": "python3"
    },
    "language_info": {
      "codemirror_mode": {
        "name": "ipython",
        "version": 3
      },
      "file_extension": ".py",
      "mimetype": "text/x-python",
      "name": "python",
      "nbconvert_exporter": "python",
      "pygments_lexer": "ipython3",
      "version": "3.12.4"
    },
    "colab": {
      "provenance": [],
      "include_colab_link": true
    }
  },
  "nbformat": 4,
  "nbformat_minor": 0
}