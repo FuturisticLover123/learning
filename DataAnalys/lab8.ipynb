{
  "nbformat": 4,
  "nbformat_minor": 0,
  "metadata": {
    "colab": {
      "provenance": [],
      "authorship_tag": "ABX9TyNtOlprkzTmVmRK7tn/xaWr",
      "include_colab_link": true
    },
    "kernelspec": {
      "name": "python3",
      "display_name": "Python 3"
    },
    "language_info": {
      "name": "python"
    }
  },
  "cells": [
    {
      "cell_type": "markdown",
      "metadata": {
        "id": "view-in-github",
        "colab_type": "text"
      },
      "source": [
        "<a href=\"https://colab.research.google.com/github/FuturisticLover123/learning/blob/main/DataAnalys/lab8.ipynb\" target=\"_parent\"><img src=\"https://colab.research.google.com/assets/colab-badge.svg\" alt=\"Open In Colab\"/></a>"
      ]
    },
    {
      "cell_type": "code",
      "execution_count": null,
      "metadata": {
        "colab": {
          "base_uri": "https://localhost:8080/"
        },
        "id": "JDQo0vOHnwl9",
        "outputId": "35505f7a-6b05-4f34-f777-6150e57c6bb0"
      },
      "outputs": [
        {
          "output_type": "stream",
          "name": "stdout",
          "text": [
            "Collecting optuna\n",
            "  Downloading optuna-4.3.0-py3-none-any.whl.metadata (17 kB)\n",
            "Collecting alembic>=1.5.0 (from optuna)\n",
            "  Downloading alembic-1.15.2-py3-none-any.whl.metadata (7.3 kB)\n",
            "Collecting colorlog (from optuna)\n",
            "  Downloading colorlog-6.9.0-py3-none-any.whl.metadata (10 kB)\n",
            "Requirement already satisfied: numpy in /usr/local/lib/python3.11/dist-packages (from optuna) (2.0.2)\n",
            "Requirement already satisfied: packaging>=20.0 in /usr/local/lib/python3.11/dist-packages (from optuna) (24.2)\n",
            "Requirement already satisfied: sqlalchemy>=1.4.2 in /usr/local/lib/python3.11/dist-packages (from optuna) (2.0.40)\n",
            "Requirement already satisfied: tqdm in /usr/local/lib/python3.11/dist-packages (from optuna) (4.67.1)\n",
            "Requirement already satisfied: PyYAML in /usr/local/lib/python3.11/dist-packages (from optuna) (6.0.2)\n",
            "Requirement already satisfied: Mako in /usr/lib/python3/dist-packages (from alembic>=1.5.0->optuna) (1.1.3)\n",
            "Requirement already satisfied: typing-extensions>=4.12 in /usr/local/lib/python3.11/dist-packages (from alembic>=1.5.0->optuna) (4.13.2)\n",
            "Requirement already satisfied: greenlet>=1 in /usr/local/lib/python3.11/dist-packages (from sqlalchemy>=1.4.2->optuna) (3.2.1)\n",
            "Downloading optuna-4.3.0-py3-none-any.whl (386 kB)\n",
            "\u001b[2K   \u001b[90m━━━━━━━━━━━━━━━━━━━━━━━━━━━━━━━━━━━━━━━━\u001b[0m \u001b[32m386.6/386.6 kB\u001b[0m \u001b[31m5.5 MB/s\u001b[0m eta \u001b[36m0:00:00\u001b[0m\n",
            "\u001b[?25hDownloading alembic-1.15.2-py3-none-any.whl (231 kB)\n",
            "\u001b[2K   \u001b[90m━━━━━━━━━━━━━━━━━━━━━━━━━━━━━━━━━━━━━━━━\u001b[0m \u001b[32m231.9/231.9 kB\u001b[0m \u001b[31m12.6 MB/s\u001b[0m eta \u001b[36m0:00:00\u001b[0m\n",
            "\u001b[?25hDownloading colorlog-6.9.0-py3-none-any.whl (11 kB)\n",
            "Installing collected packages: colorlog, alembic, optuna\n",
            "Successfully installed alembic-1.15.2 colorlog-6.9.0 optuna-4.3.0\n",
            "Collecting catboost\n",
            "  Downloading catboost-1.2.8-cp311-cp311-manylinux2014_x86_64.whl.metadata (1.2 kB)\n",
            "Requirement already satisfied: graphviz in /usr/local/lib/python3.11/dist-packages (from catboost) (0.20.3)\n",
            "Requirement already satisfied: matplotlib in /usr/local/lib/python3.11/dist-packages (from catboost) (3.10.0)\n",
            "Requirement already satisfied: numpy<3.0,>=1.16.0 in /usr/local/lib/python3.11/dist-packages (from catboost) (2.0.2)\n",
            "Requirement already satisfied: pandas>=0.24 in /usr/local/lib/python3.11/dist-packages (from catboost) (2.2.2)\n",
            "Requirement already satisfied: scipy in /usr/local/lib/python3.11/dist-packages (from catboost) (1.15.2)\n",
            "Requirement already satisfied: plotly in /usr/local/lib/python3.11/dist-packages (from catboost) (5.24.1)\n",
            "Requirement already satisfied: six in /usr/local/lib/python3.11/dist-packages (from catboost) (1.17.0)\n",
            "Requirement already satisfied: python-dateutil>=2.8.2 in /usr/local/lib/python3.11/dist-packages (from pandas>=0.24->catboost) (2.9.0.post0)\n",
            "Requirement already satisfied: pytz>=2020.1 in /usr/local/lib/python3.11/dist-packages (from pandas>=0.24->catboost) (2025.2)\n",
            "Requirement already satisfied: tzdata>=2022.7 in /usr/local/lib/python3.11/dist-packages (from pandas>=0.24->catboost) (2025.2)\n",
            "Requirement already satisfied: contourpy>=1.0.1 in /usr/local/lib/python3.11/dist-packages (from matplotlib->catboost) (1.3.2)\n",
            "Requirement already satisfied: cycler>=0.10 in /usr/local/lib/python3.11/dist-packages (from matplotlib->catboost) (0.12.1)\n",
            "Requirement already satisfied: fonttools>=4.22.0 in /usr/local/lib/python3.11/dist-packages (from matplotlib->catboost) (4.57.0)\n",
            "Requirement already satisfied: kiwisolver>=1.3.1 in /usr/local/lib/python3.11/dist-packages (from matplotlib->catboost) (1.4.8)\n",
            "Requirement already satisfied: packaging>=20.0 in /usr/local/lib/python3.11/dist-packages (from matplotlib->catboost) (24.2)\n",
            "Requirement already satisfied: pillow>=8 in /usr/local/lib/python3.11/dist-packages (from matplotlib->catboost) (11.2.1)\n",
            "Requirement already satisfied: pyparsing>=2.3.1 in /usr/local/lib/python3.11/dist-packages (from matplotlib->catboost) (3.2.3)\n",
            "Requirement already satisfied: tenacity>=6.2.0 in /usr/local/lib/python3.11/dist-packages (from plotly->catboost) (9.1.2)\n",
            "Downloading catboost-1.2.8-cp311-cp311-manylinux2014_x86_64.whl (99.2 MB)\n",
            "\u001b[2K   \u001b[90m━━━━━━━━━━━━━━━━━━━━━━━━━━━━━━━━━━━━━━━━\u001b[0m \u001b[32m99.2/99.2 MB\u001b[0m \u001b[31m8.2 MB/s\u001b[0m eta \u001b[36m0:00:00\u001b[0m\n",
            "\u001b[?25hInstalling collected packages: catboost\n",
            "Successfully installed catboost-1.2.8\n"
          ]
        }
      ],
      "source": [
        "!pip install optuna\n",
        "!pip install catboost\n",
        "!pip install SALib"
      ]
    },
    {
      "cell_type": "code",
      "source": [
        "import numpy as np\n",
        "from catboost import Pool, CatBoostRegressor\n",
        "from sklearn.model_selection import KFold\n",
        "from sklearn.metrics import mean_squared_error\n",
        "from sklearn.model_selection import train_test_split\n",
        "from sklearn.metrics import r2_score\n",
        "from sklearn.preprocessing import StandardScaler\n",
        "\n",
        "from sklearn.pipeline import Pipeline\n",
        "\n",
        "import optuna\n",
        "\n",
        "import pandas as pd\n"
      ],
      "metadata": {
        "id": "N3sQhowho65u"
      },
      "execution_count": null,
      "outputs": []
    },
    {
      "cell_type": "code",
      "source": [
        "data = pd.read_csv(\"/content/data.csv\")\n",
        "X, y = data.drop(columns = [\"out\"]), data[\"out\"]\n",
        "scaler = StandardScaler()\n",
        "X_scalled = pd.DataFrame(scaler.fit_transform(X))\n",
        "\n",
        "\n",
        "X_train, X_test, y_train, y_test = train_test_split(X_scalled, y, test_size=0.2)"
      ],
      "metadata": {
        "id": "iAzzyowlpBFL"
      },
      "execution_count": null,
      "outputs": []
    },
    {
      "cell_type": "code",
      "source": [],
      "metadata": {
        "id": "Z17KV5ku4RPl"
      },
      "execution_count": null,
      "outputs": []
    },
    {
      "cell_type": "code",
      "source": [
        "def objective(trial):\n",
        "    params = {\n",
        "        \"iterations\": trial.suggest_int(\"iterations\", 100, 1000),\n",
        "        \"learning_rate\": trial.suggest_float(\"learning_rate\", 0.01, 0.3, log=True),\n",
        "        \"depth\": trial.suggest_int(\"depth\", 4, 10),\n",
        "        \"l2_leaf_reg\": trial.suggest_float(\"l2_leaf_reg\", 1e-3, 10.0, log=True),\n",
        "        \"random_strength\": trial.suggest_float(\"random_strength\", 1e-3, 10.0),\n",
        "        \"bagging_temperature\": trial.suggest_float(\"bagging_temperature\", 0.0, 1.0),\n",
        "        \"min_data_in_leaf\": trial.suggest_int(\"min_data_in_leaf\", 1, 100),\n",
        "        \"grow_policy\": trial.suggest_categorical(\"grow_policy\", [\"SymmetricTree\", \"Depthwise\", \"Lossguide\"]),\n",
        "        \"early_stopping_rounds\": trial.suggest_int(\"early_stopping_rounds\", 10, 50),\n",
        "        \"loss_function\": \"RMSE\",\n",
        "        \"eval_metric\": \"RMSE\",\n",
        "    }\n",
        "\n",
        "    kf = KFold(n_splits=5, shuffle=True, random_state=42)\n",
        "    scores = []\n",
        "\n",
        "    for train_idx, val_idx in kf.split(X_train, y_train):\n",
        "        X_tr, X_val = X_train.iloc[train_idx], X_train.iloc[val_idx]\n",
        "        y_tr, y_val = y_train.iloc[train_idx], y_train.iloc[val_idx]\n",
        "\n",
        "        train_pool = Pool(X_tr, y_tr)\n",
        "        val_pool = Pool(X_val, y_val)\n",
        "\n",
        "        model = CatBoostRegressor(**params, verbose=0)\n",
        "        model.fit(train_pool, eval_set=val_pool)\n",
        "\n",
        "        y_pred = model.predict(X_val)\n",
        "        scores.append(np.sqrt(mean_squared_error(y_val, y_pred)))\n",
        "\n",
        "    return np.mean(scores)"
      ],
      "metadata": {
        "id": "ZLN7BKO6oMC4"
      },
      "execution_count": null,
      "outputs": []
    },
    {
      "cell_type": "code",
      "source": [
        "study = optuna.create_study(direction=\"minimize\")\n",
        "study.optimize(objective, n_trials=50, timeout=3600)"
      ],
      "metadata": {
        "colab": {
          "base_uri": "https://localhost:8080/"
        },
        "id": "IeYOC1NIpjlh",
        "outputId": "a09735aa-ce57-486a-ae0f-7a2ae4c1a45d"
      },
      "execution_count": null,
      "outputs": [
        {
          "output_type": "stream",
          "name": "stderr",
          "text": [
            "[I 2025-05-10 12:34:39,623] A new study created in memory with name: no-name-742c9ed5-ab75-4b04-9336-5563d3b42cc0\n",
            "[I 2025-05-10 12:34:41,081] Trial 0 finished with value: 0.20790610680079952 and parameters: {'iterations': 660, 'learning_rate': 0.17976839800744948, 'depth': 8, 'l2_leaf_reg': 0.1605505632563728, 'random_strength': 9.740336444116393, 'bagging_temperature': 0.4221120228512185, 'min_data_in_leaf': 77, 'grow_policy': 'SymmetricTree', 'early_stopping_rounds': 25}. Best is trial 0 with value: 0.20790610680079952.\n",
            "[I 2025-05-10 12:34:41,776] Trial 1 finished with value: 0.20747636707389341 and parameters: {'iterations': 190, 'learning_rate': 0.07674180246596768, 'depth': 9, 'l2_leaf_reg': 2.2983655654287847, 'random_strength': 1.3631529932843667, 'bagging_temperature': 0.4998869257636692, 'min_data_in_leaf': 99, 'grow_policy': 'Lossguide', 'early_stopping_rounds': 38}. Best is trial 1 with value: 0.20747636707389341.\n",
            "[I 2025-05-10 12:34:43,288] Trial 2 finished with value: 0.21437092019238255 and parameters: {'iterations': 689, 'learning_rate': 0.014544888492822159, 'depth': 4, 'l2_leaf_reg': 0.49890288948192674, 'random_strength': 7.753881721574568, 'bagging_temperature': 0.8477485205814056, 'min_data_in_leaf': 85, 'grow_policy': 'Lossguide', 'early_stopping_rounds': 31}. Best is trial 1 with value: 0.20747636707389341.\n",
            "[I 2025-05-10 12:34:44,569] Trial 3 finished with value: 0.2050011708281302 and parameters: {'iterations': 922, 'learning_rate': 0.05769733596948162, 'depth': 10, 'l2_leaf_reg': 0.20322082549870785, 'random_strength': 6.031622852955193, 'bagging_temperature': 0.21434911138534596, 'min_data_in_leaf': 41, 'grow_policy': 'Lossguide', 'early_stopping_rounds': 42}. Best is trial 3 with value: 0.2050011708281302.\n",
            "[I 2025-05-10 12:35:08,548] Trial 4 finished with value: 0.23340598962220233 and parameters: {'iterations': 252, 'learning_rate': 0.013548397163230598, 'depth': 10, 'l2_leaf_reg': 0.13797087011246514, 'random_strength': 9.904160490692847, 'bagging_temperature': 0.5607703263645172, 'min_data_in_leaf': 46, 'grow_policy': 'SymmetricTree', 'early_stopping_rounds': 16}. Best is trial 3 with value: 0.2050011708281302.\n",
            "[I 2025-05-10 12:35:09,709] Trial 5 finished with value: 0.2086706970599857 and parameters: {'iterations': 349, 'learning_rate': 0.03442260446468275, 'depth': 4, 'l2_leaf_reg': 0.001199489156381919, 'random_strength': 9.11727206949902, 'bagging_temperature': 0.11384934092546328, 'min_data_in_leaf': 31, 'grow_policy': 'Depthwise', 'early_stopping_rounds': 26}. Best is trial 3 with value: 0.2050011708281302.\n",
            "[I 2025-05-10 12:35:11,008] Trial 6 finished with value: 0.2199735511154713 and parameters: {'iterations': 570, 'learning_rate': 0.013488807698087605, 'depth': 6, 'l2_leaf_reg': 0.007422210140155196, 'random_strength': 5.964113178391718, 'bagging_temperature': 0.582557099456201, 'min_data_in_leaf': 94, 'grow_policy': 'Depthwise', 'early_stopping_rounds': 44}. Best is trial 3 with value: 0.2050011708281302.\n",
            "[I 2025-05-10 12:35:15,458] Trial 7 finished with value: 0.2108226083105249 and parameters: {'iterations': 717, 'learning_rate': 0.019809638524922846, 'depth': 5, 'l2_leaf_reg': 3.6539694830708247, 'random_strength': 9.874170670797055, 'bagging_temperature': 0.24517162161323025, 'min_data_in_leaf': 80, 'grow_policy': 'SymmetricTree', 'early_stopping_rounds': 44}. Best is trial 3 with value: 0.2050011708281302.\n",
            "[I 2025-05-10 12:35:16,898] Trial 8 finished with value: 0.21004924820385124 and parameters: {'iterations': 807, 'learning_rate': 0.02221129520348211, 'depth': 9, 'l2_leaf_reg': 0.005376029919219058, 'random_strength': 8.53540859192518, 'bagging_temperature': 0.4420621730798344, 'min_data_in_leaf': 91, 'grow_policy': 'Lossguide', 'early_stopping_rounds': 18}. Best is trial 3 with value: 0.2050011708281302.\n",
            "[I 2025-05-10 12:35:17,958] Trial 9 finished with value: 0.21150466382024166 and parameters: {'iterations': 142, 'learning_rate': 0.049275902018048275, 'depth': 6, 'l2_leaf_reg': 0.6875022756017968, 'random_strength': 7.514126558555847, 'bagging_temperature': 0.12809703036193654, 'min_data_in_leaf': 15, 'grow_policy': 'Depthwise', 'early_stopping_rounds': 15}. Best is trial 3 with value: 0.2050011708281302.\n",
            "[I 2025-05-10 12:35:20,289] Trial 10 finished with value: 0.20848676207513622 and parameters: {'iterations': 981, 'learning_rate': 0.11766691754199642, 'depth': 10, 'l2_leaf_reg': 0.025971982325099847, 'random_strength': 3.13425803171254, 'bagging_temperature': 0.9836187261241527, 'min_data_in_leaf': 1, 'grow_policy': 'Lossguide', 'early_stopping_rounds': 49}. Best is trial 3 with value: 0.2050011708281302.\n",
            "[I 2025-05-10 12:35:21,069] Trial 11 finished with value: 0.20669440743124962 and parameters: {'iterations': 384, 'learning_rate': 0.08220886473599874, 'depth': 8, 'l2_leaf_reg': 8.140504330375501, 'random_strength': 0.3955525554038921, 'bagging_temperature': 0.30678388127318656, 'min_data_in_leaf': 58, 'grow_policy': 'Lossguide', 'early_stopping_rounds': 36}. Best is trial 3 with value: 0.2050011708281302.\n",
            "[I 2025-05-10 12:35:21,719] Trial 12 finished with value: 0.2189403723658973 and parameters: {'iterations': 401, 'learning_rate': 0.2975497151668522, 'depth': 8, 'l2_leaf_reg': 8.786730736823852, 'random_strength': 4.346511948211639, 'bagging_temperature': 0.278229935715335, 'min_data_in_leaf': 61, 'grow_policy': 'Lossguide', 'early_stopping_rounds': 35}. Best is trial 3 with value: 0.2050011708281302.\n",
            "[I 2025-05-10 12:35:22,371] Trial 13 finished with value: 0.202039647260773 and parameters: {'iterations': 425, 'learning_rate': 0.07653138484881593, 'depth': 8, 'l2_leaf_reg': 0.8405803219398912, 'random_strength': 0.22668768577979173, 'bagging_temperature': 0.022383987073568534, 'min_data_in_leaf': 48, 'grow_policy': 'Lossguide', 'early_stopping_rounds': 39}. Best is trial 13 with value: 0.202039647260773.\n",
            "[I 2025-05-10 12:35:23,818] Trial 14 finished with value: 0.20397186151338662 and parameters: {'iterations': 975, 'learning_rate': 0.04096488509076889, 'depth': 7, 'l2_leaf_reg': 0.7069040765981908, 'random_strength': 5.795040150020346, 'bagging_temperature': 0.023874318328704718, 'min_data_in_leaf': 40, 'grow_policy': 'Lossguide', 'early_stopping_rounds': 42}. Best is trial 13 with value: 0.202039647260773.\n",
            "[I 2025-05-10 12:35:25,769] Trial 15 finished with value: 0.20148110288216872 and parameters: {'iterations': 528, 'learning_rate': 0.03649174551706911, 'depth': 7, 'l2_leaf_reg': 0.9352292781734342, 'random_strength': 2.901434218885102, 'bagging_temperature': 0.008759493528001783, 'min_data_in_leaf': 28, 'grow_policy': 'Lossguide', 'early_stopping_rounds': 49}. Best is trial 15 with value: 0.20148110288216872.\n",
            "[I 2025-05-10 12:35:29,531] Trial 16 finished with value: 0.20365871625710188 and parameters: {'iterations': 488, 'learning_rate': 0.026662087114953457, 'depth': 7, 'l2_leaf_reg': 2.0341610842418483, 'random_strength': 2.252927507276412, 'bagging_temperature': 0.03719200756259249, 'min_data_in_leaf': 22, 'grow_policy': 'Lossguide', 'early_stopping_rounds': 50}. Best is trial 15 with value: 0.20148110288216872.\n",
            "[I 2025-05-10 12:35:30,000] Trial 17 finished with value: 0.20244255326780064 and parameters: {'iterations': 515, 'learning_rate': 0.15578303774495553, 'depth': 7, 'l2_leaf_reg': 0.04130783056640482, 'random_strength': 0.039112847368758835, 'bagging_temperature': 0.7466963473245702, 'min_data_in_leaf': 62, 'grow_policy': 'Lossguide', 'early_stopping_rounds': 48}. Best is trial 15 with value: 0.20148110288216872.\n",
            "[I 2025-05-10 12:35:30,856] Trial 18 finished with value: 0.2121468859730593 and parameters: {'iterations': 296, 'learning_rate': 0.08283330999331617, 'depth': 6, 'l2_leaf_reg': 0.5442814184741844, 'random_strength': 3.5425284360221037, 'bagging_temperature': 0.14837583060227616, 'min_data_in_leaf': 25, 'grow_policy': 'SymmetricTree', 'early_stopping_rounds': 10}. Best is trial 15 with value: 0.20148110288216872.\n",
            "[I 2025-05-10 12:35:34,043] Trial 19 finished with value: 0.2019457335057818 and parameters: {'iterations': 595, 'learning_rate': 0.032201650033656395, 'depth': 9, 'l2_leaf_reg': 1.4725654839412996, 'random_strength': 1.4858808069304863, 'bagging_temperature': 0.03798482974193894, 'min_data_in_leaf': 9, 'grow_policy': 'Depthwise', 'early_stopping_rounds': 31}. Best is trial 15 with value: 0.20148110288216872.\n",
            "[I 2025-05-10 12:35:42,210] Trial 20 finished with value: 0.21067069260479254 and parameters: {'iterations': 599, 'learning_rate': 0.03151532951579052, 'depth': 9, 'l2_leaf_reg': 0.049833228878324295, 'random_strength': 1.6430777993901797, 'bagging_temperature': 0.355749655225673, 'min_data_in_leaf': 1, 'grow_policy': 'Depthwise', 'early_stopping_rounds': 31}. Best is trial 15 with value: 0.20148110288216872.\n",
            "[I 2025-05-10 12:35:43,707] Trial 21 finished with value: 0.20608379229793247 and parameters: {'iterations': 469, 'learning_rate': 0.055233885422132145, 'depth': 8, 'l2_leaf_reg': 1.3127189988490688, 'random_strength': 0.8593002698710922, 'bagging_temperature': 0.015577113216689507, 'min_data_in_leaf': 12, 'grow_policy': 'Depthwise', 'early_stopping_rounds': 26}. Best is trial 15 with value: 0.20148110288216872.\n",
            "[I 2025-05-10 12:35:45,279] Trial 22 finished with value: 0.2025122822713858 and parameters: {'iterations': 798, 'learning_rate': 0.045247291654850585, 'depth': 9, 'l2_leaf_reg': 0.28817246181034384, 'random_strength': 2.5107295463251367, 'bagging_temperature': 0.14775916766769837, 'min_data_in_leaf': 29, 'grow_policy': 'Depthwise', 'early_stopping_rounds': 38}. Best is trial 15 with value: 0.20148110288216872.\n",
            "[I 2025-05-10 12:35:48,601] Trial 23 finished with value: 0.20654107772662025 and parameters: {'iterations': 443, 'learning_rate': 0.020846882445639425, 'depth': 7, 'l2_leaf_reg': 4.194874636489483, 'random_strength': 1.6838081815661559, 'bagging_temperature': 0.00819956420983365, 'min_data_in_leaf': 11, 'grow_policy': 'Depthwise', 'early_stopping_rounds': 33}. Best is trial 15 with value: 0.20148110288216872.\n",
            "[I 2025-05-10 12:35:49,650] Trial 24 finished with value: 0.20210210180868837 and parameters: {'iterations': 626, 'learning_rate': 0.06754870627297715, 'depth': 8, 'l2_leaf_reg': 1.2725310136718533, 'random_strength': 3.8376853183522166, 'bagging_temperature': 0.10265564735576752, 'min_data_in_leaf': 34, 'grow_policy': 'Lossguide', 'early_stopping_rounds': 23}. Best is trial 15 with value: 0.20148110288216872.\n",
            "[I 2025-05-10 12:35:52,904] Trial 25 finished with value: 0.21230018660751354 and parameters: {'iterations': 532, 'learning_rate': 0.010151885783885086, 'depth': 9, 'l2_leaf_reg': 0.2973026828664322, 'random_strength': 2.613159951568781, 'bagging_temperature': 0.20510664629729636, 'min_data_in_leaf': 52, 'grow_policy': 'Depthwise', 'early_stopping_rounds': 40}. Best is trial 15 with value: 0.20148110288216872.\n",
            "[I 2025-05-10 12:35:53,946] Trial 26 finished with value: 0.21104883654683695 and parameters: {'iterations': 739, 'learning_rate': 0.10980517705755206, 'depth': 7, 'l2_leaf_reg': 1.2361889331929499, 'random_strength': 0.8826210780261459, 'bagging_temperature': 0.08501836391115605, 'min_data_in_leaf': 18, 'grow_policy': 'Lossguide', 'early_stopping_rounds': 46}. Best is trial 15 with value: 0.20148110288216872.\n",
            "[I 2025-05-10 12:35:55,161] Trial 27 finished with value: 0.2022674794364721 and parameters: {'iterations': 577, 'learning_rate': 0.03589113443829815, 'depth': 5, 'l2_leaf_reg': 0.08723369558508473, 'random_strength': 4.983433445348369, 'bagging_temperature': 0.1889555833905917, 'min_data_in_leaf': 72, 'grow_policy': 'Lossguide', 'early_stopping_rounds': 28}. Best is trial 15 with value: 0.20148110288216872.\n",
            "[I 2025-05-10 12:36:00,941] Trial 28 finished with value: 0.21060857304477404 and parameters: {'iterations': 343, 'learning_rate': 0.028199576427704244, 'depth': 8, 'l2_leaf_reg': 4.382825785895784, 'random_strength': 2.107723710546228, 'bagging_temperature': 0.34752677861610637, 'min_data_in_leaf': 7, 'grow_policy': 'SymmetricTree', 'early_stopping_rounds': 22}. Best is trial 15 with value: 0.20148110288216872.\n",
            "[I 2025-05-10 12:36:01,653] Trial 29 finished with value: 0.20409601578985265 and parameters: {'iterations': 665, 'learning_rate': 0.10805804396881469, 'depth': 8, 'l2_leaf_reg': 0.3953073461300991, 'random_strength': 1.0343145531240299, 'bagging_temperature': 0.06005924544376173, 'min_data_in_leaf': 37, 'grow_policy': 'Depthwise', 'early_stopping_rounds': 35}. Best is trial 15 with value: 0.20148110288216872.\n",
            "[I 2025-05-10 12:36:02,594] Trial 30 finished with value: 0.21526265334497494 and parameters: {'iterations': 437, 'learning_rate': 0.23532700837248777, 'depth': 6, 'l2_leaf_reg': 2.1766629089274456, 'random_strength': 3.08538191806861, 'bagging_temperature': 0.4233764707145311, 'min_data_in_leaf': 50, 'grow_policy': 'SymmetricTree', 'early_stopping_rounds': 46}. Best is trial 15 with value: 0.20148110288216872.\n",
            "[I 2025-05-10 12:36:04,119] Trial 31 finished with value: 0.1995904654922342 and parameters: {'iterations': 618, 'learning_rate': 0.06592638216793158, 'depth': 8, 'l2_leaf_reg': 1.0608603901792748, 'random_strength': 3.870794135465083, 'bagging_temperature': 0.08676813056382185, 'min_data_in_leaf': 35, 'grow_policy': 'Lossguide', 'early_stopping_rounds': 23}. Best is trial 31 with value: 0.1995904654922342.\n",
            "[I 2025-05-10 12:36:06,460] Trial 32 finished with value: 0.20355968418550213 and parameters: {'iterations': 543, 'learning_rate': 0.0606984603360676, 'depth': 9, 'l2_leaf_reg': 0.9904447821643325, 'random_strength': 4.473570037293738, 'bagging_temperature': 0.08318024220902152, 'min_data_in_leaf': 23, 'grow_policy': 'Lossguide', 'early_stopping_rounds': 21}. Best is trial 31 with value: 0.1995904654922342.\n",
            "[I 2025-05-10 12:36:07,684] Trial 33 finished with value: 0.19847552337027582 and parameters: {'iterations': 758, 'learning_rate': 0.04034612851583699, 'depth': 7, 'l2_leaf_reg': 2.5779146507349155, 'random_strength': 1.6366966007430332, 'bagging_temperature': 0.15760839299118776, 'min_data_in_leaf': 46, 'grow_policy': 'Lossguide', 'early_stopping_rounds': 29}. Best is trial 33 with value: 0.19847552337027582.\n",
            "[I 2025-05-10 12:36:09,174] Trial 34 finished with value: 0.20333974758737186 and parameters: {'iterations': 822, 'learning_rate': 0.037963460099672795, 'depth': 7, 'l2_leaf_reg': 2.9070056443666794, 'random_strength': 2.9857785661061502, 'bagging_temperature': 0.1737439098085768, 'min_data_in_leaf': 43, 'grow_policy': 'Lossguide', 'early_stopping_rounds': 29}. Best is trial 33 with value: 0.19847552337027582.\n",
            "[I 2025-05-10 12:36:11,511] Trial 35 finished with value: 0.20689512161531312 and parameters: {'iterations': 752, 'learning_rate': 0.02533774558469772, 'depth': 6, 'l2_leaf_reg': 4.993697880680561, 'random_strength': 3.8914082369581715, 'bagging_temperature': 0.24679994893027463, 'min_data_in_leaf': 29, 'grow_policy': 'Lossguide', 'early_stopping_rounds': 20}. Best is trial 33 with value: 0.19847552337027582.\n",
            "[I 2025-05-10 12:36:12,560] Trial 36 finished with value: 0.2028712618195086 and parameters: {'iterations': 650, 'learning_rate': 0.04778488851606826, 'depth': 10, 'l2_leaf_reg': 1.786453912725123, 'random_strength': 1.8193883201857153, 'bagging_temperature': 0.6720906892869112, 'min_data_in_leaf': 68, 'grow_policy': 'Lossguide', 'early_stopping_rounds': 24}. Best is trial 33 with value: 0.19847552337027582.\n",
            "[I 2025-05-10 12:36:14,145] Trial 37 finished with value: 0.20265142787105717 and parameters: {'iterations': 686, 'learning_rate': 0.030910383717917444, 'depth': 9, 'l2_leaf_reg': 0.21495829250282364, 'random_strength': 1.3340381972243522, 'bagging_temperature': 0.09727649626645582, 'min_data_in_leaf': 35, 'grow_policy': 'Lossguide', 'early_stopping_rounds': 32}. Best is trial 33 with value: 0.19847552337027582.\n",
            "[I 2025-05-10 12:36:16,613] Trial 38 finished with value: 0.20172669873469512 and parameters: {'iterations': 603, 'learning_rate': 0.017821737532118048, 'depth': 5, 'l2_leaf_reg': 0.11325766465212889, 'random_strength': 5.408611877741025, 'bagging_temperature': 0.3377558748049419, 'min_data_in_leaf': 54, 'grow_policy': 'Depthwise', 'early_stopping_rounds': 28}. Best is trial 33 with value: 0.19847552337027582.\n",
            "[I 2025-05-10 12:36:20,401] Trial 39 finished with value: 0.20703852143457646 and parameters: {'iterations': 862, 'learning_rate': 0.01567693972965075, 'depth': 5, 'l2_leaf_reg': 0.08774325228118207, 'random_strength': 6.719468964768971, 'bagging_temperature': 0.5029578949396666, 'min_data_in_leaf': 54, 'grow_policy': 'SymmetricTree', 'early_stopping_rounds': 27}. Best is trial 33 with value: 0.19847552337027582.\n",
            "[I 2025-05-10 12:36:22,928] Trial 40 finished with value: 0.20578750879711127 and parameters: {'iterations': 900, 'learning_rate': 0.010175183945540902, 'depth': 4, 'l2_leaf_reg': 0.012187549504976728, 'random_strength': 4.776567551116616, 'bagging_temperature': 0.3692344857751514, 'min_data_in_leaf': 45, 'grow_policy': 'Lossguide', 'early_stopping_rounds': 25}. Best is trial 33 with value: 0.19847552337027582.\n",
            "[I 2025-05-10 12:36:24,759] Trial 41 finished with value: 0.2014113195633258 and parameters: {'iterations': 623, 'learning_rate': 0.019882595774928544, 'depth': 4, 'l2_leaf_reg': 0.15763608888882608, 'random_strength': 5.666276228749977, 'bagging_temperature': 0.23651988513945366, 'min_data_in_leaf': 40, 'grow_policy': 'Depthwise', 'early_stopping_rounds': 30}. Best is trial 33 with value: 0.19847552337027582.\n",
            "[I 2025-05-10 12:36:26,646] Trial 42 finished with value: 0.2030077415935887 and parameters: {'iterations': 717, 'learning_rate': 0.018639955001803526, 'depth': 4, 'l2_leaf_reg': 0.16800904962534494, 'random_strength': 5.549512052282015, 'bagging_temperature': 0.2901675685680065, 'min_data_in_leaf': 41, 'grow_policy': 'Depthwise', 'early_stopping_rounds': 29}. Best is trial 33 with value: 0.19847552337027582.\n",
            "[I 2025-05-10 12:36:29,761] Trial 43 finished with value: 0.20471831930904574 and parameters: {'iterations': 628, 'learning_rate': 0.017686193517073234, 'depth': 5, 'l2_leaf_reg': 0.14213400240312013, 'random_strength': 6.572320483885671, 'bagging_temperature': 0.2208594279543618, 'min_data_in_leaf': 38, 'grow_policy': 'Depthwise', 'early_stopping_rounds': 19}. Best is trial 33 with value: 0.19847552337027582.\n",
            "[I 2025-05-10 12:36:31,638] Trial 44 finished with value: 0.20293811758540023 and parameters: {'iterations': 773, 'learning_rate': 0.02341310181927881, 'depth': 4, 'l2_leaf_reg': 0.39740901364205145, 'random_strength': 5.352702482924426, 'bagging_temperature': 0.15402584000618558, 'min_data_in_leaf': 54, 'grow_policy': 'Depthwise', 'early_stopping_rounds': 33}. Best is trial 33 with value: 0.19847552337027582.\n",
            "[I 2025-05-10 12:36:33,538] Trial 45 finished with value: 0.203146858111019 and parameters: {'iterations': 687, 'learning_rate': 0.015546754142269014, 'depth': 5, 'l2_leaf_reg': 0.04925927336722645, 'random_strength': 6.429231323588405, 'bagging_temperature': 0.25942006036897225, 'min_data_in_leaf': 65, 'grow_policy': 'Depthwise', 'early_stopping_rounds': 15}. Best is trial 33 with value: 0.19847552337027582.\n",
            "[I 2025-05-10 12:36:34,580] Trial 46 finished with value: 0.19926625455974167 and parameters: {'iterations': 569, 'learning_rate': 0.04202358883398069, 'depth': 4, 'l2_leaf_reg': 0.002246846357851239, 'random_strength': 7.547311744085023, 'bagging_temperature': 0.4653580205431545, 'min_data_in_leaf': 46, 'grow_policy': 'Lossguide', 'early_stopping_rounds': 26}. Best is trial 33 with value: 0.19847552337027582.\n",
            "[I 2025-05-10 12:36:35,518] Trial 47 finished with value: 0.204868182494767 and parameters: {'iterations': 511, 'learning_rate': 0.0639621052629455, 'depth': 4, 'l2_leaf_reg': 0.005790504735173013, 'random_strength': 9.314047069106106, 'bagging_temperature': 0.5926386987070745, 'min_data_in_leaf': 31, 'grow_policy': 'Lossguide', 'early_stopping_rounds': 24}. Best is trial 33 with value: 0.19847552337027582.\n",
            "[I 2025-05-10 12:36:36,544] Trial 48 finished with value: 0.1981517476490223 and parameters: {'iterations': 553, 'learning_rate': 0.04253092718518365, 'depth': 4, 'l2_leaf_reg': 0.0014821223499043637, 'random_strength': 7.355391337596933, 'bagging_temperature': 0.4924880172389386, 'min_data_in_leaf': 46, 'grow_policy': 'Lossguide', 'early_stopping_rounds': 26}. Best is trial 48 with value: 0.1981517476490223.\n",
            "[I 2025-05-10 12:36:37,176] Trial 49 finished with value: 0.2127282767166537 and parameters: {'iterations': 642, 'learning_rate': 0.09300613507107025, 'depth': 4, 'l2_leaf_reg': 0.0013061880311816682, 'random_strength': 8.034695900572718, 'bagging_temperature': 0.4805973362684261, 'min_data_in_leaf': 47, 'grow_policy': 'Lossguide', 'early_stopping_rounds': 18}. Best is trial 48 with value: 0.1981517476490223.\n"
          ]
        }
      ]
    },
    {
      "cell_type": "code",
      "source": [
        "X_train, X_val, y_train, y_val = train_test_split(X_train, y_train, test_size=0.2)\n",
        "final_model = CatBoostRegressor(**study.best_params,  verbose=100)\n",
        "final_model.fit(\n",
        "    Pool(X_train, y_train),\n",
        "    eval_set=Pool(X_val, y_val),\n",
        "    early_stopping_rounds=50\n",
        ")"
      ],
      "metadata": {
        "colab": {
          "base_uri": "https://localhost:8080/"
        },
        "id": "JQ5MugRUpq-0",
        "outputId": "f1b685de-3d9e-4e24-e02f-656c2acb3e67"
      },
      "execution_count": null,
      "outputs": [
        {
          "output_type": "stream",
          "name": "stdout",
          "text": [
            "0:\tlearn: 0.9982008\ttest: 0.9322429\tbest: 0.9322429 (0)\ttotal: 894us\tremaining: 494ms\n",
            "100:\tlearn: 0.2234304\ttest: 0.2470821\tbest: 0.2470821 (100)\ttotal: 37.4ms\tremaining: 167ms\n",
            "200:\tlearn: 0.1599988\ttest: 0.2115295\tbest: 0.2113581 (195)\ttotal: 73.7ms\tremaining: 129ms\n",
            "300:\tlearn: 0.1169011\ttest: 0.2079404\tbest: 0.2054408 (260)\ttotal: 106ms\tremaining: 89.1ms\n",
            "Stopped by overfitting detector  (50 iterations wait)\n",
            "\n",
            "bestTest = 0.2054407602\n",
            "bestIteration = 260\n",
            "\n",
            "Shrink model to first 261 iterations.\n"
          ]
        },
        {
          "output_type": "execute_result",
          "data": {
            "text/plain": [
              "<catboost.core.CatBoostRegressor at 0x78c825272d50>"
            ]
          },
          "metadata": {},
          "execution_count": 11
        }
      ]
    },
    {
      "cell_type": "code",
      "source": [
        "pipeline = Pipeline([\n",
        "    ('scaler', scaler),\n",
        "    ('model', final_model)\n",
        "])"
      ],
      "metadata": {
        "id": "joU00Xbg6Bit"
      },
      "execution_count": null,
      "outputs": []
    },
    {
      "cell_type": "code",
      "source": [
        "r2_score(pipeline.predict(X), y)"
      ],
      "metadata": {
        "colab": {
          "base_uri": "https://localhost:8080/"
        },
        "id": "M9h83PMR6KnV",
        "outputId": "fa5c972d-8a6f-4ea7-9b97-a69b6c66144b"
      },
      "execution_count": null,
      "outputs": [
        {
          "output_type": "execute_result",
          "data": {
            "text/plain": [
              "0.9670895969753651"
            ]
          },
          "metadata": {},
          "execution_count": 105
        }
      ]
    },
    {
      "cell_type": "code",
      "source": [
        "_ = pd.concat([data.min(axis=0), data.max(axis=0)], axis=1)\n",
        "ranges = dict(zip(_.index, _[[0, 1]].apply(tuple, axis=1)))\n",
        "ranges.pop('out');"
      ],
      "metadata": {
        "id": "QkQUCUdRL1QI"
      },
      "execution_count": null,
      "outputs": []
    },
    {
      "cell_type": "code",
      "source": [
        "ranges"
      ],
      "metadata": {
        "colab": {
          "base_uri": "https://localhost:8080/"
        },
        "id": "rGX9mnb3XD42",
        "outputId": "6ebe903b-55d0-406e-adbd-14ebf96f1628"
      },
      "execution_count": null,
      "outputs": [
        {
          "output_type": "execute_result",
          "data": {
            "text/plain": [
              "{'val1': (-2.5155084151391285, 2.065079170072512),\n",
              " 'val2': (-2.5155084151391285, 2.065079170072512),\n",
              " 'val3': (-2.5155084151391285, 2.065079170072512),\n",
              " 'val4': (-2.5155084151391285, 2.065079170072512),\n",
              " 'val5': (-2.5155084151391285, 2.065079170072512)}"
            ]
          },
          "metadata": {},
          "execution_count": 109
        }
      ]
    },
    {
      "cell_type": "code",
      "source": [
        "import numpy as np\n",
        "import pandas as pd\n",
        "import matplotlib.pyplot as plt\n",
        "from typing import Dict, List, Tuple\n",
        "\n",
        "\n",
        "\n",
        "\n",
        "def generate_morris_trajectories(ranges,\n",
        "                                n_trajectories: int = 10,\n",
        "                                delta_ratio: float = 0.2):\n",
        "    trajectories = []\n",
        "    n_params = len(ranges)\n",
        "\n",
        "    for _ in range(n_trajectories):\n",
        "        base_point = {p: np.random.uniform(low, high) for p, (low, high) in ranges.items()}\n",
        "        trajectory = [base_point]\n",
        "\n",
        "        for param in ranges:\n",
        "            new_point = base_point.copy()\n",
        "            delta = delta_ratio * (ranges[param][1] - ranges[param][0])\n",
        "            new_point[param] += delta\n",
        "\n",
        "            trajectory.append(new_point)\n",
        "\n",
        "        trajectories.append(trajectory)\n",
        "\n",
        "    return trajectories\n",
        "\n",
        "def calculate_elementary_effects(model,\n",
        "                               trajectories,\n",
        "                               ranges,\n",
        "                               delta_ratio: float = 0.2):\n",
        "    ee_results = {param: [] for param in ranges}\n",
        "\n",
        "    for trajectory in trajectories:\n",
        "        base_point = trajectory[0]\n",
        "        base_pred = model.predict([list(base_point.values())])[0]\n",
        "\n",
        "        for i, param in enumerate(ranges):\n",
        "            perturbed_point = trajectory[i+1]\n",
        "            perturbed_pred = model.predict([list(perturbed_point.values())])[0]\n",
        "\n",
        "            delta = delta_ratio * (ranges[param][1] - ranges[param][0])\n",
        "            ee = (perturbed_pred - base_pred) / delta\n",
        "\n",
        "            ee_results[param].append(ee)\n",
        "\n",
        "    return ee_results\n",
        "\n",
        "\n",
        "def morris_analysis_plot(ee_results):\n",
        "    mu = {p: np.mean(effects) for p, effects in ee_results.items()}\n",
        "    sigma = {p: np.std(effects) for p, effects in ee_results.items()}\n",
        "\n",
        "    params = list(mu.keys())\n",
        "    x_pos = np.arange(len(params))\n",
        "\n",
        "    plt.figure(figsize=(10, 6))\n",
        "    plt.bar(x_pos, mu.values(), yerr=sigma.values(), capsize=5, alpha=0.7, color='skyblue')\n",
        "    plt.xticks(x_pos, params, rotation=45)\n",
        "    plt.xlabel('Параметры')\n",
        "    plt.ylabel('Средний элементарный эффект (μ)')\n",
        "    plt.title('Анализ чувствительности методом Морриса')\n",
        "    plt.grid(axis='y', linestyle='--', alpha=0.7)\n",
        "    plt.show()\n",
        "\n",
        "    return mu, sigma"
      ],
      "metadata": {
        "id": "TaHpAhDlOxFf"
      },
      "execution_count": null,
      "outputs": []
    },
    {
      "cell_type": "code",
      "source": [
        "import warnings\n",
        "warnings.filterwarnings('ignore')\n",
        "\n",
        "trajectories = generate_morris_trajectories(ranges)\n",
        "ee_results = calculate_elementary_effects(pipeline, trajectories, ranges);\n"
      ],
      "metadata": {
        "id": "UAwcP52D8A_0"
      },
      "execution_count": null,
      "outputs": []
    },
    {
      "cell_type": "code",
      "source": [
        "morris_analysis_plot(ee_results)"
      ],
      "metadata": {
        "colab": {
          "base_uri": "https://localhost:8080/",
          "height": 732
        },
        "id": "pESd2LIT8BMO",
        "outputId": "a0cccb74-db17-4811-bd22-0ce7e779a03a"
      },
      "execution_count": null,
      "outputs": [
        {
          "output_type": "display_data",
          "data": {
            "text/plain": [
              "<Figure size 1000x600 with 1 Axes>"
            ],
            "image/png": "[encoded data removed]"
          },
          "metadata": {}
        },
        {
          "output_type": "execute_result",
          "data": {
            "text/plain": [
              "({'val1': np.float64(0.06176051517808817),\n",
              "  'val2': np.float64(0.0802393595193032),\n",
              "  'val3': np.float64(0.15845592395244928),\n",
              "  'val4': np.float64(0.18338861138562607),\n",
              "  'val5': np.float64(0.19160654402937027)},\n",
              " {'val1': np.float64(0.07996706316660544),\n",
              "  'val2': np.float64(0.05324885914211201),\n",
              "  'val3': np.float64(0.11048123032193205),\n",
              "  'val4': np.float64(0.08143967125836836),\n",
              "  'val5': np.float64(0.24362844203588074)})"
            ]
          },
          "metadata": {},
          "execution_count": 86
        }
      ]
    },
    {
      "cell_type": "code",
      "source": [
        "ranges"
      ],
      "metadata": {
        "colab": {
          "base_uri": "https://localhost:8080/"
        },
        "id": "hIpAKA57WUip",
        "outputId": "f9b23fd6-ab31-4867-c7f3-830ced8084e8"
      },
      "execution_count": null,
      "outputs": [
        {
          "output_type": "execute_result",
          "data": {
            "text/plain": [
              "{'val1': (-2.5155084151391285, 2.065079170072512),\n",
              " 'val2': (-2.5155084151391285, 2.065079170072512),\n",
              " 'val3': (-2.5155084151391285, 2.065079170072512),\n",
              " 'val4': (-2.5155084151391285, 2.065079170072512),\n",
              " 'val5': (-2.5155084151391285, 2.065079170072512)}"
            ]
          },
          "metadata": {},
          "execution_count": 103
        }
      ]
    },
    {
      "cell_type": "code",
      "source": [
        "import numpy as np\n",
        "from SALib.sample import saltelli\n",
        "from SALib.analyze import sobol\n",
        "import pandas as pd\n",
        "\n",
        "problem = {\n",
        "    'num_vars': 5,\n",
        "    'names': ['0', '1', '2', '3', '4'],\n",
        "    'bounds': list(ranges.values())\n",
        "}"
      ],
      "metadata": {
        "id": "mazLiiZ4WRZJ"
      },
      "execution_count": null,
      "outputs": []
    },
    {
      "cell_type": "code",
      "source": [
        "N = 1000  # Число выборок\n",
        "param_values = saltelli.sample(problem, N, calc_second_order=True)"
      ],
      "metadata": {
        "id": "Pgw9J2svWqbD"
      },
      "execution_count": null,
      "outputs": []
    },
    {
      "cell_type": "code",
      "source": [
        "nominal_point = X_scalled.iloc[0].values\n",
        "\n",
        "Y = pipeline.predict(param_values)\n",
        "\n",
        "sobol_results = sobol.analyze(problem, Y, print_to_console=False)\n",
        "\n",
        "results_df = pd.DataFrame({\n",
        "    'Parameter': problem['names'],\n",
        "    'S1': sobol_results['S1'],  # Индексы первого порядка\n",
        "    'S1_conf': sobol_results['S1_conf'],  # Доверительные интервалы для S1\n",
        "    'ST': sobol_results['ST'],  # Полные индексы\n",
        "    'ST_conf': sobol_results['ST_conf']  # Доверительные интервалы для ST\n",
        "})\n",
        "\n",
        "# Вывод результатов\n",
        "print(\"Индексы чувствительности Соболя:\")\n",
        "print(results_df)\n",
        "\n",
        "# Анализ устойчивости и чувствительности\n",
        "print(\"\\nВыводы:\")\n",
        "for i, param in enumerate(problem['names']):\n",
        "    s1 = sobol_results['S1'][i]\n",
        "    st = sobol_results['ST'][i]\n",
        "    print(f\"{param}:\")\n",
        "    print(f\"  - Вклад первого порядка (S1): {s1:.3f} (влияние без взаимодействий)\")\n",
        "    print(f\"  - Полный вклад (ST): {st:.3f} (включая взаимодействия)\")\n",
        "    if s1 > 0.3:\n",
        "        print(f\"  - {param} имеет сильное влияние на выход модели.\")\n",
        "    elif s1 > 0.1:\n",
        "        print(f\"  - {param} имеет умеренное влияние на выход модели.\")\n",
        "    else:\n",
        "        print(f\"  - {param} имеет слабое влияние на выход модели.\")\n",
        "    if st - s1 > 0.1:\n",
        "        print(f\"  - {param} участвует в значительных взаимодействиях с другими параметрами.\")\n",
        "    else:\n",
        "        print(f\"  - Взаимодействия {param} с другими параметрами минимальны.\")\n",
        "\n",
        "y_var = np.var(Y)\n",
        "print(f\"\\nДисперсия выхода модели: {y_var:.3f}\")\n",
        "if y_var < 0.1:\n",
        "    print(\"Модель устойчива: небольшие вариации параметров вызывают малую дисперсию выхода.\")\n",
        "elif y_var < 1.0:\n",
        "    print(\"Модель умеренно устойчива: вариации параметров вызывают умеренную дисперсию выхода.\")\n",
        "else:\n",
        "    print(\"Модель неустойчива: вариации параметров вызывают значительную дисперсию выхода.\")"
      ],
      "metadata": {
        "colab": {
          "base_uri": "https://localhost:8080/"
        },
        "id": "eEotzoGQQ6Zp",
        "outputId": "a487d80b-85d2-4d60-a558-342e91345a24"
      },
      "execution_count": null,
      "outputs": [
        {
          "output_type": "stream",
          "name": "stdout",
          "text": [
            "Индексы чувствительности Соболя:\n",
            "  Parameter        S1   S1_conf        ST   ST_conf\n",
            "0         0  0.013660  0.014621  0.021754  0.002608\n",
            "1         1  0.062162  0.025065  0.070068  0.007742\n",
            "2         2  0.109166  0.029415  0.115697  0.009948\n",
            "3         3  0.167667  0.037326  0.170584  0.013836\n",
            "4         4  0.632367  0.060301  0.633671  0.060909\n",
            "\n",
            "Выводы:\n",
            "0:\n",
            "  - Вклад первого порядка (S1): 0.014 (влияние без взаимодействий)\n",
            "  - Полный вклад (ST): 0.022 (включая взаимодействия)\n",
            "  - 0 имеет слабое влияние на выход модели.\n",
            "  - Взаимодействия 0 с другими параметрами минимальны.\n",
            "1:\n",
            "  - Вклад первого порядка (S1): 0.062 (влияние без взаимодействий)\n",
            "  - Полный вклад (ST): 0.070 (включая взаимодействия)\n",
            "  - 1 имеет слабое влияние на выход модели.\n",
            "  - Взаимодействия 1 с другими параметрами минимальны.\n",
            "2:\n",
            "  - Вклад первого порядка (S1): 0.109 (влияние без взаимодействий)\n",
            "  - Полный вклад (ST): 0.116 (включая взаимодействия)\n",
            "  - 2 имеет умеренное влияние на выход модели.\n",
            "  - Взаимодействия 2 с другими параметрами минимальны.\n",
            "3:\n",
            "  - Вклад первого порядка (S1): 0.168 (влияние без взаимодействий)\n",
            "  - Полный вклад (ST): 0.171 (включая взаимодействия)\n",
            "  - 3 имеет умеренное влияние на выход модели.\n",
            "  - Взаимодействия 3 с другими параметрами минимальны.\n",
            "4:\n",
            "  - Вклад первого порядка (S1): 0.632 (влияние без взаимодействий)\n",
            "  - Полный вклад (ST): 0.634 (включая взаимодействия)\n",
            "  - 4 имеет сильное влияние на выход модели.\n",
            "  - Взаимодействия 4 с другими параметрами минимальны.\n",
            "\n",
            "Дисперсия выхода модели: 0.488\n",
            "Модель умеренно устойчива: вариации параметров вызывают умеренную дисперсию выхода.\n"
          ]
        }
      ]
    },
    {
      "cell_type": "code",
      "source": [],
      "metadata": {
        "id": "5KBBf4moYoUV"
      },
      "execution_count": null,
      "outputs": []
    }
  ]
}