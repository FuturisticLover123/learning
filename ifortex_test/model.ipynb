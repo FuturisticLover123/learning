{
  "nbformat": 4,
  "nbformat_minor": 0,
  "metadata": {
    "colab": {
      "provenance": [],
      "authorship_tag": "ABX9TyN5oq7SeaViiA6UC3MGXVeE",
      "include_colab_link": true
    },
    "kernelspec": {
      "name": "python3",
      "display_name": "Python 3"
    },
    "language_info": {
      "name": "python"
    }
  },
  "cells": [
    {
      "cell_type": "markdown",
      "metadata": {
        "id": "view-in-github",
        "colab_type": "text"
      },
      "source": [
        "<a href=\"https://colab.research.google.com/github/FuturisticLover123/learning/blob/main/ifortex_test/model.ipynb\" target=\"_parent\"><img src=\"https://colab.research.google.com/assets/colab-badge.svg\" alt=\"Open In Colab\"/></a>"
      ]
    },
    {
      "cell_type": "code",
      "execution_count": 3,
      "metadata": {
        "id": "1hPgG_vedmJH"
      },
      "outputs": [],
      "source": [
        "import pandas as pd"
      ]
    },
    {
      "cell_type": "markdown",
      "source": [
        "Посмотрим данные и обновные характеристики"
      ],
      "metadata": {
        "id": "HnDVAGODktDH"
      }
    },
    {
      "cell_type": "code",
      "source": [
        "data = pd.read_csv(\"/content/student_exam_data.csv\")\n",
        "\n",
        "data.describe()"
      ],
      "metadata": {
        "colab": {
          "base_uri": "https://localhost:8080/",
          "height": 300
        },
        "id": "6nc2ImPjdud8",
        "outputId": "8831b019-06d2-4e8c-cca3-7c4c52da16e2"
      },
      "execution_count": 4,
      "outputs": [
        {
          "output_type": "execute_result",
          "data": {
            "text/plain": [
              "       Контрольная 1  Контрольная 2  Контрольная 3\n",
              "count     300.000000     300.000000     300.000000\n",
              "mean        7.130000       6.936667       6.940000\n",
              "std         2.003283       2.009839       2.028987\n",
              "min         4.000000       4.000000       4.000000\n",
              "25%         5.000000       5.000000       5.000000\n",
              "50%         7.000000       7.000000       7.000000\n",
              "75%         9.000000       9.000000       9.000000\n",
              "max        10.000000      10.000000      10.000000"
            ],
            "text/html": [
              "\n",
              "  <div id=\"df-f2c9d643-d6de-4338-839d-112488a1b8e5\" class=\"colab-df-container\">\n",
              "    <div>\n",
              "<style scoped>\n",
              "    .dataframe tbody tr th:only-of-type {\n",
              "        vertical-align: middle;\n",
              "    }\n",
              "\n",
              "    .dataframe tbody tr th {\n",
              "        vertical-align: top;\n",
              "    }\n",
              "\n",
              "    .dataframe thead th {\n",
              "        text-align: right;\n",
              "    }\n",
              "</style>\n",
              "<table border=\"1\" class=\"dataframe\">\n",
              "  <thead>\n",
              "    <tr style=\"text-align: right;\">\n",
              "      <th></th>\n",
              "      <th>Контрольная 1</th>\n",
              "      <th>Контрольная 2</th>\n",
              "      <th>Контрольная 3</th>\n",
              "    </tr>\n",
              "  </thead>\n",
              "  <tbody>\n",
              "    <tr>\n",
              "      <th>count</th>\n",
              "      <td>300.000000</td>\n",
              "      <td>300.000000</td>\n",
              "      <td>300.000000</td>\n",
              "    </tr>\n",
              "    <tr>\n",
              "      <th>mean</th>\n",
              "      <td>7.130000</td>\n",
              "      <td>6.936667</td>\n",
              "      <td>6.940000</td>\n",
              "    </tr>\n",
              "    <tr>\n",
              "      <th>std</th>\n",
              "      <td>2.003283</td>\n",
              "      <td>2.009839</td>\n",
              "      <td>2.028987</td>\n",
              "    </tr>\n",
              "    <tr>\n",
              "      <th>min</th>\n",
              "      <td>4.000000</td>\n",
              "      <td>4.000000</td>\n",
              "      <td>4.000000</td>\n",
              "    </tr>\n",
              "    <tr>\n",
              "      <th>25%</th>\n",
              "      <td>5.000000</td>\n",
              "      <td>5.000000</td>\n",
              "      <td>5.000000</td>\n",
              "    </tr>\n",
              "    <tr>\n",
              "      <th>50%</th>\n",
              "      <td>7.000000</td>\n",
              "      <td>7.000000</td>\n",
              "      <td>7.000000</td>\n",
              "    </tr>\n",
              "    <tr>\n",
              "      <th>75%</th>\n",
              "      <td>9.000000</td>\n",
              "      <td>9.000000</td>\n",
              "      <td>9.000000</td>\n",
              "    </tr>\n",
              "    <tr>\n",
              "      <th>max</th>\n",
              "      <td>10.000000</td>\n",
              "      <td>10.000000</td>\n",
              "      <td>10.000000</td>\n",
              "    </tr>\n",
              "  </tbody>\n",
              "</table>\n",
              "</div>\n",
              "    <div class=\"colab-df-buttons\">\n",
              "\n",
              "  <div class=\"colab-df-container\">\n",
              "    <button class=\"colab-df-convert\" onclick=\"convertToInteractive('df-f2c9d643-d6de-4338-839d-112488a1b8e5')\"\n",
              "            title=\"Convert this dataframe to an interactive table.\"\n",
              "            style=\"display:none;\">\n",
              "\n",
              "  <svg xmlns=\"http://www.w3.org/2000/svg\" height=\"24px\" viewBox=\"0 -960 960 960\">\n",
              "    <path d=\"M120-120v-720h720v720H120Zm60-500h600v-160H180v160Zm220 220h160v-160H400v160Zm0 220h160v-160H400v160ZM180-400h160v-160H180v160Zm440 0h160v-160H620v160ZM180-180h160v-160H180v160Zm440 0h160v-160H620v160Z\"/>\n",
              "  </svg>\n",
              "    </button>\n",
              "\n",
              "  <style>\n",
              "    .colab-df-container {\n",
              "      display:flex;\n",
              "      gap: 12px;\n",
              "    }\n",
              "\n",
              "    .colab-df-convert {\n",
              "      background-color: #E8F0FE;\n",
              "      border: none;\n",
              "      border-radius: 50%;\n",
              "      cursor: pointer;\n",
              "      display: none;\n",
              "      fill: #1967D2;\n",
              "      height: 32px;\n",
              "      padding: 0 0 0 0;\n",
              "      width: 32px;\n",
              "    }\n",
              "\n",
              "    .colab-df-convert:hover {\n",
              "      background-color: #E2EBFA;\n",
              "      box-shadow: 0px 1px 2px rgba(60, 64, 67, 0.3), 0px 1px 3px 1px rgba(60, 64, 67, 0.15);\n",
              "      fill: #174EA6;\n",
              "    }\n",
              "\n",
              "    .colab-df-buttons div {\n",
              "      margin-bottom: 4px;\n",
              "    }\n",
              "\n",
              "    [theme=dark] .colab-df-convert {\n",
              "      background-color: #3B4455;\n",
              "      fill: #D2E3FC;\n",
              "    }\n",
              "\n",
              "    [theme=dark] .colab-df-convert:hover {\n",
              "      background-color: #434B5C;\n",
              "      box-shadow: 0px 1px 3px 1px rgba(0, 0, 0, 0.15);\n",
              "      filter: drop-shadow(0px 1px 2px rgba(0, 0, 0, 0.3));\n",
              "      fill: #FFFFFF;\n",
              "    }\n",
              "  </style>\n",
              "\n",
              "    <script>\n",
              "      const buttonEl =\n",
              "        document.querySelector('#df-f2c9d643-d6de-4338-839d-112488a1b8e5 button.colab-df-convert');\n",
              "      buttonEl.style.display =\n",
              "        google.colab.kernel.accessAllowed ? 'block' : 'none';\n",
              "\n",
              "      async function convertToInteractive(key) {\n",
              "        const element = document.querySelector('#df-f2c9d643-d6de-4338-839d-112488a1b8e5');\n",
              "        const dataTable =\n",
              "          await google.colab.kernel.invokeFunction('convertToInteractive',\n",
              "                                                    [key], {});\n",
              "        if (!dataTable) return;\n",
              "\n",
              "        const docLinkHtml = 'Like what you see? Visit the ' +\n",
              "          '<a target=\"_blank\" href=https://colab.research.google.com/notebooks/data_table.ipynb>data table notebook</a>'\n",
              "          + ' to learn more about interactive tables.';\n",
              "        element.innerHTML = '';\n",
              "        dataTable['output_type'] = 'display_data';\n",
              "        await google.colab.output.renderOutput(dataTable, element);\n",
              "        const docLink = document.createElement('div');\n",
              "        docLink.innerHTML = docLinkHtml;\n",
              "        element.appendChild(docLink);\n",
              "      }\n",
              "    </script>\n",
              "  </div>\n",
              "\n",
              "\n",
              "    <div id=\"df-314fe415-c35f-48e8-8371-07d53868fe12\">\n",
              "      <button class=\"colab-df-quickchart\" onclick=\"quickchart('df-314fe415-c35f-48e8-8371-07d53868fe12')\"\n",
              "                title=\"Suggest charts\"\n",
              "                style=\"display:none;\">\n",
              "\n",
              "<svg xmlns=\"http://www.w3.org/2000/svg\" height=\"24px\"viewBox=\"0 0 24 24\"\n",
              "     width=\"24px\">\n",
              "    <g>\n",
              "        <path d=\"M19 3H5c-1.1 0-2 .9-2 2v14c0 1.1.9 2 2 2h14c1.1 0 2-.9 2-2V5c0-1.1-.9-2-2-2zM9 17H7v-7h2v7zm4 0h-2V7h2v10zm4 0h-2v-4h2v4z\"/>\n",
              "    </g>\n",
              "</svg>\n",
              "      </button>\n",
              "\n",
              "<style>\n",
              "  .colab-df-quickchart {\n",
              "      --bg-color: #E8F0FE;\n",
              "      --fill-color: #1967D2;\n",
              "      --hover-bg-color: #E2EBFA;\n",
              "      --hover-fill-color: #174EA6;\n",
              "      --disabled-fill-color: #AAA;\n",
              "      --disabled-bg-color: #DDD;\n",
              "  }\n",
              "\n",
              "  [theme=dark] .colab-df-quickchart {\n",
              "      --bg-color: #3B4455;\n",
              "      --fill-color: #D2E3FC;\n",
              "      --hover-bg-color: #434B5C;\n",
              "      --hover-fill-color: #FFFFFF;\n",
              "      --disabled-bg-color: #3B4455;\n",
              "      --disabled-fill-color: #666;\n",
              "  }\n",
              "\n",
              "  .colab-df-quickchart {\n",
              "    background-color: var(--bg-color);\n",
              "    border: none;\n",
              "    border-radius: 50%;\n",
              "    cursor: pointer;\n",
              "    display: none;\n",
              "    fill: var(--fill-color);\n",
              "    height: 32px;\n",
              "    padding: 0;\n",
              "    width: 32px;\n",
              "  }\n",
              "\n",
              "  .colab-df-quickchart:hover {\n",
              "    background-color: var(--hover-bg-color);\n",
              "    box-shadow: 0 1px 2px rgba(60, 64, 67, 0.3), 0 1px 3px 1px rgba(60, 64, 67, 0.15);\n",
              "    fill: var(--button-hover-fill-color);\n",
              "  }\n",
              "\n",
              "  .colab-df-quickchart-complete:disabled,\n",
              "  .colab-df-quickchart-complete:disabled:hover {\n",
              "    background-color: var(--disabled-bg-color);\n",
              "    fill: var(--disabled-fill-color);\n",
              "    box-shadow: none;\n",
              "  }\n",
              "\n",
              "  .colab-df-spinner {\n",
              "    border: 2px solid var(--fill-color);\n",
              "    border-color: transparent;\n",
              "    border-bottom-color: var(--fill-color);\n",
              "    animation:\n",
              "      spin 1s steps(1) infinite;\n",
              "  }\n",
              "\n",
              "  @keyframes spin {\n",
              "    0% {\n",
              "      border-color: transparent;\n",
              "      border-bottom-color: var(--fill-color);\n",
              "      border-left-color: var(--fill-color);\n",
              "    }\n",
              "    20% {\n",
              "      border-color: transparent;\n",
              "      border-left-color: var(--fill-color);\n",
              "      border-top-color: var(--fill-color);\n",
              "    }\n",
              "    30% {\n",
              "      border-color: transparent;\n",
              "      border-left-color: var(--fill-color);\n",
              "      border-top-color: var(--fill-color);\n",
              "      border-right-color: var(--fill-color);\n",
              "    }\n",
              "    40% {\n",
              "      border-color: transparent;\n",
              "      border-right-color: var(--fill-color);\n",
              "      border-top-color: var(--fill-color);\n",
              "    }\n",
              "    60% {\n",
              "      border-color: transparent;\n",
              "      border-right-color: var(--fill-color);\n",
              "    }\n",
              "    80% {\n",
              "      border-color: transparent;\n",
              "      border-right-color: var(--fill-color);\n",
              "      border-bottom-color: var(--fill-color);\n",
              "    }\n",
              "    90% {\n",
              "      border-color: transparent;\n",
              "      border-bottom-color: var(--fill-color);\n",
              "    }\n",
              "  }\n",
              "</style>\n",
              "\n",
              "      <script>\n",
              "        async function quickchart(key) {\n",
              "          const quickchartButtonEl =\n",
              "            document.querySelector('#' + key + ' button');\n",
              "          quickchartButtonEl.disabled = true;  // To prevent multiple clicks.\n",
              "          quickchartButtonEl.classList.add('colab-df-spinner');\n",
              "          try {\n",
              "            const charts = await google.colab.kernel.invokeFunction(\n",
              "                'suggestCharts', [key], {});\n",
              "          } catch (error) {\n",
              "            console.error('Error during call to suggestCharts:', error);\n",
              "          }\n",
              "          quickchartButtonEl.classList.remove('colab-df-spinner');\n",
              "          quickchartButtonEl.classList.add('colab-df-quickchart-complete');\n",
              "        }\n",
              "        (() => {\n",
              "          let quickchartButtonEl =\n",
              "            document.querySelector('#df-314fe415-c35f-48e8-8371-07d53868fe12 button');\n",
              "          quickchartButtonEl.style.display =\n",
              "            google.colab.kernel.accessAllowed ? 'block' : 'none';\n",
              "        })();\n",
              "      </script>\n",
              "    </div>\n",
              "    </div>\n",
              "  </div>\n"
            ],
            "application/vnd.google.colaboratory.intrinsic+json": {
              "type": "dataframe",
              "summary": "{\n  \"name\": \"data\",\n  \"rows\": 8,\n  \"fields\": [\n    {\n      \"column\": \"\\u041a\\u043e\\u043d\\u0442\\u0440\\u043e\\u043b\\u044c\\u043d\\u0430\\u044f 1\",\n      \"properties\": {\n        \"dtype\": \"number\",\n        \"std\": 103.8696885958909,\n        \"min\": 2.0032832582311046,\n        \"max\": 300.0,\n        \"num_unique_values\": 8,\n        \"samples\": [\n          7.13,\n          7.0,\n          300.0\n        ],\n        \"semantic_type\": \"\",\n        \"description\": \"\"\n      }\n    },\n    {\n      \"column\": \"\\u041a\\u043e\\u043d\\u0442\\u0440\\u043e\\u043b\\u044c\\u043d\\u0430\\u044f 2\",\n      \"properties\": {\n        \"dtype\": \"number\",\n        \"std\": 103.87888341255409,\n        \"min\": 2.009839231050864,\n        \"max\": 300.0,\n        \"num_unique_values\": 8,\n        \"samples\": [\n          6.9366666666666665,\n          7.0,\n          300.0\n        ],\n        \"semantic_type\": \"\",\n        \"description\": \"\"\n      }\n    },\n    {\n      \"column\": \"\\u041a\\u043e\\u043d\\u0442\\u0440\\u043e\\u043b\\u044c\\u043d\\u0430\\u044f 3\",\n      \"properties\": {\n        \"dtype\": \"number\",\n        \"std\": 103.87763912053302,\n        \"min\": 2.028987259116937,\n        \"max\": 300.0,\n        \"num_unique_values\": 8,\n        \"samples\": [\n          6.94,\n          7.0,\n          300.0\n        ],\n        \"semantic_type\": \"\",\n        \"description\": \"\"\n      }\n    }\n  ]\n}"
            }
          },
          "metadata": {},
          "execution_count": 4
        }
      ]
    },
    {
      "cell_type": "code",
      "source": [
        "data.isna().sum()"
      ],
      "metadata": {
        "colab": {
          "base_uri": "https://localhost:8080/",
          "height": 366
        },
        "id": "FmZPWU0seggc",
        "outputId": "dac23fd4-675f-4e68-c36a-1e91c00169f2"
      },
      "execution_count": 5,
      "outputs": [
        {
          "output_type": "execute_result",
          "data": {
            "text/plain": [
              "Контрольная 1           0\n",
              "Контрольная 2           0\n",
              "Контрольная 3           0\n",
              "Сон накануне            0\n",
              "Настроение              0\n",
              "Энергетиков накануне    0\n",
              "Посещаемость занятий    0\n",
              "Время подготовки        0\n",
              "Сдал                    0\n",
              "dtype: int64"
            ],
            "text/html": [
              "<div>\n",
              "<style scoped>\n",
              "    .dataframe tbody tr th:only-of-type {\n",
              "        vertical-align: middle;\n",
              "    }\n",
              "\n",
              "    .dataframe tbody tr th {\n",
              "        vertical-align: top;\n",
              "    }\n",
              "\n",
              "    .dataframe thead th {\n",
              "        text-align: right;\n",
              "    }\n",
              "</style>\n",
              "<table border=\"1\" class=\"dataframe\">\n",
              "  <thead>\n",
              "    <tr style=\"text-align: right;\">\n",
              "      <th></th>\n",
              "      <th>0</th>\n",
              "    </tr>\n",
              "  </thead>\n",
              "  <tbody>\n",
              "    <tr>\n",
              "      <th>Контрольная 1</th>\n",
              "      <td>0</td>\n",
              "    </tr>\n",
              "    <tr>\n",
              "      <th>Контрольная 2</th>\n",
              "      <td>0</td>\n",
              "    </tr>\n",
              "    <tr>\n",
              "      <th>Контрольная 3</th>\n",
              "      <td>0</td>\n",
              "    </tr>\n",
              "    <tr>\n",
              "      <th>Сон накануне</th>\n",
              "      <td>0</td>\n",
              "    </tr>\n",
              "    <tr>\n",
              "      <th>Настроение</th>\n",
              "      <td>0</td>\n",
              "    </tr>\n",
              "    <tr>\n",
              "      <th>Энергетиков накануне</th>\n",
              "      <td>0</td>\n",
              "    </tr>\n",
              "    <tr>\n",
              "      <th>Посещаемость занятий</th>\n",
              "      <td>0</td>\n",
              "    </tr>\n",
              "    <tr>\n",
              "      <th>Время подготовки</th>\n",
              "      <td>0</td>\n",
              "    </tr>\n",
              "    <tr>\n",
              "      <th>Сдал</th>\n",
              "      <td>0</td>\n",
              "    </tr>\n",
              "  </tbody>\n",
              "</table>\n",
              "</div><br><label><b>dtype:</b> int64</label>"
            ]
          },
          "metadata": {},
          "execution_count": 5
        }
      ]
    },
    {
      "cell_type": "markdown",
      "source": [
        "В данных нет пропусков это очень хорошо"
      ],
      "metadata": {
        "id": "IumoxYVCoTuu"
      }
    },
    {
      "cell_type": "code",
      "source": [
        "data.head()"
      ],
      "metadata": {
        "colab": {
          "base_uri": "https://localhost:8080/",
          "height": 313
        },
        "id": "FXU10-PHvUqW",
        "outputId": "5e8cb7ab-e426-46d0-b127-abbe5a4fb5e2"
      },
      "execution_count": 6,
      "outputs": [
        {
          "output_type": "execute_result",
          "data": {
            "text/plain": [
              "   Контрольная 1  Контрольная 2  Контрольная 3 Сон накануне  Настроение  \\\n",
              "0              4              4              9          Нет     Хорошее   \n",
              "1              9              9              6           Да      Плохое   \n",
              "2              8              6              9           Да     Хорошее   \n",
              "3              8              4              9           Да     Хорошее   \n",
              "4              9             10              4          Нет  Нормальное   \n",
              "\n",
              "  Энергетиков накануне Посещаемость занятий Время подготовки Сдал  \n",
              "0                   4+               Низкая        За неделю  Нет  \n",
              "1                    1              Средняя    Последний час   Да  \n",
              "2                  2-3              Средняя    Последний час   Да  \n",
              "3                    1              Высокая   Последняя ночь   Да  \n",
              "4                    1               Низкая    Последний час   Да  "
            ],
            "text/html": [
              "\n",
              "  <div id=\"df-bdfdb538-45bd-4617-9431-3f5514378c50\" class=\"colab-df-container\">\n",
              "    <div>\n",
              "<style scoped>\n",
              "    .dataframe tbody tr th:only-of-type {\n",
              "        vertical-align: middle;\n",
              "    }\n",
              "\n",
              "    .dataframe tbody tr th {\n",
              "        vertical-align: top;\n",
              "    }\n",
              "\n",
              "    .dataframe thead th {\n",
              "        text-align: right;\n",
              "    }\n",
              "</style>\n",
              "<table border=\"1\" class=\"dataframe\">\n",
              "  <thead>\n",
              "    <tr style=\"text-align: right;\">\n",
              "      <th></th>\n",
              "      <th>Контрольная 1</th>\n",
              "      <th>Контрольная 2</th>\n",
              "      <th>Контрольная 3</th>\n",
              "      <th>Сон накануне</th>\n",
              "      <th>Настроение</th>\n",
              "      <th>Энергетиков накануне</th>\n",
              "      <th>Посещаемость занятий</th>\n",
              "      <th>Время подготовки</th>\n",
              "      <th>Сдал</th>\n",
              "    </tr>\n",
              "  </thead>\n",
              "  <tbody>\n",
              "    <tr>\n",
              "      <th>0</th>\n",
              "      <td>4</td>\n",
              "      <td>4</td>\n",
              "      <td>9</td>\n",
              "      <td>Нет</td>\n",
              "      <td>Хорошее</td>\n",
              "      <td>4+</td>\n",
              "      <td>Низкая</td>\n",
              "      <td>За неделю</td>\n",
              "      <td>Нет</td>\n",
              "    </tr>\n",
              "    <tr>\n",
              "      <th>1</th>\n",
              "      <td>9</td>\n",
              "      <td>9</td>\n",
              "      <td>6</td>\n",
              "      <td>Да</td>\n",
              "      <td>Плохое</td>\n",
              "      <td>1</td>\n",
              "      <td>Средняя</td>\n",
              "      <td>Последний час</td>\n",
              "      <td>Да</td>\n",
              "    </tr>\n",
              "    <tr>\n",
              "      <th>2</th>\n",
              "      <td>8</td>\n",
              "      <td>6</td>\n",
              "      <td>9</td>\n",
              "      <td>Да</td>\n",
              "      <td>Хорошее</td>\n",
              "      <td>2-3</td>\n",
              "      <td>Средняя</td>\n",
              "      <td>Последний час</td>\n",
              "      <td>Да</td>\n",
              "    </tr>\n",
              "    <tr>\n",
              "      <th>3</th>\n",
              "      <td>8</td>\n",
              "      <td>4</td>\n",
              "      <td>9</td>\n",
              "      <td>Да</td>\n",
              "      <td>Хорошее</td>\n",
              "      <td>1</td>\n",
              "      <td>Высокая</td>\n",
              "      <td>Последняя ночь</td>\n",
              "      <td>Да</td>\n",
              "    </tr>\n",
              "    <tr>\n",
              "      <th>4</th>\n",
              "      <td>9</td>\n",
              "      <td>10</td>\n",
              "      <td>4</td>\n",
              "      <td>Нет</td>\n",
              "      <td>Нормальное</td>\n",
              "      <td>1</td>\n",
              "      <td>Низкая</td>\n",
              "      <td>Последний час</td>\n",
              "      <td>Да</td>\n",
              "    </tr>\n",
              "  </tbody>\n",
              "</table>\n",
              "</div>\n",
              "    <div class=\"colab-df-buttons\">\n",
              "\n",
              "  <div class=\"colab-df-container\">\n",
              "    <button class=\"colab-df-convert\" onclick=\"convertToInteractive('df-bdfdb538-45bd-4617-9431-3f5514378c50')\"\n",
              "            title=\"Convert this dataframe to an interactive table.\"\n",
              "            style=\"display:none;\">\n",
              "\n",
              "  <svg xmlns=\"http://www.w3.org/2000/svg\" height=\"24px\" viewBox=\"0 -960 960 960\">\n",
              "    <path d=\"M120-120v-720h720v720H120Zm60-500h600v-160H180v160Zm220 220h160v-160H400v160Zm0 220h160v-160H400v160ZM180-400h160v-160H180v160Zm440 0h160v-160H620v160ZM180-180h160v-160H180v160Zm440 0h160v-160H620v160Z\"/>\n",
              "  </svg>\n",
              "    </button>\n",
              "\n",
              "  <style>\n",
              "    .colab-df-container {\n",
              "      display:flex;\n",
              "      gap: 12px;\n",
              "    }\n",
              "\n",
              "    .colab-df-convert {\n",
              "      background-color: #E8F0FE;\n",
              "      border: none;\n",
              "      border-radius: 50%;\n",
              "      cursor: pointer;\n",
              "      display: none;\n",
              "      fill: #1967D2;\n",
              "      height: 32px;\n",
              "      padding: 0 0 0 0;\n",
              "      width: 32px;\n",
              "    }\n",
              "\n",
              "    .colab-df-convert:hover {\n",
              "      background-color: #E2EBFA;\n",
              "      box-shadow: 0px 1px 2px rgba(60, 64, 67, 0.3), 0px 1px 3px 1px rgba(60, 64, 67, 0.15);\n",
              "      fill: #174EA6;\n",
              "    }\n",
              "\n",
              "    .colab-df-buttons div {\n",
              "      margin-bottom: 4px;\n",
              "    }\n",
              "\n",
              "    [theme=dark] .colab-df-convert {\n",
              "      background-color: #3B4455;\n",
              "      fill: #D2E3FC;\n",
              "    }\n",
              "\n",
              "    [theme=dark] .colab-df-convert:hover {\n",
              "      background-color: #434B5C;\n",
              "      box-shadow: 0px 1px 3px 1px rgba(0, 0, 0, 0.15);\n",
              "      filter: drop-shadow(0px 1px 2px rgba(0, 0, 0, 0.3));\n",
              "      fill: #FFFFFF;\n",
              "    }\n",
              "  </style>\n",
              "\n",
              "    <script>\n",
              "      const buttonEl =\n",
              "        document.querySelector('#df-bdfdb538-45bd-4617-9431-3f5514378c50 button.colab-df-convert');\n",
              "      buttonEl.style.display =\n",
              "        google.colab.kernel.accessAllowed ? 'block' : 'none';\n",
              "\n",
              "      async function convertToInteractive(key) {\n",
              "        const element = document.querySelector('#df-bdfdb538-45bd-4617-9431-3f5514378c50');\n",
              "        const dataTable =\n",
              "          await google.colab.kernel.invokeFunction('convertToInteractive',\n",
              "                                                    [key], {});\n",
              "        if (!dataTable) return;\n",
              "\n",
              "        const docLinkHtml = 'Like what you see? Visit the ' +\n",
              "          '<a target=\"_blank\" href=https://colab.research.google.com/notebooks/data_table.ipynb>data table notebook</a>'\n",
              "          + ' to learn more about interactive tables.';\n",
              "        element.innerHTML = '';\n",
              "        dataTable['output_type'] = 'display_data';\n",
              "        await google.colab.output.renderOutput(dataTable, element);\n",
              "        const docLink = document.createElement('div');\n",
              "        docLink.innerHTML = docLinkHtml;\n",
              "        element.appendChild(docLink);\n",
              "      }\n",
              "    </script>\n",
              "  </div>\n",
              "\n",
              "\n",
              "    <div id=\"df-f3c72fab-ad97-4e65-9983-bf9c64edbe36\">\n",
              "      <button class=\"colab-df-quickchart\" onclick=\"quickchart('df-f3c72fab-ad97-4e65-9983-bf9c64edbe36')\"\n",
              "                title=\"Suggest charts\"\n",
              "                style=\"display:none;\">\n",
              "\n",
              "<svg xmlns=\"http://www.w3.org/2000/svg\" height=\"24px\"viewBox=\"0 0 24 24\"\n",
              "     width=\"24px\">\n",
              "    <g>\n",
              "        <path d=\"M19 3H5c-1.1 0-2 .9-2 2v14c0 1.1.9 2 2 2h14c1.1 0 2-.9 2-2V5c0-1.1-.9-2-2-2zM9 17H7v-7h2v7zm4 0h-2V7h2v10zm4 0h-2v-4h2v4z\"/>\n",
              "    </g>\n",
              "</svg>\n",
              "      </button>\n",
              "\n",
              "<style>\n",
              "  .colab-df-quickchart {\n",
              "      --bg-color: #E8F0FE;\n",
              "      --fill-color: #1967D2;\n",
              "      --hover-bg-color: #E2EBFA;\n",
              "      --hover-fill-color: #174EA6;\n",
              "      --disabled-fill-color: #AAA;\n",
              "      --disabled-bg-color: #DDD;\n",
              "  }\n",
              "\n",
              "  [theme=dark] .colab-df-quickchart {\n",
              "      --bg-color: #3B4455;\n",
              "      --fill-color: #D2E3FC;\n",
              "      --hover-bg-color: #434B5C;\n",
              "      --hover-fill-color: #FFFFFF;\n",
              "      --disabled-bg-color: #3B4455;\n",
              "      --disabled-fill-color: #666;\n",
              "  }\n",
              "\n",
              "  .colab-df-quickchart {\n",
              "    background-color: var(--bg-color);\n",
              "    border: none;\n",
              "    border-radius: 50%;\n",
              "    cursor: pointer;\n",
              "    display: none;\n",
              "    fill: var(--fill-color);\n",
              "    height: 32px;\n",
              "    padding: 0;\n",
              "    width: 32px;\n",
              "  }\n",
              "\n",
              "  .colab-df-quickchart:hover {\n",
              "    background-color: var(--hover-bg-color);\n",
              "    box-shadow: 0 1px 2px rgba(60, 64, 67, 0.3), 0 1px 3px 1px rgba(60, 64, 67, 0.15);\n",
              "    fill: var(--button-hover-fill-color);\n",
              "  }\n",
              "\n",
              "  .colab-df-quickchart-complete:disabled,\n",
              "  .colab-df-quickchart-complete:disabled:hover {\n",
              "    background-color: var(--disabled-bg-color);\n",
              "    fill: var(--disabled-fill-color);\n",
              "    box-shadow: none;\n",
              "  }\n",
              "\n",
              "  .colab-df-spinner {\n",
              "    border: 2px solid var(--fill-color);\n",
              "    border-color: transparent;\n",
              "    border-bottom-color: var(--fill-color);\n",
              "    animation:\n",
              "      spin 1s steps(1) infinite;\n",
              "  }\n",
              "\n",
              "  @keyframes spin {\n",
              "    0% {\n",
              "      border-color: transparent;\n",
              "      border-bottom-color: var(--fill-color);\n",
              "      border-left-color: var(--fill-color);\n",
              "    }\n",
              "    20% {\n",
              "      border-color: transparent;\n",
              "      border-left-color: var(--fill-color);\n",
              "      border-top-color: var(--fill-color);\n",
              "    }\n",
              "    30% {\n",
              "      border-color: transparent;\n",
              "      border-left-color: var(--fill-color);\n",
              "      border-top-color: var(--fill-color);\n",
              "      border-right-color: var(--fill-color);\n",
              "    }\n",
              "    40% {\n",
              "      border-color: transparent;\n",
              "      border-right-color: var(--fill-color);\n",
              "      border-top-color: var(--fill-color);\n",
              "    }\n",
              "    60% {\n",
              "      border-color: transparent;\n",
              "      border-right-color: var(--fill-color);\n",
              "    }\n",
              "    80% {\n",
              "      border-color: transparent;\n",
              "      border-right-color: var(--fill-color);\n",
              "      border-bottom-color: var(--fill-color);\n",
              "    }\n",
              "    90% {\n",
              "      border-color: transparent;\n",
              "      border-bottom-color: var(--fill-color);\n",
              "    }\n",
              "  }\n",
              "</style>\n",
              "\n",
              "      <script>\n",
              "        async function quickchart(key) {\n",
              "          const quickchartButtonEl =\n",
              "            document.querySelector('#' + key + ' button');\n",
              "          quickchartButtonEl.disabled = true;  // To prevent multiple clicks.\n",
              "          quickchartButtonEl.classList.add('colab-df-spinner');\n",
              "          try {\n",
              "            const charts = await google.colab.kernel.invokeFunction(\n",
              "                'suggestCharts', [key], {});\n",
              "          } catch (error) {\n",
              "            console.error('Error during call to suggestCharts:', error);\n",
              "          }\n",
              "          quickchartButtonEl.classList.remove('colab-df-spinner');\n",
              "          quickchartButtonEl.classList.add('colab-df-quickchart-complete');\n",
              "        }\n",
              "        (() => {\n",
              "          let quickchartButtonEl =\n",
              "            document.querySelector('#df-f3c72fab-ad97-4e65-9983-bf9c64edbe36 button');\n",
              "          quickchartButtonEl.style.display =\n",
              "            google.colab.kernel.accessAllowed ? 'block' : 'none';\n",
              "        })();\n",
              "      </script>\n",
              "    </div>\n",
              "    </div>\n",
              "  </div>\n"
            ],
            "application/vnd.google.colaboratory.intrinsic+json": {
              "type": "dataframe",
              "variable_name": "data",
              "summary": "{\n  \"name\": \"data\",\n  \"rows\": 300,\n  \"fields\": [\n    {\n      \"column\": \"\\u041a\\u043e\\u043d\\u0442\\u0440\\u043e\\u043b\\u044c\\u043d\\u0430\\u044f 1\",\n      \"properties\": {\n        \"dtype\": \"number\",\n        \"std\": 2,\n        \"min\": 4,\n        \"max\": 10,\n        \"num_unique_values\": 7,\n        \"samples\": [\n          4,\n          9,\n          10\n        ],\n        \"semantic_type\": \"\",\n        \"description\": \"\"\n      }\n    },\n    {\n      \"column\": \"\\u041a\\u043e\\u043d\\u0442\\u0440\\u043e\\u043b\\u044c\\u043d\\u0430\\u044f 2\",\n      \"properties\": {\n        \"dtype\": \"number\",\n        \"std\": 2,\n        \"min\": 4,\n        \"max\": 10,\n        \"num_unique_values\": 7,\n        \"samples\": [\n          4,\n          9,\n          8\n        ],\n        \"semantic_type\": \"\",\n        \"description\": \"\"\n      }\n    },\n    {\n      \"column\": \"\\u041a\\u043e\\u043d\\u0442\\u0440\\u043e\\u043b\\u044c\\u043d\\u0430\\u044f 3\",\n      \"properties\": {\n        \"dtype\": \"number\",\n        \"std\": 2,\n        \"min\": 4,\n        \"max\": 10,\n        \"num_unique_values\": 7,\n        \"samples\": [\n          9,\n          6,\n          8\n        ],\n        \"semantic_type\": \"\",\n        \"description\": \"\"\n      }\n    },\n    {\n      \"column\": \"\\u0421\\u043e\\u043d \\u043d\\u0430\\u043a\\u0430\\u043d\\u0443\\u043d\\u0435\",\n      \"properties\": {\n        \"dtype\": \"category\",\n        \"num_unique_values\": 2,\n        \"samples\": [\n          \"\\u0414\\u0430\",\n          \"\\u041d\\u0435\\u0442\"\n        ],\n        \"semantic_type\": \"\",\n        \"description\": \"\"\n      }\n    },\n    {\n      \"column\": \"\\u041d\\u0430\\u0441\\u0442\\u0440\\u043e\\u0435\\u043d\\u0438\\u0435\",\n      \"properties\": {\n        \"dtype\": \"category\",\n        \"num_unique_values\": 3,\n        \"samples\": [\n          \"\\u0425\\u043e\\u0440\\u043e\\u0448\\u0435\\u0435\",\n          \"\\u041f\\u043b\\u043e\\u0445\\u043e\\u0435\"\n        ],\n        \"semantic_type\": \"\",\n        \"description\": \"\"\n      }\n    },\n    {\n      \"column\": \"\\u042d\\u043d\\u0435\\u0440\\u0433\\u0435\\u0442\\u0438\\u043a\\u043e\\u0432 \\u043d\\u0430\\u043a\\u0430\\u043d\\u0443\\u043d\\u0435\",\n      \"properties\": {\n        \"dtype\": \"category\",\n        \"num_unique_values\": 4,\n        \"samples\": [\n          \"1\",\n          \"0\"\n        ],\n        \"semantic_type\": \"\",\n        \"description\": \"\"\n      }\n    },\n    {\n      \"column\": \"\\u041f\\u043e\\u0441\\u0435\\u0449\\u0430\\u0435\\u043c\\u043e\\u0441\\u0442\\u044c \\u0437\\u0430\\u043d\\u044f\\u0442\\u0438\\u0439\",\n      \"properties\": {\n        \"dtype\": \"category\",\n        \"num_unique_values\": 3,\n        \"samples\": [\n          \"\\u041d\\u0438\\u0437\\u043a\\u0430\\u044f\",\n          \"\\u0421\\u0440\\u0435\\u0434\\u043d\\u044f\\u044f\"\n        ],\n        \"semantic_type\": \"\",\n        \"description\": \"\"\n      }\n    },\n    {\n      \"column\": \"\\u0412\\u0440\\u0435\\u043c\\u044f \\u043f\\u043e\\u0434\\u0433\\u043e\\u0442\\u043e\\u0432\\u043a\\u0438\",\n      \"properties\": {\n        \"dtype\": \"category\",\n        \"num_unique_values\": 4,\n        \"samples\": [\n          \"\\u041f\\u043e\\u0441\\u043b\\u0435\\u0434\\u043d\\u0438\\u0439 \\u0447\\u0430\\u0441\",\n          \"\\u0417\\u0430 \\u043d\\u0435\\u0441\\u043a\\u043e\\u043b\\u044c\\u043a\\u043e \\u0434\\u043d\\u0435\\u0439\"\n        ],\n        \"semantic_type\": \"\",\n        \"description\": \"\"\n      }\n    },\n    {\n      \"column\": \"\\u0421\\u0434\\u0430\\u043b\",\n      \"properties\": {\n        \"dtype\": \"category\",\n        \"num_unique_values\": 2,\n        \"samples\": [\n          \"\\u0414\\u0430\",\n          \"\\u041d\\u0435\\u0442\"\n        ],\n        \"semantic_type\": \"\",\n        \"description\": \"\"\n      }\n    }\n  ]\n}"
            }
          },
          "metadata": {},
          "execution_count": 6
        }
      ]
    },
    {
      "cell_type": "markdown",
      "source": [
        "Заметим что в данных много категориальных признаков. Данных не много поэтому нейронки особого смысла обучать нет + много категориальных признаков поэтому основная модель скорее всего будет градиентным бустингом над деревьями.  "
      ],
      "metadata": {
        "id": "izGz1KCqlhFX"
      }
    },
    {
      "cell_type": "markdown",
      "source": [
        "Но для построения бэйслайнов которые не могут работаь с категориальными признаками и некоторой предобработки декодируем их. C помощью one hot encoding"
      ],
      "metadata": {
        "id": "qsBvkH5gry66"
      }
    },
    {
      "cell_type": "code",
      "source": [
        "x, y = data.drop(columns = [\"Сдал\"]), data[\"Сдал\"]"
      ],
      "metadata": {
        "id": "WM-uINrlodil"
      },
      "execution_count": 7,
      "outputs": []
    },
    {
      "cell_type": "markdown",
      "source": [
        "Все столбцы кроме оценок считаем категориальными"
      ],
      "metadata": {
        "id": "BScZYgwVzk6T"
      }
    },
    {
      "cell_type": "code",
      "source": [
        "cat_columns = x.iloc[:, 3:].columns\n",
        "df_encoded = pd.get_dummies(x, columns=x.iloc[:, 3:].columns).astype(int)"
      ],
      "metadata": {
        "id": "LBKVY03Xzg-p"
      },
      "execution_count": 8,
      "outputs": []
    },
    {
      "cell_type": "markdown",
      "source": [
        "С помощью Изоляционного леса предобработает анамалии. Порог подбирался вручную"
      ],
      "metadata": {
        "id": "CsU3l2Hf0Ecl"
      }
    },
    {
      "cell_type": "code",
      "source": [
        "from sklearn.ensemble import IsolationForest\n",
        "iso = IsolationForest(random_state=0, contamination=0.01)\n",
        "clean = iso.fit_predict(df_encoded, y)\n",
        "\n",
        "X_cleaned = x[clean != -1]\n",
        "X_encoded_clean = df_encoded[clean != -1]\n",
        "\n",
        "y_cleaned = y[clean != -1]"
      ],
      "metadata": {
        "id": "7e9YCd2EoWj_"
      },
      "execution_count": 9,
      "outputs": []
    },
    {
      "cell_type": "markdown",
      "source": [
        "Из понимания домена делаем вывод что наиболее важные факторы это оценки и посещаемость. Поэтому делаем вывод что это скорее всего действительно аномалии"
      ],
      "metadata": {
        "id": "AltMF0460_-x"
      }
    },
    {
      "cell_type": "code",
      "source": [
        "data.iloc[clean == -1]"
      ],
      "metadata": {
        "colab": {
          "base_uri": "https://localhost:8080/",
          "height": 215
        },
        "id": "2j-msAEdovHq",
        "outputId": "59a64269-520e-4c21-e116-a277b808ac0a"
      },
      "execution_count": 10,
      "outputs": [
        {
          "output_type": "execute_result",
          "data": {
            "text/plain": [
              "    Контрольная 1  Контрольная 2  Контрольная 3 Сон накануне Настроение  \\\n",
              "7               8              6             10          Нет    Хорошее   \n",
              "32              9             10             10          Нет     Плохое   \n",
              "99              4             10              9          Нет     Плохое   \n",
              "\n",
              "   Энергетиков накануне Посещаемость занятий   Время подготовки Сдал  \n",
              "7                    4+              Средняя  За несколько дней  Нет  \n",
              "32                   4+              Средняя          За неделю  Нет  \n",
              "99                   4+              Средняя          За неделю  Нет  "
            ],
            "text/html": [
              "\n",
              "  <div id=\"df-396853ba-3054-4653-affb-c48ef0cc2007\" class=\"colab-df-container\">\n",
              "    <div>\n",
              "<style scoped>\n",
              "    .dataframe tbody tr th:only-of-type {\n",
              "        vertical-align: middle;\n",
              "    }\n",
              "\n",
              "    .dataframe tbody tr th {\n",
              "        vertical-align: top;\n",
              "    }\n",
              "\n",
              "    .dataframe thead th {\n",
              "        text-align: right;\n",
              "    }\n",
              "</style>\n",
              "<table border=\"1\" class=\"dataframe\">\n",
              "  <thead>\n",
              "    <tr style=\"text-align: right;\">\n",
              "      <th></th>\n",
              "      <th>Контрольная 1</th>\n",
              "      <th>Контрольная 2</th>\n",
              "      <th>Контрольная 3</th>\n",
              "      <th>Сон накануне</th>\n",
              "      <th>Настроение</th>\n",
              "      <th>Энергетиков накануне</th>\n",
              "      <th>Посещаемость занятий</th>\n",
              "      <th>Время подготовки</th>\n",
              "      <th>Сдал</th>\n",
              "    </tr>\n",
              "  </thead>\n",
              "  <tbody>\n",
              "    <tr>\n",
              "      <th>7</th>\n",
              "      <td>8</td>\n",
              "      <td>6</td>\n",
              "      <td>10</td>\n",
              "      <td>Нет</td>\n",
              "      <td>Хорошее</td>\n",
              "      <td>4+</td>\n",
              "      <td>Средняя</td>\n",
              "      <td>За несколько дней</td>\n",
              "      <td>Нет</td>\n",
              "    </tr>\n",
              "    <tr>\n",
              "      <th>32</th>\n",
              "      <td>9</td>\n",
              "      <td>10</td>\n",
              "      <td>10</td>\n",
              "      <td>Нет</td>\n",
              "      <td>Плохое</td>\n",
              "      <td>4+</td>\n",
              "      <td>Средняя</td>\n",
              "      <td>За неделю</td>\n",
              "      <td>Нет</td>\n",
              "    </tr>\n",
              "    <tr>\n",
              "      <th>99</th>\n",
              "      <td>4</td>\n",
              "      <td>10</td>\n",
              "      <td>9</td>\n",
              "      <td>Нет</td>\n",
              "      <td>Плохое</td>\n",
              "      <td>4+</td>\n",
              "      <td>Средняя</td>\n",
              "      <td>За неделю</td>\n",
              "      <td>Нет</td>\n",
              "    </tr>\n",
              "  </tbody>\n",
              "</table>\n",
              "</div>\n",
              "    <div class=\"colab-df-buttons\">\n",
              "\n",
              "  <div class=\"colab-df-container\">\n",
              "    <button class=\"colab-df-convert\" onclick=\"convertToInteractive('df-396853ba-3054-4653-affb-c48ef0cc2007')\"\n",
              "            title=\"Convert this dataframe to an interactive table.\"\n",
              "            style=\"display:none;\">\n",
              "\n",
              "  <svg xmlns=\"http://www.w3.org/2000/svg\" height=\"24px\" viewBox=\"0 -960 960 960\">\n",
              "    <path d=\"M120-120v-720h720v720H120Zm60-500h600v-160H180v160Zm220 220h160v-160H400v160Zm0 220h160v-160H400v160ZM180-400h160v-160H180v160Zm440 0h160v-160H620v160ZM180-180h160v-160H180v160Zm440 0h160v-160H620v160Z\"/>\n",
              "  </svg>\n",
              "    </button>\n",
              "\n",
              "  <style>\n",
              "    .colab-df-container {\n",
              "      display:flex;\n",
              "      gap: 12px;\n",
              "    }\n",
              "\n",
              "    .colab-df-convert {\n",
              "      background-color: #E8F0FE;\n",
              "      border: none;\n",
              "      border-radius: 50%;\n",
              "      cursor: pointer;\n",
              "      display: none;\n",
              "      fill: #1967D2;\n",
              "      height: 32px;\n",
              "      padding: 0 0 0 0;\n",
              "      width: 32px;\n",
              "    }\n",
              "\n",
              "    .colab-df-convert:hover {\n",
              "      background-color: #E2EBFA;\n",
              "      box-shadow: 0px 1px 2px rgba(60, 64, 67, 0.3), 0px 1px 3px 1px rgba(60, 64, 67, 0.15);\n",
              "      fill: #174EA6;\n",
              "    }\n",
              "\n",
              "    .colab-df-buttons div {\n",
              "      margin-bottom: 4px;\n",
              "    }\n",
              "\n",
              "    [theme=dark] .colab-df-convert {\n",
              "      background-color: #3B4455;\n",
              "      fill: #D2E3FC;\n",
              "    }\n",
              "\n",
              "    [theme=dark] .colab-df-convert:hover {\n",
              "      background-color: #434B5C;\n",
              "      box-shadow: 0px 1px 3px 1px rgba(0, 0, 0, 0.15);\n",
              "      filter: drop-shadow(0px 1px 2px rgba(0, 0, 0, 0.3));\n",
              "      fill: #FFFFFF;\n",
              "    }\n",
              "  </style>\n",
              "\n",
              "    <script>\n",
              "      const buttonEl =\n",
              "        document.querySelector('#df-396853ba-3054-4653-affb-c48ef0cc2007 button.colab-df-convert');\n",
              "      buttonEl.style.display =\n",
              "        google.colab.kernel.accessAllowed ? 'block' : 'none';\n",
              "\n",
              "      async function convertToInteractive(key) {\n",
              "        const element = document.querySelector('#df-396853ba-3054-4653-affb-c48ef0cc2007');\n",
              "        const dataTable =\n",
              "          await google.colab.kernel.invokeFunction('convertToInteractive',\n",
              "                                                    [key], {});\n",
              "        if (!dataTable) return;\n",
              "\n",
              "        const docLinkHtml = 'Like what you see? Visit the ' +\n",
              "          '<a target=\"_blank\" href=https://colab.research.google.com/notebooks/data_table.ipynb>data table notebook</a>'\n",
              "          + ' to learn more about interactive tables.';\n",
              "        element.innerHTML = '';\n",
              "        dataTable['output_type'] = 'display_data';\n",
              "        await google.colab.output.renderOutput(dataTable, element);\n",
              "        const docLink = document.createElement('div');\n",
              "        docLink.innerHTML = docLinkHtml;\n",
              "        element.appendChild(docLink);\n",
              "      }\n",
              "    </script>\n",
              "  </div>\n",
              "\n",
              "\n",
              "    <div id=\"df-3701420a-834a-446c-85ea-6e1a13e37f8c\">\n",
              "      <button class=\"colab-df-quickchart\" onclick=\"quickchart('df-3701420a-834a-446c-85ea-6e1a13e37f8c')\"\n",
              "                title=\"Suggest charts\"\n",
              "                style=\"display:none;\">\n",
              "\n",
              "<svg xmlns=\"http://www.w3.org/2000/svg\" height=\"24px\"viewBox=\"0 0 24 24\"\n",
              "     width=\"24px\">\n",
              "    <g>\n",
              "        <path d=\"M19 3H5c-1.1 0-2 .9-2 2v14c0 1.1.9 2 2 2h14c1.1 0 2-.9 2-2V5c0-1.1-.9-2-2-2zM9 17H7v-7h2v7zm4 0h-2V7h2v10zm4 0h-2v-4h2v4z\"/>\n",
              "    </g>\n",
              "</svg>\n",
              "      </button>\n",
              "\n",
              "<style>\n",
              "  .colab-df-quickchart {\n",
              "      --bg-color: #E8F0FE;\n",
              "      --fill-color: #1967D2;\n",
              "      --hover-bg-color: #E2EBFA;\n",
              "      --hover-fill-color: #174EA6;\n",
              "      --disabled-fill-color: #AAA;\n",
              "      --disabled-bg-color: #DDD;\n",
              "  }\n",
              "\n",
              "  [theme=dark] .colab-df-quickchart {\n",
              "      --bg-color: #3B4455;\n",
              "      --fill-color: #D2E3FC;\n",
              "      --hover-bg-color: #434B5C;\n",
              "      --hover-fill-color: #FFFFFF;\n",
              "      --disabled-bg-color: #3B4455;\n",
              "      --disabled-fill-color: #666;\n",
              "  }\n",
              "\n",
              "  .colab-df-quickchart {\n",
              "    background-color: var(--bg-color);\n",
              "    border: none;\n",
              "    border-radius: 50%;\n",
              "    cursor: pointer;\n",
              "    display: none;\n",
              "    fill: var(--fill-color);\n",
              "    height: 32px;\n",
              "    padding: 0;\n",
              "    width: 32px;\n",
              "  }\n",
              "\n",
              "  .colab-df-quickchart:hover {\n",
              "    background-color: var(--hover-bg-color);\n",
              "    box-shadow: 0 1px 2px rgba(60, 64, 67, 0.3), 0 1px 3px 1px rgba(60, 64, 67, 0.15);\n",
              "    fill: var(--button-hover-fill-color);\n",
              "  }\n",
              "\n",
              "  .colab-df-quickchart-complete:disabled,\n",
              "  .colab-df-quickchart-complete:disabled:hover {\n",
              "    background-color: var(--disabled-bg-color);\n",
              "    fill: var(--disabled-fill-color);\n",
              "    box-shadow: none;\n",
              "  }\n",
              "\n",
              "  .colab-df-spinner {\n",
              "    border: 2px solid var(--fill-color);\n",
              "    border-color: transparent;\n",
              "    border-bottom-color: var(--fill-color);\n",
              "    animation:\n",
              "      spin 1s steps(1) infinite;\n",
              "  }\n",
              "\n",
              "  @keyframes spin {\n",
              "    0% {\n",
              "      border-color: transparent;\n",
              "      border-bottom-color: var(--fill-color);\n",
              "      border-left-color: var(--fill-color);\n",
              "    }\n",
              "    20% {\n",
              "      border-color: transparent;\n",
              "      border-left-color: var(--fill-color);\n",
              "      border-top-color: var(--fill-color);\n",
              "    }\n",
              "    30% {\n",
              "      border-color: transparent;\n",
              "      border-left-color: var(--fill-color);\n",
              "      border-top-color: var(--fill-color);\n",
              "      border-right-color: var(--fill-color);\n",
              "    }\n",
              "    40% {\n",
              "      border-color: transparent;\n",
              "      border-right-color: var(--fill-color);\n",
              "      border-top-color: var(--fill-color);\n",
              "    }\n",
              "    60% {\n",
              "      border-color: transparent;\n",
              "      border-right-color: var(--fill-color);\n",
              "    }\n",
              "    80% {\n",
              "      border-color: transparent;\n",
              "      border-right-color: var(--fill-color);\n",
              "      border-bottom-color: var(--fill-color);\n",
              "    }\n",
              "    90% {\n",
              "      border-color: transparent;\n",
              "      border-bottom-color: var(--fill-color);\n",
              "    }\n",
              "  }\n",
              "</style>\n",
              "\n",
              "      <script>\n",
              "        async function quickchart(key) {\n",
              "          const quickchartButtonEl =\n",
              "            document.querySelector('#' + key + ' button');\n",
              "          quickchartButtonEl.disabled = true;  // To prevent multiple clicks.\n",
              "          quickchartButtonEl.classList.add('colab-df-spinner');\n",
              "          try {\n",
              "            const charts = await google.colab.kernel.invokeFunction(\n",
              "                'suggestCharts', [key], {});\n",
              "          } catch (error) {\n",
              "            console.error('Error during call to suggestCharts:', error);\n",
              "          }\n",
              "          quickchartButtonEl.classList.remove('colab-df-spinner');\n",
              "          quickchartButtonEl.classList.add('colab-df-quickchart-complete');\n",
              "        }\n",
              "        (() => {\n",
              "          let quickchartButtonEl =\n",
              "            document.querySelector('#df-3701420a-834a-446c-85ea-6e1a13e37f8c button');\n",
              "          quickchartButtonEl.style.display =\n",
              "            google.colab.kernel.accessAllowed ? 'block' : 'none';\n",
              "        })();\n",
              "      </script>\n",
              "    </div>\n",
              "    </div>\n",
              "  </div>\n"
            ],
            "application/vnd.google.colaboratory.intrinsic+json": {
              "type": "dataframe",
              "summary": "{\n  \"name\": \"data\",\n  \"rows\": 3,\n  \"fields\": [\n    {\n      \"column\": \"\\u041a\\u043e\\u043d\\u0442\\u0440\\u043e\\u043b\\u044c\\u043d\\u0430\\u044f 1\",\n      \"properties\": {\n        \"dtype\": \"number\",\n        \"std\": 2,\n        \"min\": 4,\n        \"max\": 9,\n        \"num_unique_values\": 3,\n        \"samples\": [\n          8,\n          9,\n          4\n        ],\n        \"semantic_type\": \"\",\n        \"description\": \"\"\n      }\n    },\n    {\n      \"column\": \"\\u041a\\u043e\\u043d\\u0442\\u0440\\u043e\\u043b\\u044c\\u043d\\u0430\\u044f 2\",\n      \"properties\": {\n        \"dtype\": \"number\",\n        \"std\": 2,\n        \"min\": 6,\n        \"max\": 10,\n        \"num_unique_values\": 2,\n        \"samples\": [\n          10,\n          6\n        ],\n        \"semantic_type\": \"\",\n        \"description\": \"\"\n      }\n    },\n    {\n      \"column\": \"\\u041a\\u043e\\u043d\\u0442\\u0440\\u043e\\u043b\\u044c\\u043d\\u0430\\u044f 3\",\n      \"properties\": {\n        \"dtype\": \"number\",\n        \"std\": 0,\n        \"min\": 9,\n        \"max\": 10,\n        \"num_unique_values\": 2,\n        \"samples\": [\n          9,\n          10\n        ],\n        \"semantic_type\": \"\",\n        \"description\": \"\"\n      }\n    },\n    {\n      \"column\": \"\\u0421\\u043e\\u043d \\u043d\\u0430\\u043a\\u0430\\u043d\\u0443\\u043d\\u0435\",\n      \"properties\": {\n        \"dtype\": \"category\",\n        \"num_unique_values\": 1,\n        \"samples\": [\n          \"\\u041d\\u0435\\u0442\"\n        ],\n        \"semantic_type\": \"\",\n        \"description\": \"\"\n      }\n    },\n    {\n      \"column\": \"\\u041d\\u0430\\u0441\\u0442\\u0440\\u043e\\u0435\\u043d\\u0438\\u0435\",\n      \"properties\": {\n        \"dtype\": \"string\",\n        \"num_unique_values\": 2,\n        \"samples\": [\n          \"\\u041f\\u043b\\u043e\\u0445\\u043e\\u0435\"\n        ],\n        \"semantic_type\": \"\",\n        \"description\": \"\"\n      }\n    },\n    {\n      \"column\": \"\\u042d\\u043d\\u0435\\u0440\\u0433\\u0435\\u0442\\u0438\\u043a\\u043e\\u0432 \\u043d\\u0430\\u043a\\u0430\\u043d\\u0443\\u043d\\u0435\",\n      \"properties\": {\n        \"dtype\": \"category\",\n        \"num_unique_values\": 1,\n        \"samples\": [\n          \"4+\"\n        ],\n        \"semantic_type\": \"\",\n        \"description\": \"\"\n      }\n    },\n    {\n      \"column\": \"\\u041f\\u043e\\u0441\\u0435\\u0449\\u0430\\u0435\\u043c\\u043e\\u0441\\u0442\\u044c \\u0437\\u0430\\u043d\\u044f\\u0442\\u0438\\u0439\",\n      \"properties\": {\n        \"dtype\": \"category\",\n        \"num_unique_values\": 1,\n        \"samples\": [\n          \"\\u0421\\u0440\\u0435\\u0434\\u043d\\u044f\\u044f\"\n        ],\n        \"semantic_type\": \"\",\n        \"description\": \"\"\n      }\n    },\n    {\n      \"column\": \"\\u0412\\u0440\\u0435\\u043c\\u044f \\u043f\\u043e\\u0434\\u0433\\u043e\\u0442\\u043e\\u0432\\u043a\\u0438\",\n      \"properties\": {\n        \"dtype\": \"string\",\n        \"num_unique_values\": 2,\n        \"samples\": [\n          \"\\u0417\\u0430 \\u043d\\u0435\\u0434\\u0435\\u043b\\u044e\"\n        ],\n        \"semantic_type\": \"\",\n        \"description\": \"\"\n      }\n    },\n    {\n      \"column\": \"\\u0421\\u0434\\u0430\\u043b\",\n      \"properties\": {\n        \"dtype\": \"category\",\n        \"num_unique_values\": 1,\n        \"samples\": [\n          \"\\u041d\\u0435\\u0442\"\n        ],\n        \"semantic_type\": \"\",\n        \"description\": \"\"\n      }\n    }\n  ]\n}"
            }
          },
          "metadata": {},
          "execution_count": 10
        }
      ]
    },
    {
      "cell_type": "markdown",
      "source": [
        "Попробуем добавить новых фичей"
      ],
      "metadata": {
        "id": "ban0jDqj9XqI"
      }
    },
    {
      "cell_type": "markdown",
      "source": [
        "Из понимания домена можно попробовать сделать вывод что наибольший вклад дают именно оценки. Поэтому попробуем добавить несколько статискик этих данных"
      ],
      "metadata": {
        "id": "5zLjw3Aq_6t7"
      }
    },
    {
      "cell_type": "code",
      "source": [
        "X_cleaned.loc[:, \"Mean\"] = X_encoded_clean[X_encoded_clean.columns[:3]].mean(axis=1)\n",
        "X_encoded_clean.loc[:, \"Mean\"] = X_encoded_clean[X_encoded_clean.columns[:3]].mean(axis=1)"
      ],
      "metadata": {
        "id": "xtO5Yfdt9d4v"
      },
      "execution_count": 12,
      "outputs": []
    },
    {
      "cell_type": "markdown",
      "source": [
        "Добавили среднее из оценок"
      ],
      "metadata": {
        "id": "rxQJrH-b_9kD"
      }
    },
    {
      "cell_type": "code",
      "source": [
        "X_encoded_clean.loc[:, \"Min\"] = X_encoded_clean[X_encoded_clean.columns[:3]].min(axis=1)\n",
        "\n",
        "X_encoded_clean = X_encoded_clean.assign(\n",
        "    Min=X_encoded_clean[X_encoded_clean.columns[:3]].min(axis=1)\n",
        ")"
      ],
      "metadata": {
        "id": "XKdCWoCO_jaE"
      },
      "execution_count": 14,
      "outputs": []
    },
    {
      "cell_type": "markdown",
      "source": [
        "Добавили минимальную оценку"
      ],
      "metadata": {
        "id": "Z_vtEeCuAb58"
      }
    },
    {
      "cell_type": "markdown",
      "source": [
        "Попробуем обучить несколько простых моделей"
      ],
      "metadata": {
        "id": "Y7qVpZmpBly0"
      }
    },
    {
      "cell_type": "code",
      "source": [
        "from sklearn.linear_model import LogisticRegression\n",
        "from sklearn.neighbors import KNeighborsClassifier\n",
        "from sklearn.naive_bayes import GaussianNB\n",
        "\n",
        "from sklearn.model_selection import cross_val_score\n",
        "from sklearn.model_selection import train_test_split"
      ],
      "metadata": {
        "id": "oZgIEt-W8O36"
      },
      "execution_count": 17,
      "outputs": []
    },
    {
      "cell_type": "code",
      "source": [
        "Xen_train, Xen_test, yen_train, yen_test = train_test_split(X_encoded_clean, y_cleaned)"
      ],
      "metadata": {
        "id": "_htxea_EBu1G"
      },
      "execution_count": 66,
      "outputs": []
    },
    {
      "cell_type": "code",
      "source": [
        "lr = LogisticRegression()\n",
        "print(cross_val_score(lr, Xen_train, yen_train, cv=20, scoring='accuracy').mean())"
      ],
      "metadata": {
        "colab": {
          "base_uri": "https://localhost:8080/"
        },
        "id": "pryHeSoH9IYO",
        "outputId": "c7742ce9-a7f1-4e18-e1c7-41e1572961c8"
      },
      "execution_count": 19,
      "outputs": [
        {
          "output_type": "stream",
          "name": "stdout",
          "text": [
            "0.8416666666666666\n"
          ]
        }
      ]
    },
    {
      "cell_type": "code",
      "source": [
        "knn = KNeighborsClassifier(n_neighbors=3)\n",
        "print(cross_val_score(knn, Xen_train, yen_train, cv=20, scoring='accuracy').mean())"
      ],
      "metadata": {
        "colab": {
          "base_uri": "https://localhost:8080/"
        },
        "id": "dM8BpevEChMO",
        "outputId": "b9382d38-08b8-49c3-93c1-d4d403ae6265"
      },
      "execution_count": 22,
      "outputs": [
        {
          "output_type": "stream",
          "name": "stdout",
          "text": [
            "0.7973484848484848\n"
          ]
        }
      ]
    },
    {
      "cell_type": "code",
      "source": [
        "nb = GaussianNB()\n",
        "print(cross_val_score(nb, Xen_train, yen_train, cv=20, scoring='accuracy').mean())"
      ],
      "metadata": {
        "colab": {
          "base_uri": "https://localhost:8080/"
        },
        "id": "uDeriqmNC17X",
        "outputId": "4a6840ef-a32e-43f9-c4b6-c4062da8e3ef"
      },
      "execution_count": 21,
      "outputs": [
        {
          "output_type": "stream",
          "name": "stdout",
          "text": [
            "0.8143939393939392\n"
          ]
        }
      ]
    },
    {
      "cell_type": "markdown",
      "source": [
        "К сожалению простые модели не дали хорошей точности. Их можно былобы потюнить и попытаться поднять точность на пару процентов. Но как мы уже говорили датасет имеет много категориальных фич поэтому имеет смысл хорошо обучить catboost"
      ],
      "metadata": {
        "id": "57NToSAzC--S"
      }
    },
    {
      "cell_type": "code",
      "source": [
        "from sklearn.model_selection import train_test_split\n",
        "import numpy as np\n",
        "X_train, X_test, y_train, y_test = train_test_split(X_cleaned, y_cleaned)\n",
        "cat_features =  [3,4,5,6,7]"
      ],
      "metadata": {
        "id": "zsYADA3bfLwQ"
      },
      "execution_count": 67,
      "outputs": []
    },
    {
      "cell_type": "code",
      "source": [
        "!pip install optuna\n",
        "!pip install catboost"
      ],
      "metadata": {
        "colab": {
          "base_uri": "https://localhost:8080/"
        },
        "id": "FaBtrhXhyhLc",
        "outputId": "f5ff1b25-56bc-4f7d-a257-3db107458211"
      },
      "execution_count": 24,
      "outputs": [
        {
          "output_type": "stream",
          "name": "stdout",
          "text": [
            "Collecting optuna\n",
            "  Downloading optuna-4.3.0-py3-none-any.whl.metadata (17 kB)\n",
            "Collecting alembic>=1.5.0 (from optuna)\n",
            "  Downloading alembic-1.15.2-py3-none-any.whl.metadata (7.3 kB)\n",
            "Collecting colorlog (from optuna)\n",
            "  Downloading colorlog-6.9.0-py3-none-any.whl.metadata (10 kB)\n",
            "Requirement already satisfied: numpy in /usr/local/lib/python3.11/dist-packages (from optuna) (2.0.2)\n",
            "Requirement already satisfied: packaging>=20.0 in /usr/local/lib/python3.11/dist-packages (from optuna) (24.2)\n",
            "Requirement already satisfied: sqlalchemy>=1.4.2 in /usr/local/lib/python3.11/dist-packages (from optuna) (2.0.40)\n",
            "Requirement already satisfied: tqdm in /usr/local/lib/python3.11/dist-packages (from optuna) (4.67.1)\n",
            "Requirement already satisfied: PyYAML in /usr/local/lib/python3.11/dist-packages (from optuna) (6.0.2)\n",
            "Requirement already satisfied: Mako in /usr/lib/python3/dist-packages (from alembic>=1.5.0->optuna) (1.1.3)\n",
            "Requirement already satisfied: typing-extensions>=4.12 in /usr/local/lib/python3.11/dist-packages (from alembic>=1.5.0->optuna) (4.13.2)\n",
            "Requirement already satisfied: greenlet>=1 in /usr/local/lib/python3.11/dist-packages (from sqlalchemy>=1.4.2->optuna) (3.2.1)\n",
            "Downloading optuna-4.3.0-py3-none-any.whl (386 kB)\n",
            "\u001b[2K   \u001b[90m━━━━━━━━━━━━━━━━━━━━━━━━━━━━━━━━━━━━━━━━\u001b[0m \u001b[32m386.6/386.6 kB\u001b[0m \u001b[31m24.6 MB/s\u001b[0m eta \u001b[36m0:00:00\u001b[0m\n",
            "\u001b[?25hDownloading alembic-1.15.2-py3-none-any.whl (231 kB)\n",
            "\u001b[2K   \u001b[90m━━━━━━━━━━━━━━━━━━━━━━━━━━━━━━━━━━━━━━━━\u001b[0m \u001b[32m231.9/231.9 kB\u001b[0m \u001b[31m18.4 MB/s\u001b[0m eta \u001b[36m0:00:00\u001b[0m\n",
            "\u001b[?25hDownloading colorlog-6.9.0-py3-none-any.whl (11 kB)\n",
            "Installing collected packages: colorlog, alembic, optuna\n",
            "Successfully installed alembic-1.15.2 colorlog-6.9.0 optuna-4.3.0\n",
            "Collecting catboost\n",
            "  Downloading catboost-1.2.8-cp311-cp311-manylinux2014_x86_64.whl.metadata (1.2 kB)\n",
            "Requirement already satisfied: graphviz in /usr/local/lib/python3.11/dist-packages (from catboost) (0.20.3)\n",
            "Requirement already satisfied: matplotlib in /usr/local/lib/python3.11/dist-packages (from catboost) (3.10.0)\n",
            "Requirement already satisfied: numpy<3.0,>=1.16.0 in /usr/local/lib/python3.11/dist-packages (from catboost) (2.0.2)\n",
            "Requirement already satisfied: pandas>=0.24 in /usr/local/lib/python3.11/dist-packages (from catboost) (2.2.2)\n",
            "Requirement already satisfied: scipy in /usr/local/lib/python3.11/dist-packages (from catboost) (1.14.1)\n",
            "Requirement already satisfied: plotly in /usr/local/lib/python3.11/dist-packages (from catboost) (5.24.1)\n",
            "Requirement already satisfied: six in /usr/local/lib/python3.11/dist-packages (from catboost) (1.17.0)\n",
            "Requirement already satisfied: python-dateutil>=2.8.2 in /usr/local/lib/python3.11/dist-packages (from pandas>=0.24->catboost) (2.8.2)\n",
            "Requirement already satisfied: pytz>=2020.1 in /usr/local/lib/python3.11/dist-packages (from pandas>=0.24->catboost) (2025.2)\n",
            "Requirement already satisfied: tzdata>=2022.7 in /usr/local/lib/python3.11/dist-packages (from pandas>=0.24->catboost) (2025.2)\n",
            "Requirement already satisfied: contourpy>=1.0.1 in /usr/local/lib/python3.11/dist-packages (from matplotlib->catboost) (1.3.2)\n",
            "Requirement already satisfied: cycler>=0.10 in /usr/local/lib/python3.11/dist-packages (from matplotlib->catboost) (0.12.1)\n",
            "Requirement already satisfied: fonttools>=4.22.0 in /usr/local/lib/python3.11/dist-packages (from matplotlib->catboost) (4.57.0)\n",
            "Requirement already satisfied: kiwisolver>=1.3.1 in /usr/local/lib/python3.11/dist-packages (from matplotlib->catboost) (1.4.8)\n",
            "Requirement already satisfied: packaging>=20.0 in /usr/local/lib/python3.11/dist-packages (from matplotlib->catboost) (24.2)\n",
            "Requirement already satisfied: pillow>=8 in /usr/local/lib/python3.11/dist-packages (from matplotlib->catboost) (11.1.0)\n",
            "Requirement already satisfied: pyparsing>=2.3.1 in /usr/local/lib/python3.11/dist-packages (from matplotlib->catboost) (3.2.3)\n",
            "Requirement already satisfied: tenacity>=6.2.0 in /usr/local/lib/python3.11/dist-packages (from plotly->catboost) (9.1.2)\n",
            "Downloading catboost-1.2.8-cp311-cp311-manylinux2014_x86_64.whl (99.2 MB)\n",
            "\u001b[2K   \u001b[90m━━━━━━━━━━━━━━━━━━━━━━━━━━━━━━━━━━━━━━━━\u001b[0m \u001b[32m99.2/99.2 MB\u001b[0m \u001b[31m8.9 MB/s\u001b[0m eta \u001b[36m0:00:00\u001b[0m\n",
            "\u001b[?25hInstalling collected packages: catboost\n",
            "Successfully installed catboost-1.2.8\n"
          ]
        }
      ]
    },
    {
      "cell_type": "code",
      "source": [
        "import optuna\n",
        "from catboost import CatBoostClassifier, Pool\n",
        "from sklearn.metrics import log_loss\n",
        "from sklearn.model_selection import StratifiedKFold\n",
        "\n",
        "def objective(trial):\n",
        "    params = {\n",
        "        \"iterations\": trial.suggest_int(\"iterations\", 100, 1000),\n",
        "        \"learning_rate\": trial.suggest_float(\"learning_rate\", 0.01, 0.3, log=True),\n",
        "        \"depth\": trial.suggest_int(\"depth\", 4, 10),\n",
        "        \"l2_leaf_reg\": trial.suggest_float(\"l2_leaf_reg\", 1e-3, 10.0, log=True),\n",
        "        \"random_strength\": trial.suggest_float(\"random_strength\", 1e-3, 10.0),\n",
        "        \"bagging_temperature\": trial.suggest_float(\"bagging_temperature\", 0.0, 1.0),\n",
        "        \"min_data_in_leaf\": trial.suggest_int(\"min_data_in_leaf\", 1, 100),\n",
        "        \"grow_policy\": trial.suggest_categorical(\"grow_policy\", [\"SymmetricTree\", \"Depthwise\", \"Lossguide\"]),\n",
        "        \"early_stopping_rounds\": trial.suggest_int(\"early_stopping_rounds\", 10, 50),\n",
        "    }\n",
        "\n",
        "    kf = StratifiedKFold(n_splits=20, shuffle=True, random_state=42)\n",
        "    scores = []\n",
        "\n",
        "    for train_idx, val_idx in kf.split(X_train, y_train):\n",
        "        X_tr, X_val = X_train.iloc[train_idx], X_train.iloc[val_idx]\n",
        "        y_tr, y_val = y_train.iloc[train_idx], y_train.iloc[val_idx]\n",
        "\n",
        "        train_pool = Pool(X_tr, y_tr, cat_features=cat_features)\n",
        "        val_pool = Pool(X_val, y_val, cat_features=cat_features)\n",
        "\n",
        "        model = CatBoostClassifier(**params, verbose=0)\n",
        "        model.fit(train_pool, eval_set=val_pool)\n",
        "\n",
        "        y_pred = model.predict_proba(X_val)[:, 1]\n",
        "        scores.append(log_loss(y_val, y_pred))\n",
        "\n",
        "    return np.mean(scores)"
      ],
      "metadata": {
        "id": "echRWjNsh8GY"
      },
      "execution_count": 26,
      "outputs": []
    },
    {
      "cell_type": "markdown",
      "source": [
        "Для подбора гиперпараметров используем optuna с 20 разбиением на 20 фолдов"
      ],
      "metadata": {
        "id": "V3tTPu4DS520"
      }
    },
    {
      "cell_type": "code",
      "source": [
        "study = optuna.create_study(direction=\"minimize\")\n",
        "study.optimize(objective, n_trials=50, timeout=3600)"
      ],
      "metadata": {
        "colab": {
          "base_uri": "https://localhost:8080/"
        },
        "id": "TZCv7IfFygIt",
        "outputId": "b5695d04-24fb-456b-831e-e5dba85dcb5c"
      },
      "execution_count": 27,
      "outputs": [
        {
          "output_type": "stream",
          "name": "stderr",
          "text": [
            "[I 2025-04-26 08:31:28,620] A new study created in memory with name: no-name-73a1ecb7-00c0-4e72-bf67-87cdd279cc14\n",
            "[I 2025-04-26 08:31:38,799] Trial 0 finished with value: 0.21907939839418974 and parameters: {'iterations': 289, 'learning_rate': 0.014202818914613816, 'depth': 10, 'l2_leaf_reg': 0.9801376295496532, 'random_strength': 2.129429886452206, 'bagging_temperature': 0.7945429472262204, 'min_data_in_leaf': 15, 'grow_policy': 'Lossguide', 'early_stopping_rounds': 43}. Best is trial 0 with value: 0.21907939839418974.\n",
            "[I 2025-04-26 08:31:39,897] Trial 1 finished with value: 0.3560458340300935 and parameters: {'iterations': 163, 'learning_rate': 0.03373422376758068, 'depth': 6, 'l2_leaf_reg': 0.12860440291099767, 'random_strength': 8.799786454080117, 'bagging_temperature': 0.2218821270002408, 'min_data_in_leaf': 13, 'grow_policy': 'Depthwise', 'early_stopping_rounds': 19}. Best is trial 0 with value: 0.21907939839418974.\n",
            "[I 2025-04-26 08:31:44,458] Trial 2 finished with value: 0.21977035937101635 and parameters: {'iterations': 192, 'learning_rate': 0.04026241501842378, 'depth': 10, 'l2_leaf_reg': 0.0016772775535159419, 'random_strength': 4.062526064958405, 'bagging_temperature': 0.23633021297806034, 'min_data_in_leaf': 3, 'grow_policy': 'Lossguide', 'early_stopping_rounds': 29}. Best is trial 0 with value: 0.21907939839418974.\n",
            "[I 2025-04-26 08:31:46,893] Trial 3 finished with value: 0.5019258807918237 and parameters: {'iterations': 270, 'learning_rate': 0.010595630295489013, 'depth': 9, 'l2_leaf_reg': 0.001827738544278192, 'random_strength': 8.974579861901407, 'bagging_temperature': 0.93458869841333, 'min_data_in_leaf': 94, 'grow_policy': 'Depthwise', 'early_stopping_rounds': 31}. Best is trial 0 with value: 0.21907939839418974.\n",
            "[I 2025-04-26 08:31:49,339] Trial 4 finished with value: 0.20044012083418217 and parameters: {'iterations': 470, 'learning_rate': 0.08531012321367207, 'depth': 5, 'l2_leaf_reg': 0.3209769478955732, 'random_strength': 5.105189782708693, 'bagging_temperature': 0.31562735511590867, 'min_data_in_leaf': 69, 'grow_policy': 'Lossguide', 'early_stopping_rounds': 24}. Best is trial 4 with value: 0.20044012083418217.\n",
            "[I 2025-04-26 08:31:50,526] Trial 5 finished with value: 0.28060784659552857 and parameters: {'iterations': 765, 'learning_rate': 0.2828961436204764, 'depth': 8, 'l2_leaf_reg': 1.2581190843489558, 'random_strength': 8.79874441492212, 'bagging_temperature': 0.9419290999349218, 'min_data_in_leaf': 87, 'grow_policy': 'Lossguide', 'early_stopping_rounds': 44}. Best is trial 4 with value: 0.20044012083418217.\n",
            "[I 2025-04-26 08:31:55,229] Trial 6 finished with value: 0.3992735963631384 and parameters: {'iterations': 448, 'learning_rate': 0.010660575833217124, 'depth': 4, 'l2_leaf_reg': 6.547578716494483, 'random_strength': 3.3792324270607264, 'bagging_temperature': 0.5755530817968731, 'min_data_in_leaf': 78, 'grow_policy': 'Lossguide', 'early_stopping_rounds': 48}. Best is trial 4 with value: 0.20044012083418217.\n",
            "[I 2025-04-26 08:31:57,219] Trial 7 finished with value: 0.22956072125223953 and parameters: {'iterations': 229, 'learning_rate': 0.15576640396887723, 'depth': 9, 'l2_leaf_reg': 0.02641502376970499, 'random_strength': 8.93977454896908, 'bagging_temperature': 0.9026763921326036, 'min_data_in_leaf': 86, 'grow_policy': 'Depthwise', 'early_stopping_rounds': 30}. Best is trial 4 with value: 0.20044012083418217.\n",
            "[I 2025-04-26 08:31:58,722] Trial 8 finished with value: 0.2745789892314655 and parameters: {'iterations': 490, 'learning_rate': 0.15977184391538893, 'depth': 10, 'l2_leaf_reg': 0.01322751602139324, 'random_strength': 0.7437278121105223, 'bagging_temperature': 0.6970843587206879, 'min_data_in_leaf': 93, 'grow_policy': 'Lossguide', 'early_stopping_rounds': 37}. Best is trial 4 with value: 0.20044012083418217.\n",
            "[I 2025-04-26 08:31:59,982] Trial 9 finished with value: 0.20592088236872855 and parameters: {'iterations': 593, 'learning_rate': 0.2537031231685023, 'depth': 9, 'l2_leaf_reg': 0.00224075616050772, 'random_strength': 1.461917655227088, 'bagging_temperature': 0.8863450210722494, 'min_data_in_leaf': 24, 'grow_policy': 'Lossguide', 'early_stopping_rounds': 46}. Best is trial 4 with value: 0.20044012083418217.\n",
            "[I 2025-04-26 08:32:02,072] Trial 10 finished with value: 0.16013050233296502 and parameters: {'iterations': 902, 'learning_rate': 0.08047028908518747, 'depth': 5, 'l2_leaf_reg': 0.24603402834306243, 'random_strength': 6.344310530336678, 'bagging_temperature': 0.0001658604840601985, 'min_data_in_leaf': 55, 'grow_policy': 'SymmetricTree', 'early_stopping_rounds': 11}. Best is trial 10 with value: 0.16013050233296502.\n",
            "[I 2025-04-26 08:32:04,211] Trial 11 finished with value: 0.11810523385917167 and parameters: {'iterations': 976, 'learning_rate': 0.07852819524503823, 'depth': 5, 'l2_leaf_reg': 0.20172242883231953, 'random_strength': 6.237688075181603, 'bagging_temperature': 0.017259681209550726, 'min_data_in_leaf': 57, 'grow_policy': 'SymmetricTree', 'early_stopping_rounds': 10}. Best is trial 11 with value: 0.11810523385917167.\n",
            "[I 2025-04-26 08:32:05,733] Trial 12 finished with value: 0.23426052371189318 and parameters: {'iterations': 984, 'learning_rate': 0.08714139391048625, 'depth': 6, 'l2_leaf_reg': 0.04205238108000175, 'random_strength': 6.479246837588313, 'bagging_temperature': 0.0020587166548192704, 'min_data_in_leaf': 44, 'grow_policy': 'SymmetricTree', 'early_stopping_rounds': 10}. Best is trial 11 with value: 0.11810523385917167.\n",
            "[I 2025-04-26 08:32:09,053] Trial 13 finished with value: 0.28363310580640444 and parameters: {'iterations': 975, 'learning_rate': 0.056448810809330084, 'depth': 4, 'l2_leaf_reg': 0.3204246674234305, 'random_strength': 6.647585853625957, 'bagging_temperature': 0.0003945199864927091, 'min_data_in_leaf': 50, 'grow_policy': 'SymmetricTree', 'early_stopping_rounds': 11}. Best is trial 11 with value: 0.11810523385917167.\n",
            "[I 2025-04-26 08:32:15,561] Trial 14 finished with value: 0.10991539117212432 and parameters: {'iterations': 818, 'learning_rate': 0.08025890158168274, 'depth': 6, 'l2_leaf_reg': 2.358137151141304, 'random_strength': 6.989449057238801, 'bagging_temperature': 0.15894619784342376, 'min_data_in_leaf': 68, 'grow_policy': 'SymmetricTree', 'early_stopping_rounds': 16}. Best is trial 14 with value: 0.10991539117212432.\n",
            "[I 2025-04-26 08:32:31,165] Trial 15 finished with value: 0.16409074305924023 and parameters: {'iterations': 775, 'learning_rate': 0.024885209084986395, 'depth': 7, 'l2_leaf_reg': 7.484351328259911, 'random_strength': 7.322095437808794, 'bagging_temperature': 0.39121978537359, 'min_data_in_leaf': 64, 'grow_policy': 'SymmetricTree', 'early_stopping_rounds': 19}. Best is trial 14 with value: 0.10991539117212432.\n",
            "[I 2025-04-26 08:32:35,924] Trial 16 finished with value: 0.12568388257406457 and parameters: {'iterations': 780, 'learning_rate': 0.1371971541435036, 'depth': 6, 'l2_leaf_reg': 1.5175892786456384, 'random_strength': 4.9128578973084815, 'bagging_temperature': 0.15149293955324028, 'min_data_in_leaf': 35, 'grow_policy': 'SymmetricTree', 'early_stopping_rounds': 18}. Best is trial 14 with value: 0.10991539117212432.\n",
            "[I 2025-04-26 08:32:40,536] Trial 17 finished with value: 0.12322408682582484 and parameters: {'iterations': 655, 'learning_rate': 0.057602626047537124, 'depth': 5, 'l2_leaf_reg': 2.32268589234069, 'random_strength': 7.5873369348643935, 'bagging_temperature': 0.49290742938186777, 'min_data_in_leaf': 67, 'grow_policy': 'SymmetricTree', 'early_stopping_rounds': 17}. Best is trial 14 with value: 0.10991539117212432.\n",
            "[I 2025-04-26 08:32:42,985] Trial 18 finished with value: 0.16397513919788914 and parameters: {'iterations': 873, 'learning_rate': 0.11347287551314512, 'depth': 7, 'l2_leaf_reg': 0.006483716397725801, 'random_strength': 9.861279367363897, 'bagging_temperature': 0.12260634642410291, 'min_data_in_leaf': 35, 'grow_policy': 'SymmetricTree', 'early_stopping_rounds': 15}. Best is trial 14 with value: 0.10991539117212432.\n",
            "[I 2025-04-26 08:32:52,145] Trial 19 finished with value: 0.12463609182777251 and parameters: {'iterations': 682, 'learning_rate': 0.021665062655970433, 'depth': 6, 'l2_leaf_reg': 0.10210373480768418, 'random_strength': 5.3993840216224145, 'bagging_temperature': 0.36376913145416123, 'min_data_in_leaf': 58, 'grow_policy': 'SymmetricTree', 'early_stopping_rounds': 25}. Best is trial 14 with value: 0.10991539117212432.\n",
            "[I 2025-04-26 08:32:54,250] Trial 20 finished with value: 0.1088410534841571 and parameters: {'iterations': 878, 'learning_rate': 0.19830776058118352, 'depth': 4, 'l2_leaf_reg': 0.7425570895899264, 'random_strength': 3.101032541432775, 'bagging_temperature': 0.1334647132046909, 'min_data_in_leaf': 75, 'grow_policy': 'SymmetricTree', 'early_stopping_rounds': 23}. Best is trial 20 with value: 0.1088410534841571.\n",
            "[I 2025-04-26 08:32:56,172] Trial 21 finished with value: 0.10019005870436995 and parameters: {'iterations': 882, 'learning_rate': 0.22199498902839565, 'depth': 4, 'l2_leaf_reg': 0.49842353917600984, 'random_strength': 3.02904158471935, 'bagging_temperature': 0.12293341120286172, 'min_data_in_leaf': 72, 'grow_policy': 'SymmetricTree', 'early_stopping_rounds': 24}. Best is trial 21 with value: 0.10019005870436995.\n",
            "[I 2025-04-26 08:32:59,174] Trial 22 finished with value: 0.09256520291510133 and parameters: {'iterations': 854, 'learning_rate': 0.2024065838954682, 'depth': 4, 'l2_leaf_reg': 0.6654280526726094, 'random_strength': 3.041999905249156, 'bagging_temperature': 0.13112321511725977, 'min_data_in_leaf': 76, 'grow_policy': 'SymmetricTree', 'early_stopping_rounds': 24}. Best is trial 22 with value: 0.09256520291510133.\n",
            "[I 2025-04-26 08:33:00,978] Trial 23 finished with value: 0.1314438481359524 and parameters: {'iterations': 875, 'learning_rate': 0.21092557871638434, 'depth': 4, 'l2_leaf_reg': 0.6011338423359524, 'random_strength': 3.1478026700441486, 'bagging_temperature': 0.26583516514719074, 'min_data_in_leaf': 78, 'grow_policy': 'SymmetricTree', 'early_stopping_rounds': 24}. Best is trial 22 with value: 0.09256520291510133.\n",
            "[I 2025-04-26 08:33:03,642] Trial 24 finished with value: 0.12414250913264757 and parameters: {'iterations': 693, 'learning_rate': 0.19587563412764109, 'depth': 4, 'l2_leaf_reg': 0.6015004652977166, 'random_strength': 2.313044589802457, 'bagging_temperature': 0.09684292136452, 'min_data_in_leaf': 80, 'grow_policy': 'SymmetricTree', 'early_stopping_rounds': 34}. Best is trial 22 with value: 0.09256520291510133.\n",
            "[I 2025-04-26 08:33:04,691] Trial 25 finished with value: 0.09945443750101826 and parameters: {'iterations': 900, 'learning_rate': 0.22430310431275335, 'depth': 4, 'l2_leaf_reg': 0.053424481838822056, 'random_strength': 0.18860783264958592, 'bagging_temperature': 0.4982844562541189, 'min_data_in_leaf': 100, 'grow_policy': 'SymmetricTree', 'early_stopping_rounds': 22}. Best is trial 22 with value: 0.09256520291510133.\n",
            "[I 2025-04-26 08:33:06,705] Trial 26 finished with value: 0.2949136316423047 and parameters: {'iterations': 931, 'learning_rate': 0.11369378555921539, 'depth': 5, 'l2_leaf_reg': 0.043534765167510016, 'random_strength': 0.3208896052255019, 'bagging_temperature': 0.4640939482990032, 'min_data_in_leaf': 100, 'grow_policy': 'Depthwise', 'early_stopping_rounds': 21}. Best is trial 22 with value: 0.09256520291510133.\n",
            "[I 2025-04-26 08:33:07,792] Trial 27 finished with value: 0.11859201587750874 and parameters: {'iterations': 377, 'learning_rate': 0.2964672295760609, 'depth': 4, 'l2_leaf_reg': 0.06569947035815608, 'random_strength': 1.1926934359968624, 'bagging_temperature': 0.6384547898650088, 'min_data_in_leaf': 99, 'grow_policy': 'SymmetricTree', 'early_stopping_rounds': 28}. Best is trial 22 with value: 0.09256520291510133.\n",
            "[I 2025-04-26 08:33:12,119] Trial 28 finished with value: 0.12996034013599025 and parameters: {'iterations': 716, 'learning_rate': 0.2268126599951002, 'depth': 5, 'l2_leaf_reg': 0.014284146146875887, 'random_strength': 0.01819958058375895, 'bagging_temperature': 0.42517969478602136, 'min_data_in_leaf': 87, 'grow_policy': 'SymmetricTree', 'early_stopping_rounds': 38}. Best is trial 22 with value: 0.09256520291510133.\n",
            "[I 2025-04-26 08:33:14,271] Trial 29 finished with value: 0.12540003235888258 and parameters: {'iterations': 839, 'learning_rate': 0.12395734821908411, 'depth': 4, 'l2_leaf_reg': 0.1273747022462515, 'random_strength': 1.7493206890521358, 'bagging_temperature': 0.7496410330106849, 'min_data_in_leaf': 72, 'grow_policy': 'SymmetricTree', 'early_stopping_rounds': 27}. Best is trial 22 with value: 0.09256520291510133.\n",
            "[I 2025-04-26 08:33:15,843] Trial 30 finished with value: 0.26142507034512064 and parameters: {'iterations': 542, 'learning_rate': 0.178626849602702, 'depth': 7, 'l2_leaf_reg': 3.856691641390825, 'random_strength': 2.332304539709495, 'bagging_temperature': 0.3099704654549584, 'min_data_in_leaf': 82, 'grow_policy': 'Depthwise', 'early_stopping_rounds': 33}. Best is trial 22 with value: 0.09256520291510133.\n",
            "[I 2025-04-26 08:33:17,391] Trial 31 finished with value: 0.12539678912137306 and parameters: {'iterations': 932, 'learning_rate': 0.2014737504417829, 'depth': 4, 'l2_leaf_reg': 0.6199321734214357, 'random_strength': 3.6336844827339263, 'bagging_temperature': 0.1920503530312757, 'min_data_in_leaf': 75, 'grow_policy': 'SymmetricTree', 'early_stopping_rounds': 21}. Best is trial 22 with value: 0.09256520291510133.\n",
            "[I 2025-04-26 08:33:19,308] Trial 32 finished with value: 0.09736709663757051 and parameters: {'iterations': 807, 'learning_rate': 0.24713121561444543, 'depth': 4, 'l2_leaf_reg': 0.6299193238183135, 'random_strength': 2.934771544765611, 'bagging_temperature': 0.06761329550698955, 'min_data_in_leaf': 62, 'grow_policy': 'SymmetricTree', 'early_stopping_rounds': 22}. Best is trial 22 with value: 0.09256520291510133.\n",
            "[I 2025-04-26 08:33:20,646] Trial 33 finished with value: 0.1612803610525319 and parameters: {'iterations': 802, 'learning_rate': 0.2992279254021473, 'depth': 5, 'l2_leaf_reg': 0.37636715161864126, 'random_strength': 4.249736625362857, 'bagging_temperature': 0.07693398486658715, 'min_data_in_leaf': 62, 'grow_policy': 'SymmetricTree', 'early_stopping_rounds': 14}. Best is trial 22 with value: 0.09256520291510133.\n",
            "[I 2025-04-26 08:33:22,407] Trial 34 finished with value: 0.13668326344727902 and parameters: {'iterations': 635, 'learning_rate': 0.15156577372550642, 'depth': 4, 'l2_leaf_reg': 0.18778253956342783, 'random_strength': 2.6485753269984063, 'bagging_temperature': 0.22638948746290632, 'min_data_in_leaf': 46, 'grow_policy': 'SymmetricTree', 'early_stopping_rounds': 21}. Best is trial 22 with value: 0.09256520291510133.\n",
            "[I 2025-04-26 08:33:25,437] Trial 35 finished with value: 0.11214957827553051 and parameters: {'iterations': 847, 'learning_rate': 0.24075567928993521, 'depth': 5, 'l2_leaf_reg': 1.1262493427332978, 'random_strength': 4.181439315219472, 'bagging_temperature': 0.2868996805563409, 'min_data_in_leaf': 94, 'grow_policy': 'SymmetricTree', 'early_stopping_rounds': 26}. Best is trial 22 with value: 0.09256520291510133.\n",
            "[I 2025-04-26 08:33:26,017] Trial 36 finished with value: 0.16963326534500878 and parameters: {'iterations': 111, 'learning_rate': 0.24446080411662213, 'depth': 4, 'l2_leaf_reg': 0.4246322870748808, 'random_strength': 0.9043926532074904, 'bagging_temperature': 0.5657551110704421, 'min_data_in_leaf': 6, 'grow_policy': 'Depthwise', 'early_stopping_rounds': 22}. Best is trial 22 with value: 0.09256520291510133.\n",
            "[I 2025-04-26 08:33:27,962] Trial 37 finished with value: 0.09719104558409519 and parameters: {'iterations': 732, 'learning_rate': 0.10399102262131237, 'depth': 5, 'l2_leaf_reg': 0.07578033251370314, 'random_strength': 1.8775776190813018, 'bagging_temperature': 0.05772816559946268, 'min_data_in_leaf': 61, 'grow_policy': 'SymmetricTree', 'early_stopping_rounds': 19}. Best is trial 22 with value: 0.09256520291510133.\n",
            "[I 2025-04-26 08:33:29,621] Trial 38 finished with value: 0.14707791912614904 and parameters: {'iterations': 736, 'learning_rate': 0.10254292286854519, 'depth': 5, 'l2_leaf_reg': 0.07073279842108793, 'random_strength': 1.915074361416765, 'bagging_temperature': 0.05260750279862157, 'min_data_in_leaf': 40, 'grow_policy': 'Lossguide', 'early_stopping_rounds': 19}. Best is trial 22 with value: 0.09256520291510133.\n",
            "[I 2025-04-26 08:33:30,760] Trial 39 finished with value: 0.14552733000846393 and parameters: {'iterations': 757, 'learning_rate': 0.16633432952888896, 'depth': 6, 'l2_leaf_reg': 0.02367524066912485, 'random_strength': 0.6657977061620919, 'bagging_temperature': 0.1888323288318373, 'min_data_in_leaf': 52, 'grow_policy': 'Depthwise', 'early_stopping_rounds': 14}. Best is trial 22 with value: 0.09256520291510133.\n",
            "[I 2025-04-26 08:33:43,020] Trial 40 finished with value: 0.12966402499919621 and parameters: {'iterations': 603, 'learning_rate': 0.04654575242874641, 'depth': 8, 'l2_leaf_reg': 0.16279353176808914, 'random_strength': 1.7140355468772077, 'bagging_temperature': 0.9866098335317113, 'min_data_in_leaf': 62, 'grow_policy': 'SymmetricTree', 'early_stopping_rounds': 29}. Best is trial 22 with value: 0.09256520291510133.\n",
            "[I 2025-04-26 08:33:45,348] Trial 41 finished with value: 0.11573500041898017 and parameters: {'iterations': 922, 'learning_rate': 0.1336031527810128, 'depth': 4, 'l2_leaf_reg': 0.07184154260081278, 'random_strength': 2.8047129908556294, 'bagging_temperature': 0.050090152919223974, 'min_data_in_leaf': 71, 'grow_policy': 'SymmetricTree', 'early_stopping_rounds': 25}. Best is trial 22 with value: 0.09256520291510133.\n",
            "[I 2025-04-26 08:33:47,011] Trial 42 finished with value: 0.10690429422767325 and parameters: {'iterations': 823, 'learning_rate': 0.25078296697534536, 'depth': 4, 'l2_leaf_reg': 1.820389654174375, 'random_strength': 3.7600311412927048, 'bagging_temperature': 0.098806966308924, 'min_data_in_leaf': 83, 'grow_policy': 'SymmetricTree', 'early_stopping_rounds': 20}. Best is trial 22 with value: 0.09256520291510133.\n",
            "[I 2025-04-26 08:33:51,886] Trial 43 finished with value: 0.1154027427383687 and parameters: {'iterations': 933, 'learning_rate': 0.1682736195031648, 'depth': 5, 'l2_leaf_reg': 0.8422348854804297, 'random_strength': 4.770688067285682, 'bagging_temperature': 0.22429134090597286, 'min_data_in_leaf': 59, 'grow_policy': 'SymmetricTree', 'early_stopping_rounds': 31}. Best is trial 22 with value: 0.09256520291510133.\n",
            "[I 2025-04-26 08:33:53,197] Trial 44 finished with value: 0.16760747606194773 and parameters: {'iterations': 860, 'learning_rate': 0.2635725733951621, 'depth': 4, 'l2_leaf_reg': 0.037630777865538916, 'random_strength': 2.453371806042819, 'bagging_temperature': 0.8550724005983801, 'min_data_in_leaf': 66, 'grow_policy': 'Lossguide', 'early_stopping_rounds': 23}. Best is trial 22 with value: 0.09256520291510133.\n",
            "[I 2025-04-26 08:33:56,807] Trial 45 finished with value: 0.12417445739263289 and parameters: {'iterations': 1000, 'learning_rate': 0.09854527448097809, 'depth': 5, 'l2_leaf_reg': 4.617323996710892, 'random_strength': 1.3672195599458783, 'bagging_temperature': 0.059672406873454, 'min_data_in_leaf': 90, 'grow_policy': 'SymmetricTree', 'early_stopping_rounds': 26}. Best is trial 22 with value: 0.09256520291510133.\n",
            "[I 2025-04-26 08:33:58,193] Trial 46 finished with value: 0.11477165499811622 and parameters: {'iterations': 801, 'learning_rate': 0.1466037178850294, 'depth': 4, 'l2_leaf_reg': 0.005156892782577992, 'random_strength': 2.9007049897364214, 'bagging_temperature': 0.17817613854065048, 'min_data_in_leaf': 53, 'grow_policy': 'SymmetricTree', 'early_stopping_rounds': 17}. Best is trial 22 with value: 0.09256520291510133.\n",
            "[I 2025-04-26 08:34:00,183] Trial 47 finished with value: 0.24061305132529184 and parameters: {'iterations': 956, 'learning_rate': 0.07020820643852987, 'depth': 4, 'l2_leaf_reg': 0.28298240109230177, 'random_strength': 3.620384539333255, 'bagging_temperature': 0.2599242173826617, 'min_data_in_leaf': 73, 'grow_policy': 'Lossguide', 'early_stopping_rounds': 23}. Best is trial 22 with value: 0.09256520291510133.\n",
            "[I 2025-04-26 08:34:03,298] Trial 48 finished with value: 0.1227298806177562 and parameters: {'iterations': 895, 'learning_rate': 0.17085566684940098, 'depth': 5, 'l2_leaf_reg': 0.472923340013012, 'random_strength': 1.0458283462151041, 'bagging_temperature': 0.5925894281816112, 'min_data_in_leaf': 90, 'grow_policy': 'SymmetricTree', 'early_stopping_rounds': 31}. Best is trial 22 with value: 0.09256520291510133.\n",
            "[I 2025-04-26 08:34:08,830] Trial 49 finished with value: 0.11629156097352031 and parameters: {'iterations': 737, 'learning_rate': 0.0313932198249405, 'depth': 4, 'l2_leaf_reg': 0.13217832952427877, 'random_strength': 5.798027902822556, 'bagging_temperature': 0.37228526761427366, 'min_data_in_leaf': 24, 'grow_policy': 'SymmetricTree', 'early_stopping_rounds': 28}. Best is trial 22 with value: 0.09256520291510133.\n"
          ]
        }
      ]
    },
    {
      "cell_type": "code",
      "source": [
        "best_params = study.best_params\n",
        "print(\"Best params:\", best_params)\n",
        "\n",
        "X_train, X_val, y_train, y_val = train_test_split(X_train,y_train)"
      ],
      "metadata": {
        "colab": {
          "base_uri": "https://localhost:8080/"
        },
        "id": "i-_F9sVTQZbN",
        "outputId": "4641214c-af83-4cff-d504-e4430e78ddae"
      },
      "execution_count": 68,
      "outputs": [
        {
          "output_type": "stream",
          "name": "stdout",
          "text": [
            "Best params: {'iterations': 854, 'learning_rate': 0.2024065838954682, 'depth': 4, 'l2_leaf_reg': 0.6654280526726094, 'random_strength': 3.041999905249156, 'bagging_temperature': 0.13112321511725977, 'min_data_in_leaf': 76, 'grow_policy': 'SymmetricTree', 'early_stopping_rounds': 24}\n"
          ]
        }
      ]
    },
    {
      "cell_type": "markdown",
      "source": [
        "Смотрим лучшие параметры и добавляем валиданионнцю выборку"
      ],
      "metadata": {
        "id": "JfbLhc8kTcpN"
      }
    },
    {
      "cell_type": "code",
      "source": [
        "final_model = CatBoostClassifier(**best_params,  verbose=100)\n",
        "final_model.fit(\n",
        "    Pool(X_train, y_train, cat_features=cat_features),\n",
        "    eval_set=Pool(X_val, y_val, cat_features=cat_features),\n",
        "    early_stopping_rounds=50\n",
        ")"
      ],
      "metadata": {
        "colab": {
          "base_uri": "https://localhost:8080/"
        },
        "id": "ih7hBnsgy_g0",
        "outputId": "383468d7-b68e-44d0-91c7-3c21ecbcfafb"
      },
      "execution_count": 95,
      "outputs": [
        {
          "output_type": "stream",
          "name": "stdout",
          "text": [
            "0:\tlearn: 0.6594089\ttest: 0.6578169\tbest: 0.6578169 (0)\ttotal: 2.65ms\tremaining: 2.26s\n",
            "100:\tlearn: 0.0097788\ttest: 0.0674885\tbest: 0.0674885 (100)\ttotal: 464ms\tremaining: 3.46s\n",
            "200:\tlearn: 0.0027658\ttest: 0.0522241\tbest: 0.0517951 (193)\ttotal: 812ms\tremaining: 2.64s\n",
            "300:\tlearn: 0.0018877\ttest: 0.0481172\tbest: 0.0481030 (285)\ttotal: 1.3s\tremaining: 2.39s\n",
            "Stopped by overfitting detector  (50 iterations wait)\n",
            "\n",
            "bestTest = 0.04757073189\n",
            "bestIteration = 349\n",
            "\n",
            "Shrink model to first 350 iterations.\n"
          ]
        },
        {
          "output_type": "execute_result",
          "data": {
            "text/plain": [
              "<catboost.core.CatBoostClassifier at 0x7da196cef0d0>"
            ]
          },
          "metadata": {},
          "execution_count": 95
        }
      ]
    },
    {
      "cell_type": "markdown",
      "source": [
        "Благодаря early stopping удалось урезать количество деревьев и помогает избегать переобучения"
      ],
      "metadata": {
        "id": "mGjqKrX-TtHm"
      }
    },
    {
      "cell_type": "code",
      "source": [
        "from sklearn.metrics import accuracy_score\n",
        "print(accuracy_score(final_model.predict(X_cleaned), y_cleaned))\n",
        "print(accuracy_score(final_model.predict(X_test), y_test))"
      ],
      "metadata": {
        "colab": {
          "base_uri": "https://localhost:8080/"
        },
        "id": "CzBkiPpu0Grc",
        "outputId": "c9c50348-02b6-44a1-c956-302aa40f6e74"
      },
      "execution_count": 97,
      "outputs": [
        {
          "output_type": "stream",
          "name": "stdout",
          "text": [
            "0.9831649831649831\n",
            "0.96\n"
          ]
        }
      ]
    },
    {
      "cell_type": "markdown",
      "source": [
        "Основная метрика на train и test высокие. Нет переобчучения"
      ],
      "metadata": {
        "id": "PBhMZxO8U59G"
      }
    },
    {
      "cell_type": "code",
      "source": [
        "#final_model.save_model(\"model.cmd\")"
      ],
      "metadata": {
        "id": "hOFSNq5x2ACd"
      },
      "execution_count": 101,
      "outputs": []
    },
    {
      "cell_type": "code",
      "source": [
        "loaded = CatBoostClassifier()\n",
        "loaded.load_model(\"/content/model.cmd\")\n",
        "print(accuracy_score(loaded.predict(X_cleaned), y_cleaned))\n",
        "print(accuracy_score(loaded.predict(X_test), y_test))"
      ],
      "metadata": {
        "id": "kcRI9hZ4RGrj"
      },
      "execution_count": null,
      "outputs": []
    }
  ]
}