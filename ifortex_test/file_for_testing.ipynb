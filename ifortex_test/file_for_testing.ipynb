{
  "nbformat": 4,
  "nbformat_minor": 0,
  "metadata": {
    "colab": {
      "provenance": [],
      "authorship_tag": "ABX9TyPT7RsF2CbNjEpYl/Utkfjk",
      "include_colab_link": true
    },
    "kernelspec": {
      "name": "python3",
      "display_name": "Python 3"
    },
    "language_info": {
      "name": "python"
    }
  },
  "cells": [
    {
      "cell_type": "markdown",
      "metadata": {
        "id": "view-in-github",
        "colab_type": "text"
      },
      "source": [
        "<a href=\"https://colab.research.google.com/github/FuturisticLover123/learning/blob/main/ifortex_test/file_for_testing.ipynb\" target=\"_parent\"><img src=\"https://colab.research.google.com/assets/colab-badge.svg\" alt=\"Open In Colab\"/></a>"
      ]
    },
    {
      "cell_type": "code",
      "source": [
        "!pip install catboost"
      ],
      "metadata": {
        "id": "nTWHcBG5DQtt",
        "outputId": "48541296-5ee5-464e-8d58-3aa69ac96e69",
        "colab": {
          "base_uri": "https://localhost:8080/"
        }
      },
      "execution_count": 2,
      "outputs": [
        {
          "output_type": "stream",
          "name": "stdout",
          "text": [
            "Collecting catboost\n",
            "  Downloading catboost-1.2.8-cp311-cp311-manylinux2014_x86_64.whl.metadata (1.2 kB)\n",
            "Requirement already satisfied: graphviz in /usr/local/lib/python3.11/dist-packages (from catboost) (0.20.3)\n",
            "Requirement already satisfied: matplotlib in /usr/local/lib/python3.11/dist-packages (from catboost) (3.10.0)\n",
            "Requirement already satisfied: numpy<3.0,>=1.16.0 in /usr/local/lib/python3.11/dist-packages (from catboost) (2.0.2)\n",
            "Requirement already satisfied: pandas>=0.24 in /usr/local/lib/python3.11/dist-packages (from catboost) (2.2.2)\n",
            "Requirement already satisfied: scipy in /usr/local/lib/python3.11/dist-packages (from catboost) (1.14.1)\n",
            "Requirement already satisfied: plotly in /usr/local/lib/python3.11/dist-packages (from catboost) (5.24.1)\n",
            "Requirement already satisfied: six in /usr/local/lib/python3.11/dist-packages (from catboost) (1.17.0)\n",
            "Requirement already satisfied: python-dateutil>=2.8.2 in /usr/local/lib/python3.11/dist-packages (from pandas>=0.24->catboost) (2.8.2)\n",
            "Requirement already satisfied: pytz>=2020.1 in /usr/local/lib/python3.11/dist-packages (from pandas>=0.24->catboost) (2025.2)\n",
            "Requirement already satisfied: tzdata>=2022.7 in /usr/local/lib/python3.11/dist-packages (from pandas>=0.24->catboost) (2025.2)\n",
            "Requirement already satisfied: contourpy>=1.0.1 in /usr/local/lib/python3.11/dist-packages (from matplotlib->catboost) (1.3.2)\n",
            "Requirement already satisfied: cycler>=0.10 in /usr/local/lib/python3.11/dist-packages (from matplotlib->catboost) (0.12.1)\n",
            "Requirement already satisfied: fonttools>=4.22.0 in /usr/local/lib/python3.11/dist-packages (from matplotlib->catboost) (4.57.0)\n",
            "Requirement already satisfied: kiwisolver>=1.3.1 in /usr/local/lib/python3.11/dist-packages (from matplotlib->catboost) (1.4.8)\n",
            "Requirement already satisfied: packaging>=20.0 in /usr/local/lib/python3.11/dist-packages (from matplotlib->catboost) (24.2)\n",
            "Requirement already satisfied: pillow>=8 in /usr/local/lib/python3.11/dist-packages (from matplotlib->catboost) (11.1.0)\n",
            "Requirement already satisfied: pyparsing>=2.3.1 in /usr/local/lib/python3.11/dist-packages (from matplotlib->catboost) (3.2.3)\n",
            "Requirement already satisfied: tenacity>=6.2.0 in /usr/local/lib/python3.11/dist-packages (from plotly->catboost) (9.1.2)\n",
            "Downloading catboost-1.2.8-cp311-cp311-manylinux2014_x86_64.whl (99.2 MB)\n",
            "\u001b[2K   \u001b[90m━━━━━━━━━━━━━━━━━━━━━━━━━━━━━━━━━━━━━━━━\u001b[0m \u001b[32m99.2/99.2 MB\u001b[0m \u001b[31m8.3 MB/s\u001b[0m eta \u001b[36m0:00:00\u001b[0m\n",
            "\u001b[?25hInstalling collected packages: catboost\n",
            "Successfully installed catboost-1.2.8\n"
          ]
        }
      ]
    },
    {
      "cell_type": "code",
      "source": [
        "# необходимо для корректной работы pipeline\n",
        "\n",
        "from catboost import CatBoostClassifier\n",
        "from sklearn.base import BaseEstimator, TransformerMixin\n",
        "import pandas as pd\n",
        "class FeatureAdder(BaseEstimator, TransformerMixin):\n",
        "  def __init__(self):\n",
        "      pass\n",
        "\n",
        "  def fit(self, X, y=None):\n",
        "      return self\n",
        "\n",
        "  def transform(self, X: pd.DataFrame):\n",
        "      X = X.copy()\n",
        "      if isinstance(X, pd.DataFrame):\n",
        "        cols = X.columns[:3]\n",
        "\n",
        "        X['Mean'] = X[cols].mean(axis=1, skipna=True)\n",
        "        X['Min'] = X[cols].min(axis=1, skipna=True)\n",
        "        return X\n"
      ],
      "metadata": {
        "id": "dj90bc6u2Tsq"
      },
      "execution_count": 3,
      "outputs": []
    },
    {
      "cell_type": "code",
      "source": [
        "!wget https://github.com/FuturisticLover123/learning/raw/main/ifortex_test/pipeline.joblib\n",
        "!wget https://github.com/FuturisticLover123/learning/raw/main/ifortex_test/student_exam_data.zip\n",
        "!unzip student_exam_data.zip -d /content"
      ],
      "metadata": {
        "colab": {
          "base_uri": "https://localhost:8080/"
        },
        "id": "B4T6n1dU3zQ1",
        "outputId": "ca6bd8a5-1c3b-4873-bfb3-7947ecb2dcfb"
      },
      "execution_count": 4,
      "outputs": [
        {
          "output_type": "stream",
          "name": "stdout",
          "text": [
            "--2025-04-26 12:23:47--  https://github.com/FuturisticLover123/learning/raw/main/ifortex_test/pipeline.joblib\n",
            "Resolving github.com (github.com)... 20.27.177.113\n",
            "Connecting to github.com (github.com)|20.27.177.113|:443... connected.\n",
            "HTTP request sent, awaiting response... 302 Found\n",
            "Location: https://raw.githubusercontent.com/FuturisticLover123/learning/main/ifortex_test/pipeline.joblib [following]\n",
            "--2025-04-26 12:23:47--  https://raw.githubusercontent.com/FuturisticLover123/learning/main/ifortex_test/pipeline.joblib\n",
            "Resolving raw.githubusercontent.com (raw.githubusercontent.com)... 185.199.110.133, 185.199.109.133, 185.199.111.133, ...\n",
            "Connecting to raw.githubusercontent.com (raw.githubusercontent.com)|185.199.110.133|:443... connected.\n",
            "HTTP request sent, awaiting response... 200 OK\n",
            "Length: 383656 (375K) [application/octet-stream]\n",
            "Saving to: ‘pipeline.joblib’\n",
            "\n",
            "pipeline.joblib     100%[===================>] 374.66K  1.98MB/s    in 0.2s    \n",
            "\n",
            "2025-04-26 12:23:48 (1.98 MB/s) - ‘pipeline.joblib’ saved [383656/383656]\n",
            "\n",
            "--2025-04-26 12:23:48--  https://github.com/FuturisticLover123/learning/raw/main/ifortex_test/student_exam_data.zip\n",
            "Resolving github.com (github.com)... 20.27.177.113\n",
            "Connecting to github.com (github.com)|20.27.177.113|:443... connected.\n",
            "HTTP request sent, awaiting response... 302 Found\n",
            "Location: https://raw.githubusercontent.com/FuturisticLover123/learning/main/ifortex_test/student_exam_data.zip [following]\n",
            "--2025-04-26 12:23:48--  https://raw.githubusercontent.com/FuturisticLover123/learning/main/ifortex_test/student_exam_data.zip\n",
            "Resolving raw.githubusercontent.com (raw.githubusercontent.com)... 185.199.109.133, 185.199.111.133, 185.199.110.133, ...\n",
            "Connecting to raw.githubusercontent.com (raw.githubusercontent.com)|185.199.109.133|:443... connected.\n",
            "HTTP request sent, awaiting response... 200 OK\n",
            "Length: 2444 (2.4K) [application/zip]\n",
            "Saving to: ‘student_exam_data.zip’\n",
            "\n",
            "student_exam_data.z 100%[===================>]   2.39K  --.-KB/s    in 0s      \n",
            "\n",
            "2025-04-26 12:23:49 (39.8 MB/s) - ‘student_exam_data.zip’ saved [2444/2444]\n",
            "\n",
            "Archive:  student_exam_data.zip\n",
            "  inflating: /content/student_exam_data.csv  \n"
          ]
        }
      ]
    },
    {
      "cell_type": "markdown",
      "source": [
        "Загрузка данных для тестов и модели"
      ],
      "metadata": {
        "id": "VHerc6lyBJ1G"
      }
    },
    {
      "cell_type": "code",
      "source": [
        "from joblib import load\n",
        "pipeline = load('pipeline.joblib')"
      ],
      "metadata": {
        "id": "Iq3_k34Y6Qw9"
      },
      "execution_count": 5,
      "outputs": []
    },
    {
      "cell_type": "markdown",
      "source": [
        "Для тестовых данных"
      ],
      "metadata": {
        "id": "-ezn97bhBfC6"
      }
    },
    {
      "cell_type": "code",
      "source": [
        "\n",
        "data = pd.read_csv(\"/content/student_exam_data.csv\")\n",
        "x, y = data.drop(columns=\"Сдал\"), data[\"Сдал\"]"
      ],
      "metadata": {
        "id": "VmXSR5ez_9Yl"
      },
      "execution_count": 6,
      "outputs": []
    },
    {
      "cell_type": "code",
      "source": [
        "from sklearn.metrics import accuracy_score"
      ],
      "metadata": {
        "id": "cVqL2KsBAZnT"
      },
      "execution_count": 7,
      "outputs": []
    },
    {
      "cell_type": "code",
      "source": [
        "accuracy_score(pipeline.predict(x), y)"
      ],
      "metadata": {
        "colab": {
          "base_uri": "https://localhost:8080/"
        },
        "id": "rbgRE3ORAcSL",
        "outputId": "ca1868ba-d8f4-470e-f8df-4a3158021c93"
      },
      "execution_count": 8,
      "outputs": [
        {
          "output_type": "execute_result",
          "data": {
            "text/plain": [
              "0.9733333333333334"
            ]
          },
          "metadata": {},
          "execution_count": 8
        }
      ]
    },
    {
      "cell_type": "code",
      "source": [
        "test_data_path = \"your_data_path\"\n",
        "\n",
        "data = pd.read_csv(test_data_path)\n",
        "x, y = data.drop(columns=\"Сдал\"), data[\"Сдал\"]"
      ],
      "metadata": {
        "id": "jCGtw-uCB1Jk"
      },
      "execution_count": null,
      "outputs": []
    },
    {
      "cell_type": "code",
      "source": [
        "accuracy_score(pipeline.predict(x), y)"
      ],
      "metadata": {
        "id": "07OCwOAvBrNK"
      },
      "execution_count": null,
      "outputs": []
    }
  ]
}