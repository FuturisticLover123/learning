{
  "nbformat": 4,
  "nbformat_minor": 0,
  "metadata": {
    "colab": {
      "provenance": [],
      "authorship_tag": "ABX9TyP7w5SUr67pMJZcbCB3WfPe",
      "include_colab_link": true
    },
    "kernelspec": {
      "name": "python3",
      "display_name": "Python 3"
    },
    "language_info": {
      "name": "python"
    }
  },
  "cells": [
    {
      "cell_type": "markdown",
      "metadata": {
        "id": "view-in-github",
        "colab_type": "text"
      },
      "source": [
        "<a href=\"https://colab.research.google.com/github/FuturisticLover123/learning/blob/main/ifortex_test/file_for_testing.ipynb\" target=\"_parent\"><img src=\"https://colab.research.google.com/assets/colab-badge.svg\" alt=\"Open In Colab\"/></a>"
      ]
    },
    {
      "cell_type": "code",
      "source": [
        "# необходимо для корректной работы pipeline\n",
        "\n",
        "from catboost import CatBoostClassifier\n",
        "from sklearn.base import BaseEstimator, TransformerMixin\n",
        "import pandas as pd\n",
        "class FeatureAdder(BaseEstimator, TransformerMixin):\n",
        "  def __init__(self):\n",
        "      pass\n",
        "\n",
        "  def fit(self, X, y=None):\n",
        "      return self\n",
        "\n",
        "  def transform(self, X: pd.DataFrame):\n",
        "      X = X.copy()\n",
        "      if isinstance(X, pd.DataFrame):\n",
        "        cols = X.columns[:3]\n",
        "\n",
        "        X['Mean'] = X[cols].mean(axis=1, skipna=True)\n",
        "        X['Min'] = X[cols].min(axis=1, skipna=True)\n",
        "        return X\n"
      ],
      "metadata": {
        "id": "dj90bc6u2Tsq"
      },
      "execution_count": 8,
      "outputs": []
    },
    {
      "cell_type": "code",
      "source": [
        "!wget https://github.com/FuturisticLover123/learning/raw/main/ifortex_test/pipeline.joblib"
      ],
      "metadata": {
        "colab": {
          "base_uri": "https://localhost:8080/"
        },
        "id": "B4T6n1dU3zQ1",
        "outputId": "faf83532-36ac-4aa2-abfa-43a139352ec0"
      },
      "execution_count": 11,
      "outputs": [
        {
          "output_type": "stream",
          "name": "stdout",
          "text": [
            "--2025-04-26 12:10:04--  https://github.com/FuturisticLover123/learning/raw/main/ifortex_test/pipeline.joblib\n",
            "Resolving github.com (github.com)... 140.82.112.4\n",
            "Connecting to github.com (github.com)|140.82.112.4|:443... connected.\n",
            "HTTP request sent, awaiting response... 302 Found\n",
            "Location: https://raw.githubusercontent.com/FuturisticLover123/learning/main/ifortex_test/pipeline.joblib [following]\n",
            "--2025-04-26 12:10:04--  https://raw.githubusercontent.com/FuturisticLover123/learning/main/ifortex_test/pipeline.joblib\n",
            "Resolving raw.githubusercontent.com (raw.githubusercontent.com)... 185.199.108.133, 185.199.111.133, 185.199.110.133, ...\n",
            "Connecting to raw.githubusercontent.com (raw.githubusercontent.com)|185.199.108.133|:443... connected.\n",
            "HTTP request sent, awaiting response... 200 OK\n",
            "Length: 383656 (375K) [application/octet-stream]\n",
            "Saving to: ‘pipeline.joblib.1’\n",
            "\n",
            "pipeline.joblib.1   100%[===================>] 374.66K  --.-KB/s    in 0.05s   \n",
            "\n",
            "2025-04-26 12:10:04 (8.01 MB/s) - ‘pipeline.joblib.1’ saved [383656/383656]\n",
            "\n",
            "--2025-04-26 12:10:04--  https://github.com/FuturisticLover123/learning/raw/main/ifortex_test/student_exam_data.zip\n",
            "Resolving github.com (github.com)... 140.82.112.4\n",
            "Connecting to github.com (github.com)|140.82.112.4|:443... connected.\n",
            "HTTP request sent, awaiting response... 302 Found\n",
            "Location: https://raw.githubusercontent.com/FuturisticLover123/learning/main/ifortex_test/student_exam_data.zip [following]\n",
            "--2025-04-26 12:10:04--  https://raw.githubusercontent.com/FuturisticLover123/learning/main/ifortex_test/student_exam_data.zip\n",
            "Resolving raw.githubusercontent.com (raw.githubusercontent.com)... 185.199.108.133, 185.199.111.133, 185.199.109.133, ...\n",
            "Connecting to raw.githubusercontent.com (raw.githubusercontent.com)|185.199.108.133|:443... connected.\n",
            "HTTP request sent, awaiting response... 200 OK\n",
            "Length: 2444 (2.4K) [application/zip]\n",
            "Saving to: ‘student_exam_data.zip’\n",
            "\n",
            "student_exam_data.z 100%[===================>]   2.39K  --.-KB/s    in 0s      \n",
            "\n",
            "2025-04-26 12:10:04 (11.5 MB/s) - ‘student_exam_data.zip’ saved [2444/2444]\n",
            "\n",
            "Archive:  student_exam_data.zip\n",
            "  inflating: /content/student_exam_data.csv  \n"
          ]
        }
      ]
    },
    {
      "cell_type": "code",
      "source": [
        "from joblib import load\n",
        "\n",
        "pipeline = load('pipeline.joblib')"
      ],
      "metadata": {
        "id": "Iq3_k34Y6Qw9"
      },
      "execution_count": 15,
      "outputs": []
    },
    {
      "cell_type": "markdown",
      "source": [
        "Загрузка данных для тестов"
      ],
      "metadata": {
        "id": "VHerc6lyBJ1G"
      }
    },
    {
      "cell_type": "markdown",
      "source": [
        "Для тестовых данных"
      ],
      "metadata": {
        "id": "-ezn97bhBfC6"
      }
    },
    {
      "cell_type": "code",
      "source": [
        "!wget https://github.com/FuturisticLover123/learning/raw/main/ifortex_test/student_exam_data.zip\n",
        "!unzip student_exam_data.zip -d /content\n",
        "data = pd.read_csv(\"/content/student_exam_data.csv\")\n",
        "x, y = data.drop(columns=\"Сдал\"), data[\"Сдал\"]"
      ],
      "metadata": {
        "colab": {
          "base_uri": "https://localhost:8080/"
        },
        "id": "VmXSR5ez_9Yl",
        "outputId": "aad9b3a5-f658-4b10-fbac-7f74ed78c9ba"
      },
      "execution_count": 26,
      "outputs": [
        {
          "output_type": "stream",
          "name": "stdout",
          "text": [
            "--2025-04-26 12:15:22--  https://github.com/FuturisticLover123/learning/raw/main/ifortex_test/student_exam_data.zip\n",
            "Resolving github.com (github.com)... 140.82.112.3\n",
            "Connecting to github.com (github.com)|140.82.112.3|:443... connected.\n",
            "HTTP request sent, awaiting response... 302 Found\n",
            "Location: https://raw.githubusercontent.com/FuturisticLover123/learning/main/ifortex_test/student_exam_data.zip [following]\n",
            "--2025-04-26 12:15:22--  https://raw.githubusercontent.com/FuturisticLover123/learning/main/ifortex_test/student_exam_data.zip\n",
            "Resolving raw.githubusercontent.com (raw.githubusercontent.com)... 185.199.108.133, 185.199.109.133, 185.199.110.133, ...\n",
            "Connecting to raw.githubusercontent.com (raw.githubusercontent.com)|185.199.108.133|:443... connected.\n",
            "HTTP request sent, awaiting response... 200 OK\n",
            "Length: 2444 (2.4K) [application/zip]\n",
            "Saving to: ‘student_exam_data.zip.1’\n",
            "\n",
            "student_exam_data.z 100%[===================>]   2.39K  --.-KB/s    in 0s      \n",
            "\n",
            "2025-04-26 12:15:22 (34.6 MB/s) - ‘student_exam_data.zip.1’ saved [2444/2444]\n",
            "\n",
            "Archive:  student_exam_data.zip\n",
            "replace /content/student_exam_data.csv? [y]es, [n]o, [A]ll, [N]one, [r]ename: "
          ]
        }
      ]
    },
    {
      "cell_type": "code",
      "source": [
        "from sklearn.metrics import accuracy_score"
      ],
      "metadata": {
        "id": "cVqL2KsBAZnT"
      },
      "execution_count": 27,
      "outputs": []
    },
    {
      "cell_type": "code",
      "source": [
        "accuracy_score(pipeline.predict(x), y)"
      ],
      "metadata": {
        "colab": {
          "base_uri": "https://localhost:8080/"
        },
        "id": "rbgRE3ORAcSL",
        "outputId": "bd19a9eb-881b-418d-b978-f7d3cd2f58c5"
      },
      "execution_count": 28,
      "outputs": [
        {
          "output_type": "execute_result",
          "data": {
            "text/plain": [
              "0.9733333333333334"
            ]
          },
          "metadata": {},
          "execution_count": 28
        }
      ]
    },
    {
      "cell_type": "code",
      "source": [
        "test_data_path = \"your_data_path\"\n",
        "\n",
        "data = pd.read_csv(test_data_path)\n",
        "x, y = data.drop(columns=\"Сдал\"), data[\"Сдал\"]"
      ],
      "metadata": {
        "id": "jCGtw-uCB1Jk"
      },
      "execution_count": null,
      "outputs": []
    },
    {
      "cell_type": "code",
      "source": [
        "accuracy_score(pipeline.predict(x), y)"
      ],
      "metadata": {
        "id": "07OCwOAvBrNK"
      },
      "execution_count": null,
      "outputs": []
    }
  ]
}