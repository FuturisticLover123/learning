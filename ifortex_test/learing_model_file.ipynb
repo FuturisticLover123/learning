{
  "nbformat": 4,
  "nbformat_minor": 0,
  "metadata": {
    "colab": {
      "provenance": [],
      "authorship_tag": "ABX9TyMS44tTy9TSa31acA6SzIiZ",
      "include_colab_link": true
    },
    "kernelspec": {
      "name": "python3",
      "display_name": "Python 3"
    },
    "language_info": {
      "name": "python"
    }
  },
  "cells": [
    {
      "cell_type": "markdown",
      "metadata": {
        "id": "view-in-github",
        "colab_type": "text"
      },
      "source": [
        "<a href=\"https://colab.research.google.com/github/FuturisticLover123/learning/blob/main/ifortex_test/learing_model_file.ipynb\" target=\"_parent\"><img src=\"https://colab.research.google.com/assets/colab-badge.svg\" alt=\"Open In Colab\"/></a>"
      ]
    },
    {
      "cell_type": "code",
      "source": [
        "!pip install optuna\n",
        "!pip install catboost"
      ],
      "metadata": {
        "colab": {
          "base_uri": "https://localhost:8080/"
        },
        "id": "Kg-JhdSixvzZ",
        "outputId": "cae35059-39af-4745-b458-2235afda3204"
      },
      "execution_count": 1,
      "outputs": [
        {
          "output_type": "stream",
          "name": "stdout",
          "text": [
            "Collecting optuna\n",
            "  Downloading optuna-4.3.0-py3-none-any.whl.metadata (17 kB)\n",
            "Collecting alembic>=1.5.0 (from optuna)\n",
            "  Downloading alembic-1.15.2-py3-none-any.whl.metadata (7.3 kB)\n",
            "Collecting colorlog (from optuna)\n",
            "  Downloading colorlog-6.9.0-py3-none-any.whl.metadata (10 kB)\n",
            "Requirement already satisfied: numpy in /usr/local/lib/python3.11/dist-packages (from optuna) (2.0.2)\n",
            "Requirement already satisfied: packaging>=20.0 in /usr/local/lib/python3.11/dist-packages (from optuna) (24.2)\n",
            "Requirement already satisfied: sqlalchemy>=1.4.2 in /usr/local/lib/python3.11/dist-packages (from optuna) (2.0.40)\n",
            "Requirement already satisfied: tqdm in /usr/local/lib/python3.11/dist-packages (from optuna) (4.67.1)\n",
            "Requirement already satisfied: PyYAML in /usr/local/lib/python3.11/dist-packages (from optuna) (6.0.2)\n",
            "Requirement already satisfied: Mako in /usr/lib/python3/dist-packages (from alembic>=1.5.0->optuna) (1.1.3)\n",
            "Requirement already satisfied: typing-extensions>=4.12 in /usr/local/lib/python3.11/dist-packages (from alembic>=1.5.0->optuna) (4.13.2)\n",
            "Requirement already satisfied: greenlet>=1 in /usr/local/lib/python3.11/dist-packages (from sqlalchemy>=1.4.2->optuna) (3.2.1)\n",
            "Downloading optuna-4.3.0-py3-none-any.whl (386 kB)\n",
            "\u001b[2K   \u001b[90m━━━━━━━━━━━━━━━━━━━━━━━━━━━━━━━━━━━━━━━━\u001b[0m \u001b[32m386.6/386.6 kB\u001b[0m \u001b[31m34.1 MB/s\u001b[0m eta \u001b[36m0:00:00\u001b[0m\n",
            "\u001b[?25hDownloading alembic-1.15.2-py3-none-any.whl (231 kB)\n",
            "\u001b[2K   \u001b[90m━━━━━━━━━━━━━━━━━━━━━━━━━━━━━━━━━━━━━━━━\u001b[0m \u001b[32m231.9/231.9 kB\u001b[0m \u001b[31m24.4 MB/s\u001b[0m eta \u001b[36m0:00:00\u001b[0m\n",
            "\u001b[?25hDownloading colorlog-6.9.0-py3-none-any.whl (11 kB)\n",
            "Installing collected packages: colorlog, alembic, optuna\n",
            "Successfully installed alembic-1.15.2 colorlog-6.9.0 optuna-4.3.0\n",
            "Collecting catboost\n",
            "  Downloading catboost-1.2.8-cp311-cp311-manylinux2014_x86_64.whl.metadata (1.2 kB)\n",
            "Requirement already satisfied: graphviz in /usr/local/lib/python3.11/dist-packages (from catboost) (0.20.3)\n",
            "Requirement already satisfied: matplotlib in /usr/local/lib/python3.11/dist-packages (from catboost) (3.10.0)\n",
            "Requirement already satisfied: numpy<3.0,>=1.16.0 in /usr/local/lib/python3.11/dist-packages (from catboost) (2.0.2)\n",
            "Requirement already satisfied: pandas>=0.24 in /usr/local/lib/python3.11/dist-packages (from catboost) (2.2.2)\n",
            "Requirement already satisfied: scipy in /usr/local/lib/python3.11/dist-packages (from catboost) (1.14.1)\n",
            "Requirement already satisfied: plotly in /usr/local/lib/python3.11/dist-packages (from catboost) (5.24.1)\n",
            "Requirement already satisfied: six in /usr/local/lib/python3.11/dist-packages (from catboost) (1.17.0)\n",
            "Requirement already satisfied: python-dateutil>=2.8.2 in /usr/local/lib/python3.11/dist-packages (from pandas>=0.24->catboost) (2.8.2)\n",
            "Requirement already satisfied: pytz>=2020.1 in /usr/local/lib/python3.11/dist-packages (from pandas>=0.24->catboost) (2025.2)\n",
            "Requirement already satisfied: tzdata>=2022.7 in /usr/local/lib/python3.11/dist-packages (from pandas>=0.24->catboost) (2025.2)\n",
            "Requirement already satisfied: contourpy>=1.0.1 in /usr/local/lib/python3.11/dist-packages (from matplotlib->catboost) (1.3.2)\n",
            "Requirement already satisfied: cycler>=0.10 in /usr/local/lib/python3.11/dist-packages (from matplotlib->catboost) (0.12.1)\n",
            "Requirement already satisfied: fonttools>=4.22.0 in /usr/local/lib/python3.11/dist-packages (from matplotlib->catboost) (4.57.0)\n",
            "Requirement already satisfied: kiwisolver>=1.3.1 in /usr/local/lib/python3.11/dist-packages (from matplotlib->catboost) (1.4.8)\n",
            "Requirement already satisfied: packaging>=20.0 in /usr/local/lib/python3.11/dist-packages (from matplotlib->catboost) (24.2)\n",
            "Requirement already satisfied: pillow>=8 in /usr/local/lib/python3.11/dist-packages (from matplotlib->catboost) (11.1.0)\n",
            "Requirement already satisfied: pyparsing>=2.3.1 in /usr/local/lib/python3.11/dist-packages (from matplotlib->catboost) (3.2.3)\n",
            "Requirement already satisfied: tenacity>=6.2.0 in /usr/local/lib/python3.11/dist-packages (from plotly->catboost) (9.1.2)\n",
            "Downloading catboost-1.2.8-cp311-cp311-manylinux2014_x86_64.whl (99.2 MB)\n",
            "\u001b[2K   \u001b[90m━━━━━━━━━━━━━━━━━━━━━━━━━━━━━━━━━━━━━━━━\u001b[0m \u001b[32m99.2/99.2 MB\u001b[0m \u001b[31m10.4 MB/s\u001b[0m eta \u001b[36m0:00:00\u001b[0m\n",
            "\u001b[?25hInstalling collected packages: catboost\n",
            "Successfully installed catboost-1.2.8\n"
          ]
        }
      ]
    },
    {
      "cell_type": "code",
      "execution_count": 2,
      "metadata": {
        "id": "1hPgG_vedmJH"
      },
      "outputs": [],
      "source": [
        "import pandas as pd\n",
        "from sklearn.ensemble import IsolationForest\n",
        "from sklearn.linear_model import LogisticRegression\n",
        "from sklearn.neighbors import KNeighborsClassifier\n",
        "from sklearn.naive_bayes import GaussianNB\n",
        "\n",
        "from sklearn.model_selection import cross_val_score\n",
        "from sklearn.model_selection import train_test_split\n",
        "\n",
        "from sklearn.model_selection import train_test_split\n",
        "from sklearn.metrics import accuracy_score\n",
        "import numpy as np\n",
        "\n",
        "\n",
        "import optuna\n",
        "from catboost import CatBoostClassifier, Pool\n",
        "from sklearn.metrics import log_loss\n",
        "from sklearn.model_selection import StratifiedKFold\n",
        "\n",
        "from sklearn.base import BaseEstimator, TransformerMixin\n",
        "from sklearn.pipeline import Pipeline"
      ]
    },
    {
      "cell_type": "markdown",
      "source": [
        "Загрузка датасета в папку content"
      ],
      "metadata": {
        "id": "mGfaK8rlyncx"
      }
    },
    {
      "cell_type": "code",
      "source": [
        "!wget https://github.com/FuturisticLover123/learning/raw/main/ifortex_test/student_exam_data.zip\n",
        "!unzip student_exam_data.zip -d /content"
      ],
      "metadata": {
        "colab": {
          "base_uri": "https://localhost:8080/"
        },
        "id": "9_BNKVk1yR-p",
        "outputId": "ee1d8671-3b77-45cd-ef64-a52a2a0c481f"
      },
      "execution_count": 3,
      "outputs": [
        {
          "output_type": "stream",
          "name": "stdout",
          "text": [
            "--2025-04-26 12:22:29--  https://github.com/FuturisticLover123/learning/raw/main/ifortex_test/student_exam_data.zip\n",
            "Resolving github.com (github.com)... 140.82.112.4\n",
            "Connecting to github.com (github.com)|140.82.112.4|:443... connected.\n",
            "HTTP request sent, awaiting response... 302 Found\n",
            "Location: https://raw.githubusercontent.com/FuturisticLover123/learning/main/ifortex_test/student_exam_data.zip [following]\n",
            "--2025-04-26 12:22:29--  https://raw.githubusercontent.com/FuturisticLover123/learning/main/ifortex_test/student_exam_data.zip\n",
            "Resolving raw.githubusercontent.com (raw.githubusercontent.com)... 185.199.108.133, 185.199.109.133, 185.199.110.133, ...\n",
            "Connecting to raw.githubusercontent.com (raw.githubusercontent.com)|185.199.108.133|:443... connected.\n",
            "HTTP request sent, awaiting response... 200 OK\n",
            "Length: 2444 (2.4K) [application/zip]\n",
            "Saving to: ‘student_exam_data.zip’\n",
            "\n",
            "\rstudent_exam_data.z   0%[                    ]       0  --.-KB/s               \rstudent_exam_data.z 100%[===================>]   2.39K  --.-KB/s    in 0s      \n",
            "\n",
            "2025-04-26 12:22:29 (41.8 MB/s) - ‘student_exam_data.zip’ saved [2444/2444]\n",
            "\n",
            "Archive:  student_exam_data.zip\n",
            "  inflating: /content/student_exam_data.csv  \n"
          ]
        }
      ]
    },
    {
      "cell_type": "code",
      "source": [
        "data = pd.read_csv(\"/content/student_exam_data.csv\")"
      ],
      "metadata": {
        "id": "mp66AAoZbX5A"
      },
      "execution_count": 4,
      "outputs": []
    },
    {
      "cell_type": "markdown",
      "source": [
        "Посмотрим данные и обновные характеристики"
      ],
      "metadata": {
        "id": "HnDVAGODktDH"
      }
    },
    {
      "cell_type": "code",
      "source": [
        "data.describe()"
      ],
      "metadata": {
        "colab": {
          "base_uri": "https://localhost:8080/",
          "height": 300
        },
        "id": "6nc2ImPjdud8",
        "outputId": "3a92388e-3c88-4e22-8246-03a8161c3e30"
      },
      "execution_count": 5,
      "outputs": [
        {
          "output_type": "execute_result",
          "data": {
            "text/plain": [
              "       Контрольная 1  Контрольная 2  Контрольная 3\n",
              "count     300.000000     300.000000     300.000000\n",
              "mean        7.130000       6.936667       6.940000\n",
              "std         2.003283       2.009839       2.028987\n",
              "min         4.000000       4.000000       4.000000\n",
              "25%         5.000000       5.000000       5.000000\n",
              "50%         7.000000       7.000000       7.000000\n",
              "75%         9.000000       9.000000       9.000000\n",
              "max        10.000000      10.000000      10.000000"
            ],
            "text/html": [
              "\n",
              "  <div id=\"df-e0d07a19-5d85-485d-a595-88e1e009fe36\" class=\"colab-df-container\">\n",
              "    <div>\n",
              "<style scoped>\n",
              "    .dataframe tbody tr th:only-of-type {\n",
              "        vertical-align: middle;\n",
              "    }\n",
              "\n",
              "    .dataframe tbody tr th {\n",
              "        vertical-align: top;\n",
              "    }\n",
              "\n",
              "    .dataframe thead th {\n",
              "        text-align: right;\n",
              "    }\n",
              "</style>\n",
              "<table border=\"1\" class=\"dataframe\">\n",
              "  <thead>\n",
              "    <tr style=\"text-align: right;\">\n",
              "      <th></th>\n",
              "      <th>Контрольная 1</th>\n",
              "      <th>Контрольная 2</th>\n",
              "      <th>Контрольная 3</th>\n",
              "    </tr>\n",
              "  </thead>\n",
              "  <tbody>\n",
              "    <tr>\n",
              "      <th>count</th>\n",
              "      <td>300.000000</td>\n",
              "      <td>300.000000</td>\n",
              "      <td>300.000000</td>\n",
              "    </tr>\n",
              "    <tr>\n",
              "      <th>mean</th>\n",
              "      <td>7.130000</td>\n",
              "      <td>6.936667</td>\n",
              "      <td>6.940000</td>\n",
              "    </tr>\n",
              "    <tr>\n",
              "      <th>std</th>\n",
              "      <td>2.003283</td>\n",
              "      <td>2.009839</td>\n",
              "      <td>2.028987</td>\n",
              "    </tr>\n",
              "    <tr>\n",
              "      <th>min</th>\n",
              "      <td>4.000000</td>\n",
              "      <td>4.000000</td>\n",
              "      <td>4.000000</td>\n",
              "    </tr>\n",
              "    <tr>\n",
              "      <th>25%</th>\n",
              "      <td>5.000000</td>\n",
              "      <td>5.000000</td>\n",
              "      <td>5.000000</td>\n",
              "    </tr>\n",
              "    <tr>\n",
              "      <th>50%</th>\n",
              "      <td>7.000000</td>\n",
              "      <td>7.000000</td>\n",
              "      <td>7.000000</td>\n",
              "    </tr>\n",
              "    <tr>\n",
              "      <th>75%</th>\n",
              "      <td>9.000000</td>\n",
              "      <td>9.000000</td>\n",
              "      <td>9.000000</td>\n",
              "    </tr>\n",
              "    <tr>\n",
              "      <th>max</th>\n",
              "      <td>10.000000</td>\n",
              "      <td>10.000000</td>\n",
              "      <td>10.000000</td>\n",
              "    </tr>\n",
              "  </tbody>\n",
              "</table>\n",
              "</div>\n",
              "    <div class=\"colab-df-buttons\">\n",
              "\n",
              "  <div class=\"colab-df-container\">\n",
              "    <button class=\"colab-df-convert\" onclick=\"convertToInteractive('df-e0d07a19-5d85-485d-a595-88e1e009fe36')\"\n",
              "            title=\"Convert this dataframe to an interactive table.\"\n",
              "            style=\"display:none;\">\n",
              "\n",
              "  <svg xmlns=\"http://www.w3.org/2000/svg\" height=\"24px\" viewBox=\"0 -960 960 960\">\n",
              "    <path d=\"M120-120v-720h720v720H120Zm60-500h600v-160H180v160Zm220 220h160v-160H400v160Zm0 220h160v-160H400v160ZM180-400h160v-160H180v160Zm440 0h160v-160H620v160ZM180-180h160v-160H180v160Zm440 0h160v-160H620v160Z\"/>\n",
              "  </svg>\n",
              "    </button>\n",
              "\n",
              "  <style>\n",
              "    .colab-df-container {\n",
              "      display:flex;\n",
              "      gap: 12px;\n",
              "    }\n",
              "\n",
              "    .colab-df-convert {\n",
              "      background-color: #E8F0FE;\n",
              "      border: none;\n",
              "      border-radius: 50%;\n",
              "      cursor: pointer;\n",
              "      display: none;\n",
              "      fill: #1967D2;\n",
              "      height: 32px;\n",
              "      padding: 0 0 0 0;\n",
              "      width: 32px;\n",
              "    }\n",
              "\n",
              "    .colab-df-convert:hover {\n",
              "      background-color: #E2EBFA;\n",
              "      box-shadow: 0px 1px 2px rgba(60, 64, 67, 0.3), 0px 1px 3px 1px rgba(60, 64, 67, 0.15);\n",
              "      fill: #174EA6;\n",
              "    }\n",
              "\n",
              "    .colab-df-buttons div {\n",
              "      margin-bottom: 4px;\n",
              "    }\n",
              "\n",
              "    [theme=dark] .colab-df-convert {\n",
              "      background-color: #3B4455;\n",
              "      fill: #D2E3FC;\n",
              "    }\n",
              "\n",
              "    [theme=dark] .colab-df-convert:hover {\n",
              "      background-color: #434B5C;\n",
              "      box-shadow: 0px 1px 3px 1px rgba(0, 0, 0, 0.15);\n",
              "      filter: drop-shadow(0px 1px 2px rgba(0, 0, 0, 0.3));\n",
              "      fill: #FFFFFF;\n",
              "    }\n",
              "  </style>\n",
              "\n",
              "    <script>\n",
              "      const buttonEl =\n",
              "        document.querySelector('#df-e0d07a19-5d85-485d-a595-88e1e009fe36 button.colab-df-convert');\n",
              "      buttonEl.style.display =\n",
              "        google.colab.kernel.accessAllowed ? 'block' : 'none';\n",
              "\n",
              "      async function convertToInteractive(key) {\n",
              "        const element = document.querySelector('#df-e0d07a19-5d85-485d-a595-88e1e009fe36');\n",
              "        const dataTable =\n",
              "          await google.colab.kernel.invokeFunction('convertToInteractive',\n",
              "                                                    [key], {});\n",
              "        if (!dataTable) return;\n",
              "\n",
              "        const docLinkHtml = 'Like what you see? Visit the ' +\n",
              "          '<a target=\"_blank\" href=https://colab.research.google.com/notebooks/data_table.ipynb>data table notebook</a>'\n",
              "          + ' to learn more about interactive tables.';\n",
              "        element.innerHTML = '';\n",
              "        dataTable['output_type'] = 'display_data';\n",
              "        await google.colab.output.renderOutput(dataTable, element);\n",
              "        const docLink = document.createElement('div');\n",
              "        docLink.innerHTML = docLinkHtml;\n",
              "        element.appendChild(docLink);\n",
              "      }\n",
              "    </script>\n",
              "  </div>\n",
              "\n",
              "\n",
              "    <div id=\"df-c27604b7-48e0-4c8d-9c1a-947fdf6de67e\">\n",
              "      <button class=\"colab-df-quickchart\" onclick=\"quickchart('df-c27604b7-48e0-4c8d-9c1a-947fdf6de67e')\"\n",
              "                title=\"Suggest charts\"\n",
              "                style=\"display:none;\">\n",
              "\n",
              "<svg xmlns=\"http://www.w3.org/2000/svg\" height=\"24px\"viewBox=\"0 0 24 24\"\n",
              "     width=\"24px\">\n",
              "    <g>\n",
              "        <path d=\"M19 3H5c-1.1 0-2 .9-2 2v14c0 1.1.9 2 2 2h14c1.1 0 2-.9 2-2V5c0-1.1-.9-2-2-2zM9 17H7v-7h2v7zm4 0h-2V7h2v10zm4 0h-2v-4h2v4z\"/>\n",
              "    </g>\n",
              "</svg>\n",
              "      </button>\n",
              "\n",
              "<style>\n",
              "  .colab-df-quickchart {\n",
              "      --bg-color: #E8F0FE;\n",
              "      --fill-color: #1967D2;\n",
              "      --hover-bg-color: #E2EBFA;\n",
              "      --hover-fill-color: #174EA6;\n",
              "      --disabled-fill-color: #AAA;\n",
              "      --disabled-bg-color: #DDD;\n",
              "  }\n",
              "\n",
              "  [theme=dark] .colab-df-quickchart {\n",
              "      --bg-color: #3B4455;\n",
              "      --fill-color: #D2E3FC;\n",
              "      --hover-bg-color: #434B5C;\n",
              "      --hover-fill-color: #FFFFFF;\n",
              "      --disabled-bg-color: #3B4455;\n",
              "      --disabled-fill-color: #666;\n",
              "  }\n",
              "\n",
              "  .colab-df-quickchart {\n",
              "    background-color: var(--bg-color);\n",
              "    border: none;\n",
              "    border-radius: 50%;\n",
              "    cursor: pointer;\n",
              "    display: none;\n",
              "    fill: var(--fill-color);\n",
              "    height: 32px;\n",
              "    padding: 0;\n",
              "    width: 32px;\n",
              "  }\n",
              "\n",
              "  .colab-df-quickchart:hover {\n",
              "    background-color: var(--hover-bg-color);\n",
              "    box-shadow: 0 1px 2px rgba(60, 64, 67, 0.3), 0 1px 3px 1px rgba(60, 64, 67, 0.15);\n",
              "    fill: var(--button-hover-fill-color);\n",
              "  }\n",
              "\n",
              "  .colab-df-quickchart-complete:disabled,\n",
              "  .colab-df-quickchart-complete:disabled:hover {\n",
              "    background-color: var(--disabled-bg-color);\n",
              "    fill: var(--disabled-fill-color);\n",
              "    box-shadow: none;\n",
              "  }\n",
              "\n",
              "  .colab-df-spinner {\n",
              "    border: 2px solid var(--fill-color);\n",
              "    border-color: transparent;\n",
              "    border-bottom-color: var(--fill-color);\n",
              "    animation:\n",
              "      spin 1s steps(1) infinite;\n",
              "  }\n",
              "\n",
              "  @keyframes spin {\n",
              "    0% {\n",
              "      border-color: transparent;\n",
              "      border-bottom-color: var(--fill-color);\n",
              "      border-left-color: var(--fill-color);\n",
              "    }\n",
              "    20% {\n",
              "      border-color: transparent;\n",
              "      border-left-color: var(--fill-color);\n",
              "      border-top-color: var(--fill-color);\n",
              "    }\n",
              "    30% {\n",
              "      border-color: transparent;\n",
              "      border-left-color: var(--fill-color);\n",
              "      border-top-color: var(--fill-color);\n",
              "      border-right-color: var(--fill-color);\n",
              "    }\n",
              "    40% {\n",
              "      border-color: transparent;\n",
              "      border-right-color: var(--fill-color);\n",
              "      border-top-color: var(--fill-color);\n",
              "    }\n",
              "    60% {\n",
              "      border-color: transparent;\n",
              "      border-right-color: var(--fill-color);\n",
              "    }\n",
              "    80% {\n",
              "      border-color: transparent;\n",
              "      border-right-color: var(--fill-color);\n",
              "      border-bottom-color: var(--fill-color);\n",
              "    }\n",
              "    90% {\n",
              "      border-color: transparent;\n",
              "      border-bottom-color: var(--fill-color);\n",
              "    }\n",
              "  }\n",
              "</style>\n",
              "\n",
              "      <script>\n",
              "        async function quickchart(key) {\n",
              "          const quickchartButtonEl =\n",
              "            document.querySelector('#' + key + ' button');\n",
              "          quickchartButtonEl.disabled = true;  // To prevent multiple clicks.\n",
              "          quickchartButtonEl.classList.add('colab-df-spinner');\n",
              "          try {\n",
              "            const charts = await google.colab.kernel.invokeFunction(\n",
              "                'suggestCharts', [key], {});\n",
              "          } catch (error) {\n",
              "            console.error('Error during call to suggestCharts:', error);\n",
              "          }\n",
              "          quickchartButtonEl.classList.remove('colab-df-spinner');\n",
              "          quickchartButtonEl.classList.add('colab-df-quickchart-complete');\n",
              "        }\n",
              "        (() => {\n",
              "          let quickchartButtonEl =\n",
              "            document.querySelector('#df-c27604b7-48e0-4c8d-9c1a-947fdf6de67e button');\n",
              "          quickchartButtonEl.style.display =\n",
              "            google.colab.kernel.accessAllowed ? 'block' : 'none';\n",
              "        })();\n",
              "      </script>\n",
              "    </div>\n",
              "    </div>\n",
              "  </div>\n"
            ],
            "application/vnd.google.colaboratory.intrinsic+json": {
              "type": "dataframe",
              "summary": "{\n  \"name\": \"data\",\n  \"rows\": 8,\n  \"fields\": [\n    {\n      \"column\": \"\\u041a\\u043e\\u043d\\u0442\\u0440\\u043e\\u043b\\u044c\\u043d\\u0430\\u044f 1\",\n      \"properties\": {\n        \"dtype\": \"number\",\n        \"std\": 103.8696885958909,\n        \"min\": 2.0032832582311046,\n        \"max\": 300.0,\n        \"num_unique_values\": 8,\n        \"samples\": [\n          7.13,\n          7.0,\n          300.0\n        ],\n        \"semantic_type\": \"\",\n        \"description\": \"\"\n      }\n    },\n    {\n      \"column\": \"\\u041a\\u043e\\u043d\\u0442\\u0440\\u043e\\u043b\\u044c\\u043d\\u0430\\u044f 2\",\n      \"properties\": {\n        \"dtype\": \"number\",\n        \"std\": 103.87888341255409,\n        \"min\": 2.009839231050864,\n        \"max\": 300.0,\n        \"num_unique_values\": 8,\n        \"samples\": [\n          6.9366666666666665,\n          7.0,\n          300.0\n        ],\n        \"semantic_type\": \"\",\n        \"description\": \"\"\n      }\n    },\n    {\n      \"column\": \"\\u041a\\u043e\\u043d\\u0442\\u0440\\u043e\\u043b\\u044c\\u043d\\u0430\\u044f 3\",\n      \"properties\": {\n        \"dtype\": \"number\",\n        \"std\": 103.87763912053302,\n        \"min\": 2.028987259116937,\n        \"max\": 300.0,\n        \"num_unique_values\": 8,\n        \"samples\": [\n          6.94,\n          7.0,\n          300.0\n        ],\n        \"semantic_type\": \"\",\n        \"description\": \"\"\n      }\n    }\n  ]\n}"
            }
          },
          "metadata": {},
          "execution_count": 5
        }
      ]
    },
    {
      "cell_type": "code",
      "source": [
        "data.isna().sum()"
      ],
      "metadata": {
        "colab": {
          "base_uri": "https://localhost:8080/",
          "height": 366
        },
        "id": "FmZPWU0seggc",
        "outputId": "7dd7b63d-c286-48ac-a761-db64f5d5bbb1"
      },
      "execution_count": 6,
      "outputs": [
        {
          "output_type": "execute_result",
          "data": {
            "text/plain": [
              "Контрольная 1           0\n",
              "Контрольная 2           0\n",
              "Контрольная 3           0\n",
              "Сон накануне            0\n",
              "Настроение              0\n",
              "Энергетиков накануне    0\n",
              "Посещаемость занятий    0\n",
              "Время подготовки        0\n",
              "Сдал                    0\n",
              "dtype: int64"
            ],
            "text/html": [
              "<div>\n",
              "<style scoped>\n",
              "    .dataframe tbody tr th:only-of-type {\n",
              "        vertical-align: middle;\n",
              "    }\n",
              "\n",
              "    .dataframe tbody tr th {\n",
              "        vertical-align: top;\n",
              "    }\n",
              "\n",
              "    .dataframe thead th {\n",
              "        text-align: right;\n",
              "    }\n",
              "</style>\n",
              "<table border=\"1\" class=\"dataframe\">\n",
              "  <thead>\n",
              "    <tr style=\"text-align: right;\">\n",
              "      <th></th>\n",
              "      <th>0</th>\n",
              "    </tr>\n",
              "  </thead>\n",
              "  <tbody>\n",
              "    <tr>\n",
              "      <th>Контрольная 1</th>\n",
              "      <td>0</td>\n",
              "    </tr>\n",
              "    <tr>\n",
              "      <th>Контрольная 2</th>\n",
              "      <td>0</td>\n",
              "    </tr>\n",
              "    <tr>\n",
              "      <th>Контрольная 3</th>\n",
              "      <td>0</td>\n",
              "    </tr>\n",
              "    <tr>\n",
              "      <th>Сон накануне</th>\n",
              "      <td>0</td>\n",
              "    </tr>\n",
              "    <tr>\n",
              "      <th>Настроение</th>\n",
              "      <td>0</td>\n",
              "    </tr>\n",
              "    <tr>\n",
              "      <th>Энергетиков накануне</th>\n",
              "      <td>0</td>\n",
              "    </tr>\n",
              "    <tr>\n",
              "      <th>Посещаемость занятий</th>\n",
              "      <td>0</td>\n",
              "    </tr>\n",
              "    <tr>\n",
              "      <th>Время подготовки</th>\n",
              "      <td>0</td>\n",
              "    </tr>\n",
              "    <tr>\n",
              "      <th>Сдал</th>\n",
              "      <td>0</td>\n",
              "    </tr>\n",
              "  </tbody>\n",
              "</table>\n",
              "</div><br><label><b>dtype:</b> int64</label>"
            ]
          },
          "metadata": {},
          "execution_count": 6
        }
      ]
    },
    {
      "cell_type": "markdown",
      "source": [
        "В данных нет пропусков это очень хорошо"
      ],
      "metadata": {
        "id": "IumoxYVCoTuu"
      }
    },
    {
      "cell_type": "code",
      "source": [
        "data.head()"
      ],
      "metadata": {
        "colab": {
          "base_uri": "https://localhost:8080/",
          "height": 313
        },
        "id": "FXU10-PHvUqW",
        "outputId": "08ce9b4a-4a5a-47db-8208-0e57cf7ae9b0"
      },
      "execution_count": 7,
      "outputs": [
        {
          "output_type": "execute_result",
          "data": {
            "text/plain": [
              "   Контрольная 1  Контрольная 2  Контрольная 3 Сон накануне  Настроение  \\\n",
              "0              4              4              9          Нет     Хорошее   \n",
              "1              9              9              6           Да      Плохое   \n",
              "2              8              6              9           Да     Хорошее   \n",
              "3              8              4              9           Да     Хорошее   \n",
              "4              9             10              4          Нет  Нормальное   \n",
              "\n",
              "  Энергетиков накануне Посещаемость занятий Время подготовки Сдал  \n",
              "0                   4+               Низкая        За неделю  Нет  \n",
              "1                    1              Средняя    Последний час   Да  \n",
              "2                  2-3              Средняя    Последний час   Да  \n",
              "3                    1              Высокая   Последняя ночь   Да  \n",
              "4                    1               Низкая    Последний час   Да  "
            ],
            "text/html": [
              "\n",
              "  <div id=\"df-f710b982-a94b-4b94-b1a5-aeea950a686d\" class=\"colab-df-container\">\n",
              "    <div>\n",
              "<style scoped>\n",
              "    .dataframe tbody tr th:only-of-type {\n",
              "        vertical-align: middle;\n",
              "    }\n",
              "\n",
              "    .dataframe tbody tr th {\n",
              "        vertical-align: top;\n",
              "    }\n",
              "\n",
              "    .dataframe thead th {\n",
              "        text-align: right;\n",
              "    }\n",
              "</style>\n",
              "<table border=\"1\" class=\"dataframe\">\n",
              "  <thead>\n",
              "    <tr style=\"text-align: right;\">\n",
              "      <th></th>\n",
              "      <th>Контрольная 1</th>\n",
              "      <th>Контрольная 2</th>\n",
              "      <th>Контрольная 3</th>\n",
              "      <th>Сон накануне</th>\n",
              "      <th>Настроение</th>\n",
              "      <th>Энергетиков накануне</th>\n",
              "      <th>Посещаемость занятий</th>\n",
              "      <th>Время подготовки</th>\n",
              "      <th>Сдал</th>\n",
              "    </tr>\n",
              "  </thead>\n",
              "  <tbody>\n",
              "    <tr>\n",
              "      <th>0</th>\n",
              "      <td>4</td>\n",
              "      <td>4</td>\n",
              "      <td>9</td>\n",
              "      <td>Нет</td>\n",
              "      <td>Хорошее</td>\n",
              "      <td>4+</td>\n",
              "      <td>Низкая</td>\n",
              "      <td>За неделю</td>\n",
              "      <td>Нет</td>\n",
              "    </tr>\n",
              "    <tr>\n",
              "      <th>1</th>\n",
              "      <td>9</td>\n",
              "      <td>9</td>\n",
              "      <td>6</td>\n",
              "      <td>Да</td>\n",
              "      <td>Плохое</td>\n",
              "      <td>1</td>\n",
              "      <td>Средняя</td>\n",
              "      <td>Последний час</td>\n",
              "      <td>Да</td>\n",
              "    </tr>\n",
              "    <tr>\n",
              "      <th>2</th>\n",
              "      <td>8</td>\n",
              "      <td>6</td>\n",
              "      <td>9</td>\n",
              "      <td>Да</td>\n",
              "      <td>Хорошее</td>\n",
              "      <td>2-3</td>\n",
              "      <td>Средняя</td>\n",
              "      <td>Последний час</td>\n",
              "      <td>Да</td>\n",
              "    </tr>\n",
              "    <tr>\n",
              "      <th>3</th>\n",
              "      <td>8</td>\n",
              "      <td>4</td>\n",
              "      <td>9</td>\n",
              "      <td>Да</td>\n",
              "      <td>Хорошее</td>\n",
              "      <td>1</td>\n",
              "      <td>Высокая</td>\n",
              "      <td>Последняя ночь</td>\n",
              "      <td>Да</td>\n",
              "    </tr>\n",
              "    <tr>\n",
              "      <th>4</th>\n",
              "      <td>9</td>\n",
              "      <td>10</td>\n",
              "      <td>4</td>\n",
              "      <td>Нет</td>\n",
              "      <td>Нормальное</td>\n",
              "      <td>1</td>\n",
              "      <td>Низкая</td>\n",
              "      <td>Последний час</td>\n",
              "      <td>Да</td>\n",
              "    </tr>\n",
              "  </tbody>\n",
              "</table>\n",
              "</div>\n",
              "    <div class=\"colab-df-buttons\">\n",
              "\n",
              "  <div class=\"colab-df-container\">\n",
              "    <button class=\"colab-df-convert\" onclick=\"convertToInteractive('df-f710b982-a94b-4b94-b1a5-aeea950a686d')\"\n",
              "            title=\"Convert this dataframe to an interactive table.\"\n",
              "            style=\"display:none;\">\n",
              "\n",
              "  <svg xmlns=\"http://www.w3.org/2000/svg\" height=\"24px\" viewBox=\"0 -960 960 960\">\n",
              "    <path d=\"M120-120v-720h720v720H120Zm60-500h600v-160H180v160Zm220 220h160v-160H400v160Zm0 220h160v-160H400v160ZM180-400h160v-160H180v160Zm440 0h160v-160H620v160ZM180-180h160v-160H180v160Zm440 0h160v-160H620v160Z\"/>\n",
              "  </svg>\n",
              "    </button>\n",
              "\n",
              "  <style>\n",
              "    .colab-df-container {\n",
              "      display:flex;\n",
              "      gap: 12px;\n",
              "    }\n",
              "\n",
              "    .colab-df-convert {\n",
              "      background-color: #E8F0FE;\n",
              "      border: none;\n",
              "      border-radius: 50%;\n",
              "      cursor: pointer;\n",
              "      display: none;\n",
              "      fill: #1967D2;\n",
              "      height: 32px;\n",
              "      padding: 0 0 0 0;\n",
              "      width: 32px;\n",
              "    }\n",
              "\n",
              "    .colab-df-convert:hover {\n",
              "      background-color: #E2EBFA;\n",
              "      box-shadow: 0px 1px 2px rgba(60, 64, 67, 0.3), 0px 1px 3px 1px rgba(60, 64, 67, 0.15);\n",
              "      fill: #174EA6;\n",
              "    }\n",
              "\n",
              "    .colab-df-buttons div {\n",
              "      margin-bottom: 4px;\n",
              "    }\n",
              "\n",
              "    [theme=dark] .colab-df-convert {\n",
              "      background-color: #3B4455;\n",
              "      fill: #D2E3FC;\n",
              "    }\n",
              "\n",
              "    [theme=dark] .colab-df-convert:hover {\n",
              "      background-color: #434B5C;\n",
              "      box-shadow: 0px 1px 3px 1px rgba(0, 0, 0, 0.15);\n",
              "      filter: drop-shadow(0px 1px 2px rgba(0, 0, 0, 0.3));\n",
              "      fill: #FFFFFF;\n",
              "    }\n",
              "  </style>\n",
              "\n",
              "    <script>\n",
              "      const buttonEl =\n",
              "        document.querySelector('#df-f710b982-a94b-4b94-b1a5-aeea950a686d button.colab-df-convert');\n",
              "      buttonEl.style.display =\n",
              "        google.colab.kernel.accessAllowed ? 'block' : 'none';\n",
              "\n",
              "      async function convertToInteractive(key) {\n",
              "        const element = document.querySelector('#df-f710b982-a94b-4b94-b1a5-aeea950a686d');\n",
              "        const dataTable =\n",
              "          await google.colab.kernel.invokeFunction('convertToInteractive',\n",
              "                                                    [key], {});\n",
              "        if (!dataTable) return;\n",
              "\n",
              "        const docLinkHtml = 'Like what you see? Visit the ' +\n",
              "          '<a target=\"_blank\" href=https://colab.research.google.com/notebooks/data_table.ipynb>data table notebook</a>'\n",
              "          + ' to learn more about interactive tables.';\n",
              "        element.innerHTML = '';\n",
              "        dataTable['output_type'] = 'display_data';\n",
              "        await google.colab.output.renderOutput(dataTable, element);\n",
              "        const docLink = document.createElement('div');\n",
              "        docLink.innerHTML = docLinkHtml;\n",
              "        element.appendChild(docLink);\n",
              "      }\n",
              "    </script>\n",
              "  </div>\n",
              "\n",
              "\n",
              "    <div id=\"df-b44edf12-3361-417a-a193-46df46ed825f\">\n",
              "      <button class=\"colab-df-quickchart\" onclick=\"quickchart('df-b44edf12-3361-417a-a193-46df46ed825f')\"\n",
              "                title=\"Suggest charts\"\n",
              "                style=\"display:none;\">\n",
              "\n",
              "<svg xmlns=\"http://www.w3.org/2000/svg\" height=\"24px\"viewBox=\"0 0 24 24\"\n",
              "     width=\"24px\">\n",
              "    <g>\n",
              "        <path d=\"M19 3H5c-1.1 0-2 .9-2 2v14c0 1.1.9 2 2 2h14c1.1 0 2-.9 2-2V5c0-1.1-.9-2-2-2zM9 17H7v-7h2v7zm4 0h-2V7h2v10zm4 0h-2v-4h2v4z\"/>\n",
              "    </g>\n",
              "</svg>\n",
              "      </button>\n",
              "\n",
              "<style>\n",
              "  .colab-df-quickchart {\n",
              "      --bg-color: #E8F0FE;\n",
              "      --fill-color: #1967D2;\n",
              "      --hover-bg-color: #E2EBFA;\n",
              "      --hover-fill-color: #174EA6;\n",
              "      --disabled-fill-color: #AAA;\n",
              "      --disabled-bg-color: #DDD;\n",
              "  }\n",
              "\n",
              "  [theme=dark] .colab-df-quickchart {\n",
              "      --bg-color: #3B4455;\n",
              "      --fill-color: #D2E3FC;\n",
              "      --hover-bg-color: #434B5C;\n",
              "      --hover-fill-color: #FFFFFF;\n",
              "      --disabled-bg-color: #3B4455;\n",
              "      --disabled-fill-color: #666;\n",
              "  }\n",
              "\n",
              "  .colab-df-quickchart {\n",
              "    background-color: var(--bg-color);\n",
              "    border: none;\n",
              "    border-radius: 50%;\n",
              "    cursor: pointer;\n",
              "    display: none;\n",
              "    fill: var(--fill-color);\n",
              "    height: 32px;\n",
              "    padding: 0;\n",
              "    width: 32px;\n",
              "  }\n",
              "\n",
              "  .colab-df-quickchart:hover {\n",
              "    background-color: var(--hover-bg-color);\n",
              "    box-shadow: 0 1px 2px rgba(60, 64, 67, 0.3), 0 1px 3px 1px rgba(60, 64, 67, 0.15);\n",
              "    fill: var(--button-hover-fill-color);\n",
              "  }\n",
              "\n",
              "  .colab-df-quickchart-complete:disabled,\n",
              "  .colab-df-quickchart-complete:disabled:hover {\n",
              "    background-color: var(--disabled-bg-color);\n",
              "    fill: var(--disabled-fill-color);\n",
              "    box-shadow: none;\n",
              "  }\n",
              "\n",
              "  .colab-df-spinner {\n",
              "    border: 2px solid var(--fill-color);\n",
              "    border-color: transparent;\n",
              "    border-bottom-color: var(--fill-color);\n",
              "    animation:\n",
              "      spin 1s steps(1) infinite;\n",
              "  }\n",
              "\n",
              "  @keyframes spin {\n",
              "    0% {\n",
              "      border-color: transparent;\n",
              "      border-bottom-color: var(--fill-color);\n",
              "      border-left-color: var(--fill-color);\n",
              "    }\n",
              "    20% {\n",
              "      border-color: transparent;\n",
              "      border-left-color: var(--fill-color);\n",
              "      border-top-color: var(--fill-color);\n",
              "    }\n",
              "    30% {\n",
              "      border-color: transparent;\n",
              "      border-left-color: var(--fill-color);\n",
              "      border-top-color: var(--fill-color);\n",
              "      border-right-color: var(--fill-color);\n",
              "    }\n",
              "    40% {\n",
              "      border-color: transparent;\n",
              "      border-right-color: var(--fill-color);\n",
              "      border-top-color: var(--fill-color);\n",
              "    }\n",
              "    60% {\n",
              "      border-color: transparent;\n",
              "      border-right-color: var(--fill-color);\n",
              "    }\n",
              "    80% {\n",
              "      border-color: transparent;\n",
              "      border-right-color: var(--fill-color);\n",
              "      border-bottom-color: var(--fill-color);\n",
              "    }\n",
              "    90% {\n",
              "      border-color: transparent;\n",
              "      border-bottom-color: var(--fill-color);\n",
              "    }\n",
              "  }\n",
              "</style>\n",
              "\n",
              "      <script>\n",
              "        async function quickchart(key) {\n",
              "          const quickchartButtonEl =\n",
              "            document.querySelector('#' + key + ' button');\n",
              "          quickchartButtonEl.disabled = true;  // To prevent multiple clicks.\n",
              "          quickchartButtonEl.classList.add('colab-df-spinner');\n",
              "          try {\n",
              "            const charts = await google.colab.kernel.invokeFunction(\n",
              "                'suggestCharts', [key], {});\n",
              "          } catch (error) {\n",
              "            console.error('Error during call to suggestCharts:', error);\n",
              "          }\n",
              "          quickchartButtonEl.classList.remove('colab-df-spinner');\n",
              "          quickchartButtonEl.classList.add('colab-df-quickchart-complete');\n",
              "        }\n",
              "        (() => {\n",
              "          let quickchartButtonEl =\n",
              "            document.querySelector('#df-b44edf12-3361-417a-a193-46df46ed825f button');\n",
              "          quickchartButtonEl.style.display =\n",
              "            google.colab.kernel.accessAllowed ? 'block' : 'none';\n",
              "        })();\n",
              "      </script>\n",
              "    </div>\n",
              "    </div>\n",
              "  </div>\n"
            ],
            "application/vnd.google.colaboratory.intrinsic+json": {
              "type": "dataframe",
              "variable_name": "data",
              "summary": "{\n  \"name\": \"data\",\n  \"rows\": 300,\n  \"fields\": [\n    {\n      \"column\": \"\\u041a\\u043e\\u043d\\u0442\\u0440\\u043e\\u043b\\u044c\\u043d\\u0430\\u044f 1\",\n      \"properties\": {\n        \"dtype\": \"number\",\n        \"std\": 2,\n        \"min\": 4,\n        \"max\": 10,\n        \"num_unique_values\": 7,\n        \"samples\": [\n          4,\n          9,\n          10\n        ],\n        \"semantic_type\": \"\",\n        \"description\": \"\"\n      }\n    },\n    {\n      \"column\": \"\\u041a\\u043e\\u043d\\u0442\\u0440\\u043e\\u043b\\u044c\\u043d\\u0430\\u044f 2\",\n      \"properties\": {\n        \"dtype\": \"number\",\n        \"std\": 2,\n        \"min\": 4,\n        \"max\": 10,\n        \"num_unique_values\": 7,\n        \"samples\": [\n          4,\n          9,\n          8\n        ],\n        \"semantic_type\": \"\",\n        \"description\": \"\"\n      }\n    },\n    {\n      \"column\": \"\\u041a\\u043e\\u043d\\u0442\\u0440\\u043e\\u043b\\u044c\\u043d\\u0430\\u044f 3\",\n      \"properties\": {\n        \"dtype\": \"number\",\n        \"std\": 2,\n        \"min\": 4,\n        \"max\": 10,\n        \"num_unique_values\": 7,\n        \"samples\": [\n          9,\n          6,\n          8\n        ],\n        \"semantic_type\": \"\",\n        \"description\": \"\"\n      }\n    },\n    {\n      \"column\": \"\\u0421\\u043e\\u043d \\u043d\\u0430\\u043a\\u0430\\u043d\\u0443\\u043d\\u0435\",\n      \"properties\": {\n        \"dtype\": \"category\",\n        \"num_unique_values\": 2,\n        \"samples\": [\n          \"\\u0414\\u0430\",\n          \"\\u041d\\u0435\\u0442\"\n        ],\n        \"semantic_type\": \"\",\n        \"description\": \"\"\n      }\n    },\n    {\n      \"column\": \"\\u041d\\u0430\\u0441\\u0442\\u0440\\u043e\\u0435\\u043d\\u0438\\u0435\",\n      \"properties\": {\n        \"dtype\": \"category\",\n        \"num_unique_values\": 3,\n        \"samples\": [\n          \"\\u0425\\u043e\\u0440\\u043e\\u0448\\u0435\\u0435\",\n          \"\\u041f\\u043b\\u043e\\u0445\\u043e\\u0435\"\n        ],\n        \"semantic_type\": \"\",\n        \"description\": \"\"\n      }\n    },\n    {\n      \"column\": \"\\u042d\\u043d\\u0435\\u0440\\u0433\\u0435\\u0442\\u0438\\u043a\\u043e\\u0432 \\u043d\\u0430\\u043a\\u0430\\u043d\\u0443\\u043d\\u0435\",\n      \"properties\": {\n        \"dtype\": \"category\",\n        \"num_unique_values\": 4,\n        \"samples\": [\n          \"1\",\n          \"0\"\n        ],\n        \"semantic_type\": \"\",\n        \"description\": \"\"\n      }\n    },\n    {\n      \"column\": \"\\u041f\\u043e\\u0441\\u0435\\u0449\\u0430\\u0435\\u043c\\u043e\\u0441\\u0442\\u044c \\u0437\\u0430\\u043d\\u044f\\u0442\\u0438\\u0439\",\n      \"properties\": {\n        \"dtype\": \"category\",\n        \"num_unique_values\": 3,\n        \"samples\": [\n          \"\\u041d\\u0438\\u0437\\u043a\\u0430\\u044f\",\n          \"\\u0421\\u0440\\u0435\\u0434\\u043d\\u044f\\u044f\"\n        ],\n        \"semantic_type\": \"\",\n        \"description\": \"\"\n      }\n    },\n    {\n      \"column\": \"\\u0412\\u0440\\u0435\\u043c\\u044f \\u043f\\u043e\\u0434\\u0433\\u043e\\u0442\\u043e\\u0432\\u043a\\u0438\",\n      \"properties\": {\n        \"dtype\": \"category\",\n        \"num_unique_values\": 4,\n        \"samples\": [\n          \"\\u041f\\u043e\\u0441\\u043b\\u0435\\u0434\\u043d\\u0438\\u0439 \\u0447\\u0430\\u0441\",\n          \"\\u0417\\u0430 \\u043d\\u0435\\u0441\\u043a\\u043e\\u043b\\u044c\\u043a\\u043e \\u0434\\u043d\\u0435\\u0439\"\n        ],\n        \"semantic_type\": \"\",\n        \"description\": \"\"\n      }\n    },\n    {\n      \"column\": \"\\u0421\\u0434\\u0430\\u043b\",\n      \"properties\": {\n        \"dtype\": \"category\",\n        \"num_unique_values\": 2,\n        \"samples\": [\n          \"\\u0414\\u0430\",\n          \"\\u041d\\u0435\\u0442\"\n        ],\n        \"semantic_type\": \"\",\n        \"description\": \"\"\n      }\n    }\n  ]\n}"
            }
          },
          "metadata": {},
          "execution_count": 7
        }
      ]
    },
    {
      "cell_type": "markdown",
      "source": [
        "Заметим что в данных много категориальных признаков. Данных не много поэтому нейронки особого смысла обучать нет + много категориальных признаков поэтому основная модель скорее всего будет градиентным бустингом над деревьями.  "
      ],
      "metadata": {
        "id": "izGz1KCqlhFX"
      }
    },
    {
      "cell_type": "markdown",
      "source": [
        "Но для построения бэйслайнов которые не могут работаь с категориальными признаками и некоторой предобработки декодируем их. C помощью one hot encoding"
      ],
      "metadata": {
        "id": "qsBvkH5gry66"
      }
    },
    {
      "cell_type": "code",
      "source": [
        "x, y = data.drop(columns = [\"Сдал\"]), data[\"Сдал\"]"
      ],
      "metadata": {
        "id": "WM-uINrlodil"
      },
      "execution_count": 8,
      "outputs": []
    },
    {
      "cell_type": "markdown",
      "source": [
        "Все столбцы кроме оценок считаем категориальными"
      ],
      "metadata": {
        "id": "BScZYgwVzk6T"
      }
    },
    {
      "cell_type": "code",
      "source": [
        "cat_columns = x.iloc[:, 3:].columns\n",
        "df_encoded = pd.get_dummies(x, columns=x.iloc[:, 3:].columns).astype(int)"
      ],
      "metadata": {
        "id": "LBKVY03Xzg-p"
      },
      "execution_count": 9,
      "outputs": []
    },
    {
      "cell_type": "markdown",
      "source": [
        "С помощью Изоляционного леса предобработает анамалии. Порог подбирался вручную"
      ],
      "metadata": {
        "id": "CsU3l2Hf0Ecl"
      }
    },
    {
      "cell_type": "code",
      "source": [
        "iso = IsolationForest(random_state=0, contamination=0.01)\n",
        "clean = iso.fit_predict(df_encoded, y)\n",
        "\n",
        "X_cleaned = x[clean != -1]\n",
        "X_encoded_clean = df_encoded[clean != -1]\n",
        "\n",
        "y_cleaned = y[clean != -1]"
      ],
      "metadata": {
        "id": "7e9YCd2EoWj_"
      },
      "execution_count": 10,
      "outputs": []
    },
    {
      "cell_type": "markdown",
      "source": [
        "Из понимания домена делаем вывод что наиболее важные факторы это оценки и посещаемость. Поэтому делаем вывод что это скорее всего действительно аномалии"
      ],
      "metadata": {
        "id": "AltMF0460_-x"
      }
    },
    {
      "cell_type": "code",
      "source": [
        "data.iloc[clean == -1]"
      ],
      "metadata": {
        "colab": {
          "base_uri": "https://localhost:8080/",
          "height": 215
        },
        "id": "2j-msAEdovHq",
        "outputId": "d5f4b199-94af-4957-f7cc-d5a869be2fe4"
      },
      "execution_count": 11,
      "outputs": [
        {
          "output_type": "execute_result",
          "data": {
            "text/plain": [
              "    Контрольная 1  Контрольная 2  Контрольная 3 Сон накануне Настроение  \\\n",
              "7               8              6             10          Нет    Хорошее   \n",
              "32              9             10             10          Нет     Плохое   \n",
              "99              4             10              9          Нет     Плохое   \n",
              "\n",
              "   Энергетиков накануне Посещаемость занятий   Время подготовки Сдал  \n",
              "7                    4+              Средняя  За несколько дней  Нет  \n",
              "32                   4+              Средняя          За неделю  Нет  \n",
              "99                   4+              Средняя          За неделю  Нет  "
            ],
            "text/html": [
              "\n",
              "  <div id=\"df-9221ab74-0101-4c16-8f68-11840078a430\" class=\"colab-df-container\">\n",
              "    <div>\n",
              "<style scoped>\n",
              "    .dataframe tbody tr th:only-of-type {\n",
              "        vertical-align: middle;\n",
              "    }\n",
              "\n",
              "    .dataframe tbody tr th {\n",
              "        vertical-align: top;\n",
              "    }\n",
              "\n",
              "    .dataframe thead th {\n",
              "        text-align: right;\n",
              "    }\n",
              "</style>\n",
              "<table border=\"1\" class=\"dataframe\">\n",
              "  <thead>\n",
              "    <tr style=\"text-align: right;\">\n",
              "      <th></th>\n",
              "      <th>Контрольная 1</th>\n",
              "      <th>Контрольная 2</th>\n",
              "      <th>Контрольная 3</th>\n",
              "      <th>Сон накануне</th>\n",
              "      <th>Настроение</th>\n",
              "      <th>Энергетиков накануне</th>\n",
              "      <th>Посещаемость занятий</th>\n",
              "      <th>Время подготовки</th>\n",
              "      <th>Сдал</th>\n",
              "    </tr>\n",
              "  </thead>\n",
              "  <tbody>\n",
              "    <tr>\n",
              "      <th>7</th>\n",
              "      <td>8</td>\n",
              "      <td>6</td>\n",
              "      <td>10</td>\n",
              "      <td>Нет</td>\n",
              "      <td>Хорошее</td>\n",
              "      <td>4+</td>\n",
              "      <td>Средняя</td>\n",
              "      <td>За несколько дней</td>\n",
              "      <td>Нет</td>\n",
              "    </tr>\n",
              "    <tr>\n",
              "      <th>32</th>\n",
              "      <td>9</td>\n",
              "      <td>10</td>\n",
              "      <td>10</td>\n",
              "      <td>Нет</td>\n",
              "      <td>Плохое</td>\n",
              "      <td>4+</td>\n",
              "      <td>Средняя</td>\n",
              "      <td>За неделю</td>\n",
              "      <td>Нет</td>\n",
              "    </tr>\n",
              "    <tr>\n",
              "      <th>99</th>\n",
              "      <td>4</td>\n",
              "      <td>10</td>\n",
              "      <td>9</td>\n",
              "      <td>Нет</td>\n",
              "      <td>Плохое</td>\n",
              "      <td>4+</td>\n",
              "      <td>Средняя</td>\n",
              "      <td>За неделю</td>\n",
              "      <td>Нет</td>\n",
              "    </tr>\n",
              "  </tbody>\n",
              "</table>\n",
              "</div>\n",
              "    <div class=\"colab-df-buttons\">\n",
              "\n",
              "  <div class=\"colab-df-container\">\n",
              "    <button class=\"colab-df-convert\" onclick=\"convertToInteractive('df-9221ab74-0101-4c16-8f68-11840078a430')\"\n",
              "            title=\"Convert this dataframe to an interactive table.\"\n",
              "            style=\"display:none;\">\n",
              "\n",
              "  <svg xmlns=\"http://www.w3.org/2000/svg\" height=\"24px\" viewBox=\"0 -960 960 960\">\n",
              "    <path d=\"M120-120v-720h720v720H120Zm60-500h600v-160H180v160Zm220 220h160v-160H400v160Zm0 220h160v-160H400v160ZM180-400h160v-160H180v160Zm440 0h160v-160H620v160ZM180-180h160v-160H180v160Zm440 0h160v-160H620v160Z\"/>\n",
              "  </svg>\n",
              "    </button>\n",
              "\n",
              "  <style>\n",
              "    .colab-df-container {\n",
              "      display:flex;\n",
              "      gap: 12px;\n",
              "    }\n",
              "\n",
              "    .colab-df-convert {\n",
              "      background-color: #E8F0FE;\n",
              "      border: none;\n",
              "      border-radius: 50%;\n",
              "      cursor: pointer;\n",
              "      display: none;\n",
              "      fill: #1967D2;\n",
              "      height: 32px;\n",
              "      padding: 0 0 0 0;\n",
              "      width: 32px;\n",
              "    }\n",
              "\n",
              "    .colab-df-convert:hover {\n",
              "      background-color: #E2EBFA;\n",
              "      box-shadow: 0px 1px 2px rgba(60, 64, 67, 0.3), 0px 1px 3px 1px rgba(60, 64, 67, 0.15);\n",
              "      fill: #174EA6;\n",
              "    }\n",
              "\n",
              "    .colab-df-buttons div {\n",
              "      margin-bottom: 4px;\n",
              "    }\n",
              "\n",
              "    [theme=dark] .colab-df-convert {\n",
              "      background-color: #3B4455;\n",
              "      fill: #D2E3FC;\n",
              "    }\n",
              "\n",
              "    [theme=dark] .colab-df-convert:hover {\n",
              "      background-color: #434B5C;\n",
              "      box-shadow: 0px 1px 3px 1px rgba(0, 0, 0, 0.15);\n",
              "      filter: drop-shadow(0px 1px 2px rgba(0, 0, 0, 0.3));\n",
              "      fill: #FFFFFF;\n",
              "    }\n",
              "  </style>\n",
              "\n",
              "    <script>\n",
              "      const buttonEl =\n",
              "        document.querySelector('#df-9221ab74-0101-4c16-8f68-11840078a430 button.colab-df-convert');\n",
              "      buttonEl.style.display =\n",
              "        google.colab.kernel.accessAllowed ? 'block' : 'none';\n",
              "\n",
              "      async function convertToInteractive(key) {\n",
              "        const element = document.querySelector('#df-9221ab74-0101-4c16-8f68-11840078a430');\n",
              "        const dataTable =\n",
              "          await google.colab.kernel.invokeFunction('convertToInteractive',\n",
              "                                                    [key], {});\n",
              "        if (!dataTable) return;\n",
              "\n",
              "        const docLinkHtml = 'Like what you see? Visit the ' +\n",
              "          '<a target=\"_blank\" href=https://colab.research.google.com/notebooks/data_table.ipynb>data table notebook</a>'\n",
              "          + ' to learn more about interactive tables.';\n",
              "        element.innerHTML = '';\n",
              "        dataTable['output_type'] = 'display_data';\n",
              "        await google.colab.output.renderOutput(dataTable, element);\n",
              "        const docLink = document.createElement('div');\n",
              "        docLink.innerHTML = docLinkHtml;\n",
              "        element.appendChild(docLink);\n",
              "      }\n",
              "    </script>\n",
              "  </div>\n",
              "\n",
              "\n",
              "    <div id=\"df-afb869f0-296f-493a-8970-79a1650f9ec3\">\n",
              "      <button class=\"colab-df-quickchart\" onclick=\"quickchart('df-afb869f0-296f-493a-8970-79a1650f9ec3')\"\n",
              "                title=\"Suggest charts\"\n",
              "                style=\"display:none;\">\n",
              "\n",
              "<svg xmlns=\"http://www.w3.org/2000/svg\" height=\"24px\"viewBox=\"0 0 24 24\"\n",
              "     width=\"24px\">\n",
              "    <g>\n",
              "        <path d=\"M19 3H5c-1.1 0-2 .9-2 2v14c0 1.1.9 2 2 2h14c1.1 0 2-.9 2-2V5c0-1.1-.9-2-2-2zM9 17H7v-7h2v7zm4 0h-2V7h2v10zm4 0h-2v-4h2v4z\"/>\n",
              "    </g>\n",
              "</svg>\n",
              "      </button>\n",
              "\n",
              "<style>\n",
              "  .colab-df-quickchart {\n",
              "      --bg-color: #E8F0FE;\n",
              "      --fill-color: #1967D2;\n",
              "      --hover-bg-color: #E2EBFA;\n",
              "      --hover-fill-color: #174EA6;\n",
              "      --disabled-fill-color: #AAA;\n",
              "      --disabled-bg-color: #DDD;\n",
              "  }\n",
              "\n",
              "  [theme=dark] .colab-df-quickchart {\n",
              "      --bg-color: #3B4455;\n",
              "      --fill-color: #D2E3FC;\n",
              "      --hover-bg-color: #434B5C;\n",
              "      --hover-fill-color: #FFFFFF;\n",
              "      --disabled-bg-color: #3B4455;\n",
              "      --disabled-fill-color: #666;\n",
              "  }\n",
              "\n",
              "  .colab-df-quickchart {\n",
              "    background-color: var(--bg-color);\n",
              "    border: none;\n",
              "    border-radius: 50%;\n",
              "    cursor: pointer;\n",
              "    display: none;\n",
              "    fill: var(--fill-color);\n",
              "    height: 32px;\n",
              "    padding: 0;\n",
              "    width: 32px;\n",
              "  }\n",
              "\n",
              "  .colab-df-quickchart:hover {\n",
              "    background-color: var(--hover-bg-color);\n",
              "    box-shadow: 0 1px 2px rgba(60, 64, 67, 0.3), 0 1px 3px 1px rgba(60, 64, 67, 0.15);\n",
              "    fill: var(--button-hover-fill-color);\n",
              "  }\n",
              "\n",
              "  .colab-df-quickchart-complete:disabled,\n",
              "  .colab-df-quickchart-complete:disabled:hover {\n",
              "    background-color: var(--disabled-bg-color);\n",
              "    fill: var(--disabled-fill-color);\n",
              "    box-shadow: none;\n",
              "  }\n",
              "\n",
              "  .colab-df-spinner {\n",
              "    border: 2px solid var(--fill-color);\n",
              "    border-color: transparent;\n",
              "    border-bottom-color: var(--fill-color);\n",
              "    animation:\n",
              "      spin 1s steps(1) infinite;\n",
              "  }\n",
              "\n",
              "  @keyframes spin {\n",
              "    0% {\n",
              "      border-color: transparent;\n",
              "      border-bottom-color: var(--fill-color);\n",
              "      border-left-color: var(--fill-color);\n",
              "    }\n",
              "    20% {\n",
              "      border-color: transparent;\n",
              "      border-left-color: var(--fill-color);\n",
              "      border-top-color: var(--fill-color);\n",
              "    }\n",
              "    30% {\n",
              "      border-color: transparent;\n",
              "      border-left-color: var(--fill-color);\n",
              "      border-top-color: var(--fill-color);\n",
              "      border-right-color: var(--fill-color);\n",
              "    }\n",
              "    40% {\n",
              "      border-color: transparent;\n",
              "      border-right-color: var(--fill-color);\n",
              "      border-top-color: var(--fill-color);\n",
              "    }\n",
              "    60% {\n",
              "      border-color: transparent;\n",
              "      border-right-color: var(--fill-color);\n",
              "    }\n",
              "    80% {\n",
              "      border-color: transparent;\n",
              "      border-right-color: var(--fill-color);\n",
              "      border-bottom-color: var(--fill-color);\n",
              "    }\n",
              "    90% {\n",
              "      border-color: transparent;\n",
              "      border-bottom-color: var(--fill-color);\n",
              "    }\n",
              "  }\n",
              "</style>\n",
              "\n",
              "      <script>\n",
              "        async function quickchart(key) {\n",
              "          const quickchartButtonEl =\n",
              "            document.querySelector('#' + key + ' button');\n",
              "          quickchartButtonEl.disabled = true;  // To prevent multiple clicks.\n",
              "          quickchartButtonEl.classList.add('colab-df-spinner');\n",
              "          try {\n",
              "            const charts = await google.colab.kernel.invokeFunction(\n",
              "                'suggestCharts', [key], {});\n",
              "          } catch (error) {\n",
              "            console.error('Error during call to suggestCharts:', error);\n",
              "          }\n",
              "          quickchartButtonEl.classList.remove('colab-df-spinner');\n",
              "          quickchartButtonEl.classList.add('colab-df-quickchart-complete');\n",
              "        }\n",
              "        (() => {\n",
              "          let quickchartButtonEl =\n",
              "            document.querySelector('#df-afb869f0-296f-493a-8970-79a1650f9ec3 button');\n",
              "          quickchartButtonEl.style.display =\n",
              "            google.colab.kernel.accessAllowed ? 'block' : 'none';\n",
              "        })();\n",
              "      </script>\n",
              "    </div>\n",
              "    </div>\n",
              "  </div>\n"
            ],
            "application/vnd.google.colaboratory.intrinsic+json": {
              "type": "dataframe",
              "summary": "{\n  \"name\": \"data\",\n  \"rows\": 3,\n  \"fields\": [\n    {\n      \"column\": \"\\u041a\\u043e\\u043d\\u0442\\u0440\\u043e\\u043b\\u044c\\u043d\\u0430\\u044f 1\",\n      \"properties\": {\n        \"dtype\": \"number\",\n        \"std\": 2,\n        \"min\": 4,\n        \"max\": 9,\n        \"num_unique_values\": 3,\n        \"samples\": [\n          8,\n          9,\n          4\n        ],\n        \"semantic_type\": \"\",\n        \"description\": \"\"\n      }\n    },\n    {\n      \"column\": \"\\u041a\\u043e\\u043d\\u0442\\u0440\\u043e\\u043b\\u044c\\u043d\\u0430\\u044f 2\",\n      \"properties\": {\n        \"dtype\": \"number\",\n        \"std\": 2,\n        \"min\": 6,\n        \"max\": 10,\n        \"num_unique_values\": 2,\n        \"samples\": [\n          10,\n          6\n        ],\n        \"semantic_type\": \"\",\n        \"description\": \"\"\n      }\n    },\n    {\n      \"column\": \"\\u041a\\u043e\\u043d\\u0442\\u0440\\u043e\\u043b\\u044c\\u043d\\u0430\\u044f 3\",\n      \"properties\": {\n        \"dtype\": \"number\",\n        \"std\": 0,\n        \"min\": 9,\n        \"max\": 10,\n        \"num_unique_values\": 2,\n        \"samples\": [\n          9,\n          10\n        ],\n        \"semantic_type\": \"\",\n        \"description\": \"\"\n      }\n    },\n    {\n      \"column\": \"\\u0421\\u043e\\u043d \\u043d\\u0430\\u043a\\u0430\\u043d\\u0443\\u043d\\u0435\",\n      \"properties\": {\n        \"dtype\": \"category\",\n        \"num_unique_values\": 1,\n        \"samples\": [\n          \"\\u041d\\u0435\\u0442\"\n        ],\n        \"semantic_type\": \"\",\n        \"description\": \"\"\n      }\n    },\n    {\n      \"column\": \"\\u041d\\u0430\\u0441\\u0442\\u0440\\u043e\\u0435\\u043d\\u0438\\u0435\",\n      \"properties\": {\n        \"dtype\": \"string\",\n        \"num_unique_values\": 2,\n        \"samples\": [\n          \"\\u041f\\u043b\\u043e\\u0445\\u043e\\u0435\"\n        ],\n        \"semantic_type\": \"\",\n        \"description\": \"\"\n      }\n    },\n    {\n      \"column\": \"\\u042d\\u043d\\u0435\\u0440\\u0433\\u0435\\u0442\\u0438\\u043a\\u043e\\u0432 \\u043d\\u0430\\u043a\\u0430\\u043d\\u0443\\u043d\\u0435\",\n      \"properties\": {\n        \"dtype\": \"category\",\n        \"num_unique_values\": 1,\n        \"samples\": [\n          \"4+\"\n        ],\n        \"semantic_type\": \"\",\n        \"description\": \"\"\n      }\n    },\n    {\n      \"column\": \"\\u041f\\u043e\\u0441\\u0435\\u0449\\u0430\\u0435\\u043c\\u043e\\u0441\\u0442\\u044c \\u0437\\u0430\\u043d\\u044f\\u0442\\u0438\\u0439\",\n      \"properties\": {\n        \"dtype\": \"category\",\n        \"num_unique_values\": 1,\n        \"samples\": [\n          \"\\u0421\\u0440\\u0435\\u0434\\u043d\\u044f\\u044f\"\n        ],\n        \"semantic_type\": \"\",\n        \"description\": \"\"\n      }\n    },\n    {\n      \"column\": \"\\u0412\\u0440\\u0435\\u043c\\u044f \\u043f\\u043e\\u0434\\u0433\\u043e\\u0442\\u043e\\u0432\\u043a\\u0438\",\n      \"properties\": {\n        \"dtype\": \"string\",\n        \"num_unique_values\": 2,\n        \"samples\": [\n          \"\\u0417\\u0430 \\u043d\\u0435\\u0434\\u0435\\u043b\\u044e\"\n        ],\n        \"semantic_type\": \"\",\n        \"description\": \"\"\n      }\n    },\n    {\n      \"column\": \"\\u0421\\u0434\\u0430\\u043b\",\n      \"properties\": {\n        \"dtype\": \"category\",\n        \"num_unique_values\": 1,\n        \"samples\": [\n          \"\\u041d\\u0435\\u0442\"\n        ],\n        \"semantic_type\": \"\",\n        \"description\": \"\"\n      }\n    }\n  ]\n}"
            }
          },
          "metadata": {},
          "execution_count": 11
        }
      ]
    },
    {
      "cell_type": "markdown",
      "source": [
        "Попробуем добавить новых фичей"
      ],
      "metadata": {
        "id": "ban0jDqj9XqI"
      }
    },
    {
      "cell_type": "markdown",
      "source": [
        "Из понимания домена можно попробовать сделать вывод что наибольший вклад дают именно оценки. Поэтому попробуем добавить несколько статискик этих данных"
      ],
      "metadata": {
        "id": "5zLjw3Aq_6t7"
      }
    },
    {
      "cell_type": "code",
      "source": [
        "X_cleaned.loc[:, \"Mean\"] = X_encoded_clean[X_encoded_clean.columns[:3]].mean(axis=1)\n",
        "X_encoded_clean.loc[:, \"Mean\"] = X_encoded_clean[X_encoded_clean.columns[:3]].mean(axis=1)"
      ],
      "metadata": {
        "id": "xtO5Yfdt9d4v",
        "colab": {
          "base_uri": "https://localhost:8080/"
        },
        "outputId": "255cdea7-4e86-4ca0-a223-9829982241cc"
      },
      "execution_count": 12,
      "outputs": [
        {
          "output_type": "stream",
          "name": "stderr",
          "text": [
            "<ipython-input-12-16e3bd562b50>:1: SettingWithCopyWarning: \n",
            "A value is trying to be set on a copy of a slice from a DataFrame.\n",
            "Try using .loc[row_indexer,col_indexer] = value instead\n",
            "\n",
            "See the caveats in the documentation: https://pandas.pydata.org/pandas-docs/stable/user_guide/indexing.html#returning-a-view-versus-a-copy\n",
            "  X_cleaned.loc[:, \"Mean\"] = X_encoded_clean[X_encoded_clean.columns[:3]].mean(axis=1)\n",
            "<ipython-input-12-16e3bd562b50>:2: SettingWithCopyWarning: \n",
            "A value is trying to be set on a copy of a slice from a DataFrame.\n",
            "Try using .loc[row_indexer,col_indexer] = value instead\n",
            "\n",
            "See the caveats in the documentation: https://pandas.pydata.org/pandas-docs/stable/user_guide/indexing.html#returning-a-view-versus-a-copy\n",
            "  X_encoded_clean.loc[:, \"Mean\"] = X_encoded_clean[X_encoded_clean.columns[:3]].mean(axis=1)\n"
          ]
        }
      ]
    },
    {
      "cell_type": "markdown",
      "source": [
        "Добавили среднее из оценок"
      ],
      "metadata": {
        "id": "rxQJrH-b_9kD"
      }
    },
    {
      "cell_type": "code",
      "source": [
        "X_encoded_clean.loc[:, \"Min\"] = X_encoded_clean[X_encoded_clean.columns[:3]].min(axis=1)\n",
        "\n",
        "X_encoded_clean = X_encoded_clean.assign(\n",
        "    Min=X_encoded_clean[X_encoded_clean.columns[:3]].min(axis=1)\n",
        ")"
      ],
      "metadata": {
        "id": "XKdCWoCO_jaE",
        "colab": {
          "base_uri": "https://localhost:8080/"
        },
        "outputId": "1c8709dc-6dc2-40a0-8fcd-be53a057657a"
      },
      "execution_count": 13,
      "outputs": [
        {
          "output_type": "stream",
          "name": "stderr",
          "text": [
            "<ipython-input-13-0ba08c6f1b68>:1: SettingWithCopyWarning: \n",
            "A value is trying to be set on a copy of a slice from a DataFrame.\n",
            "Try using .loc[row_indexer,col_indexer] = value instead\n",
            "\n",
            "See the caveats in the documentation: https://pandas.pydata.org/pandas-docs/stable/user_guide/indexing.html#returning-a-view-versus-a-copy\n",
            "  X_encoded_clean.loc[:, \"Min\"] = X_encoded_clean[X_encoded_clean.columns[:3]].min(axis=1)\n"
          ]
        }
      ]
    },
    {
      "cell_type": "markdown",
      "source": [
        "Добавили минимальную оценку"
      ],
      "metadata": {
        "id": "Z_vtEeCuAb58"
      }
    },
    {
      "cell_type": "markdown",
      "source": [
        "Попробуем обучить несколько простых моделей"
      ],
      "metadata": {
        "id": "Y7qVpZmpBly0"
      }
    },
    {
      "cell_type": "code",
      "source": [
        "Xen_train, Xen_test, yen_train, yen_test = train_test_split(X_encoded_clean, y_cleaned)"
      ],
      "metadata": {
        "id": "_htxea_EBu1G"
      },
      "execution_count": 14,
      "outputs": []
    },
    {
      "cell_type": "code",
      "source": [
        "lr = LogisticRegression()\n",
        "print(cross_val_score(lr, Xen_train, yen_train, cv=20, scoring='accuracy').mean())"
      ],
      "metadata": {
        "colab": {
          "base_uri": "https://localhost:8080/"
        },
        "id": "pryHeSoH9IYO",
        "outputId": "16be876e-7a86-45ef-f73d-b230cb75c291"
      },
      "execution_count": 15,
      "outputs": [
        {
          "output_type": "stream",
          "name": "stdout",
          "text": [
            "0.8598484848484848\n"
          ]
        }
      ]
    },
    {
      "cell_type": "code",
      "source": [
        "knn = KNeighborsClassifier(n_neighbors=3)\n",
        "print(cross_val_score(knn, Xen_train, yen_train, cv=20, scoring='accuracy').mean())"
      ],
      "metadata": {
        "colab": {
          "base_uri": "https://localhost:8080/"
        },
        "id": "dM8BpevEChMO",
        "outputId": "6f725c7b-3009-4a29-ac4b-d16b059e309b"
      },
      "execution_count": 16,
      "outputs": [
        {
          "output_type": "stream",
          "name": "stdout",
          "text": [
            "0.7977272727272727\n"
          ]
        }
      ]
    },
    {
      "cell_type": "code",
      "source": [
        "nb = GaussianNB()\n",
        "print(cross_val_score(nb, Xen_train, yen_train, cv=20, scoring='accuracy').mean())"
      ],
      "metadata": {
        "colab": {
          "base_uri": "https://localhost:8080/"
        },
        "id": "uDeriqmNC17X",
        "outputId": "fbb64d0c-76a8-45e3-d76a-eebf91d48d83"
      },
      "execution_count": 17,
      "outputs": [
        {
          "output_type": "stream",
          "name": "stdout",
          "text": [
            "0.8647727272727271\n"
          ]
        }
      ]
    },
    {
      "cell_type": "markdown",
      "source": [
        "К сожалению простые модели не дали хорошей точности. Их можно былобы потюнить и попытаться поднять точность на пару процентов. Но как мы уже говорили датасет имеет много категориальных фич поэтому имеет смысл хорошо обучить catboost"
      ],
      "metadata": {
        "id": "57NToSAzC--S"
      }
    },
    {
      "cell_type": "code",
      "source": [
        "\n",
        "X_train, X_test, y_train, y_test = train_test_split(X_cleaned, y_cleaned)\n",
        "cat_features =  [3,4,5,6,7]"
      ],
      "metadata": {
        "id": "zsYADA3bfLwQ"
      },
      "execution_count": 18,
      "outputs": []
    },
    {
      "cell_type": "code",
      "source": [
        "def objective(trial):\n",
        "    params = {\n",
        "        \"iterations\": trial.suggest_int(\"iterations\", 100, 1000),\n",
        "        \"learning_rate\": trial.suggest_float(\"learning_rate\", 0.01, 0.3, log=True),\n",
        "        \"depth\": trial.suggest_int(\"depth\", 4, 10),\n",
        "        \"l2_leaf_reg\": trial.suggest_float(\"l2_leaf_reg\", 1e-3, 10.0, log=True),\n",
        "        \"random_strength\": trial.suggest_float(\"random_strength\", 1e-3, 10.0),\n",
        "        \"bagging_temperature\": trial.suggest_float(\"bagging_temperature\", 0.0, 1.0),\n",
        "        \"min_data_in_leaf\": trial.suggest_int(\"min_data_in_leaf\", 1, 100),\n",
        "        \"grow_policy\": trial.suggest_categorical(\"grow_policy\", [\"SymmetricTree\", \"Depthwise\", \"Lossguide\"]),\n",
        "        \"early_stopping_rounds\": trial.suggest_int(\"early_stopping_rounds\", 10, 50),\n",
        "    }\n",
        "\n",
        "    kf = StratifiedKFold(n_splits=20, shuffle=True, random_state=42)\n",
        "    scores = []\n",
        "\n",
        "    for train_idx, val_idx in kf.split(X_train, y_train):\n",
        "        X_tr, X_val = X_train.iloc[train_idx], X_train.iloc[val_idx]\n",
        "        y_tr, y_val = y_train.iloc[train_idx], y_train.iloc[val_idx]\n",
        "\n",
        "        train_pool = Pool(X_tr, y_tr, cat_features=cat_features)\n",
        "        val_pool = Pool(X_val, y_val, cat_features=cat_features)\n",
        "\n",
        "        model = CatBoostClassifier(**params, verbose=0)\n",
        "        model.fit(train_pool, eval_set=val_pool)\n",
        "\n",
        "        y_pred = model.predict_proba(X_val)[:, 1]\n",
        "        scores.append(log_loss(y_val, y_pred))\n",
        "\n",
        "    return np.mean(scores)"
      ],
      "metadata": {
        "id": "echRWjNsh8GY"
      },
      "execution_count": 19,
      "outputs": []
    },
    {
      "cell_type": "markdown",
      "source": [
        "Для подбора гиперпараметров используем optuna с разбиением на 20 фолдов"
      ],
      "metadata": {
        "id": "V3tTPu4DS520"
      }
    },
    {
      "cell_type": "code",
      "source": [
        "study = optuna.create_study(direction=\"minimize\")\n",
        "study.optimize(objective, n_trials=50, timeout=3600)"
      ],
      "metadata": {
        "colab": {
          "base_uri": "https://localhost:8080/"
        },
        "id": "TZCv7IfFygIt",
        "outputId": "4fda732c-7352-48e4-ab60-844243c943ba"
      },
      "execution_count": 20,
      "outputs": [
        {
          "output_type": "stream",
          "name": "stderr",
          "text": [
            "[I 2025-04-26 12:22:50,924] A new study created in memory with name: no-name-f22bea74-5643-4105-a249-eca457e99820\n",
            "[I 2025-04-26 12:23:02,950] Trial 0 finished with value: 0.24846038052252575 and parameters: {'iterations': 841, 'learning_rate': 0.026231400833069008, 'depth': 6, 'l2_leaf_reg': 0.021073895741354775, 'random_strength': 8.714172098471494, 'bagging_temperature': 0.3869174479749887, 'min_data_in_leaf': 26, 'grow_policy': 'Depthwise', 'early_stopping_rounds': 15}. Best is trial 0 with value: 0.24846038052252575.\n",
            "[I 2025-04-26 12:23:08,630] Trial 1 finished with value: 0.22358229718409017 and parameters: {'iterations': 602, 'learning_rate': 0.18200119195578746, 'depth': 10, 'l2_leaf_reg': 0.0019892926847673055, 'random_strength': 7.723513219576514, 'bagging_temperature': 0.7357933086593249, 'min_data_in_leaf': 99, 'grow_policy': 'Depthwise', 'early_stopping_rounds': 45}. Best is trial 1 with value: 0.22358229718409017.\n",
            "[I 2025-04-26 12:23:36,417] Trial 2 finished with value: 0.14102792675806292 and parameters: {'iterations': 249, 'learning_rate': 0.12142047072224875, 'depth': 9, 'l2_leaf_reg': 0.36237274497543287, 'random_strength': 0.810284380870061, 'bagging_temperature': 0.7162889757632895, 'min_data_in_leaf': 74, 'grow_policy': 'SymmetricTree', 'early_stopping_rounds': 20}. Best is trial 2 with value: 0.14102792675806292.\n",
            "[I 2025-04-26 12:23:43,074] Trial 3 finished with value: 0.19450924364517747 and parameters: {'iterations': 569, 'learning_rate': 0.20654004775553653, 'depth': 10, 'l2_leaf_reg': 0.961519364377944, 'random_strength': 5.853330147009797, 'bagging_temperature': 0.5299369150027609, 'min_data_in_leaf': 59, 'grow_policy': 'Lossguide', 'early_stopping_rounds': 35}. Best is trial 2 with value: 0.14102792675806292.\n",
            "[I 2025-04-26 12:23:54,997] Trial 4 finished with value: 0.21397726283970836 and parameters: {'iterations': 680, 'learning_rate': 0.06282615248224577, 'depth': 4, 'l2_leaf_reg': 5.545906166309446, 'random_strength': 7.904154856354116, 'bagging_temperature': 0.353836998087921, 'min_data_in_leaf': 45, 'grow_policy': 'Depthwise', 'early_stopping_rounds': 31}. Best is trial 2 with value: 0.14102792675806292.\n",
            "[I 2025-04-26 12:25:55,356] Trial 5 finished with value: 0.17691914801796266 and parameters: {'iterations': 794, 'learning_rate': 0.0428892687160888, 'depth': 10, 'l2_leaf_reg': 2.477186380566648, 'random_strength': 6.978533794853241, 'bagging_temperature': 0.8030313305708138, 'min_data_in_leaf': 61, 'grow_policy': 'SymmetricTree', 'early_stopping_rounds': 44}. Best is trial 2 with value: 0.14102792675806292.\n",
            "[I 2025-04-26 12:26:02,090] Trial 6 finished with value: 0.18011898240898105 and parameters: {'iterations': 362, 'learning_rate': 0.11765386572512798, 'depth': 9, 'l2_leaf_reg': 0.13575075932834627, 'random_strength': 0.41099893641200563, 'bagging_temperature': 0.27784720935655594, 'min_data_in_leaf': 61, 'grow_policy': 'Depthwise', 'early_stopping_rounds': 31}. Best is trial 2 with value: 0.14102792675806292.\n",
            "[I 2025-04-26 12:26:19,268] Trial 7 finished with value: 0.26342141464207525 and parameters: {'iterations': 393, 'learning_rate': 0.014252246406513664, 'depth': 10, 'l2_leaf_reg': 0.014662697946959976, 'random_strength': 7.7491614961967175, 'bagging_temperature': 0.6347342721991466, 'min_data_in_leaf': 33, 'grow_policy': 'Lossguide', 'early_stopping_rounds': 43}. Best is trial 2 with value: 0.14102792675806292.\n",
            "[I 2025-04-26 12:26:35,265] Trial 8 finished with value: 0.20259954918259776 and parameters: {'iterations': 379, 'learning_rate': 0.012291388399385669, 'depth': 8, 'l2_leaf_reg': 0.07224335084945444, 'random_strength': 1.3173639722303112, 'bagging_temperature': 0.6738045589226221, 'min_data_in_leaf': 27, 'grow_policy': 'Depthwise', 'early_stopping_rounds': 36}. Best is trial 2 with value: 0.14102792675806292.\n",
            "[I 2025-04-26 12:26:50,022] Trial 9 finished with value: 0.27928395224671476 and parameters: {'iterations': 509, 'learning_rate': 0.01788160630779734, 'depth': 8, 'l2_leaf_reg': 0.004637820690377148, 'random_strength': 4.211360838356034, 'bagging_temperature': 0.16582076883112584, 'min_data_in_leaf': 84, 'grow_policy': 'Lossguide', 'early_stopping_rounds': 45}. Best is trial 2 with value: 0.14102792675806292.\n",
            "[I 2025-04-26 12:26:52,075] Trial 10 finished with value: 0.2576522731240078 and parameters: {'iterations': 105, 'learning_rate': 0.10297356829479673, 'depth': 6, 'l2_leaf_reg': 0.6804450801051081, 'random_strength': 2.9027621047489713, 'bagging_temperature': 0.9722286857305124, 'min_data_in_leaf': 4, 'grow_policy': 'SymmetricTree', 'early_stopping_rounds': 15}. Best is trial 2 with value: 0.14102792675806292.\n",
            "[I 2025-04-26 12:27:53,371] Trial 11 finished with value: 0.17069420421057208 and parameters: {'iterations': 994, 'learning_rate': 0.04105088311691993, 'depth': 8, 'l2_leaf_reg': 7.822428131442919, 'random_strength': 5.4521762302005055, 'bagging_temperature': 0.9245495789313474, 'min_data_in_leaf': 76, 'grow_policy': 'SymmetricTree', 'early_stopping_rounds': 19}. Best is trial 2 with value: 0.14102792675806292.\n",
            "[I 2025-04-26 12:28:44,117] Trial 12 finished with value: 0.16454460964825757 and parameters: {'iterations': 981, 'learning_rate': 0.05652136518483003, 'depth': 8, 'l2_leaf_reg': 8.20766698066675, 'random_strength': 4.031829368928712, 'bagging_temperature': 0.9943831924305586, 'min_data_in_leaf': 81, 'grow_policy': 'SymmetricTree', 'early_stopping_rounds': 22}. Best is trial 2 with value: 0.14102792675806292.\n",
            "[I 2025-04-26 12:28:47,546] Trial 13 finished with value: 0.23449475735405909 and parameters: {'iterations': 161, 'learning_rate': 0.08187248046480441, 'depth': 7, 'l2_leaf_reg': 0.27983182588950717, 'random_strength': 2.6055893226539553, 'bagging_temperature': 0.8700903647836531, 'min_data_in_leaf': 81, 'grow_policy': 'SymmetricTree', 'early_stopping_rounds': 23}. Best is trial 2 with value: 0.14102792675806292.\n",
            "[I 2025-04-26 12:28:58,090] Trial 14 finished with value: 0.1516349057160448 and parameters: {'iterations': 217, 'learning_rate': 0.2899254066092433, 'depth': 7, 'l2_leaf_reg': 1.4646825562679078, 'random_strength': 3.6488048813971115, 'bagging_temperature': 0.000764957444544967, 'min_data_in_leaf': 98, 'grow_policy': 'SymmetricTree', 'early_stopping_rounds': 24}. Best is trial 2 with value: 0.14102792675806292.\n",
            "[I 2025-04-26 12:29:02,457] Trial 15 finished with value: 0.12726195884284575 and parameters: {'iterations': 243, 'learning_rate': 0.27757574999175, 'depth': 6, 'l2_leaf_reg': 1.0875481059847547, 'random_strength': 0.02561368124273833, 'bagging_temperature': 0.004248071075853305, 'min_data_in_leaf': 96, 'grow_policy': 'SymmetricTree', 'early_stopping_rounds': 11}. Best is trial 15 with value: 0.12726195884284575.\n",
            "[I 2025-04-26 12:29:05,792] Trial 16 finished with value: 0.11404253519892564 and parameters: {'iterations': 253, 'learning_rate': 0.15525548730768102, 'depth': 5, 'l2_leaf_reg': 0.26773819053483733, 'random_strength': 0.06498229975527803, 'bagging_temperature': 0.004544678878499631, 'min_data_in_leaf': 72, 'grow_policy': 'SymmetricTree', 'early_stopping_rounds': 10}. Best is trial 16 with value: 0.11404253519892564.\n",
            "[I 2025-04-26 12:29:09,018] Trial 17 finished with value: 0.19002116679651934 and parameters: {'iterations': 274, 'learning_rate': 0.24738402471415882, 'depth': 4, 'l2_leaf_reg': 0.07300103468735923, 'random_strength': 2.069120032456103, 'bagging_temperature': 0.0043880890164328945, 'min_data_in_leaf': 91, 'grow_policy': 'SymmetricTree', 'early_stopping_rounds': 10}. Best is trial 16 with value: 0.11404253519892564.\n",
            "[I 2025-04-26 12:29:12,724] Trial 18 finished with value: 0.12935110684715617 and parameters: {'iterations': 447, 'learning_rate': 0.16304693322678154, 'depth': 5, 'l2_leaf_reg': 0.21289773736188872, 'random_strength': 1.7157058851352798, 'bagging_temperature': 0.13155763380526692, 'min_data_in_leaf': 69, 'grow_policy': 'SymmetricTree', 'early_stopping_rounds': 11}. Best is trial 16 with value: 0.11404253519892564.\n",
            "[I 2025-04-26 12:29:17,857] Trial 19 finished with value: 0.1406999325809432 and parameters: {'iterations': 272, 'learning_rate': 0.14983497417338168, 'depth': 5, 'l2_leaf_reg': 2.8740881664980455, 'random_strength': 0.31736523740728867, 'bagging_temperature': 0.16027453508505154, 'min_data_in_leaf': 88, 'grow_policy': 'SymmetricTree', 'early_stopping_rounds': 14}. Best is trial 16 with value: 0.11404253519892564.\n",
            "[I 2025-04-26 12:29:20,538] Trial 20 finished with value: 0.19663894096332785 and parameters: {'iterations': 111, 'learning_rate': 0.2856263602890215, 'depth': 5, 'l2_leaf_reg': 0.5744823306173693, 'random_strength': 0.009059811085323544, 'bagging_temperature': 0.08633047892101901, 'min_data_in_leaf': 48, 'grow_policy': 'Lossguide', 'early_stopping_rounds': 17}. Best is trial 16 with value: 0.11404253519892564.\n",
            "[I 2025-04-26 12:29:24,720] Trial 21 finished with value: 0.10817203581174742 and parameters: {'iterations': 481, 'learning_rate': 0.17049231591696046, 'depth': 5, 'l2_leaf_reg': 0.16908116173257381, 'random_strength': 1.4554513477645616, 'bagging_temperature': 0.15493929984803614, 'min_data_in_leaf': 65, 'grow_policy': 'SymmetricTree', 'early_stopping_rounds': 11}. Best is trial 21 with value: 0.10817203581174742.\n",
            "[I 2025-04-26 12:29:28,532] Trial 22 finished with value: 0.1885979111696427 and parameters: {'iterations': 334, 'learning_rate': 0.08631580967061166, 'depth': 6, 'l2_leaf_reg': 0.036966200584098746, 'random_strength': 1.3709856974435932, 'bagging_temperature': 0.26085783798175954, 'min_data_in_leaf': 64, 'grow_policy': 'SymmetricTree', 'early_stopping_rounds': 10}. Best is trial 21 with value: 0.10817203581174742.\n",
            "[I 2025-04-26 12:29:37,224] Trial 23 finished with value: 0.10069693728037468 and parameters: {'iterations': 474, 'learning_rate': 0.18998378743574884, 'depth': 5, 'l2_leaf_reg': 0.1753703233287568, 'random_strength': 9.83113021222211, 'bagging_temperature': 0.06769661352124455, 'min_data_in_leaf': 53, 'grow_policy': 'SymmetricTree', 'early_stopping_rounds': 27}. Best is trial 23 with value: 0.10069693728037468.\n",
            "[I 2025-04-26 12:29:44,547] Trial 24 finished with value: 0.10354636219784139 and parameters: {'iterations': 477, 'learning_rate': 0.14457139603261282, 'depth': 4, 'l2_leaf_reg': 0.12216453483036495, 'random_strength': 9.663533113987777, 'bagging_temperature': 0.2384172348317954, 'min_data_in_leaf': 39, 'grow_policy': 'SymmetricTree', 'early_stopping_rounds': 26}. Best is trial 23 with value: 0.10069693728037468.\n",
            "[I 2025-04-26 12:29:50,461] Trial 25 finished with value: 0.1484287804795666 and parameters: {'iterations': 519, 'learning_rate': 0.20757224972015262, 'depth': 4, 'l2_leaf_reg': 0.046041931755831274, 'random_strength': 9.854948130138482, 'bagging_temperature': 0.2203057498113744, 'min_data_in_leaf': 38, 'grow_policy': 'SymmetricTree', 'early_stopping_rounds': 26}. Best is trial 23 with value: 0.10069693728037468.\n",
            "[I 2025-04-26 12:29:59,043] Trial 26 finished with value: 0.11058095632519804 and parameters: {'iterations': 632, 'learning_rate': 0.13531358699538407, 'depth': 4, 'l2_leaf_reg': 0.11105092666914085, 'random_strength': 9.989396564313353, 'bagging_temperature': 0.37457101309723584, 'min_data_in_leaf': 51, 'grow_policy': 'SymmetricTree', 'early_stopping_rounds': 27}. Best is trial 23 with value: 0.10069693728037468.\n",
            "[I 2025-04-26 12:30:10,901] Trial 27 finished with value: 0.11415688304864771 and parameters: {'iterations': 466, 'learning_rate': 0.08112695151890202, 'depth': 5, 'l2_leaf_reg': 0.009429842217677014, 'random_strength': 9.019274621948977, 'bagging_temperature': 0.4858562228661617, 'min_data_in_leaf': 19, 'grow_policy': 'SymmetricTree', 'early_stopping_rounds': 37}. Best is trial 23 with value: 0.10069693728037468.\n",
            "[I 2025-04-26 12:30:15,911] Trial 28 finished with value: 0.1834144887421067 and parameters: {'iterations': 704, 'learning_rate': 0.21325961043405361, 'depth': 4, 'l2_leaf_reg': 0.03516931576350425, 'random_strength': 6.70544658431594, 'bagging_temperature': 0.3168409847050142, 'min_data_in_leaf': 41, 'grow_policy': 'Lossguide', 'early_stopping_rounds': 28}. Best is trial 23 with value: 0.10069693728037468.\n",
            "[I 2025-04-26 12:30:36,523] Trial 29 finished with value: 0.12393109908821795 and parameters: {'iterations': 429, 'learning_rate': 0.02924416024507802, 'depth': 6, 'l2_leaf_reg': 0.020230606281737055, 'random_strength': 9.029926363102454, 'bagging_temperature': 0.4844907654494157, 'min_data_in_leaf': 17, 'grow_policy': 'SymmetricTree', 'early_stopping_rounds': 49}. Best is trial 23 with value: 0.10069693728037468.\n",
            "[I 2025-04-26 12:30:44,892] Trial 30 finished with value: 0.18403662857814457 and parameters: {'iterations': 734, 'learning_rate': 0.10475190413348479, 'depth': 5, 'l2_leaf_reg': 0.13250074011076685, 'random_strength': 8.560539428555842, 'bagging_temperature': 0.09147667935085423, 'min_data_in_leaf': 56, 'grow_policy': 'Depthwise', 'early_stopping_rounds': 33}. Best is trial 23 with value: 0.10069693728037468.\n",
            "[I 2025-04-26 12:30:53,447] Trial 31 finished with value: 0.11666771942774334 and parameters: {'iterations': 608, 'learning_rate': 0.14592200537708427, 'depth': 4, 'l2_leaf_reg': 0.12048057258180558, 'random_strength': 9.932813793681817, 'bagging_temperature': 0.3882370510072467, 'min_data_in_leaf': 53, 'grow_policy': 'SymmetricTree', 'early_stopping_rounds': 27}. Best is trial 23 with value: 0.10069693728037468.\n",
            "[I 2025-04-26 12:31:04,468] Trial 32 finished with value: 0.12242325942424037 and parameters: {'iterations': 643, 'learning_rate': 0.13118930437302478, 'depth': 4, 'l2_leaf_reg': 0.4543228830983223, 'random_strength': 9.440967835811225, 'bagging_temperature': 0.38761071017730375, 'min_data_in_leaf': 51, 'grow_policy': 'SymmetricTree', 'early_stopping_rounds': 40}. Best is trial 23 with value: 0.10069693728037468.\n",
            "[I 2025-04-26 12:31:10,836] Trial 33 finished with value: 0.09789957740155784 and parameters: {'iterations': 532, 'learning_rate': 0.18119251543820158, 'depth': 4, 'l2_leaf_reg': 0.1889909466919955, 'random_strength': 8.801040508524808, 'bagging_temperature': 0.19492181726034097, 'min_data_in_leaf': 34, 'grow_policy': 'SymmetricTree', 'early_stopping_rounds': 29}. Best is trial 33 with value: 0.09789957740155784.\n",
            "[I 2025-04-26 12:31:19,120] Trial 34 finished with value: 0.1059354911089662 and parameters: {'iterations': 549, 'learning_rate': 0.1962695875374365, 'depth': 5, 'l2_leaf_reg': 0.18603105809189652, 'random_strength': 8.37064081931159, 'bagging_temperature': 0.09677787315731534, 'min_data_in_leaf': 34, 'grow_policy': 'SymmetricTree', 'early_stopping_rounds': 20}. Best is trial 33 with value: 0.09789957740155784.\n",
            "[I 2025-04-26 12:31:26,190] Trial 35 finished with value: 0.08885691824290311 and parameters: {'iterations': 558, 'learning_rate': 0.2196365646900483, 'depth': 4, 'l2_leaf_reg': 0.0756289908555116, 'random_strength': 8.542166742163172, 'bagging_temperature': 0.07703069287737482, 'min_data_in_leaf': 32, 'grow_policy': 'SymmetricTree', 'early_stopping_rounds': 29}. Best is trial 35 with value: 0.08885691824290311.\n",
            "[I 2025-04-26 12:31:30,737] Trial 36 finished with value: 0.1767412528180483 and parameters: {'iterations': 547, 'learning_rate': 0.2320220898822937, 'depth': 4, 'l2_leaf_reg': 0.06492941785232893, 'random_strength': 7.121360418247994, 'bagging_temperature': 0.20970270681559822, 'min_data_in_leaf': 25, 'grow_policy': 'Depthwise', 'early_stopping_rounds': 29}. Best is trial 35 with value: 0.08885691824290311.\n",
            "[I 2025-04-26 12:31:37,140] Trial 37 finished with value: 0.11885515381819467 and parameters: {'iterations': 573, 'learning_rate': 0.1850157899967205, 'depth': 4, 'l2_leaf_reg': 0.0018872566670945622, 'random_strength': 8.151965273363068, 'bagging_temperature': 0.06622014967705614, 'min_data_in_leaf': 44, 'grow_policy': 'SymmetricTree', 'early_stopping_rounds': 32}. Best is trial 35 with value: 0.08885691824290311.\n",
            "[I 2025-04-26 12:31:46,323] Trial 38 finished with value: 0.19669889726920095 and parameters: {'iterations': 321, 'learning_rate': 0.0651153800938894, 'depth': 4, 'l2_leaf_reg': 0.02392984932022409, 'random_strength': 6.300254722164537, 'bagging_temperature': 0.22286005844447576, 'min_data_in_leaf': 31, 'grow_policy': 'Lossguide', 'early_stopping_rounds': 34}. Best is trial 35 with value: 0.08885691824290311.\n",
            "[I 2025-04-26 12:31:55,580] Trial 39 finished with value: 0.17625040022530752 and parameters: {'iterations': 412, 'learning_rate': 0.11054495098342379, 'depth': 7, 'l2_leaf_reg': 0.37256077176087754, 'random_strength': 7.457442241005568, 'bagging_temperature': 0.2962842836257149, 'min_data_in_leaf': 12, 'grow_policy': 'Depthwise', 'early_stopping_rounds': 25}. Best is trial 35 with value: 0.08885691824290311.\n",
            "[I 2025-04-26 12:32:01,336] Trial 40 finished with value: 0.12522556385787958 and parameters: {'iterations': 866, 'learning_rate': 0.2450583426074366, 'depth': 4, 'l2_leaf_reg': 0.00864142873130807, 'random_strength': 9.298576317687742, 'bagging_temperature': 0.4310145005240358, 'min_data_in_leaf': 38, 'grow_policy': 'SymmetricTree', 'early_stopping_rounds': 30}. Best is trial 35 with value: 0.08885691824290311.\n",
            "[I 2025-04-26 12:32:08,559] Trial 41 finished with value: 0.12218602941200155 and parameters: {'iterations': 529, 'learning_rate': 0.19980248631371605, 'depth': 5, 'l2_leaf_reg': 0.19830209468269877, 'random_strength': 8.40681596559399, 'bagging_temperature': 0.06565233259802655, 'min_data_in_leaf': 30, 'grow_policy': 'SymmetricTree', 'early_stopping_rounds': 20}. Best is trial 35 with value: 0.08885691824290311.\n",
            "[I 2025-04-26 12:32:14,370] Trial 42 finished with value: 0.11647336975063546 and parameters: {'iterations': 573, 'learning_rate': 0.18209805368582965, 'depth': 5, 'l2_leaf_reg': 0.10372216801114316, 'random_strength': 8.702243917550058, 'bagging_temperature': 0.12194866036864291, 'min_data_in_leaf': 36, 'grow_policy': 'SymmetricTree', 'early_stopping_rounds': 22}. Best is trial 35 with value: 0.08885691824290311.\n",
            "[I 2025-04-26 12:32:22,579] Trial 43 finished with value: 0.1281221317094432 and parameters: {'iterations': 486, 'learning_rate': 0.24314023150241584, 'depth': 6, 'l2_leaf_reg': 0.06616966446866623, 'random_strength': 8.14136977131805, 'bagging_temperature': 0.20355863102143967, 'min_data_in_leaf': 22, 'grow_policy': 'SymmetricTree', 'early_stopping_rounds': 30}. Best is trial 35 with value: 0.08885691824290311.\n",
            "[I 2025-04-26 12:32:30,634] Trial 44 finished with value: 0.12613380768720397 and parameters: {'iterations': 669, 'learning_rate': 0.12308108830155758, 'depth': 4, 'l2_leaf_reg': 0.29523041926619054, 'random_strength': 7.526363509665092, 'bagging_temperature': 0.6017506650783482, 'min_data_in_leaf': 47, 'grow_policy': 'SymmetricTree', 'early_stopping_rounds': 20}. Best is trial 35 with value: 0.08885691824290311.\n",
            "[I 2025-04-26 12:32:39,375] Trial 45 finished with value: 0.09723265315468856 and parameters: {'iterations': 748, 'learning_rate': 0.17052580460616915, 'depth': 5, 'l2_leaf_reg': 0.7700036501310533, 'random_strength': 9.487329387918368, 'bagging_temperature': 0.04851075343557454, 'min_data_in_leaf': 42, 'grow_policy': 'SymmetricTree', 'early_stopping_rounds': 25}. Best is trial 35 with value: 0.08885691824290311.\n",
            "[I 2025-04-26 12:33:42,058] Trial 46 finished with value: 0.14755929892478858 and parameters: {'iterations': 773, 'learning_rate': 0.09558311651120317, 'depth': 9, 'l2_leaf_reg': 0.8560259796318838, 'random_strength': 9.198917344151054, 'bagging_temperature': 0.26303620958826723, 'min_data_in_leaf': 43, 'grow_policy': 'SymmetricTree', 'early_stopping_rounds': 25}. Best is trial 35 with value: 0.08885691824290311.\n",
            "[I 2025-04-26 12:33:51,277] Trial 47 finished with value: 0.18529824240275908 and parameters: {'iterations': 834, 'learning_rate': 0.1626936888581632, 'depth': 4, 'l2_leaf_reg': 1.9122169261990887, 'random_strength': 9.38808880289822, 'bagging_temperature': 0.049199102357422975, 'min_data_in_leaf': 27, 'grow_policy': 'Lossguide', 'early_stopping_rounds': 37}. Best is trial 35 with value: 0.08885691824290311.\n",
            "[I 2025-04-26 12:34:01,779] Trial 48 finished with value: 0.21711409427844855 and parameters: {'iterations': 914, 'learning_rate': 0.06983637944323884, 'depth': 5, 'l2_leaf_reg': 0.4082115997618786, 'random_strength': 9.633152171621397, 'bagging_temperature': 0.16740186710183408, 'min_data_in_leaf': 40, 'grow_policy': 'Depthwise', 'early_stopping_rounds': 28}. Best is trial 35 with value: 0.08885691824290311.\n",
            "[I 2025-04-26 12:34:13,417] Trial 49 finished with value: 0.16186306522654398 and parameters: {'iterations': 349, 'learning_rate': 0.04584376797584121, 'depth': 4, 'l2_leaf_reg': 0.6523593659418625, 'random_strength': 8.810441785484818, 'bagging_temperature': 0.04681685608684563, 'min_data_in_leaf': 57, 'grow_policy': 'SymmetricTree', 'early_stopping_rounds': 23}. Best is trial 35 with value: 0.08885691824290311.\n"
          ]
        }
      ]
    },
    {
      "cell_type": "code",
      "source": [
        "best_params = study.best_params\n",
        "print(\"Best params:\", best_params)\n",
        "\n",
        "X_train, X_val, y_train, y_val = train_test_split(X_train,y_train)"
      ],
      "metadata": {
        "colab": {
          "base_uri": "https://localhost:8080/"
        },
        "id": "i-_F9sVTQZbN",
        "outputId": "2ea95b2c-7c1a-4182-8f07-29d114efaf42"
      },
      "execution_count": 21,
      "outputs": [
        {
          "output_type": "stream",
          "name": "stdout",
          "text": [
            "Best params: {'iterations': 558, 'learning_rate': 0.2196365646900483, 'depth': 4, 'l2_leaf_reg': 0.0756289908555116, 'random_strength': 8.542166742163172, 'bagging_temperature': 0.07703069287737482, 'min_data_in_leaf': 32, 'grow_policy': 'SymmetricTree', 'early_stopping_rounds': 29}\n"
          ]
        }
      ]
    },
    {
      "cell_type": "markdown",
      "source": [
        "Смотрим лучшие параметры и добавляем валиданионнцю выборку"
      ],
      "metadata": {
        "id": "JfbLhc8kTcpN"
      }
    },
    {
      "cell_type": "code",
      "source": [
        "final_model = CatBoostClassifier(**best_params,  verbose=100)\n",
        "final_model.fit(\n",
        "    Pool(X_train, y_train, cat_features=cat_features),\n",
        "    eval_set=Pool(X_val, y_val, cat_features=cat_features),\n",
        "    early_stopping_rounds=50\n",
        ")"
      ],
      "metadata": {
        "colab": {
          "base_uri": "https://localhost:8080/"
        },
        "id": "ih7hBnsgy_g0",
        "outputId": "30a38102-5787-456f-aa17-ba157acfa517"
      },
      "execution_count": 22,
      "outputs": [
        {
          "output_type": "stream",
          "name": "stdout",
          "text": [
            "0:\tlearn: 0.6506367\ttest: 0.6653331\tbest: 0.6653331 (0)\ttotal: 18.4ms\tremaining: 10.3s\n",
            "100:\tlearn: 0.0039693\ttest: 0.0177801\tbest: 0.0177801 (100)\ttotal: 436ms\tremaining: 1.97s\n",
            "200:\tlearn: 0.0013048\ttest: 0.0094937\tbest: 0.0094936 (193)\ttotal: 617ms\tremaining: 1.09s\n",
            "300:\tlearn: 0.0010158\ttest: 0.0074429\tbest: 0.0074428 (295)\ttotal: 773ms\tremaining: 660ms\n",
            "400:\tlearn: 0.0008167\ttest: 0.0063434\tbest: 0.0063432 (399)\ttotal: 925ms\tremaining: 362ms\n",
            "500:\tlearn: 0.0007719\ttest: 0.0061158\tbest: 0.0061158 (500)\ttotal: 1.08s\tremaining: 123ms\n",
            "557:\tlearn: 0.0007550\ttest: 0.0060092\tbest: 0.0060092 (557)\ttotal: 1.17s\tremaining: 0us\n",
            "\n",
            "bestTest = 0.006009185628\n",
            "bestIteration = 557\n",
            "\n"
          ]
        },
        {
          "output_type": "execute_result",
          "data": {
            "text/plain": [
              "<catboost.core.CatBoostClassifier at 0x7de34278b550>"
            ]
          },
          "metadata": {},
          "execution_count": 22
        }
      ]
    },
    {
      "cell_type": "markdown",
      "source": [
        "Благодаря early stopping удалось урезать количество деревьев и помогает избегать переобучения"
      ],
      "metadata": {
        "id": "mGjqKrX-TtHm"
      }
    },
    {
      "cell_type": "code",
      "source": [
        "print(accuracy_score(final_model.predict(X_cleaned), y_cleaned))\n",
        "print(accuracy_score(final_model.predict(X_test), y_test))"
      ],
      "metadata": {
        "colab": {
          "base_uri": "https://localhost:8080/"
        },
        "id": "CzBkiPpu0Grc",
        "outputId": "e9ce7fa0-822a-49c9-99c7-3b64e35d7426"
      },
      "execution_count": 24,
      "outputs": [
        {
          "output_type": "stream",
          "name": "stdout",
          "text": [
            "0.9966329966329966\n",
            "1.0\n"
          ]
        }
      ]
    },
    {
      "cell_type": "markdown",
      "source": [
        "Основная метрика на train и test высокие. Нет переобчучения"
      ],
      "metadata": {
        "id": "PBhMZxO8U59G"
      }
    },
    {
      "cell_type": "code",
      "source": [
        "class FeatureAdder(BaseEstimator, TransformerMixin):\n",
        "  def __init__(self):\n",
        "      pass\n",
        "\n",
        "  def fit(self, X, y=None):\n",
        "      return self\n",
        "\n",
        "  def transform(self, X: pd.DataFrame):\n",
        "      X = X.copy()\n",
        "      if isinstance(X, pd.DataFrame):\n",
        "        cols = X.columns[:3]\n",
        "\n",
        "        X['Mean'] = X[cols].mean(axis=1, skipna=True)\n",
        "        X['Min'] = X[cols].min(axis=1, skipna=True)\n",
        "        return X\n",
        "\n",
        "pipeline = Pipeline([\n",
        "    ('feature_adder', FeatureAdder()),\n",
        "    ('classifier', final_model)\n",
        "])"
      ],
      "metadata": {
        "id": "ee9ICfVH7Gdq"
      },
      "execution_count": 25,
      "outputs": []
    },
    {
      "cell_type": "markdown",
      "source": [
        "Обьединим преобразования в pipeline для удобства использования"
      ],
      "metadata": {
        "id": "GZn84AZ5-sM-"
      }
    },
    {
      "cell_type": "code",
      "source": [
        "print(accuracy_score(pipeline.predict(X_cleaned), y_cleaned))\n",
        "print(accuracy_score(pipeline.predict(X_test), y_test))"
      ],
      "metadata": {
        "colab": {
          "base_uri": "https://localhost:8080/"
        },
        "id": "shla_aXJ-7JB",
        "outputId": "d4486083-f2ce-42b9-e324-508002cafff7"
      },
      "execution_count": 26,
      "outputs": [
        {
          "output_type": "stream",
          "name": "stdout",
          "text": [
            "0.9966329966329966\n",
            "1.0\n"
          ]
        }
      ]
    },
    {
      "cell_type": "markdown",
      "source": [
        "Все работает"
      ],
      "metadata": {
        "id": "_AJF8HBX_B-u"
      }
    },
    {
      "cell_type": "code",
      "source": [
        "# from joblib import dump, load\n",
        "\n",
        "# dump(pipeline, 'pipeline.joblib')"
      ],
      "metadata": {
        "colab": {
          "base_uri": "https://localhost:8080/"
        },
        "id": "cDCBZVcm_UJL",
        "outputId": "a8703654-6552-4dfe-aebc-95cad497c5dc"
      },
      "execution_count": 27,
      "outputs": [
        {
          "output_type": "execute_result",
          "data": {
            "text/plain": [
              "['pipeline.joblib']"
            ]
          },
          "metadata": {},
          "execution_count": 27
        }
      ]
    },
    {
      "cell_type": "markdown",
      "source": [
        "Сохранение модели если нужно. Копия модели которая используется в файле интерфейса хранится в на моем github. Скачивать эту модель не обязательно."
      ],
      "metadata": {
        "id": "XJv7MfoW0EuB"
      }
    }
  ]
}