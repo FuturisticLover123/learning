{
  "nbformat": 4,
  "nbformat_minor": 0,
  "metadata": {
    "colab": {
      "provenance": [],
      "authorship_tag": "ABX9TyMS44tTy9TSa31acA6SzIiZ",
      "include_colab_link": true
    },
    "kernelspec": {
      "name": "python3",
      "display_name": "Python 3"
    },
    "language_info": {
      "name": "python"
    }
  },
  "cells": [
    {
      "cell_type": "markdown",
      "metadata": {
        "id": "view-in-github",
        "colab_type": "text"
      },
      "source": [
        "<a href=\"https://colab.research.google.com/github/FuturisticLover123/learning/blob/main/ifortex_test/learing_model_file.ipynb\" target=\"_parent\"><img src=\"https://colab.research.google.com/assets/colab-badge.svg\" alt=\"Open In Colab\"/></a>"
      ]
    },
    {
      "cell_type": "code",
      "source": [
        "!pip install optuna\n",
        "!pip install catboost"
      ],
      "metadata": {
        "colab": {
          "base_uri": "https://localhost:8080/"
        },
        "id": "Kg-JhdSixvzZ",
        "outputId": "a28b3591-c606-4eb9-aede-ab559c2d86d7"
      },
      "execution_count": 2,
      "outputs": [
        {
          "output_type": "stream",
          "name": "stdout",
          "text": [
            "Collecting optuna\n",
            "  Downloading optuna-4.3.0-py3-none-any.whl.metadata (17 kB)\n",
            "Collecting alembic>=1.5.0 (from optuna)\n",
            "  Downloading alembic-1.15.2-py3-none-any.whl.metadata (7.3 kB)\n",
            "Collecting colorlog (from optuna)\n",
            "  Downloading colorlog-6.9.0-py3-none-any.whl.metadata (10 kB)\n",
            "Requirement already satisfied: numpy in /usr/local/lib/python3.11/dist-packages (from optuna) (2.0.2)\n",
            "Requirement already satisfied: packaging>=20.0 in /usr/local/lib/python3.11/dist-packages (from optuna) (24.2)\n",
            "Requirement already satisfied: sqlalchemy>=1.4.2 in /usr/local/lib/python3.11/dist-packages (from optuna) (2.0.40)\n",
            "Requirement already satisfied: tqdm in /usr/local/lib/python3.11/dist-packages (from optuna) (4.67.1)\n",
            "Requirement already satisfied: PyYAML in /usr/local/lib/python3.11/dist-packages (from optuna) (6.0.2)\n",
            "Requirement already satisfied: Mako in /usr/lib/python3/dist-packages (from alembic>=1.5.0->optuna) (1.1.3)\n",
            "Requirement already satisfied: typing-extensions>=4.12 in /usr/local/lib/python3.11/dist-packages (from alembic>=1.5.0->optuna) (4.13.2)\n",
            "Requirement already satisfied: greenlet>=1 in /usr/local/lib/python3.11/dist-packages (from sqlalchemy>=1.4.2->optuna) (3.2.1)\n",
            "Downloading optuna-4.3.0-py3-none-any.whl (386 kB)\n",
            "\u001b[2K   \u001b[90m━━━━━━━━━━━━━━━━━━━━━━━━━━━━━━━━━━━━━━━━\u001b[0m \u001b[32m386.6/386.6 kB\u001b[0m \u001b[31m7.7 MB/s\u001b[0m eta \u001b[36m0:00:00\u001b[0m\n",
            "\u001b[?25hDownloading alembic-1.15.2-py3-none-any.whl (231 kB)\n",
            "\u001b[2K   \u001b[90m━━━━━━━━━━━━━━━━━━━━━━━━━━━━━━━━━━━━━━━━\u001b[0m \u001b[32m231.9/231.9 kB\u001b[0m \u001b[31m14.2 MB/s\u001b[0m eta \u001b[36m0:00:00\u001b[0m\n",
            "\u001b[?25hDownloading colorlog-6.9.0-py3-none-any.whl (11 kB)\n",
            "Installing collected packages: colorlog, alembic, optuna\n",
            "Successfully installed alembic-1.15.2 colorlog-6.9.0 optuna-4.3.0\n",
            "Collecting catboost\n",
            "  Downloading catboost-1.2.8-cp311-cp311-manylinux2014_x86_64.whl.metadata (1.2 kB)\n",
            "Requirement already satisfied: graphviz in /usr/local/lib/python3.11/dist-packages (from catboost) (0.20.3)\n",
            "Requirement already satisfied: matplotlib in /usr/local/lib/python3.11/dist-packages (from catboost) (3.10.0)\n",
            "Requirement already satisfied: numpy<3.0,>=1.16.0 in /usr/local/lib/python3.11/dist-packages (from catboost) (2.0.2)\n",
            "Requirement already satisfied: pandas>=0.24 in /usr/local/lib/python3.11/dist-packages (from catboost) (2.2.2)\n",
            "Requirement already satisfied: scipy in /usr/local/lib/python3.11/dist-packages (from catboost) (1.14.1)\n",
            "Requirement already satisfied: plotly in /usr/local/lib/python3.11/dist-packages (from catboost) (5.24.1)\n",
            "Requirement already satisfied: six in /usr/local/lib/python3.11/dist-packages (from catboost) (1.17.0)\n",
            "Requirement already satisfied: python-dateutil>=2.8.2 in /usr/local/lib/python3.11/dist-packages (from pandas>=0.24->catboost) (2.8.2)\n",
            "Requirement already satisfied: pytz>=2020.1 in /usr/local/lib/python3.11/dist-packages (from pandas>=0.24->catboost) (2025.2)\n",
            "Requirement already satisfied: tzdata>=2022.7 in /usr/local/lib/python3.11/dist-packages (from pandas>=0.24->catboost) (2025.2)\n",
            "Requirement already satisfied: contourpy>=1.0.1 in /usr/local/lib/python3.11/dist-packages (from matplotlib->catboost) (1.3.2)\n",
            "Requirement already satisfied: cycler>=0.10 in /usr/local/lib/python3.11/dist-packages (from matplotlib->catboost) (0.12.1)\n",
            "Requirement already satisfied: fonttools>=4.22.0 in /usr/local/lib/python3.11/dist-packages (from matplotlib->catboost) (4.57.0)\n",
            "Requirement already satisfied: kiwisolver>=1.3.1 in /usr/local/lib/python3.11/dist-packages (from matplotlib->catboost) (1.4.8)\n",
            "Requirement already satisfied: packaging>=20.0 in /usr/local/lib/python3.11/dist-packages (from matplotlib->catboost) (24.2)\n",
            "Requirement already satisfied: pillow>=8 in /usr/local/lib/python3.11/dist-packages (from matplotlib->catboost) (11.1.0)\n",
            "Requirement already satisfied: pyparsing>=2.3.1 in /usr/local/lib/python3.11/dist-packages (from matplotlib->catboost) (3.2.3)\n",
            "Requirement already satisfied: tenacity>=6.2.0 in /usr/local/lib/python3.11/dist-packages (from plotly->catboost) (9.1.2)\n",
            "Downloading catboost-1.2.8-cp311-cp311-manylinux2014_x86_64.whl (99.2 MB)\n",
            "\u001b[2K   \u001b[90m━━━━━━━━━━━━━━━━━━━━━━━━━━━━━━━━━━━━━━━━\u001b[0m \u001b[32m99.2/99.2 MB\u001b[0m \u001b[31m9.7 MB/s\u001b[0m eta \u001b[36m0:00:00\u001b[0m\n",
            "\u001b[?25hInstalling collected packages: catboost\n",
            "Successfully installed catboost-1.2.8\n"
          ]
        }
      ]
    },
    {
      "cell_type": "code",
      "execution_count": 40,
      "metadata": {
        "id": "1hPgG_vedmJH"
      },
      "outputs": [],
      "source": [
        "import pandas as pd\n",
        "from sklearn.ensemble import IsolationForest\n",
        "from sklearn.linear_model import LogisticRegression\n",
        "from sklearn.neighbors import KNeighborsClassifier\n",
        "from sklearn.naive_bayes import GaussianNB\n",
        "\n",
        "from sklearn.model_selection import cross_val_score\n",
        "from sklearn.model_selection import train_test_split\n",
        "\n",
        "from sklearn.model_selection import train_test_split\n",
        "from sklearn.metrics import accuracy_score\n",
        "import numpy as np\n",
        "\n",
        "\n",
        "import optuna\n",
        "from catboost import CatBoostClassifier, Pool\n",
        "from sklearn.metrics import log_loss\n",
        "from sklearn.model_selection import StratifiedKFold\n",
        "\n",
        "from sklearn.base import BaseEstimator, TransformerMixin\n",
        "from sklearn.pipeline import Pipeline"
      ]
    },
    {
      "cell_type": "markdown",
      "source": [
        "Загрузка датасета в папку content"
      ],
      "metadata": {
        "id": "mGfaK8rlyncx"
      }
    },
    {
      "cell_type": "code",
      "source": [
        "!wget https://github.com/FuturisticLover123/learning/raw/main/ifortex_test/student_exam_data.zip\n",
        "!unzip student_exam_data.zip -d /content"
      ],
      "metadata": {
        "colab": {
          "base_uri": "https://localhost:8080/"
        },
        "id": "9_BNKVk1yR-p",
        "outputId": "a88cfecf-b239-4e88-a8e8-698f9ada4018"
      },
      "execution_count": 5,
      "outputs": [
        {
          "output_type": "stream",
          "name": "stdout",
          "text": [
            "--2025-04-26 11:09:23--  https://github.com/FuturisticLover123/learning/raw/main/ifortex_test/student_exam_data.zip\n",
            "Resolving github.com (github.com)... 140.82.113.4\n",
            "Connecting to github.com (github.com)|140.82.113.4|:443... connected.\n",
            "HTTP request sent, awaiting response... 302 Found\n",
            "Location: https://raw.githubusercontent.com/FuturisticLover123/learning/main/ifortex_test/student_exam_data.zip [following]\n",
            "--2025-04-26 11:09:23--  https://raw.githubusercontent.com/FuturisticLover123/learning/main/ifortex_test/student_exam_data.zip\n",
            "Resolving raw.githubusercontent.com (raw.githubusercontent.com)... 185.199.108.133, 185.199.109.133, 185.199.110.133, ...\n",
            "Connecting to raw.githubusercontent.com (raw.githubusercontent.com)|185.199.108.133|:443... connected.\n",
            "HTTP request sent, awaiting response... 200 OK\n",
            "Length: 2444 (2.4K) [application/zip]\n",
            "Saving to: ‘student_exam_data.zip.1’\n",
            "\n",
            "\rstudent_exam_data.z   0%[                    ]       0  --.-KB/s               \rstudent_exam_data.z 100%[===================>]   2.39K  --.-KB/s    in 0s      \n",
            "\n",
            "2025-04-26 11:09:23 (33.0 MB/s) - ‘student_exam_data.zip.1’ saved [2444/2444]\n",
            "\n",
            "Archive:  student_exam_data.zip\n",
            "  inflating: /content/student_exam_data.csv  \n"
          ]
        }
      ]
    },
    {
      "cell_type": "code",
      "source": [
        "data = pd.read_csv(\"/content/student_exam_data.csv\")"
      ],
      "metadata": {
        "id": "mp66AAoZbX5A"
      },
      "execution_count": 7,
      "outputs": []
    },
    {
      "cell_type": "markdown",
      "source": [
        "Посмотрим данные и обновные характеристики"
      ],
      "metadata": {
        "id": "HnDVAGODktDH"
      }
    },
    {
      "cell_type": "code",
      "source": [
        "data.describe()"
      ],
      "metadata": {
        "colab": {
          "base_uri": "https://localhost:8080/",
          "height": 300
        },
        "id": "6nc2ImPjdud8",
        "outputId": "2986ede9-a88f-4b21-907a-5f12fc4a904f"
      },
      "execution_count": 8,
      "outputs": [
        {
          "output_type": "execute_result",
          "data": {
            "text/plain": [
              "       Контрольная 1  Контрольная 2  Контрольная 3\n",
              "count     300.000000     300.000000     300.000000\n",
              "mean        7.130000       6.936667       6.940000\n",
              "std         2.003283       2.009839       2.028987\n",
              "min         4.000000       4.000000       4.000000\n",
              "25%         5.000000       5.000000       5.000000\n",
              "50%         7.000000       7.000000       7.000000\n",
              "75%         9.000000       9.000000       9.000000\n",
              "max        10.000000      10.000000      10.000000"
            ],
            "text/html": [
              "\n",
              "  <div id=\"df-1f641982-0595-4450-a6d5-b294fd683aa5\" class=\"colab-df-container\">\n",
              "    <div>\n",
              "<style scoped>\n",
              "    .dataframe tbody tr th:only-of-type {\n",
              "        vertical-align: middle;\n",
              "    }\n",
              "\n",
              "    .dataframe tbody tr th {\n",
              "        vertical-align: top;\n",
              "    }\n",
              "\n",
              "    .dataframe thead th {\n",
              "        text-align: right;\n",
              "    }\n",
              "</style>\n",
              "<table border=\"1\" class=\"dataframe\">\n",
              "  <thead>\n",
              "    <tr style=\"text-align: right;\">\n",
              "      <th></th>\n",
              "      <th>Контрольная 1</th>\n",
              "      <th>Контрольная 2</th>\n",
              "      <th>Контрольная 3</th>\n",
              "    </tr>\n",
              "  </thead>\n",
              "  <tbody>\n",
              "    <tr>\n",
              "      <th>count</th>\n",
              "      <td>300.000000</td>\n",
              "      <td>300.000000</td>\n",
              "      <td>300.000000</td>\n",
              "    </tr>\n",
              "    <tr>\n",
              "      <th>mean</th>\n",
              "      <td>7.130000</td>\n",
              "      <td>6.936667</td>\n",
              "      <td>6.940000</td>\n",
              "    </tr>\n",
              "    <tr>\n",
              "      <th>std</th>\n",
              "      <td>2.003283</td>\n",
              "      <td>2.009839</td>\n",
              "      <td>2.028987</td>\n",
              "    </tr>\n",
              "    <tr>\n",
              "      <th>min</th>\n",
              "      <td>4.000000</td>\n",
              "      <td>4.000000</td>\n",
              "      <td>4.000000</td>\n",
              "    </tr>\n",
              "    <tr>\n",
              "      <th>25%</th>\n",
              "      <td>5.000000</td>\n",
              "      <td>5.000000</td>\n",
              "      <td>5.000000</td>\n",
              "    </tr>\n",
              "    <tr>\n",
              "      <th>50%</th>\n",
              "      <td>7.000000</td>\n",
              "      <td>7.000000</td>\n",
              "      <td>7.000000</td>\n",
              "    </tr>\n",
              "    <tr>\n",
              "      <th>75%</th>\n",
              "      <td>9.000000</td>\n",
              "      <td>9.000000</td>\n",
              "      <td>9.000000</td>\n",
              "    </tr>\n",
              "    <tr>\n",
              "      <th>max</th>\n",
              "      <td>10.000000</td>\n",
              "      <td>10.000000</td>\n",
              "      <td>10.000000</td>\n",
              "    </tr>\n",
              "  </tbody>\n",
              "</table>\n",
              "</div>\n",
              "    <div class=\"colab-df-buttons\">\n",
              "\n",
              "  <div class=\"colab-df-container\">\n",
              "    <button class=\"colab-df-convert\" onclick=\"convertToInteractive('df-1f641982-0595-4450-a6d5-b294fd683aa5')\"\n",
              "            title=\"Convert this dataframe to an interactive table.\"\n",
              "            style=\"display:none;\">\n",
              "\n",
              "  <svg xmlns=\"http://www.w3.org/2000/svg\" height=\"24px\" viewBox=\"0 -960 960 960\">\n",
              "    <path d=\"M120-120v-720h720v720H120Zm60-500h600v-160H180v160Zm220 220h160v-160H400v160Zm0 220h160v-160H400v160ZM180-400h160v-160H180v160Zm440 0h160v-160H620v160ZM180-180h160v-160H180v160Zm440 0h160v-160H620v160Z\"/>\n",
              "  </svg>\n",
              "    </button>\n",
              "\n",
              "  <style>\n",
              "    .colab-df-container {\n",
              "      display:flex;\n",
              "      gap: 12px;\n",
              "    }\n",
              "\n",
              "    .colab-df-convert {\n",
              "      background-color: #E8F0FE;\n",
              "      border: none;\n",
              "      border-radius: 50%;\n",
              "      cursor: pointer;\n",
              "      display: none;\n",
              "      fill: #1967D2;\n",
              "      height: 32px;\n",
              "      padding: 0 0 0 0;\n",
              "      width: 32px;\n",
              "    }\n",
              "\n",
              "    .colab-df-convert:hover {\n",
              "      background-color: #E2EBFA;\n",
              "      box-shadow: 0px 1px 2px rgba(60, 64, 67, 0.3), 0px 1px 3px 1px rgba(60, 64, 67, 0.15);\n",
              "      fill: #174EA6;\n",
              "    }\n",
              "\n",
              "    .colab-df-buttons div {\n",
              "      margin-bottom: 4px;\n",
              "    }\n",
              "\n",
              "    [theme=dark] .colab-df-convert {\n",
              "      background-color: #3B4455;\n",
              "      fill: #D2E3FC;\n",
              "    }\n",
              "\n",
              "    [theme=dark] .colab-df-convert:hover {\n",
              "      background-color: #434B5C;\n",
              "      box-shadow: 0px 1px 3px 1px rgba(0, 0, 0, 0.15);\n",
              "      filter: drop-shadow(0px 1px 2px rgba(0, 0, 0, 0.3));\n",
              "      fill: #FFFFFF;\n",
              "    }\n",
              "  </style>\n",
              "\n",
              "    <script>\n",
              "      const buttonEl =\n",
              "        document.querySelector('#df-1f641982-0595-4450-a6d5-b294fd683aa5 button.colab-df-convert');\n",
              "      buttonEl.style.display =\n",
              "        google.colab.kernel.accessAllowed ? 'block' : 'none';\n",
              "\n",
              "      async function convertToInteractive(key) {\n",
              "        const element = document.querySelector('#df-1f641982-0595-4450-a6d5-b294fd683aa5');\n",
              "        const dataTable =\n",
              "          await google.colab.kernel.invokeFunction('convertToInteractive',\n",
              "                                                    [key], {});\n",
              "        if (!dataTable) return;\n",
              "\n",
              "        const docLinkHtml = 'Like what you see? Visit the ' +\n",
              "          '<a target=\"_blank\" href=https://colab.research.google.com/notebooks/data_table.ipynb>data table notebook</a>'\n",
              "          + ' to learn more about interactive tables.';\n",
              "        element.innerHTML = '';\n",
              "        dataTable['output_type'] = 'display_data';\n",
              "        await google.colab.output.renderOutput(dataTable, element);\n",
              "        const docLink = document.createElement('div');\n",
              "        docLink.innerHTML = docLinkHtml;\n",
              "        element.appendChild(docLink);\n",
              "      }\n",
              "    </script>\n",
              "  </div>\n",
              "\n",
              "\n",
              "    <div id=\"df-2d3e2d6e-6b40-4173-9531-42740e7ec949\">\n",
              "      <button class=\"colab-df-quickchart\" onclick=\"quickchart('df-2d3e2d6e-6b40-4173-9531-42740e7ec949')\"\n",
              "                title=\"Suggest charts\"\n",
              "                style=\"display:none;\">\n",
              "\n",
              "<svg xmlns=\"http://www.w3.org/2000/svg\" height=\"24px\"viewBox=\"0 0 24 24\"\n",
              "     width=\"24px\">\n",
              "    <g>\n",
              "        <path d=\"M19 3H5c-1.1 0-2 .9-2 2v14c0 1.1.9 2 2 2h14c1.1 0 2-.9 2-2V5c0-1.1-.9-2-2-2zM9 17H7v-7h2v7zm4 0h-2V7h2v10zm4 0h-2v-4h2v4z\"/>\n",
              "    </g>\n",
              "</svg>\n",
              "      </button>\n",
              "\n",
              "<style>\n",
              "  .colab-df-quickchart {\n",
              "      --bg-color: #E8F0FE;\n",
              "      --fill-color: #1967D2;\n",
              "      --hover-bg-color: #E2EBFA;\n",
              "      --hover-fill-color: #174EA6;\n",
              "      --disabled-fill-color: #AAA;\n",
              "      --disabled-bg-color: #DDD;\n",
              "  }\n",
              "\n",
              "  [theme=dark] .colab-df-quickchart {\n",
              "      --bg-color: #3B4455;\n",
              "      --fill-color: #D2E3FC;\n",
              "      --hover-bg-color: #434B5C;\n",
              "      --hover-fill-color: #FFFFFF;\n",
              "      --disabled-bg-color: #3B4455;\n",
              "      --disabled-fill-color: #666;\n",
              "  }\n",
              "\n",
              "  .colab-df-quickchart {\n",
              "    background-color: var(--bg-color);\n",
              "    border: none;\n",
              "    border-radius: 50%;\n",
              "    cursor: pointer;\n",
              "    display: none;\n",
              "    fill: var(--fill-color);\n",
              "    height: 32px;\n",
              "    padding: 0;\n",
              "    width: 32px;\n",
              "  }\n",
              "\n",
              "  .colab-df-quickchart:hover {\n",
              "    background-color: var(--hover-bg-color);\n",
              "    box-shadow: 0 1px 2px rgba(60, 64, 67, 0.3), 0 1px 3px 1px rgba(60, 64, 67, 0.15);\n",
              "    fill: var(--button-hover-fill-color);\n",
              "  }\n",
              "\n",
              "  .colab-df-quickchart-complete:disabled,\n",
              "  .colab-df-quickchart-complete:disabled:hover {\n",
              "    background-color: var(--disabled-bg-color);\n",
              "    fill: var(--disabled-fill-color);\n",
              "    box-shadow: none;\n",
              "  }\n",
              "\n",
              "  .colab-df-spinner {\n",
              "    border: 2px solid var(--fill-color);\n",
              "    border-color: transparent;\n",
              "    border-bottom-color: var(--fill-color);\n",
              "    animation:\n",
              "      spin 1s steps(1) infinite;\n",
              "  }\n",
              "\n",
              "  @keyframes spin {\n",
              "    0% {\n",
              "      border-color: transparent;\n",
              "      border-bottom-color: var(--fill-color);\n",
              "      border-left-color: var(--fill-color);\n",
              "    }\n",
              "    20% {\n",
              "      border-color: transparent;\n",
              "      border-left-color: var(--fill-color);\n",
              "      border-top-color: var(--fill-color);\n",
              "    }\n",
              "    30% {\n",
              "      border-color: transparent;\n",
              "      border-left-color: var(--fill-color);\n",
              "      border-top-color: var(--fill-color);\n",
              "      border-right-color: var(--fill-color);\n",
              "    }\n",
              "    40% {\n",
              "      border-color: transparent;\n",
              "      border-right-color: var(--fill-color);\n",
              "      border-top-color: var(--fill-color);\n",
              "    }\n",
              "    60% {\n",
              "      border-color: transparent;\n",
              "      border-right-color: var(--fill-color);\n",
              "    }\n",
              "    80% {\n",
              "      border-color: transparent;\n",
              "      border-right-color: var(--fill-color);\n",
              "      border-bottom-color: var(--fill-color);\n",
              "    }\n",
              "    90% {\n",
              "      border-color: transparent;\n",
              "      border-bottom-color: var(--fill-color);\n",
              "    }\n",
              "  }\n",
              "</style>\n",
              "\n",
              "      <script>\n",
              "        async function quickchart(key) {\n",
              "          const quickchartButtonEl =\n",
              "            document.querySelector('#' + key + ' button');\n",
              "          quickchartButtonEl.disabled = true;  // To prevent multiple clicks.\n",
              "          quickchartButtonEl.classList.add('colab-df-spinner');\n",
              "          try {\n",
              "            const charts = await google.colab.kernel.invokeFunction(\n",
              "                'suggestCharts', [key], {});\n",
              "          } catch (error) {\n",
              "            console.error('Error during call to suggestCharts:', error);\n",
              "          }\n",
              "          quickchartButtonEl.classList.remove('colab-df-spinner');\n",
              "          quickchartButtonEl.classList.add('colab-df-quickchart-complete');\n",
              "        }\n",
              "        (() => {\n",
              "          let quickchartButtonEl =\n",
              "            document.querySelector('#df-2d3e2d6e-6b40-4173-9531-42740e7ec949 button');\n",
              "          quickchartButtonEl.style.display =\n",
              "            google.colab.kernel.accessAllowed ? 'block' : 'none';\n",
              "        })();\n",
              "      </script>\n",
              "    </div>\n",
              "    </div>\n",
              "  </div>\n"
            ],
            "application/vnd.google.colaboratory.intrinsic+json": {
              "type": "dataframe",
              "summary": "{\n  \"name\": \"data\",\n  \"rows\": 8,\n  \"fields\": [\n    {\n      \"column\": \"\\u041a\\u043e\\u043d\\u0442\\u0440\\u043e\\u043b\\u044c\\u043d\\u0430\\u044f 1\",\n      \"properties\": {\n        \"dtype\": \"number\",\n        \"std\": 103.8696885958909,\n        \"min\": 2.0032832582311046,\n        \"max\": 300.0,\n        \"num_unique_values\": 8,\n        \"samples\": [\n          7.13,\n          7.0,\n          300.0\n        ],\n        \"semantic_type\": \"\",\n        \"description\": \"\"\n      }\n    },\n    {\n      \"column\": \"\\u041a\\u043e\\u043d\\u0442\\u0440\\u043e\\u043b\\u044c\\u043d\\u0430\\u044f 2\",\n      \"properties\": {\n        \"dtype\": \"number\",\n        \"std\": 103.87888341255409,\n        \"min\": 2.009839231050864,\n        \"max\": 300.0,\n        \"num_unique_values\": 8,\n        \"samples\": [\n          6.9366666666666665,\n          7.0,\n          300.0\n        ],\n        \"semantic_type\": \"\",\n        \"description\": \"\"\n      }\n    },\n    {\n      \"column\": \"\\u041a\\u043e\\u043d\\u0442\\u0440\\u043e\\u043b\\u044c\\u043d\\u0430\\u044f 3\",\n      \"properties\": {\n        \"dtype\": \"number\",\n        \"std\": 103.87763912053302,\n        \"min\": 2.028987259116937,\n        \"max\": 300.0,\n        \"num_unique_values\": 8,\n        \"samples\": [\n          6.94,\n          7.0,\n          300.0\n        ],\n        \"semantic_type\": \"\",\n        \"description\": \"\"\n      }\n    }\n  ]\n}"
            }
          },
          "metadata": {},
          "execution_count": 8
        }
      ]
    },
    {
      "cell_type": "code",
      "source": [
        "data.isna().sum()"
      ],
      "metadata": {
        "colab": {
          "base_uri": "https://localhost:8080/",
          "height": 366
        },
        "id": "FmZPWU0seggc",
        "outputId": "31c79713-7b25-4d5f-9ba7-48ec7e6d476e"
      },
      "execution_count": 9,
      "outputs": [
        {
          "output_type": "execute_result",
          "data": {
            "text/plain": [
              "Контрольная 1           0\n",
              "Контрольная 2           0\n",
              "Контрольная 3           0\n",
              "Сон накануне            0\n",
              "Настроение              0\n",
              "Энергетиков накануне    0\n",
              "Посещаемость занятий    0\n",
              "Время подготовки        0\n",
              "Сдал                    0\n",
              "dtype: int64"
            ],
            "text/html": [
              "<div>\n",
              "<style scoped>\n",
              "    .dataframe tbody tr th:only-of-type {\n",
              "        vertical-align: middle;\n",
              "    }\n",
              "\n",
              "    .dataframe tbody tr th {\n",
              "        vertical-align: top;\n",
              "    }\n",
              "\n",
              "    .dataframe thead th {\n",
              "        text-align: right;\n",
              "    }\n",
              "</style>\n",
              "<table border=\"1\" class=\"dataframe\">\n",
              "  <thead>\n",
              "    <tr style=\"text-align: right;\">\n",
              "      <th></th>\n",
              "      <th>0</th>\n",
              "    </tr>\n",
              "  </thead>\n",
              "  <tbody>\n",
              "    <tr>\n",
              "      <th>Контрольная 1</th>\n",
              "      <td>0</td>\n",
              "    </tr>\n",
              "    <tr>\n",
              "      <th>Контрольная 2</th>\n",
              "      <td>0</td>\n",
              "    </tr>\n",
              "    <tr>\n",
              "      <th>Контрольная 3</th>\n",
              "      <td>0</td>\n",
              "    </tr>\n",
              "    <tr>\n",
              "      <th>Сон накануне</th>\n",
              "      <td>0</td>\n",
              "    </tr>\n",
              "    <tr>\n",
              "      <th>Настроение</th>\n",
              "      <td>0</td>\n",
              "    </tr>\n",
              "    <tr>\n",
              "      <th>Энергетиков накануне</th>\n",
              "      <td>0</td>\n",
              "    </tr>\n",
              "    <tr>\n",
              "      <th>Посещаемость занятий</th>\n",
              "      <td>0</td>\n",
              "    </tr>\n",
              "    <tr>\n",
              "      <th>Время подготовки</th>\n",
              "      <td>0</td>\n",
              "    </tr>\n",
              "    <tr>\n",
              "      <th>Сдал</th>\n",
              "      <td>0</td>\n",
              "    </tr>\n",
              "  </tbody>\n",
              "</table>\n",
              "</div><br><label><b>dtype:</b> int64</label>"
            ]
          },
          "metadata": {},
          "execution_count": 9
        }
      ]
    },
    {
      "cell_type": "markdown",
      "source": [
        "В данных нет пропусков это очень хорошо"
      ],
      "metadata": {
        "id": "IumoxYVCoTuu"
      }
    },
    {
      "cell_type": "code",
      "source": [
        "data.head()"
      ],
      "metadata": {
        "colab": {
          "base_uri": "https://localhost:8080/",
          "height": 313
        },
        "id": "FXU10-PHvUqW",
        "outputId": "f3a9a9ad-a3c9-4d58-d38d-085b64c093ea"
      },
      "execution_count": 10,
      "outputs": [
        {
          "output_type": "execute_result",
          "data": {
            "text/plain": [
              "   Контрольная 1  Контрольная 2  Контрольная 3 Сон накануне  Настроение  \\\n",
              "0              4              4              9          Нет     Хорошее   \n",
              "1              9              9              6           Да      Плохое   \n",
              "2              8              6              9           Да     Хорошее   \n",
              "3              8              4              9           Да     Хорошее   \n",
              "4              9             10              4          Нет  Нормальное   \n",
              "\n",
              "  Энергетиков накануне Посещаемость занятий Время подготовки Сдал  \n",
              "0                   4+               Низкая        За неделю  Нет  \n",
              "1                    1              Средняя    Последний час   Да  \n",
              "2                  2-3              Средняя    Последний час   Да  \n",
              "3                    1              Высокая   Последняя ночь   Да  \n",
              "4                    1               Низкая    Последний час   Да  "
            ],
            "text/html": [
              "\n",
              "  <div id=\"df-94a48b3d-6581-4282-afa8-190066082da0\" class=\"colab-df-container\">\n",
              "    <div>\n",
              "<style scoped>\n",
              "    .dataframe tbody tr th:only-of-type {\n",
              "        vertical-align: middle;\n",
              "    }\n",
              "\n",
              "    .dataframe tbody tr th {\n",
              "        vertical-align: top;\n",
              "    }\n",
              "\n",
              "    .dataframe thead th {\n",
              "        text-align: right;\n",
              "    }\n",
              "</style>\n",
              "<table border=\"1\" class=\"dataframe\">\n",
              "  <thead>\n",
              "    <tr style=\"text-align: right;\">\n",
              "      <th></th>\n",
              "      <th>Контрольная 1</th>\n",
              "      <th>Контрольная 2</th>\n",
              "      <th>Контрольная 3</th>\n",
              "      <th>Сон накануне</th>\n",
              "      <th>Настроение</th>\n",
              "      <th>Энергетиков накануне</th>\n",
              "      <th>Посещаемость занятий</th>\n",
              "      <th>Время подготовки</th>\n",
              "      <th>Сдал</th>\n",
              "    </tr>\n",
              "  </thead>\n",
              "  <tbody>\n",
              "    <tr>\n",
              "      <th>0</th>\n",
              "      <td>4</td>\n",
              "      <td>4</td>\n",
              "      <td>9</td>\n",
              "      <td>Нет</td>\n",
              "      <td>Хорошее</td>\n",
              "      <td>4+</td>\n",
              "      <td>Низкая</td>\n",
              "      <td>За неделю</td>\n",
              "      <td>Нет</td>\n",
              "    </tr>\n",
              "    <tr>\n",
              "      <th>1</th>\n",
              "      <td>9</td>\n",
              "      <td>9</td>\n",
              "      <td>6</td>\n",
              "      <td>Да</td>\n",
              "      <td>Плохое</td>\n",
              "      <td>1</td>\n",
              "      <td>Средняя</td>\n",
              "      <td>Последний час</td>\n",
              "      <td>Да</td>\n",
              "    </tr>\n",
              "    <tr>\n",
              "      <th>2</th>\n",
              "      <td>8</td>\n",
              "      <td>6</td>\n",
              "      <td>9</td>\n",
              "      <td>Да</td>\n",
              "      <td>Хорошее</td>\n",
              "      <td>2-3</td>\n",
              "      <td>Средняя</td>\n",
              "      <td>Последний час</td>\n",
              "      <td>Да</td>\n",
              "    </tr>\n",
              "    <tr>\n",
              "      <th>3</th>\n",
              "      <td>8</td>\n",
              "      <td>4</td>\n",
              "      <td>9</td>\n",
              "      <td>Да</td>\n",
              "      <td>Хорошее</td>\n",
              "      <td>1</td>\n",
              "      <td>Высокая</td>\n",
              "      <td>Последняя ночь</td>\n",
              "      <td>Да</td>\n",
              "    </tr>\n",
              "    <tr>\n",
              "      <th>4</th>\n",
              "      <td>9</td>\n",
              "      <td>10</td>\n",
              "      <td>4</td>\n",
              "      <td>Нет</td>\n",
              "      <td>Нормальное</td>\n",
              "      <td>1</td>\n",
              "      <td>Низкая</td>\n",
              "      <td>Последний час</td>\n",
              "      <td>Да</td>\n",
              "    </tr>\n",
              "  </tbody>\n",
              "</table>\n",
              "</div>\n",
              "    <div class=\"colab-df-buttons\">\n",
              "\n",
              "  <div class=\"colab-df-container\">\n",
              "    <button class=\"colab-df-convert\" onclick=\"convertToInteractive('df-94a48b3d-6581-4282-afa8-190066082da0')\"\n",
              "            title=\"Convert this dataframe to an interactive table.\"\n",
              "            style=\"display:none;\">\n",
              "\n",
              "  <svg xmlns=\"http://www.w3.org/2000/svg\" height=\"24px\" viewBox=\"0 -960 960 960\">\n",
              "    <path d=\"M120-120v-720h720v720H120Zm60-500h600v-160H180v160Zm220 220h160v-160H400v160Zm0 220h160v-160H400v160ZM180-400h160v-160H180v160Zm440 0h160v-160H620v160ZM180-180h160v-160H180v160Zm440 0h160v-160H620v160Z\"/>\n",
              "  </svg>\n",
              "    </button>\n",
              "\n",
              "  <style>\n",
              "    .colab-df-container {\n",
              "      display:flex;\n",
              "      gap: 12px;\n",
              "    }\n",
              "\n",
              "    .colab-df-convert {\n",
              "      background-color: #E8F0FE;\n",
              "      border: none;\n",
              "      border-radius: 50%;\n",
              "      cursor: pointer;\n",
              "      display: none;\n",
              "      fill: #1967D2;\n",
              "      height: 32px;\n",
              "      padding: 0 0 0 0;\n",
              "      width: 32px;\n",
              "    }\n",
              "\n",
              "    .colab-df-convert:hover {\n",
              "      background-color: #E2EBFA;\n",
              "      box-shadow: 0px 1px 2px rgba(60, 64, 67, 0.3), 0px 1px 3px 1px rgba(60, 64, 67, 0.15);\n",
              "      fill: #174EA6;\n",
              "    }\n",
              "\n",
              "    .colab-df-buttons div {\n",
              "      margin-bottom: 4px;\n",
              "    }\n",
              "\n",
              "    [theme=dark] .colab-df-convert {\n",
              "      background-color: #3B4455;\n",
              "      fill: #D2E3FC;\n",
              "    }\n",
              "\n",
              "    [theme=dark] .colab-df-convert:hover {\n",
              "      background-color: #434B5C;\n",
              "      box-shadow: 0px 1px 3px 1px rgba(0, 0, 0, 0.15);\n",
              "      filter: drop-shadow(0px 1px 2px rgba(0, 0, 0, 0.3));\n",
              "      fill: #FFFFFF;\n",
              "    }\n",
              "  </style>\n",
              "\n",
              "    <script>\n",
              "      const buttonEl =\n",
              "        document.querySelector('#df-94a48b3d-6581-4282-afa8-190066082da0 button.colab-df-convert');\n",
              "      buttonEl.style.display =\n",
              "        google.colab.kernel.accessAllowed ? 'block' : 'none';\n",
              "\n",
              "      async function convertToInteractive(key) {\n",
              "        const element = document.querySelector('#df-94a48b3d-6581-4282-afa8-190066082da0');\n",
              "        const dataTable =\n",
              "          await google.colab.kernel.invokeFunction('convertToInteractive',\n",
              "                                                    [key], {});\n",
              "        if (!dataTable) return;\n",
              "\n",
              "        const docLinkHtml = 'Like what you see? Visit the ' +\n",
              "          '<a target=\"_blank\" href=https://colab.research.google.com/notebooks/data_table.ipynb>data table notebook</a>'\n",
              "          + ' to learn more about interactive tables.';\n",
              "        element.innerHTML = '';\n",
              "        dataTable['output_type'] = 'display_data';\n",
              "        await google.colab.output.renderOutput(dataTable, element);\n",
              "        const docLink = document.createElement('div');\n",
              "        docLink.innerHTML = docLinkHtml;\n",
              "        element.appendChild(docLink);\n",
              "      }\n",
              "    </script>\n",
              "  </div>\n",
              "\n",
              "\n",
              "    <div id=\"df-557a28c2-4620-4e22-a634-03aab909cf46\">\n",
              "      <button class=\"colab-df-quickchart\" onclick=\"quickchart('df-557a28c2-4620-4e22-a634-03aab909cf46')\"\n",
              "                title=\"Suggest charts\"\n",
              "                style=\"display:none;\">\n",
              "\n",
              "<svg xmlns=\"http://www.w3.org/2000/svg\" height=\"24px\"viewBox=\"0 0 24 24\"\n",
              "     width=\"24px\">\n",
              "    <g>\n",
              "        <path d=\"M19 3H5c-1.1 0-2 .9-2 2v14c0 1.1.9 2 2 2h14c1.1 0 2-.9 2-2V5c0-1.1-.9-2-2-2zM9 17H7v-7h2v7zm4 0h-2V7h2v10zm4 0h-2v-4h2v4z\"/>\n",
              "    </g>\n",
              "</svg>\n",
              "      </button>\n",
              "\n",
              "<style>\n",
              "  .colab-df-quickchart {\n",
              "      --bg-color: #E8F0FE;\n",
              "      --fill-color: #1967D2;\n",
              "      --hover-bg-color: #E2EBFA;\n",
              "      --hover-fill-color: #174EA6;\n",
              "      --disabled-fill-color: #AAA;\n",
              "      --disabled-bg-color: #DDD;\n",
              "  }\n",
              "\n",
              "  [theme=dark] .colab-df-quickchart {\n",
              "      --bg-color: #3B4455;\n",
              "      --fill-color: #D2E3FC;\n",
              "      --hover-bg-color: #434B5C;\n",
              "      --hover-fill-color: #FFFFFF;\n",
              "      --disabled-bg-color: #3B4455;\n",
              "      --disabled-fill-color: #666;\n",
              "  }\n",
              "\n",
              "  .colab-df-quickchart {\n",
              "    background-color: var(--bg-color);\n",
              "    border: none;\n",
              "    border-radius: 50%;\n",
              "    cursor: pointer;\n",
              "    display: none;\n",
              "    fill: var(--fill-color);\n",
              "    height: 32px;\n",
              "    padding: 0;\n",
              "    width: 32px;\n",
              "  }\n",
              "\n",
              "  .colab-df-quickchart:hover {\n",
              "    background-color: var(--hover-bg-color);\n",
              "    box-shadow: 0 1px 2px rgba(60, 64, 67, 0.3), 0 1px 3px 1px rgba(60, 64, 67, 0.15);\n",
              "    fill: var(--button-hover-fill-color);\n",
              "  }\n",
              "\n",
              "  .colab-df-quickchart-complete:disabled,\n",
              "  .colab-df-quickchart-complete:disabled:hover {\n",
              "    background-color: var(--disabled-bg-color);\n",
              "    fill: var(--disabled-fill-color);\n",
              "    box-shadow: none;\n",
              "  }\n",
              "\n",
              "  .colab-df-spinner {\n",
              "    border: 2px solid var(--fill-color);\n",
              "    border-color: transparent;\n",
              "    border-bottom-color: var(--fill-color);\n",
              "    animation:\n",
              "      spin 1s steps(1) infinite;\n",
              "  }\n",
              "\n",
              "  @keyframes spin {\n",
              "    0% {\n",
              "      border-color: transparent;\n",
              "      border-bottom-color: var(--fill-color);\n",
              "      border-left-color: var(--fill-color);\n",
              "    }\n",
              "    20% {\n",
              "      border-color: transparent;\n",
              "      border-left-color: var(--fill-color);\n",
              "      border-top-color: var(--fill-color);\n",
              "    }\n",
              "    30% {\n",
              "      border-color: transparent;\n",
              "      border-left-color: var(--fill-color);\n",
              "      border-top-color: var(--fill-color);\n",
              "      border-right-color: var(--fill-color);\n",
              "    }\n",
              "    40% {\n",
              "      border-color: transparent;\n",
              "      border-right-color: var(--fill-color);\n",
              "      border-top-color: var(--fill-color);\n",
              "    }\n",
              "    60% {\n",
              "      border-color: transparent;\n",
              "      border-right-color: var(--fill-color);\n",
              "    }\n",
              "    80% {\n",
              "      border-color: transparent;\n",
              "      border-right-color: var(--fill-color);\n",
              "      border-bottom-color: var(--fill-color);\n",
              "    }\n",
              "    90% {\n",
              "      border-color: transparent;\n",
              "      border-bottom-color: var(--fill-color);\n",
              "    }\n",
              "  }\n",
              "</style>\n",
              "\n",
              "      <script>\n",
              "        async function quickchart(key) {\n",
              "          const quickchartButtonEl =\n",
              "            document.querySelector('#' + key + ' button');\n",
              "          quickchartButtonEl.disabled = true;  // To prevent multiple clicks.\n",
              "          quickchartButtonEl.classList.add('colab-df-spinner');\n",
              "          try {\n",
              "            const charts = await google.colab.kernel.invokeFunction(\n",
              "                'suggestCharts', [key], {});\n",
              "          } catch (error) {\n",
              "            console.error('Error during call to suggestCharts:', error);\n",
              "          }\n",
              "          quickchartButtonEl.classList.remove('colab-df-spinner');\n",
              "          quickchartButtonEl.classList.add('colab-df-quickchart-complete');\n",
              "        }\n",
              "        (() => {\n",
              "          let quickchartButtonEl =\n",
              "            document.querySelector('#df-557a28c2-4620-4e22-a634-03aab909cf46 button');\n",
              "          quickchartButtonEl.style.display =\n",
              "            google.colab.kernel.accessAllowed ? 'block' : 'none';\n",
              "        })();\n",
              "      </script>\n",
              "    </div>\n",
              "    </div>\n",
              "  </div>\n"
            ],
            "application/vnd.google.colaboratory.intrinsic+json": {
              "type": "dataframe",
              "variable_name": "data",
              "summary": "{\n  \"name\": \"data\",\n  \"rows\": 300,\n  \"fields\": [\n    {\n      \"column\": \"\\u041a\\u043e\\u043d\\u0442\\u0440\\u043e\\u043b\\u044c\\u043d\\u0430\\u044f 1\",\n      \"properties\": {\n        \"dtype\": \"number\",\n        \"std\": 2,\n        \"min\": 4,\n        \"max\": 10,\n        \"num_unique_values\": 7,\n        \"samples\": [\n          4,\n          9,\n          10\n        ],\n        \"semantic_type\": \"\",\n        \"description\": \"\"\n      }\n    },\n    {\n      \"column\": \"\\u041a\\u043e\\u043d\\u0442\\u0440\\u043e\\u043b\\u044c\\u043d\\u0430\\u044f 2\",\n      \"properties\": {\n        \"dtype\": \"number\",\n        \"std\": 2,\n        \"min\": 4,\n        \"max\": 10,\n        \"num_unique_values\": 7,\n        \"samples\": [\n          4,\n          9,\n          8\n        ],\n        \"semantic_type\": \"\",\n        \"description\": \"\"\n      }\n    },\n    {\n      \"column\": \"\\u041a\\u043e\\u043d\\u0442\\u0440\\u043e\\u043b\\u044c\\u043d\\u0430\\u044f 3\",\n      \"properties\": {\n        \"dtype\": \"number\",\n        \"std\": 2,\n        \"min\": 4,\n        \"max\": 10,\n        \"num_unique_values\": 7,\n        \"samples\": [\n          9,\n          6,\n          8\n        ],\n        \"semantic_type\": \"\",\n        \"description\": \"\"\n      }\n    },\n    {\n      \"column\": \"\\u0421\\u043e\\u043d \\u043d\\u0430\\u043a\\u0430\\u043d\\u0443\\u043d\\u0435\",\n      \"properties\": {\n        \"dtype\": \"category\",\n        \"num_unique_values\": 2,\n        \"samples\": [\n          \"\\u0414\\u0430\",\n          \"\\u041d\\u0435\\u0442\"\n        ],\n        \"semantic_type\": \"\",\n        \"description\": \"\"\n      }\n    },\n    {\n      \"column\": \"\\u041d\\u0430\\u0441\\u0442\\u0440\\u043e\\u0435\\u043d\\u0438\\u0435\",\n      \"properties\": {\n        \"dtype\": \"category\",\n        \"num_unique_values\": 3,\n        \"samples\": [\n          \"\\u0425\\u043e\\u0440\\u043e\\u0448\\u0435\\u0435\",\n          \"\\u041f\\u043b\\u043e\\u0445\\u043e\\u0435\"\n        ],\n        \"semantic_type\": \"\",\n        \"description\": \"\"\n      }\n    },\n    {\n      \"column\": \"\\u042d\\u043d\\u0435\\u0440\\u0433\\u0435\\u0442\\u0438\\u043a\\u043e\\u0432 \\u043d\\u0430\\u043a\\u0430\\u043d\\u0443\\u043d\\u0435\",\n      \"properties\": {\n        \"dtype\": \"category\",\n        \"num_unique_values\": 4,\n        \"samples\": [\n          \"1\",\n          \"0\"\n        ],\n        \"semantic_type\": \"\",\n        \"description\": \"\"\n      }\n    },\n    {\n      \"column\": \"\\u041f\\u043e\\u0441\\u0435\\u0449\\u0430\\u0435\\u043c\\u043e\\u0441\\u0442\\u044c \\u0437\\u0430\\u043d\\u044f\\u0442\\u0438\\u0439\",\n      \"properties\": {\n        \"dtype\": \"category\",\n        \"num_unique_values\": 3,\n        \"samples\": [\n          \"\\u041d\\u0438\\u0437\\u043a\\u0430\\u044f\",\n          \"\\u0421\\u0440\\u0435\\u0434\\u043d\\u044f\\u044f\"\n        ],\n        \"semantic_type\": \"\",\n        \"description\": \"\"\n      }\n    },\n    {\n      \"column\": \"\\u0412\\u0440\\u0435\\u043c\\u044f \\u043f\\u043e\\u0434\\u0433\\u043e\\u0442\\u043e\\u0432\\u043a\\u0438\",\n      \"properties\": {\n        \"dtype\": \"category\",\n        \"num_unique_values\": 4,\n        \"samples\": [\n          \"\\u041f\\u043e\\u0441\\u043b\\u0435\\u0434\\u043d\\u0438\\u0439 \\u0447\\u0430\\u0441\",\n          \"\\u0417\\u0430 \\u043d\\u0435\\u0441\\u043a\\u043e\\u043b\\u044c\\u043a\\u043e \\u0434\\u043d\\u0435\\u0439\"\n        ],\n        \"semantic_type\": \"\",\n        \"description\": \"\"\n      }\n    },\n    {\n      \"column\": \"\\u0421\\u0434\\u0430\\u043b\",\n      \"properties\": {\n        \"dtype\": \"category\",\n        \"num_unique_values\": 2,\n        \"samples\": [\n          \"\\u0414\\u0430\",\n          \"\\u041d\\u0435\\u0442\"\n        ],\n        \"semantic_type\": \"\",\n        \"description\": \"\"\n      }\n    }\n  ]\n}"
            }
          },
          "metadata": {},
          "execution_count": 10
        }
      ]
    },
    {
      "cell_type": "markdown",
      "source": [
        "Заметим что в данных много категориальных признаков. Данных не много поэтому нейронки особого смысла обучать нет + много категориальных признаков поэтому основная модель скорее всего будет градиентным бустингом над деревьями.  "
      ],
      "metadata": {
        "id": "izGz1KCqlhFX"
      }
    },
    {
      "cell_type": "markdown",
      "source": [
        "Но для построения бэйслайнов которые не могут работаь с категориальными признаками и некоторой предобработки декодируем их. C помощью one hot encoding"
      ],
      "metadata": {
        "id": "qsBvkH5gry66"
      }
    },
    {
      "cell_type": "code",
      "source": [
        "x, y = data.drop(columns = [\"Сдал\"]), data[\"Сдал\"]"
      ],
      "metadata": {
        "id": "WM-uINrlodil"
      },
      "execution_count": 11,
      "outputs": []
    },
    {
      "cell_type": "markdown",
      "source": [
        "Все столбцы кроме оценок считаем категориальными"
      ],
      "metadata": {
        "id": "BScZYgwVzk6T"
      }
    },
    {
      "cell_type": "code",
      "source": [
        "cat_columns = x.iloc[:, 3:].columns\n",
        "df_encoded = pd.get_dummies(x, columns=x.iloc[:, 3:].columns).astype(int)"
      ],
      "metadata": {
        "id": "LBKVY03Xzg-p"
      },
      "execution_count": 12,
      "outputs": []
    },
    {
      "cell_type": "markdown",
      "source": [
        "С помощью Изоляционного леса предобработает анамалии. Порог подбирался вручную"
      ],
      "metadata": {
        "id": "CsU3l2Hf0Ecl"
      }
    },
    {
      "cell_type": "code",
      "source": [
        "iso = IsolationForest(random_state=0, contamination=0.01)\n",
        "clean = iso.fit_predict(df_encoded, y)\n",
        "\n",
        "X_cleaned = x[clean != -1]\n",
        "X_encoded_clean = df_encoded[clean != -1]\n",
        "\n",
        "y_cleaned = y[clean != -1]"
      ],
      "metadata": {
        "id": "7e9YCd2EoWj_"
      },
      "execution_count": 13,
      "outputs": []
    },
    {
      "cell_type": "markdown",
      "source": [
        "Из понимания домена делаем вывод что наиболее важные факторы это оценки и посещаемость. Поэтому делаем вывод что это скорее всего действительно аномалии"
      ],
      "metadata": {
        "id": "AltMF0460_-x"
      }
    },
    {
      "cell_type": "code",
      "source": [
        "data.iloc[clean == -1]"
      ],
      "metadata": {
        "colab": {
          "base_uri": "https://localhost:8080/",
          "height": 215
        },
        "id": "2j-msAEdovHq",
        "outputId": "c9240391-7846-48c8-b7d2-4c84e96ca29d"
      },
      "execution_count": 14,
      "outputs": [
        {
          "output_type": "execute_result",
          "data": {
            "text/plain": [
              "    Контрольная 1  Контрольная 2  Контрольная 3 Сон накануне Настроение  \\\n",
              "7               8              6             10          Нет    Хорошее   \n",
              "32              9             10             10          Нет     Плохое   \n",
              "99              4             10              9          Нет     Плохое   \n",
              "\n",
              "   Энергетиков накануне Посещаемость занятий   Время подготовки Сдал  \n",
              "7                    4+              Средняя  За несколько дней  Нет  \n",
              "32                   4+              Средняя          За неделю  Нет  \n",
              "99                   4+              Средняя          За неделю  Нет  "
            ],
            "text/html": [
              "\n",
              "  <div id=\"df-9bc8f7bd-6dc9-419f-94e3-a1368202380a\" class=\"colab-df-container\">\n",
              "    <div>\n",
              "<style scoped>\n",
              "    .dataframe tbody tr th:only-of-type {\n",
              "        vertical-align: middle;\n",
              "    }\n",
              "\n",
              "    .dataframe tbody tr th {\n",
              "        vertical-align: top;\n",
              "    }\n",
              "\n",
              "    .dataframe thead th {\n",
              "        text-align: right;\n",
              "    }\n",
              "</style>\n",
              "<table border=\"1\" class=\"dataframe\">\n",
              "  <thead>\n",
              "    <tr style=\"text-align: right;\">\n",
              "      <th></th>\n",
              "      <th>Контрольная 1</th>\n",
              "      <th>Контрольная 2</th>\n",
              "      <th>Контрольная 3</th>\n",
              "      <th>Сон накануне</th>\n",
              "      <th>Настроение</th>\n",
              "      <th>Энергетиков накануне</th>\n",
              "      <th>Посещаемость занятий</th>\n",
              "      <th>Время подготовки</th>\n",
              "      <th>Сдал</th>\n",
              "    </tr>\n",
              "  </thead>\n",
              "  <tbody>\n",
              "    <tr>\n",
              "      <th>7</th>\n",
              "      <td>8</td>\n",
              "      <td>6</td>\n",
              "      <td>10</td>\n",
              "      <td>Нет</td>\n",
              "      <td>Хорошее</td>\n",
              "      <td>4+</td>\n",
              "      <td>Средняя</td>\n",
              "      <td>За несколько дней</td>\n",
              "      <td>Нет</td>\n",
              "    </tr>\n",
              "    <tr>\n",
              "      <th>32</th>\n",
              "      <td>9</td>\n",
              "      <td>10</td>\n",
              "      <td>10</td>\n",
              "      <td>Нет</td>\n",
              "      <td>Плохое</td>\n",
              "      <td>4+</td>\n",
              "      <td>Средняя</td>\n",
              "      <td>За неделю</td>\n",
              "      <td>Нет</td>\n",
              "    </tr>\n",
              "    <tr>\n",
              "      <th>99</th>\n",
              "      <td>4</td>\n",
              "      <td>10</td>\n",
              "      <td>9</td>\n",
              "      <td>Нет</td>\n",
              "      <td>Плохое</td>\n",
              "      <td>4+</td>\n",
              "      <td>Средняя</td>\n",
              "      <td>За неделю</td>\n",
              "      <td>Нет</td>\n",
              "    </tr>\n",
              "  </tbody>\n",
              "</table>\n",
              "</div>\n",
              "    <div class=\"colab-df-buttons\">\n",
              "\n",
              "  <div class=\"colab-df-container\">\n",
              "    <button class=\"colab-df-convert\" onclick=\"convertToInteractive('df-9bc8f7bd-6dc9-419f-94e3-a1368202380a')\"\n",
              "            title=\"Convert this dataframe to an interactive table.\"\n",
              "            style=\"display:none;\">\n",
              "\n",
              "  <svg xmlns=\"http://www.w3.org/2000/svg\" height=\"24px\" viewBox=\"0 -960 960 960\">\n",
              "    <path d=\"M120-120v-720h720v720H120Zm60-500h600v-160H180v160Zm220 220h160v-160H400v160Zm0 220h160v-160H400v160ZM180-400h160v-160H180v160Zm440 0h160v-160H620v160ZM180-180h160v-160H180v160Zm440 0h160v-160H620v160Z\"/>\n",
              "  </svg>\n",
              "    </button>\n",
              "\n",
              "  <style>\n",
              "    .colab-df-container {\n",
              "      display:flex;\n",
              "      gap: 12px;\n",
              "    }\n",
              "\n",
              "    .colab-df-convert {\n",
              "      background-color: #E8F0FE;\n",
              "      border: none;\n",
              "      border-radius: 50%;\n",
              "      cursor: pointer;\n",
              "      display: none;\n",
              "      fill: #1967D2;\n",
              "      height: 32px;\n",
              "      padding: 0 0 0 0;\n",
              "      width: 32px;\n",
              "    }\n",
              "\n",
              "    .colab-df-convert:hover {\n",
              "      background-color: #E2EBFA;\n",
              "      box-shadow: 0px 1px 2px rgba(60, 64, 67, 0.3), 0px 1px 3px 1px rgba(60, 64, 67, 0.15);\n",
              "      fill: #174EA6;\n",
              "    }\n",
              "\n",
              "    .colab-df-buttons div {\n",
              "      margin-bottom: 4px;\n",
              "    }\n",
              "\n",
              "    [theme=dark] .colab-df-convert {\n",
              "      background-color: #3B4455;\n",
              "      fill: #D2E3FC;\n",
              "    }\n",
              "\n",
              "    [theme=dark] .colab-df-convert:hover {\n",
              "      background-color: #434B5C;\n",
              "      box-shadow: 0px 1px 3px 1px rgba(0, 0, 0, 0.15);\n",
              "      filter: drop-shadow(0px 1px 2px rgba(0, 0, 0, 0.3));\n",
              "      fill: #FFFFFF;\n",
              "    }\n",
              "  </style>\n",
              "\n",
              "    <script>\n",
              "      const buttonEl =\n",
              "        document.querySelector('#df-9bc8f7bd-6dc9-419f-94e3-a1368202380a button.colab-df-convert');\n",
              "      buttonEl.style.display =\n",
              "        google.colab.kernel.accessAllowed ? 'block' : 'none';\n",
              "\n",
              "      async function convertToInteractive(key) {\n",
              "        const element = document.querySelector('#df-9bc8f7bd-6dc9-419f-94e3-a1368202380a');\n",
              "        const dataTable =\n",
              "          await google.colab.kernel.invokeFunction('convertToInteractive',\n",
              "                                                    [key], {});\n",
              "        if (!dataTable) return;\n",
              "\n",
              "        const docLinkHtml = 'Like what you see? Visit the ' +\n",
              "          '<a target=\"_blank\" href=https://colab.research.google.com/notebooks/data_table.ipynb>data table notebook</a>'\n",
              "          + ' to learn more about interactive tables.';\n",
              "        element.innerHTML = '';\n",
              "        dataTable['output_type'] = 'display_data';\n",
              "        await google.colab.output.renderOutput(dataTable, element);\n",
              "        const docLink = document.createElement('div');\n",
              "        docLink.innerHTML = docLinkHtml;\n",
              "        element.appendChild(docLink);\n",
              "      }\n",
              "    </script>\n",
              "  </div>\n",
              "\n",
              "\n",
              "    <div id=\"df-33546073-e1e9-4db3-825e-367c920a592d\">\n",
              "      <button class=\"colab-df-quickchart\" onclick=\"quickchart('df-33546073-e1e9-4db3-825e-367c920a592d')\"\n",
              "                title=\"Suggest charts\"\n",
              "                style=\"display:none;\">\n",
              "\n",
              "<svg xmlns=\"http://www.w3.org/2000/svg\" height=\"24px\"viewBox=\"0 0 24 24\"\n",
              "     width=\"24px\">\n",
              "    <g>\n",
              "        <path d=\"M19 3H5c-1.1 0-2 .9-2 2v14c0 1.1.9 2 2 2h14c1.1 0 2-.9 2-2V5c0-1.1-.9-2-2-2zM9 17H7v-7h2v7zm4 0h-2V7h2v10zm4 0h-2v-4h2v4z\"/>\n",
              "    </g>\n",
              "</svg>\n",
              "      </button>\n",
              "\n",
              "<style>\n",
              "  .colab-df-quickchart {\n",
              "      --bg-color: #E8F0FE;\n",
              "      --fill-color: #1967D2;\n",
              "      --hover-bg-color: #E2EBFA;\n",
              "      --hover-fill-color: #174EA6;\n",
              "      --disabled-fill-color: #AAA;\n",
              "      --disabled-bg-color: #DDD;\n",
              "  }\n",
              "\n",
              "  [theme=dark] .colab-df-quickchart {\n",
              "      --bg-color: #3B4455;\n",
              "      --fill-color: #D2E3FC;\n",
              "      --hover-bg-color: #434B5C;\n",
              "      --hover-fill-color: #FFFFFF;\n",
              "      --disabled-bg-color: #3B4455;\n",
              "      --disabled-fill-color: #666;\n",
              "  }\n",
              "\n",
              "  .colab-df-quickchart {\n",
              "    background-color: var(--bg-color);\n",
              "    border: none;\n",
              "    border-radius: 50%;\n",
              "    cursor: pointer;\n",
              "    display: none;\n",
              "    fill: var(--fill-color);\n",
              "    height: 32px;\n",
              "    padding: 0;\n",
              "    width: 32px;\n",
              "  }\n",
              "\n",
              "  .colab-df-quickchart:hover {\n",
              "    background-color: var(--hover-bg-color);\n",
              "    box-shadow: 0 1px 2px rgba(60, 64, 67, 0.3), 0 1px 3px 1px rgba(60, 64, 67, 0.15);\n",
              "    fill: var(--button-hover-fill-color);\n",
              "  }\n",
              "\n",
              "  .colab-df-quickchart-complete:disabled,\n",
              "  .colab-df-quickchart-complete:disabled:hover {\n",
              "    background-color: var(--disabled-bg-color);\n",
              "    fill: var(--disabled-fill-color);\n",
              "    box-shadow: none;\n",
              "  }\n",
              "\n",
              "  .colab-df-spinner {\n",
              "    border: 2px solid var(--fill-color);\n",
              "    border-color: transparent;\n",
              "    border-bottom-color: var(--fill-color);\n",
              "    animation:\n",
              "      spin 1s steps(1) infinite;\n",
              "  }\n",
              "\n",
              "  @keyframes spin {\n",
              "    0% {\n",
              "      border-color: transparent;\n",
              "      border-bottom-color: var(--fill-color);\n",
              "      border-left-color: var(--fill-color);\n",
              "    }\n",
              "    20% {\n",
              "      border-color: transparent;\n",
              "      border-left-color: var(--fill-color);\n",
              "      border-top-color: var(--fill-color);\n",
              "    }\n",
              "    30% {\n",
              "      border-color: transparent;\n",
              "      border-left-color: var(--fill-color);\n",
              "      border-top-color: var(--fill-color);\n",
              "      border-right-color: var(--fill-color);\n",
              "    }\n",
              "    40% {\n",
              "      border-color: transparent;\n",
              "      border-right-color: var(--fill-color);\n",
              "      border-top-color: var(--fill-color);\n",
              "    }\n",
              "    60% {\n",
              "      border-color: transparent;\n",
              "      border-right-color: var(--fill-color);\n",
              "    }\n",
              "    80% {\n",
              "      border-color: transparent;\n",
              "      border-right-color: var(--fill-color);\n",
              "      border-bottom-color: var(--fill-color);\n",
              "    }\n",
              "    90% {\n",
              "      border-color: transparent;\n",
              "      border-bottom-color: var(--fill-color);\n",
              "    }\n",
              "  }\n",
              "</style>\n",
              "\n",
              "      <script>\n",
              "        async function quickchart(key) {\n",
              "          const quickchartButtonEl =\n",
              "            document.querySelector('#' + key + ' button');\n",
              "          quickchartButtonEl.disabled = true;  // To prevent multiple clicks.\n",
              "          quickchartButtonEl.classList.add('colab-df-spinner');\n",
              "          try {\n",
              "            const charts = await google.colab.kernel.invokeFunction(\n",
              "                'suggestCharts', [key], {});\n",
              "          } catch (error) {\n",
              "            console.error('Error during call to suggestCharts:', error);\n",
              "          }\n",
              "          quickchartButtonEl.classList.remove('colab-df-spinner');\n",
              "          quickchartButtonEl.classList.add('colab-df-quickchart-complete');\n",
              "        }\n",
              "        (() => {\n",
              "          let quickchartButtonEl =\n",
              "            document.querySelector('#df-33546073-e1e9-4db3-825e-367c920a592d button');\n",
              "          quickchartButtonEl.style.display =\n",
              "            google.colab.kernel.accessAllowed ? 'block' : 'none';\n",
              "        })();\n",
              "      </script>\n",
              "    </div>\n",
              "    </div>\n",
              "  </div>\n"
            ],
            "application/vnd.google.colaboratory.intrinsic+json": {
              "type": "dataframe",
              "summary": "{\n  \"name\": \"data\",\n  \"rows\": 3,\n  \"fields\": [\n    {\n      \"column\": \"\\u041a\\u043e\\u043d\\u0442\\u0440\\u043e\\u043b\\u044c\\u043d\\u0430\\u044f 1\",\n      \"properties\": {\n        \"dtype\": \"number\",\n        \"std\": 2,\n        \"min\": 4,\n        \"max\": 9,\n        \"num_unique_values\": 3,\n        \"samples\": [\n          8,\n          9,\n          4\n        ],\n        \"semantic_type\": \"\",\n        \"description\": \"\"\n      }\n    },\n    {\n      \"column\": \"\\u041a\\u043e\\u043d\\u0442\\u0440\\u043e\\u043b\\u044c\\u043d\\u0430\\u044f 2\",\n      \"properties\": {\n        \"dtype\": \"number\",\n        \"std\": 2,\n        \"min\": 6,\n        \"max\": 10,\n        \"num_unique_values\": 2,\n        \"samples\": [\n          10,\n          6\n        ],\n        \"semantic_type\": \"\",\n        \"description\": \"\"\n      }\n    },\n    {\n      \"column\": \"\\u041a\\u043e\\u043d\\u0442\\u0440\\u043e\\u043b\\u044c\\u043d\\u0430\\u044f 3\",\n      \"properties\": {\n        \"dtype\": \"number\",\n        \"std\": 0,\n        \"min\": 9,\n        \"max\": 10,\n        \"num_unique_values\": 2,\n        \"samples\": [\n          9,\n          10\n        ],\n        \"semantic_type\": \"\",\n        \"description\": \"\"\n      }\n    },\n    {\n      \"column\": \"\\u0421\\u043e\\u043d \\u043d\\u0430\\u043a\\u0430\\u043d\\u0443\\u043d\\u0435\",\n      \"properties\": {\n        \"dtype\": \"category\",\n        \"num_unique_values\": 1,\n        \"samples\": [\n          \"\\u041d\\u0435\\u0442\"\n        ],\n        \"semantic_type\": \"\",\n        \"description\": \"\"\n      }\n    },\n    {\n      \"column\": \"\\u041d\\u0430\\u0441\\u0442\\u0440\\u043e\\u0435\\u043d\\u0438\\u0435\",\n      \"properties\": {\n        \"dtype\": \"string\",\n        \"num_unique_values\": 2,\n        \"samples\": [\n          \"\\u041f\\u043b\\u043e\\u0445\\u043e\\u0435\"\n        ],\n        \"semantic_type\": \"\",\n        \"description\": \"\"\n      }\n    },\n    {\n      \"column\": \"\\u042d\\u043d\\u0435\\u0440\\u0433\\u0435\\u0442\\u0438\\u043a\\u043e\\u0432 \\u043d\\u0430\\u043a\\u0430\\u043d\\u0443\\u043d\\u0435\",\n      \"properties\": {\n        \"dtype\": \"category\",\n        \"num_unique_values\": 1,\n        \"samples\": [\n          \"4+\"\n        ],\n        \"semantic_type\": \"\",\n        \"description\": \"\"\n      }\n    },\n    {\n      \"column\": \"\\u041f\\u043e\\u0441\\u0435\\u0449\\u0430\\u0435\\u043c\\u043e\\u0441\\u0442\\u044c \\u0437\\u0430\\u043d\\u044f\\u0442\\u0438\\u0439\",\n      \"properties\": {\n        \"dtype\": \"category\",\n        \"num_unique_values\": 1,\n        \"samples\": [\n          \"\\u0421\\u0440\\u0435\\u0434\\u043d\\u044f\\u044f\"\n        ],\n        \"semantic_type\": \"\",\n        \"description\": \"\"\n      }\n    },\n    {\n      \"column\": \"\\u0412\\u0440\\u0435\\u043c\\u044f \\u043f\\u043e\\u0434\\u0433\\u043e\\u0442\\u043e\\u0432\\u043a\\u0438\",\n      \"properties\": {\n        \"dtype\": \"string\",\n        \"num_unique_values\": 2,\n        \"samples\": [\n          \"\\u0417\\u0430 \\u043d\\u0435\\u0434\\u0435\\u043b\\u044e\"\n        ],\n        \"semantic_type\": \"\",\n        \"description\": \"\"\n      }\n    },\n    {\n      \"column\": \"\\u0421\\u0434\\u0430\\u043b\",\n      \"properties\": {\n        \"dtype\": \"category\",\n        \"num_unique_values\": 1,\n        \"samples\": [\n          \"\\u041d\\u0435\\u0442\"\n        ],\n        \"semantic_type\": \"\",\n        \"description\": \"\"\n      }\n    }\n  ]\n}"
            }
          },
          "metadata": {},
          "execution_count": 14
        }
      ]
    },
    {
      "cell_type": "markdown",
      "source": [
        "Попробуем добавить новых фичей"
      ],
      "metadata": {
        "id": "ban0jDqj9XqI"
      }
    },
    {
      "cell_type": "markdown",
      "source": [
        "Из понимания домена можно попробовать сделать вывод что наибольший вклад дают именно оценки. Поэтому попробуем добавить несколько статискик этих данных"
      ],
      "metadata": {
        "id": "5zLjw3Aq_6t7"
      }
    },
    {
      "cell_type": "code",
      "source": [
        "X_cleaned.loc[:, \"Mean\"] = X_encoded_clean[X_encoded_clean.columns[:3]].mean(axis=1)\n",
        "X_encoded_clean.loc[:, \"Mean\"] = X_encoded_clean[X_encoded_clean.columns[:3]].mean(axis=1)"
      ],
      "metadata": {
        "id": "xtO5Yfdt9d4v",
        "colab": {
          "base_uri": "https://localhost:8080/"
        },
        "outputId": "cae2f680-91c1-424c-c644-836e20c5eb26"
      },
      "execution_count": 15,
      "outputs": [
        {
          "output_type": "stream",
          "name": "stderr",
          "text": [
            "<ipython-input-15-16e3bd562b50>:1: SettingWithCopyWarning: \n",
            "A value is trying to be set on a copy of a slice from a DataFrame.\n",
            "Try using .loc[row_indexer,col_indexer] = value instead\n",
            "\n",
            "See the caveats in the documentation: https://pandas.pydata.org/pandas-docs/stable/user_guide/indexing.html#returning-a-view-versus-a-copy\n",
            "  X_cleaned.loc[:, \"Mean\"] = X_encoded_clean[X_encoded_clean.columns[:3]].mean(axis=1)\n",
            "<ipython-input-15-16e3bd562b50>:2: SettingWithCopyWarning: \n",
            "A value is trying to be set on a copy of a slice from a DataFrame.\n",
            "Try using .loc[row_indexer,col_indexer] = value instead\n",
            "\n",
            "See the caveats in the documentation: https://pandas.pydata.org/pandas-docs/stable/user_guide/indexing.html#returning-a-view-versus-a-copy\n",
            "  X_encoded_clean.loc[:, \"Mean\"] = X_encoded_clean[X_encoded_clean.columns[:3]].mean(axis=1)\n"
          ]
        }
      ]
    },
    {
      "cell_type": "markdown",
      "source": [
        "Добавили среднее из оценок"
      ],
      "metadata": {
        "id": "rxQJrH-b_9kD"
      }
    },
    {
      "cell_type": "code",
      "source": [
        "X_encoded_clean.loc[:, \"Min\"] = X_encoded_clean[X_encoded_clean.columns[:3]].min(axis=1)\n",
        "\n",
        "X_encoded_clean = X_encoded_clean.assign(\n",
        "    Min=X_encoded_clean[X_encoded_clean.columns[:3]].min(axis=1)\n",
        ")"
      ],
      "metadata": {
        "id": "XKdCWoCO_jaE",
        "colab": {
          "base_uri": "https://localhost:8080/"
        },
        "outputId": "40c82026-e460-4707-83c1-c7bfd6226a23"
      },
      "execution_count": 16,
      "outputs": [
        {
          "output_type": "stream",
          "name": "stderr",
          "text": [
            "<ipython-input-16-0ba08c6f1b68>:1: SettingWithCopyWarning: \n",
            "A value is trying to be set on a copy of a slice from a DataFrame.\n",
            "Try using .loc[row_indexer,col_indexer] = value instead\n",
            "\n",
            "See the caveats in the documentation: https://pandas.pydata.org/pandas-docs/stable/user_guide/indexing.html#returning-a-view-versus-a-copy\n",
            "  X_encoded_clean.loc[:, \"Min\"] = X_encoded_clean[X_encoded_clean.columns[:3]].min(axis=1)\n"
          ]
        }
      ]
    },
    {
      "cell_type": "markdown",
      "source": [
        "Добавили минимальную оценку"
      ],
      "metadata": {
        "id": "Z_vtEeCuAb58"
      }
    },
    {
      "cell_type": "markdown",
      "source": [
        "Попробуем обучить несколько простых моделей"
      ],
      "metadata": {
        "id": "Y7qVpZmpBly0"
      }
    },
    {
      "cell_type": "code",
      "source": [
        "Xen_train, Xen_test, yen_train, yen_test = train_test_split(X_encoded_clean, y_cleaned)"
      ],
      "metadata": {
        "id": "_htxea_EBu1G"
      },
      "execution_count": 17,
      "outputs": []
    },
    {
      "cell_type": "code",
      "source": [
        "lr = LogisticRegression()\n",
        "print(cross_val_score(lr, Xen_train, yen_train, cv=20, scoring='accuracy').mean())"
      ],
      "metadata": {
        "colab": {
          "base_uri": "https://localhost:8080/"
        },
        "id": "pryHeSoH9IYO",
        "outputId": "86545eb6-354f-4dc6-c0c8-77fd6b20d36e"
      },
      "execution_count": 18,
      "outputs": [
        {
          "output_type": "stream",
          "name": "stdout",
          "text": [
            "0.8647727272727274\n"
          ]
        }
      ]
    },
    {
      "cell_type": "code",
      "source": [
        "knn = KNeighborsClassifier(n_neighbors=3)\n",
        "print(cross_val_score(knn, Xen_train, yen_train, cv=20, scoring='accuracy').mean())"
      ],
      "metadata": {
        "colab": {
          "base_uri": "https://localhost:8080/"
        },
        "id": "dM8BpevEChMO",
        "outputId": "ac3621a8-ad5c-4760-9441-bfd9f4d96379"
      },
      "execution_count": 19,
      "outputs": [
        {
          "output_type": "stream",
          "name": "stdout",
          "text": [
            "0.7886363636363636\n"
          ]
        }
      ]
    },
    {
      "cell_type": "code",
      "source": [
        "nb = GaussianNB()\n",
        "print(cross_val_score(nb, Xen_train, yen_train, cv=20, scoring='accuracy').mean())"
      ],
      "metadata": {
        "colab": {
          "base_uri": "https://localhost:8080/"
        },
        "id": "uDeriqmNC17X",
        "outputId": "b700fca4-fa52-4d2c-c825-fce8b16c4686"
      },
      "execution_count": 20,
      "outputs": [
        {
          "output_type": "stream",
          "name": "stdout",
          "text": [
            "0.8473484848484848\n"
          ]
        }
      ]
    },
    {
      "cell_type": "markdown",
      "source": [
        "К сожалению простые модели не дали хорошей точности. Их можно былобы потюнить и попытаться поднять точность на пару процентов. Но как мы уже говорили датасет имеет много категориальных фич поэтому имеет смысл хорошо обучить catboost"
      ],
      "metadata": {
        "id": "57NToSAzC--S"
      }
    },
    {
      "cell_type": "code",
      "source": [
        "\n",
        "X_train, X_test, y_train, y_test = train_test_split(X_cleaned, y_cleaned)\n",
        "cat_features =  [3,4,5,6,7]"
      ],
      "metadata": {
        "id": "zsYADA3bfLwQ"
      },
      "execution_count": 21,
      "outputs": []
    },
    {
      "cell_type": "code",
      "source": [
        "def objective(trial):\n",
        "    params = {\n",
        "        \"iterations\": trial.suggest_int(\"iterations\", 100, 1000),\n",
        "        \"learning_rate\": trial.suggest_float(\"learning_rate\", 0.01, 0.3, log=True),\n",
        "        \"depth\": trial.suggest_int(\"depth\", 4, 10),\n",
        "        \"l2_leaf_reg\": trial.suggest_float(\"l2_leaf_reg\", 1e-3, 10.0, log=True),\n",
        "        \"random_strength\": trial.suggest_float(\"random_strength\", 1e-3, 10.0),\n",
        "        \"bagging_temperature\": trial.suggest_float(\"bagging_temperature\", 0.0, 1.0),\n",
        "        \"min_data_in_leaf\": trial.suggest_int(\"min_data_in_leaf\", 1, 100),\n",
        "        \"grow_policy\": trial.suggest_categorical(\"grow_policy\", [\"SymmetricTree\", \"Depthwise\", \"Lossguide\"]),\n",
        "        \"early_stopping_rounds\": trial.suggest_int(\"early_stopping_rounds\", 10, 50),\n",
        "    }\n",
        "\n",
        "    kf = StratifiedKFold(n_splits=20, shuffle=True, random_state=42)\n",
        "    scores = []\n",
        "\n",
        "    for train_idx, val_idx in kf.split(X_train, y_train):\n",
        "        X_tr, X_val = X_train.iloc[train_idx], X_train.iloc[val_idx]\n",
        "        y_tr, y_val = y_train.iloc[train_idx], y_train.iloc[val_idx]\n",
        "\n",
        "        train_pool = Pool(X_tr, y_tr, cat_features=cat_features)\n",
        "        val_pool = Pool(X_val, y_val, cat_features=cat_features)\n",
        "\n",
        "        model = CatBoostClassifier(**params, verbose=0)\n",
        "        model.fit(train_pool, eval_set=val_pool)\n",
        "\n",
        "        y_pred = model.predict_proba(X_val)[:, 1]\n",
        "        scores.append(log_loss(y_val, y_pred))\n",
        "\n",
        "    return np.mean(scores)"
      ],
      "metadata": {
        "id": "echRWjNsh8GY"
      },
      "execution_count": 22,
      "outputs": []
    },
    {
      "cell_type": "markdown",
      "source": [
        "Для подбора гиперпараметров используем optuna с разбиением на 20 фолдов"
      ],
      "metadata": {
        "id": "V3tTPu4DS520"
      }
    },
    {
      "cell_type": "code",
      "source": [
        "study = optuna.create_study(direction=\"minimize\")\n",
        "study.optimize(objective, n_trials=50, timeout=3600)"
      ],
      "metadata": {
        "colab": {
          "base_uri": "https://localhost:8080/"
        },
        "id": "TZCv7IfFygIt",
        "outputId": "17ca1890-5578-46f2-c28c-ca47d7dd7975"
      },
      "execution_count": 23,
      "outputs": [
        {
          "output_type": "stream",
          "name": "stderr",
          "text": [
            "[I 2025-04-26 11:11:19,053] A new study created in memory with name: no-name-6d57441e-b7dc-4b88-b4aa-f907a283821c\n",
            "[I 2025-04-26 11:11:27,064] Trial 0 finished with value: 0.18341305357350562 and parameters: {'iterations': 270, 'learning_rate': 0.08217267564630482, 'depth': 10, 'l2_leaf_reg': 0.010159554193949477, 'random_strength': 6.858268893101574, 'bagging_temperature': 0.6135080492749914, 'min_data_in_leaf': 47, 'grow_policy': 'Depthwise', 'early_stopping_rounds': 11}. Best is trial 0 with value: 0.18341305357350562.\n",
            "[I 2025-04-26 11:11:34,241] Trial 1 finished with value: 0.1494000332969112 and parameters: {'iterations': 422, 'learning_rate': 0.153239686642538, 'depth': 10, 'l2_leaf_reg': 0.0015560361286817595, 'random_strength': 8.826924666498826, 'bagging_temperature': 0.527570270505195, 'min_data_in_leaf': 4, 'grow_policy': 'Lossguide', 'early_stopping_rounds': 18}. Best is trial 1 with value: 0.1494000332969112.\n",
            "[I 2025-04-26 11:11:45,758] Trial 2 finished with value: 0.2526173824441556 and parameters: {'iterations': 227, 'learning_rate': 0.028345254556518717, 'depth': 6, 'l2_leaf_reg': 0.18751735595910385, 'random_strength': 6.794224278511581, 'bagging_temperature': 0.7769210652568951, 'min_data_in_leaf': 23, 'grow_policy': 'Lossguide', 'early_stopping_rounds': 28}. Best is trial 1 with value: 0.1494000332969112.\n",
            "[I 2025-04-26 11:12:05,441] Trial 3 finished with value: 0.17180131522746847 and parameters: {'iterations': 369, 'learning_rate': 0.024519630542302835, 'depth': 4, 'l2_leaf_reg': 0.030153447441232998, 'random_strength': 9.700308534213665, 'bagging_temperature': 0.45611060749568266, 'min_data_in_leaf': 39, 'grow_policy': 'SymmetricTree', 'early_stopping_rounds': 30}. Best is trial 1 with value: 0.1494000332969112.\n",
            "[I 2025-04-26 11:12:25,180] Trial 4 finished with value: 0.29908970201668217 and parameters: {'iterations': 783, 'learning_rate': 0.025753793455556118, 'depth': 5, 'l2_leaf_reg': 0.1193483354254751, 'random_strength': 5.799644062686332, 'bagging_temperature': 0.2789430955948381, 'min_data_in_leaf': 81, 'grow_policy': 'Depthwise', 'early_stopping_rounds': 12}. Best is trial 1 with value: 0.1494000332969112.\n",
            "[I 2025-04-26 11:13:08,147] Trial 5 finished with value: 0.09980901985857592 and parameters: {'iterations': 321, 'learning_rate': 0.03862948536024572, 'depth': 9, 'l2_leaf_reg': 0.006621484789988627, 'random_strength': 4.660836829395751, 'bagging_temperature': 0.5488309547890589, 'min_data_in_leaf': 86, 'grow_policy': 'SymmetricTree', 'early_stopping_rounds': 26}. Best is trial 5 with value: 0.09980901985857592.\n",
            "[I 2025-04-26 11:13:15,566] Trial 6 finished with value: 0.20335931288557182 and parameters: {'iterations': 432, 'learning_rate': 0.06727348976126687, 'depth': 4, 'l2_leaf_reg': 0.4481838878244574, 'random_strength': 7.709198166027366, 'bagging_temperature': 0.7960615279099175, 'min_data_in_leaf': 51, 'grow_policy': 'Lossguide', 'early_stopping_rounds': 11}. Best is trial 5 with value: 0.09980901985857592.\n",
            "[I 2025-04-26 11:13:21,792] Trial 7 finished with value: 0.262510774119069 and parameters: {'iterations': 624, 'learning_rate': 0.13502792060128652, 'depth': 5, 'l2_leaf_reg': 0.04137202982214419, 'random_strength': 9.769112114891383, 'bagging_temperature': 0.4687675720898079, 'min_data_in_leaf': 100, 'grow_policy': 'Depthwise', 'early_stopping_rounds': 17}. Best is trial 5 with value: 0.09980901985857592.\n",
            "[I 2025-04-26 11:13:38,900] Trial 8 finished with value: 0.15471124060688693 and parameters: {'iterations': 540, 'learning_rate': 0.0385002256762118, 'depth': 9, 'l2_leaf_reg': 0.0024820071145497057, 'random_strength': 5.19116674955337, 'bagging_temperature': 0.1276327535819498, 'min_data_in_leaf': 62, 'grow_policy': 'Depthwise', 'early_stopping_rounds': 35}. Best is trial 5 with value: 0.09980901985857592.\n",
            "[I 2025-04-26 11:13:55,482] Trial 9 finished with value: 0.2716654390878894 and parameters: {'iterations': 745, 'learning_rate': 0.013112536719767576, 'depth': 8, 'l2_leaf_reg': 0.16242094415782296, 'random_strength': 0.31006313723078727, 'bagging_temperature': 0.4281253922492887, 'min_data_in_leaf': 92, 'grow_policy': 'Lossguide', 'early_stopping_rounds': 14}. Best is trial 5 with value: 0.09980901985857592.\n",
            "[I 2025-04-26 11:16:07,840] Trial 10 finished with value: 0.11866189072944824 and parameters: {'iterations': 1000, 'learning_rate': 0.010322030646880365, 'depth': 8, 'l2_leaf_reg': 1.9209575107481451, 'random_strength': 2.3533188093363266, 'bagging_temperature': 0.9444439892465224, 'min_data_in_leaf': 72, 'grow_policy': 'SymmetricTree', 'early_stopping_rounds': 44}. Best is trial 5 with value: 0.09980901985857592.\n",
            "[I 2025-04-26 11:18:28,252] Trial 11 finished with value: 0.1665980318409371 and parameters: {'iterations': 977, 'learning_rate': 0.010135071344187745, 'depth': 8, 'l2_leaf_reg': 9.76140346988572, 'random_strength': 2.7305533705454628, 'bagging_temperature': 0.9143433052177985, 'min_data_in_leaf': 73, 'grow_policy': 'SymmetricTree', 'early_stopping_rounds': 48}. Best is trial 5 with value: 0.09980901985857592.\n",
            "[I 2025-04-26 11:19:41,967] Trial 12 finished with value: 0.06987475876235479 and parameters: {'iterations': 915, 'learning_rate': 0.2572589843146301, 'depth': 8, 'l2_leaf_reg': 1.971016556972674, 'random_strength': 2.733052261327682, 'bagging_temperature': 0.9925379070570429, 'min_data_in_leaf': 72, 'grow_policy': 'SymmetricTree', 'early_stopping_rounds': 49}. Best is trial 12 with value: 0.06987475876235479.\n",
            "[I 2025-04-26 11:19:47,525] Trial 13 finished with value: 0.19004876593945313 and parameters: {'iterations': 137, 'learning_rate': 0.2811094485748008, 'depth': 7, 'l2_leaf_reg': 1.7072385968879584, 'random_strength': 3.822045877326663, 'bagging_temperature': 0.06849035950773508, 'min_data_in_leaf': 89, 'grow_policy': 'SymmetricTree', 'early_stopping_rounds': 39}. Best is trial 12 with value: 0.06987475876235479.\n",
            "[I 2025-04-26 11:20:18,993] Trial 14 finished with value: 0.14800364653808554 and parameters: {'iterations': 748, 'learning_rate': 0.28141735612589563, 'depth': 9, 'l2_leaf_reg': 0.013581444268816469, 'random_strength': 0.914977752558547, 'bagging_temperature': 0.6511352067806582, 'min_data_in_leaf': 61, 'grow_policy': 'SymmetricTree', 'early_stopping_rounds': 24}. Best is trial 12 with value: 0.06987475876235479.\n",
            "[I 2025-04-26 11:20:51,729] Trial 15 finished with value: 0.10324138628840754 and parameters: {'iterations': 612, 'learning_rate': 0.04559592944381586, 'depth': 7, 'l2_leaf_reg': 0.005078444212563983, 'random_strength': 3.6788468884946086, 'bagging_temperature': 0.28824137695934327, 'min_data_in_leaf': 82, 'grow_policy': 'SymmetricTree', 'early_stopping_rounds': 50}. Best is trial 12 with value: 0.06987475876235479.\n",
            "[I 2025-04-26 11:21:38,325] Trial 16 finished with value: 0.09381536004814303 and parameters: {'iterations': 317, 'learning_rate': 0.1027634421490286, 'depth': 9, 'l2_leaf_reg': 0.7036558708165337, 'random_strength': 1.958110426258521, 'bagging_temperature': 0.9903732881855163, 'min_data_in_leaf': 67, 'grow_policy': 'SymmetricTree', 'early_stopping_rounds': 23}. Best is trial 12 with value: 0.06987475876235479.\n",
            "[I 2025-04-26 11:22:06,483] Trial 17 finished with value: 0.07057658989139771 and parameters: {'iterations': 871, 'learning_rate': 0.1511017133625597, 'depth': 7, 'l2_leaf_reg': 0.8570863555678407, 'random_strength': 1.9285842591055737, 'bagging_temperature': 0.7704181986169788, 'min_data_in_leaf': 60, 'grow_policy': 'SymmetricTree', 'early_stopping_rounds': 22}. Best is trial 12 with value: 0.06987475876235479.\n",
            "[I 2025-04-26 11:22:39,747] Trial 18 finished with value: 0.07957359927911997 and parameters: {'iterations': 894, 'learning_rate': 0.19580770651421495, 'depth': 6, 'l2_leaf_reg': 9.388166927561223, 'random_strength': 1.2022986585448439, 'bagging_temperature': 0.806205662593278, 'min_data_in_leaf': 26, 'grow_policy': 'SymmetricTree', 'early_stopping_rounds': 34}. Best is trial 12 with value: 0.06987475876235479.\n",
            "[I 2025-04-26 11:23:06,619] Trial 19 finished with value: 0.07951151416359817 and parameters: {'iterations': 875, 'learning_rate': 0.1953229305069866, 'depth': 6, 'l2_leaf_reg': 2.7218559863497327, 'random_strength': 3.4653081764725853, 'bagging_temperature': 0.716936820453051, 'min_data_in_leaf': 53, 'grow_policy': 'SymmetricTree', 'early_stopping_rounds': 42}. Best is trial 12 with value: 0.06987475876235479.\n",
            "[I 2025-04-26 11:23:31,283] Trial 20 finished with value: 0.09057360945121026 and parameters: {'iterations': 868, 'learning_rate': 0.11272554574399704, 'depth': 7, 'l2_leaf_reg': 0.5515903845727848, 'random_strength': 0.057024673391561365, 'bagging_temperature': 0.9300600857297656, 'min_data_in_leaf': 41, 'grow_policy': 'SymmetricTree', 'early_stopping_rounds': 20}. Best is trial 12 with value: 0.06987475876235479.\n",
            "[I 2025-04-26 11:24:03,881] Trial 21 finished with value: 0.08398449727277055 and parameters: {'iterations': 868, 'learning_rate': 0.18897453810093484, 'depth': 6, 'l2_leaf_reg': 3.5537719210527245, 'random_strength': 3.2643270014012455, 'bagging_temperature': 0.7063195556793629, 'min_data_in_leaf': 54, 'grow_policy': 'SymmetricTree', 'early_stopping_rounds': 44}. Best is trial 12 with value: 0.06987475876235479.\n",
            "[I 2025-04-26 11:24:49,651] Trial 22 finished with value: 0.07288850601141313 and parameters: {'iterations': 791, 'learning_rate': 0.20472276897609867, 'depth': 7, 'l2_leaf_reg': 3.2806373219603957, 'random_strength': 1.6984671199607846, 'bagging_temperature': 0.840670462855139, 'min_data_in_leaf': 58, 'grow_policy': 'SymmetricTree', 'early_stopping_rounds': 44}. Best is trial 12 with value: 0.06987475876235479.\n",
            "[I 2025-04-26 11:25:50,490] Trial 23 finished with value: 0.09662519951518068 and parameters: {'iterations': 789, 'learning_rate': 0.2899110194355619, 'depth': 8, 'l2_leaf_reg': 1.0850130424220958, 'random_strength': 1.5531648346284204, 'bagging_temperature': 0.8447987337839926, 'min_data_in_leaf': 75, 'grow_policy': 'SymmetricTree', 'early_stopping_rounds': 47}. Best is trial 12 with value: 0.06987475876235479.\n",
            "[I 2025-04-26 11:26:28,013] Trial 24 finished with value: 0.08707143762289693 and parameters: {'iterations': 674, 'learning_rate': 0.21372633105782668, 'depth': 7, 'l2_leaf_reg': 4.174164526004327, 'random_strength': 2.7669968842387322, 'bagging_temperature': 0.8876139817533611, 'min_data_in_leaf': 61, 'grow_policy': 'SymmetricTree', 'early_stopping_rounds': 37}. Best is trial 12 with value: 0.06987475876235479.\n",
            "[I 2025-04-26 11:26:58,030] Trial 25 finished with value: 0.07599714282290962 and parameters: {'iterations': 947, 'learning_rate': 0.14199908298703315, 'depth': 7, 'l2_leaf_reg': 0.430533902465597, 'random_strength': 4.263162389336749, 'bagging_temperature': 0.9841936199198184, 'min_data_in_leaf': 34, 'grow_policy': 'SymmetricTree', 'early_stopping_rounds': 33}. Best is trial 12 with value: 0.06987475876235479.\n",
            "[I 2025-04-26 11:28:21,434] Trial 26 finished with value: 0.08224477217610573 and parameters: {'iterations': 812, 'learning_rate': 0.08768191760682334, 'depth': 8, 'l2_leaf_reg': 4.350305881830823, 'random_strength': 2.08829653803353, 'bagging_temperature': 0.7277722476107324, 'min_data_in_leaf': 68, 'grow_policy': 'SymmetricTree', 'early_stopping_rounds': 40}. Best is trial 12 with value: 0.06987475876235479.\n",
            "[I 2025-04-26 11:28:38,228] Trial 27 finished with value: 0.0791345900226231 and parameters: {'iterations': 681, 'learning_rate': 0.23352753139393978, 'depth': 5, 'l2_leaf_reg': 1.0513847081006462, 'random_strength': 0.6553633128675624, 'bagging_temperature': 0.8824672425471455, 'min_data_in_leaf': 59, 'grow_policy': 'SymmetricTree', 'early_stopping_rounds': 45}. Best is trial 12 with value: 0.06987475876235479.\n",
            "[I 2025-04-26 11:29:00,818] Trial 28 finished with value: 0.12363516281641865 and parameters: {'iterations': 925, 'learning_rate': 0.12236164937210071, 'depth': 8, 'l2_leaf_reg': 0.30499395517126254, 'random_strength': 1.4593968074901564, 'bagging_temperature': 0.6298551189849929, 'min_data_in_leaf': 2, 'grow_policy': 'Depthwise', 'early_stopping_rounds': 50}. Best is trial 12 with value: 0.06987475876235479.\n",
            "[I 2025-04-26 11:29:17,488] Trial 29 finished with value: 0.13880902238523615 and parameters: {'iterations': 542, 'learning_rate': 0.07533840733870527, 'depth': 10, 'l2_leaf_reg': 5.902120743129082, 'random_strength': 6.0352841975115235, 'bagging_temperature': 0.8400345415717774, 'min_data_in_leaf': 44, 'grow_policy': 'Lossguide', 'early_stopping_rounds': 31}. Best is trial 12 with value: 0.06987475876235479.\n",
            "[I 2025-04-26 11:29:27,794] Trial 30 finished with value: 0.22995481473611842 and parameters: {'iterations': 711, 'learning_rate': 0.059685562786407305, 'depth': 6, 'l2_leaf_reg': 0.06342524533723769, 'random_strength': 2.8648421903280132, 'bagging_temperature': 0.5856802954399893, 'min_data_in_leaf': 77, 'grow_policy': 'Depthwise', 'early_stopping_rounds': 22}. Best is trial 12 with value: 0.06987475876235479.\n",
            "[I 2025-04-26 11:29:51,214] Trial 31 finished with value: 0.08276850433169178 and parameters: {'iterations': 949, 'learning_rate': 0.1513744325019856, 'depth': 7, 'l2_leaf_reg': 0.296422913740081, 'random_strength': 4.496358488978452, 'bagging_temperature': 0.9884652380867762, 'min_data_in_leaf': 26, 'grow_policy': 'SymmetricTree', 'early_stopping_rounds': 33}. Best is trial 12 with value: 0.06987475876235479.\n",
            "[I 2025-04-26 11:30:26,366] Trial 32 finished with value: 0.07704682459251758 and parameters: {'iterations': 838, 'learning_rate': 0.16419822838272866, 'depth': 7, 'l2_leaf_reg': 1.2504150677934496, 'random_strength': 4.330175350680673, 'bagging_temperature': 0.9942537316830273, 'min_data_in_leaf': 34, 'grow_policy': 'SymmetricTree', 'early_stopping_rounds': 41}. Best is trial 12 with value: 0.06987475876235479.\n",
            "[I 2025-04-26 11:31:17,218] Trial 33 finished with value: 0.08538016341029374 and parameters: {'iterations': 942, 'learning_rate': 0.09043752083003234, 'depth': 7, 'l2_leaf_reg': 2.3369653176458662, 'random_strength': 1.9477751758688724, 'bagging_temperature': 0.7598141237590627, 'min_data_in_leaf': 33, 'grow_policy': 'SymmetricTree', 'early_stopping_rounds': 37}. Best is trial 12 with value: 0.06987475876235479.\n",
            "[I 2025-04-26 11:31:51,371] Trial 34 finished with value: 0.07912935809173852 and parameters: {'iterations': 931, 'learning_rate': 0.2379651516711468, 'depth': 8, 'l2_leaf_reg': 0.6694334469486752, 'random_strength': 4.099471882441815, 'bagging_temperature': 0.8640407850773137, 'min_data_in_leaf': 11, 'grow_policy': 'SymmetricTree', 'early_stopping_rounds': 26}. Best is trial 12 with value: 0.06987475876235479.\n",
            "[I 2025-04-26 11:32:05,011] Trial 35 finished with value: 0.11550227745767075 and parameters: {'iterations': 828, 'learning_rate': 0.15484040837878127, 'depth': 7, 'l2_leaf_reg': 0.3061394931615252, 'random_strength': 5.116509382312389, 'bagging_temperature': 0.9446719206252141, 'min_data_in_leaf': 49, 'grow_policy': 'Lossguide', 'early_stopping_rounds': 47}. Best is trial 12 with value: 0.06987475876235479.\n",
            "[I 2025-04-26 11:32:27,604] Trial 36 finished with value: 0.07556490153733442 and parameters: {'iterations': 989, 'learning_rate': 0.13259476454070485, 'depth': 6, 'l2_leaf_reg': 0.0870859235287306, 'random_strength': 3.077922041940262, 'bagging_temperature': 0.8175233756166034, 'min_data_in_leaf': 37, 'grow_policy': 'SymmetricTree', 'early_stopping_rounds': 31}. Best is trial 12 with value: 0.06987475876235479.\n",
            "[I 2025-04-26 11:32:35,429] Trial 37 finished with value: 0.08957458113766557 and parameters: {'iterations': 465, 'learning_rate': 0.17563260624543048, 'depth': 5, 'l2_leaf_reg': 0.01980273084363638, 'random_strength': 3.0848352197538333, 'bagging_temperature': 0.6930844569944175, 'min_data_in_leaf': 56, 'grow_policy': 'SymmetricTree', 'early_stopping_rounds': 17}. Best is trial 12 with value: 0.06987475876235479.\n",
            "[I 2025-04-26 11:32:41,468] Trial 38 finished with value: 0.12923459297746254 and parameters: {'iterations': 995, 'learning_rate': 0.24031101982560638, 'depth': 6, 'l2_leaf_reg': 0.0950047347961257, 'random_strength': 2.4024816202241945, 'bagging_temperature': 0.7919552655855528, 'min_data_in_leaf': 15, 'grow_policy': 'Lossguide', 'early_stopping_rounds': 27}. Best is trial 12 with value: 0.06987475876235479.\n",
            "[I 2025-04-26 11:32:51,758] Trial 39 finished with value: 0.1792360345722178 and parameters: {'iterations': 767, 'learning_rate': 0.12471867895304638, 'depth': 6, 'l2_leaf_reg': 0.05545732965003741, 'random_strength': 7.8738935778352825, 'bagging_temperature': 0.35553373587519305, 'min_data_in_leaf': 67, 'grow_policy': 'Depthwise', 'early_stopping_rounds': 29}. Best is trial 12 with value: 0.06987475876235479.\n",
            "[I 2025-04-26 11:33:48,805] Trial 40 finished with value: 0.0882999809788667 and parameters: {'iterations': 899, 'learning_rate': 0.10579450330856628, 'depth': 9, 'l2_leaf_reg': 0.18481596634916955, 'random_strength': 1.549648907630928, 'bagging_temperature': 0.5225513626096132, 'min_data_in_leaf': 46, 'grow_policy': 'SymmetricTree', 'early_stopping_rounds': 43}. Best is trial 12 with value: 0.06987475876235479.\n",
            "[I 2025-04-26 11:34:08,156] Trial 41 finished with value: 0.11655849330383383 and parameters: {'iterations': 962, 'learning_rate': 0.14185175092965122, 'depth': 7, 'l2_leaf_reg': 0.10155474853259645, 'random_strength': 3.5483008650702432, 'bagging_temperature': 0.8222585159372822, 'min_data_in_leaf': 35, 'grow_policy': 'SymmetricTree', 'early_stopping_rounds': 32}. Best is trial 12 with value: 0.06987475876235479.\n",
            "[I 2025-04-26 11:34:31,122] Trial 42 finished with value: 0.07321610039319637 and parameters: {'iterations': 843, 'learning_rate': 0.1625053696977811, 'depth': 6, 'l2_leaf_reg': 0.8482837269840291, 'random_strength': 2.3910694111969653, 'bagging_temperature': 0.9146284754001371, 'min_data_in_leaf': 40, 'grow_policy': 'SymmetricTree', 'early_stopping_rounds': 36}. Best is trial 12 with value: 0.06987475876235479.\n",
            "[I 2025-04-26 11:34:45,695] Trial 43 finished with value: 0.08389418958525746 and parameters: {'iterations': 840, 'learning_rate': 0.1722207438750851, 'depth': 5, 'l2_leaf_reg': 1.3994038010251015, 'random_strength': 0.7729341699578143, 'bagging_temperature': 0.7576656242904566, 'min_data_in_leaf': 40, 'grow_policy': 'SymmetricTree', 'early_stopping_rounds': 38}. Best is trial 12 with value: 0.06987475876235479.\n",
            "[I 2025-04-26 11:35:21,144] Trial 44 finished with value: 0.10803520131597807 and parameters: {'iterations': 904, 'learning_rate': 0.02049745202706354, 'depth': 4, 'l2_leaf_reg': 0.8760063845419287, 'random_strength': 2.4323627714017495, 'bagging_temperature': 0.9009991723669215, 'min_data_in_leaf': 49, 'grow_policy': 'SymmetricTree', 'early_stopping_rounds': 35}. Best is trial 12 with value: 0.06987475876235479.\n",
            "[I 2025-04-26 11:35:34,991] Trial 45 finished with value: 0.0844611402255766 and parameters: {'iterations': 789, 'learning_rate': 0.23899740415169576, 'depth': 6, 'l2_leaf_reg': 0.0283867701455757, 'random_strength': 1.8161688295812581, 'bagging_temperature': 0.9344587411579204, 'min_data_in_leaf': 19, 'grow_policy': 'SymmetricTree', 'early_stopping_rounds': 29}. Best is trial 12 with value: 0.06987475876235479.\n",
            "[I 2025-04-26 11:35:50,340] Trial 46 finished with value: 0.12458118830252884 and parameters: {'iterations': 844, 'learning_rate': 0.20288320987266353, 'depth': 6, 'l2_leaf_reg': 6.426969253855904, 'random_strength': 5.822552517277227, 'bagging_temperature': 0.6566921705547448, 'min_data_in_leaf': 57, 'grow_policy': 'Lossguide', 'early_stopping_rounds': 46}. Best is trial 12 with value: 0.06987475876235479.\n",
            "[I 2025-04-26 11:36:31,312] Trial 47 finished with value: 0.08572323906638575 and parameters: {'iterations': 719, 'learning_rate': 0.2586438788877098, 'depth': 8, 'l2_leaf_reg': 2.650332028933271, 'random_strength': 1.1540167965590844, 'bagging_temperature': 0.8568140283585898, 'min_data_in_leaf': 64, 'grow_policy': 'SymmetricTree', 'early_stopping_rounds': 14}. Best is trial 12 with value: 0.06987475876235479.\n",
            "[I 2025-04-26 11:36:37,047] Trial 48 finished with value: 0.19539822699381076 and parameters: {'iterations': 626, 'learning_rate': 0.2930943856066566, 'depth': 6, 'l2_leaf_reg': 1.7290494081349228, 'random_strength': 2.6819597999975917, 'bagging_temperature': 0.7968093067203466, 'min_data_in_leaf': 79, 'grow_policy': 'Depthwise', 'early_stopping_rounds': 20}. Best is trial 12 with value: 0.06987475876235479.\n",
            "[I 2025-04-26 11:36:51,203] Trial 49 finished with value: 0.09426395115555342 and parameters: {'iterations': 806, 'learning_rate': 0.09994263863614988, 'depth': 4, 'l2_leaf_reg': 0.46646117150901906, 'random_strength': 3.1484014993282363, 'bagging_temperature': 0.5785241546232255, 'min_data_in_leaf': 29, 'grow_policy': 'SymmetricTree', 'early_stopping_rounds': 31}. Best is trial 12 with value: 0.06987475876235479.\n"
          ]
        }
      ]
    },
    {
      "cell_type": "code",
      "source": [
        "best_params = study.best_params\n",
        "print(\"Best params:\", best_params)\n",
        "\n",
        "X_train, X_val, y_train, y_val = train_test_split(X_train,y_train)"
      ],
      "metadata": {
        "colab": {
          "base_uri": "https://localhost:8080/"
        },
        "id": "i-_F9sVTQZbN",
        "outputId": "d62822b6-caa8-41a2-a346-b5bf9a69132f"
      },
      "execution_count": 24,
      "outputs": [
        {
          "output_type": "stream",
          "name": "stdout",
          "text": [
            "Best params: {'iterations': 915, 'learning_rate': 0.2572589843146301, 'depth': 8, 'l2_leaf_reg': 1.971016556972674, 'random_strength': 2.733052261327682, 'bagging_temperature': 0.9925379070570429, 'min_data_in_leaf': 72, 'grow_policy': 'SymmetricTree', 'early_stopping_rounds': 49}\n"
          ]
        }
      ]
    },
    {
      "cell_type": "markdown",
      "source": [
        "Смотрим лучшие параметры и добавляем валиданионнцю выборку"
      ],
      "metadata": {
        "id": "JfbLhc8kTcpN"
      }
    },
    {
      "cell_type": "code",
      "source": [
        "final_model = CatBoostClassifier(**best_params,  verbose=100)\n",
        "final_model.fit(\n",
        "    Pool(X_train, y_train, cat_features=cat_features),\n",
        "    eval_set=Pool(X_val, y_val, cat_features=cat_features),\n",
        "    early_stopping_rounds=50\n",
        ")"
      ],
      "metadata": {
        "colab": {
          "base_uri": "https://localhost:8080/"
        },
        "id": "ih7hBnsgy_g0",
        "outputId": "cb32d9f6-b7b0-47d3-bc44-7b6602b0eaff"
      },
      "execution_count": 25,
      "outputs": [
        {
          "output_type": "stream",
          "name": "stdout",
          "text": [
            "0:\tlearn: 0.5314309\ttest: 0.5636950\tbest: 0.5636950 (0)\ttotal: 6.45ms\tremaining: 5.89s\n",
            "100:\tlearn: 0.0039100\ttest: 0.1649016\tbest: 0.1643297 (99)\ttotal: 701ms\tremaining: 5.65s\n",
            "Stopped by overfitting detector  (50 iterations wait)\n",
            "\n",
            "bestTest = 0.1643297055\n",
            "bestIteration = 99\n",
            "\n",
            "Shrink model to first 100 iterations.\n"
          ]
        },
        {
          "output_type": "execute_result",
          "data": {
            "text/plain": [
              "<catboost.core.CatBoostClassifier at 0x7cd7c2b9fa50>"
            ]
          },
          "metadata": {},
          "execution_count": 25
        }
      ]
    },
    {
      "cell_type": "markdown",
      "source": [
        "Благодаря early stopping удалось урезать количество деревьев и помогает избегать переобучения"
      ],
      "metadata": {
        "id": "mGjqKrX-TtHm"
      }
    },
    {
      "cell_type": "code",
      "source": [
        "print(accuracy_score(final_model.predict(X_cleaned), y_cleaned))\n",
        "print(accuracy_score(final_model.predict(X_test), y_test))"
      ],
      "metadata": {
        "colab": {
          "base_uri": "https://localhost:8080/"
        },
        "id": "CzBkiPpu0Grc",
        "outputId": "80f219b0-dee7-45fd-b229-552d33f5268e"
      },
      "execution_count": 26,
      "outputs": [
        {
          "output_type": "stream",
          "name": "stdout",
          "text": [
            "0.9730639730639731\n",
            "0.96\n"
          ]
        }
      ]
    },
    {
      "cell_type": "markdown",
      "source": [
        "Основная метрика на train и test высокие. Нет переобчучения"
      ],
      "metadata": {
        "id": "PBhMZxO8U59G"
      }
    },
    {
      "cell_type": "code",
      "source": [
        "class FeatureAdder(BaseEstimator, TransformerMixin):\n",
        "  def __init__(self):\n",
        "      pass\n",
        "\n",
        "  def fit(self, X, y=None):\n",
        "      return self\n",
        "\n",
        "  def transform(self, X: pd.DataFrame):\n",
        "      X = X.copy()\n",
        "      if isinstance(X, pd.DataFrame):\n",
        "        cols = X.columns[:3]\n",
        "\n",
        "        X['Mean'] = X[cols].mean(axis=1, skipna=True)\n",
        "        X['Min'] = X[cols].min(axis=1, skipna=True)\n",
        "        return X\n",
        "\n",
        "pipeline = Pipeline([\n",
        "    ('feature_adder', FeatureAdder()),\n",
        "    ('classifier', final_model)\n",
        "])"
      ],
      "metadata": {
        "id": "ee9ICfVH7Gdq"
      },
      "execution_count": 41,
      "outputs": []
    },
    {
      "cell_type": "markdown",
      "source": [
        "Обьединим преобразования в pipeline для удобства использования"
      ],
      "metadata": {
        "id": "GZn84AZ5-sM-"
      }
    },
    {
      "cell_type": "code",
      "source": [
        "print(accuracy_score(pipeline.predict(X_cleaned), y_cleaned))\n",
        "print(accuracy_score(pipeline.predict(X_test), y_test))"
      ],
      "metadata": {
        "colab": {
          "base_uri": "https://localhost:8080/"
        },
        "id": "shla_aXJ-7JB",
        "outputId": "954e8c36-b94e-4671-bde2-cf3baddb54c7"
      },
      "execution_count": 46,
      "outputs": [
        {
          "output_type": "stream",
          "name": "stdout",
          "text": [
            "0.9730639730639731\n",
            "0.96\n"
          ]
        }
      ]
    },
    {
      "cell_type": "markdown",
      "source": [
        "Все работает"
      ],
      "metadata": {
        "id": "_AJF8HBX_B-u"
      }
    },
    {
      "cell_type": "code",
      "source": [
        "# from joblib import dump, load\n",
        "\n",
        "# dump(pipeline, 'pipeline.joblib')"
      ],
      "metadata": {
        "colab": {
          "base_uri": "https://localhost:8080/"
        },
        "id": "cDCBZVcm_UJL",
        "outputId": "b1609b07-e4d2-4a9f-f6be-851195d5f8e8"
      },
      "execution_count": 48,
      "outputs": [
        {
          "output_type": "execute_result",
          "data": {
            "text/plain": [
              "['pipeline.joblib']"
            ]
          },
          "metadata": {},
          "execution_count": 48
        }
      ]
    },
    {
      "cell_type": "markdown",
      "source": [
        "Сохранение модели если нужно. Копия модели которая используется в файле интерфейса хранится в на моем github. Скачивать эту модель не обязательно."
      ],
      "metadata": {
        "id": "XJv7MfoW0EuB"
      }
    }
  ]
}