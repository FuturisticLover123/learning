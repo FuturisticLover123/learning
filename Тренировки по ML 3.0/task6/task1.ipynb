{
  "nbformat": 4,
  "nbformat_minor": 0,
  "metadata": {
    "colab": {
      "provenance": [],
      "authorship_tag": "ABX9TyPh2UAbBd2/fjtfIIkoHmWS",
      "include_colab_link": true
    },
    "kernelspec": {
      "name": "python3",
      "display_name": "Python 3"
    },
    "language_info": {
      "name": "python"
    }
  },
  "cells": [
    {
      "cell_type": "markdown",
      "metadata": {
        "id": "view-in-github",
        "colab_type": "text"
      },
      "source": [
        "<a href=\"https://colab.research.google.com/github/FuturisticLover123/learning/blob/main/%D0%A2%D1%80%D0%B5%D0%BD%D0%B8%D1%80%D0%BE%D0%B2%D0%BA%D0%B8%20%D0%BF%D0%BE%20ML%203.0/task6/task1.ipynb\" target=\"_parent\"><img src=\"https://colab.research.google.com/assets/colab-badge.svg\" alt=\"Open In Colab\"/></a>"
      ]
    },
    {
      "cell_type": "code",
      "source": [
        "!wget https://github.com/FuturisticLover123/learning/tree/main/Тренировки%20по%20ML%203.0/task6/best_pictures.tar.gz"
      ],
      "metadata": {
        "colab": {
          "base_uri": "https://localhost:8080/"
        },
        "id": "Rb8YKR3rC2Fb",
        "outputId": "ed383390-9a24-4f06-814b-ab6cb7a0762a"
      },
      "execution_count": 1,
      "outputs": [
        {
          "output_type": "stream",
          "name": "stdout",
          "text": [
            "--2025-04-27 15:52:16--  https://github.com/FuturisticLover123/learning/tree/main/%D0%A2%D1%80%D0%B5%D0%BD%D0%B8%D1%80%D0%BE%D0%B2%D0%BA%D0%B8%20%D0%BF%D0%BE%20ML%203.0/task6/best_pictures.tar.gz\n",
            "Resolving github.com (github.com)... 140.82.112.4\n",
            "Connecting to github.com (github.com)|140.82.112.4|:443... connected.\n",
            "HTTP request sent, awaiting response... 301 Moved Permanently\n",
            "Location: https://github.com/FuturisticLover123/learning/blob/main/%D0%A2%D1%80%D0%B5%D0%BD%D0%B8%D1%80%D0%BE%D0%B2%D0%BA%D0%B8%20%D0%BF%D0%BE%20ML%203.0/task6/best_pictures.tar.gz [following]\n",
            "--2025-04-27 15:52:17--  https://github.com/FuturisticLover123/learning/blob/main/%D0%A2%D1%80%D0%B5%D0%BD%D0%B8%D1%80%D0%BE%D0%B2%D0%BA%D0%B8%20%D0%BF%D0%BE%20ML%203.0/task6/best_pictures.tar.gz\n",
            "Reusing existing connection to github.com:443.\n",
            "HTTP request sent, awaiting response... 200 OK\n",
            "Length: unspecified [text/html]\n",
            "Saving to: ‘best_pictures.tar.gz’\n",
            "\n",
            "best_pictures.tar.g     [ <=>                ] 209.50K  --.-KB/s    in 0.1s    \n",
            "\n",
            "2025-04-27 15:52:17 (2.06 MB/s) - ‘best_pictures.tar.gz’ saved [214531]\n",
            "\n"
          ]
        }
      ]
    },
    {
      "cell_type": "code",
      "source": [
        "!mkdir -p /content/extracted_files;\n",
        "!tar -xzvf best_pictures.tar.gz -C /content/extracted_files;"
      ],
      "metadata": {
        "colab": {
          "base_uri": "https://localhost:8080/"
        },
        "id": "EAlPRSYhDhD9",
        "outputId": "6980c7bf-f024-41e1-f1a3-74c774a25b8f"
      },
      "execution_count": 3,
      "outputs": [
        {
          "output_type": "stream",
          "name": "stdout",
          "text": [
            "./\n",
            "./348.png\n",
            "./412.png\n",
            "./374.png\n",
            "./360.png\n",
            "./289.txt\n",
            "./406.png\n",
            "./504.txt\n",
            "./262.txt\n",
            "./276.txt\n",
            "./510.txt\n",
            "./538.txt\n",
            "./909.txt\n",
            "./638.png\n",
            "./176.png\n",
            "./921.txt\n",
            "./88.png\n",
            "./610.png\n",
            "./935.txt\n",
            "./604.png\n",
            "./162.png\n",
            "./189.png\n",
            "./706.txt\n",
            "./837.png\n",
            "./77.png\n",
            "./712.txt\n",
            "./823.png\n",
            "./63.png\n",
            "./29.txt\n",
            "./980.png\n",
            "./758.png\n",
            "./869.txt\n",
            "./994.png\n",
            "./15.txt\n",
            "./764.png\n",
            "./855.txt\n",
            "./699.txt\n",
            "./770.png\n",
            "./841.txt\n",
            "./114.txt\n",
            "./943.png\n",
            "./672.txt\n",
            "./957.png\n",
            "./666.txt\n",
            "./100.txt\n",
            "./128.txt\n",
            "./896.txt\n",
            "./882.txt\n",
            "./228.png\n",
            "./566.png\n",
            "./200.png\n",
            "./214.png\n",
            "./572.png\n",
            "./470.txt\n",
            "./599.png\n",
            "./316.txt\n",
            "./302.txt\n",
            "./464.txt\n",
            "./458.txt\n",
            "./459.txt\n",
            "./303.txt\n",
            "./465.txt\n",
            "./598.png\n",
            "./471.txt\n",
            "./317.txt\n",
            "./215.png\n",
            "./573.png\n",
            "./567.png\n",
            "./201.png\n",
            "./229.png\n",
            "./883.txt\n",
            "./129.txt\n",
            "./897.txt\n",
            "./667.txt\n",
            "./956.png\n",
            "./101.txt\n",
            "./115.txt\n",
            "./673.txt\n",
            "./942.png\n",
            "./840.txt\n",
            "./771.png\n",
            "./698.txt\n",
            "./854.txt\n",
            "./765.png\n",
            "./14.txt\n",
            "./995.png\n",
            "./868.txt\n",
            "./759.png\n",
            "./981.png\n",
            "./28.txt\n",
            "./62.png\n",
            "./822.png\n",
            "./713.txt\n",
            "./188.png\n",
            "./76.png\n",
            "./836.png\n",
            "./707.txt\n",
            "./605.png\n",
            "./934.txt\n",
            "./163.png\n",
            "./177.png\n",
            "./611.png\n",
            "./89.png\n",
            "./920.txt\n",
            "./639.png\n",
            "./908.txt\n",
            "./539.txt\n",
            "./277.txt\n",
            "./511.txt\n",
            "./505.txt\n",
            "./263.txt\n",
            "./288.txt\n",
            "./361.png\n",
            "./407.png\n",
            "./413.png\n",
            "./375.png\n",
            "./349.png\n",
            "./439.png\n",
            "./405.png\n",
            "./363.png\n",
            "./377.png\n",
            "./411.png\n",
            "./513.txt\n",
            "./275.txt\n",
            "./261.txt\n",
            "./388.png\n",
            "./507.txt\n",
            "./249.txt\n",
            "./149.png\n",
            "./161.png\n",
            "./936.txt\n",
            "./607.png\n",
            "./922.txt\n",
            "./613.png\n",
            "./175.png\n",
            "./711.txt\n",
            "./820.png\n",
            "./60.png\n",
            "./705.txt\n",
            "./834.png\n",
            "./74.png\n",
            "./739.txt\n",
            "./808.png\n",
            "./48.png\n",
            "./997.png\n",
            "./983.png\n",
            "./773.png\n",
            "./842.txt\n",
            "./16.txt\n",
            "./767.png\n",
            "./856.txt\n",
            "./103.txt\n",
            "./954.png\n",
            "./665.txt\n",
            "./798.png\n",
            "./940.png\n",
            "./671.txt\n",
            "./117.txt\n",
            "./881.txt\n",
            "./968.png\n",
            "./659.txt\n",
            "./895.txt\n",
            "./559.png\n",
            "./571.png\n",
            "./498.txt\n",
            "./217.png\n",
            "./203.png\n",
            "./565.png\n",
            "./467.txt\n",
            "./301.txt\n",
            "./315.txt\n",
            "./473.txt\n",
            "./329.txt\n",
            "./328.txt\n",
            "./314.txt\n",
            "./472.txt\n",
            "./466.txt\n",
            "./300.txt\n",
            "./202.png\n",
            "./564.png\n",
            "./499.txt\n",
            "./570.png\n",
            "./216.png\n",
            "./558.png\n",
            "./894.txt\n",
            "./658.txt\n",
            "./969.png\n",
            "./880.txt\n",
            "./670.txt\n",
            "./941.png\n",
            "./799.png\n",
            "./116.txt\n",
            "./102.txt\n",
            "./664.txt\n",
            "./955.png\n",
            "./857.txt\n",
            "./766.png\n",
            "./17.txt\n",
            "./843.txt\n",
            "./772.png\n",
            "./982.png\n",
            "./996.png\n",
            "./49.png\n",
            "./809.png\n",
            "./738.txt\n",
            "./75.png\n",
            "./835.png\n",
            "./704.txt\n",
            "./61.png\n",
            "./821.png\n",
            "./710.txt\n",
            "./612.png\n",
            "./923.txt\n",
            "./174.png\n",
            "./160.png\n",
            "./606.png\n",
            "./937.txt\n",
            "./148.png\n",
            "./248.txt\n",
            "./389.png\n",
            "./260.txt\n",
            "./506.txt\n",
            "./512.txt\n",
            "./274.txt\n",
            "./376.png\n",
            "./410.png\n",
            "./404.png\n",
            "./362.png\n",
            "./438.png\n",
            "./366.png\n",
            "./400.png\n",
            "./414.png\n",
            "./372.png\n",
            "./428.png\n",
            "./258.txt\n",
            "./270.txt\n",
            "./399.png\n",
            "./516.txt\n",
            "./502.txt\n",
            "./264.txt\n",
            "./602.png\n",
            "./933.txt\n",
            "./164.png\n",
            "./170.png\n",
            "./616.png\n",
            "./927.txt\n",
            "./158.png\n",
            "./819.png\n",
            "./728.txt\n",
            "./59.png\n",
            "./825.png\n",
            "./714.txt\n",
            "./65.png\n",
            "./831.png\n",
            "./700.txt\n",
            "./71.png\n",
            "./847.txt\n",
            "./776.png\n",
            "./13.txt\n",
            "./853.txt\n",
            "./762.png\n",
            "./992.png\n",
            "./986.png\n",
            "./884.txt\n",
            "./890.txt\n",
            "./648.txt\n",
            "./979.png\n",
            "./789.png\n",
            "./660.txt\n",
            "./951.png\n",
            "./106.txt\n",
            "./112.txt\n",
            "./674.txt\n",
            "./945.png\n",
            "./212.png\n",
            "./._.DS_Store\n",
            "tar: Ignoring unknown extended header keyword 'SCHILY.fflags'\n",
            "tar: Ignoring unknown extended header keyword 'LIBARCHIVE.xattr.com.apple.FinderInfo'\n",
            "./.DS_Store\n",
            "./574.png\n",
            "./560.png\n",
            "./489.txt\n",
            "./206.png\n",
            "./548.png\n",
            "./338.txt\n",
            "./304.txt\n",
            "./462.txt\n",
            "./476.txt\n",
            "./310.txt\n",
            "./477.txt\n",
            "./311.txt\n",
            "./305.txt\n",
            "./463.txt\n",
            "./339.txt\n",
            "./549.png\n",
            "./488.txt\n",
            "./561.png\n",
            "./207.png\n",
            "./213.png\n",
            "./575.png\n",
            "./113.txt\n",
            "./944.png\n",
            "./675.txt\n",
            "./950.png\n",
            "./661.txt\n",
            "./788.png\n",
            "./107.txt\n",
            "./978.png\n",
            "./649.txt\n",
            "./891.txt\n",
            "./885.txt\n",
            "./987.png\n",
            "./993.png\n",
            "./763.png\n",
            "./852.txt\n",
            "./12.txt\n",
            "./777.png\n",
            "./846.txt\n",
            "./70.png\n",
            "./701.txt\n",
            "./830.png\n",
            "./64.png\n",
            "./715.txt\n",
            "./824.png\n",
            "./58.png\n",
            "./729.txt\n",
            "./818.png\n",
            "./159.png\n",
            "./171.png\n",
            "./926.txt\n",
            "./617.png\n",
            "./932.txt\n",
            "./603.png\n",
            "./165.png\n",
            "./503.txt\n",
            "./265.txt\n",
            "./398.png\n",
            "./271.txt\n",
            "./517.txt\n",
            "./259.txt\n",
            "./429.png\n",
            "./415.png\n",
            "./373.png\n",
            "./367.png\n",
            "./401.png\n",
            "./371.png\n",
            "./298.txt\n",
            "./417.png\n",
            "./403.png\n",
            "./365.png\n",
            "./359.png\n",
            "./529.txt\n",
            "./267.txt\n",
            "./501.txt\n",
            "./515.txt\n",
            "./273.txt\n",
            "./615.png\n",
            "./924.txt\n",
            "./173.png\n",
            "./167.png\n",
            "./601.png\n",
            "./930.txt\n",
            "./99.png\n",
            "./629.png\n",
            "./918.txt\n",
            "./8.png\n",
            "./832.png\n",
            "./703.txt\n",
            "./72.png\n",
            "./198.png\n",
            "./826.png\n",
            "./717.txt\n",
            "./66.png\n",
            "./688.txt\n",
            "./10.txt\n",
            "./850.txt\n",
            "./761.png\n",
            "./844.txt\n",
            "./775.png\n",
            "./985.png\n",
            "./algos.csv\n",
            "./38.txt\n",
            "./991.png\n",
            "./878.txt\n",
            "./749.png\n",
            "./893.txt\n",
            "./139.txt\n",
            "./887.txt\n",
            "./677.txt\n",
            "./946.png\n",
            "./111.txt\n",
            "./105.txt\n",
            "./663.txt\n",
            "./952.png\n",
            "./205.png\n",
            "./563.png\n",
            "./577.png\n",
            "./211.png\n",
            "./239.png\n",
            "./449.txt\n",
            "./313.txt\n",
            "./475.txt\n",
            "./461.txt\n",
            "./588.png\n",
            "./307.txt\n",
            "./589.png\n",
            "./460.txt\n",
            "./306.txt\n",
            "./312.txt\n",
            "./474.txt\n",
            "./448.txt\n",
            "./238.png\n",
            "./576.png\n",
            "./210.png\n",
            "./204.png\n",
            "./562.png\n",
            "./104.txt\n",
            "./953.png\n",
            "./662.txt\n",
            "./947.png\n",
            "./676.txt\n",
            "./110.txt\n",
            "./138.txt\n",
            "./886.txt\n",
            "./892.txt\n",
            "./748.png\n",
            "./879.txt\n",
            "./990.png\n",
            "./39.txt\n",
            "./984.png\n",
            "./774.png\n",
            "./845.txt\n",
            "./760.png\n",
            "./851.txt\n",
            "./11.txt\n",
            "./689.txt\n",
            "./199.png\n",
            "./67.png\n",
            "./716.txt\n",
            "./827.png\n",
            "./73.png\n",
            "./702.txt\n",
            "./833.png\n",
            "./9.png\n",
            "./919.txt\n",
            "./628.png\n",
            "./166.png\n",
            "./98.png\n",
            "./931.txt\n",
            "./600.png\n",
            "./925.txt\n",
            "./614.png\n",
            "./172.png\n",
            "./514.txt\n",
            "./272.txt\n",
            "./266.txt\n",
            "./500.txt\n",
            "./528.txt\n",
            "./358.png\n",
            "./402.png\n",
            "./364.png\n",
            "./299.txt\n",
            "./370.png\n",
            "./416.png\n",
            "./459.png\n",
            "./317.png\n",
            "./598.txt\n",
            "./471.png\n",
            "./465.png\n",
            "./303.png\n",
            "./201.txt\n",
            "./567.txt\n",
            "./573.txt\n",
            "./215.txt\n",
            "./229.txt\n",
            "./897.png\n",
            "./129.png\n",
            "./883.png\n",
            "./942.txt\n",
            "./673.png\n",
            "./115.png\n",
            "./101.png\n",
            "./956.txt\n",
            "./667.png\n",
            "./765.txt\n",
            "./854.png\n",
            "./14.png\n",
            "./771.txt\n",
            "./840.png\n",
            "./698.png\n",
            "./759.txt\n",
            "./868.png\n",
            "./981.txt\n",
            "./28.png\n",
            "./995.txt\n",
            "./76.txt\n",
            "./707.png\n",
            "./836.txt\n",
            "./188.txt\n",
            "./62.txt\n",
            "./713.png\n",
            "./822.txt\n",
            "./89.txt\n",
            "./920.png\n",
            "./611.txt\n",
            "./177.txt\n",
            "./163.txt\n",
            "./934.png\n",
            "./605.txt\n",
            "./908.png\n",
            "./639.txt\n",
            "./539.png\n",
            "./263.png\n",
            "./505.png\n",
            "./511.png\n",
            "./277.png\n",
            "./375.txt\n",
            "./413.txt\n",
            "./407.txt\n",
            "./288.png\n",
            "./361.txt\n",
            "./349.txt\n",
            "./348.txt\n",
            "./406.txt\n",
            "./360.txt\n",
            "./289.png\n",
            "./374.txt\n",
            "./412.txt\n",
            "./510.png\n",
            "./276.png\n",
            "./262.png\n",
            "./504.png\n",
            "./538.png\n",
            "./638.txt\n",
            "./909.png\n",
            "./162.txt\n",
            "./604.txt\n",
            "./935.png\n",
            "./610.txt\n",
            "./921.png\n",
            "./88.txt\n",
            "./176.txt\n",
            "./823.txt\n",
            "./712.png\n",
            "./63.txt\n",
            "./837.txt\n",
            "./706.png\n",
            "./77.txt\n",
            "./189.txt\n",
            "./994.txt\n",
            "./29.png\n",
            "./980.txt\n",
            "./869.png\n",
            "./758.txt\n",
            "./699.png\n",
            "./841.png\n",
            "./770.txt\n",
            "./15.png\n",
            "./855.png\n",
            "./764.txt\n",
            "./100.png\n",
            "./666.png\n",
            "./957.txt\n",
            "./672.png\n",
            "./943.txt\n",
            "./114.png\n",
            "./882.png\n",
            "./896.png\n",
            "./128.png\n",
            "./228.txt\n",
            "./572.txt\n",
            "./214.txt\n",
            "./200.txt\n",
            "./566.txt\n",
            "./464.png\n",
            "./302.png\n",
            "./316.png\n",
            "./470.png\n",
            "./599.txt\n",
            "./458.png\n",
            "./328.png\n",
            "./300.png\n",
            "./466.png\n",
            "./472.png\n",
            "./314.png\n",
            "./216.txt\n",
            "./499.png\n",
            "./570.txt\n",
            "./564.txt\n",
            "./202.txt\n",
            "./558.txt\n",
            "./969.txt\n",
            "./658.png\n",
            "./880.png\n",
            "./894.png\n",
            "./955.txt\n",
            "./664.png\n",
            "./102.png\n",
            "./116.png\n",
            "./941.txt\n",
            "./670.png\n",
            "./799.txt\n",
            "./772.txt\n",
            "./843.png\n",
            "./766.txt\n",
            "./857.png\n",
            "./17.png\n",
            "./996.txt\n",
            "./982.txt\n",
            "./49.txt\n",
            "./738.png\n",
            "./809.txt\n",
            "./61.txt\n",
            "./710.png\n",
            "./821.txt\n",
            "./75.txt\n",
            "./704.png\n",
            "./835.txt\n",
            "./937.png\n",
            "./606.txt\n",
            "./160.txt\n",
            "./174.txt\n",
            "./923.png\n",
            "./612.txt\n",
            "./148.txt\n",
            "./248.png\n",
            "./274.png\n",
            "./512.png\n",
            "./506.png\n",
            "./389.txt\n",
            "./260.png\n",
            "./362.txt\n",
            "./404.txt\n",
            "./410.txt\n",
            "./376.txt\n",
            "./438.txt\n",
            "./439.txt\n",
            "./411.txt\n",
            "./377.txt\n",
            "./363.txt\n",
            "./405.txt\n",
            "./507.png\n",
            "./261.png\n",
            "./388.txt\n",
            "./275.png\n",
            "./513.png\n",
            "./249.png\n",
            "./149.txt\n",
            "./175.txt\n",
            "./613.txt\n",
            "./922.png\n",
            "./607.txt\n",
            "./936.png\n",
            "./161.txt\n",
            "./834.txt\n",
            "./705.png\n",
            "./74.txt\n",
            "./820.txt\n",
            "./711.png\n",
            "./60.txt\n",
            "./808.txt\n",
            "./739.png\n",
            "./48.txt\n",
            "./983.txt\n",
            "./997.txt\n",
            "./16.png\n",
            "./856.png\n",
            "./767.txt\n",
            "./842.png\n",
            "./773.txt\n",
            "./117.png\n",
            "./798.txt\n",
            "./671.png\n",
            "./940.txt\n",
            "./665.png\n",
            "./954.txt\n",
            "./103.png\n",
            "./895.png\n",
            "./881.png\n",
            "./659.png\n",
            "./968.txt\n",
            "./559.txt\n",
            "./565.txt\n",
            "./203.txt\n",
            "./217.txt\n",
            "./571.txt\n",
            "./498.png\n",
            "./473.png\n",
            "./315.png\n",
            "./301.png\n",
            "./467.png\n",
            "./329.png\n",
            "./463.png\n",
            "./305.png\n",
            "./311.png\n",
            "./477.png\n",
            "./339.png\n",
            "./549.txt\n",
            "./575.txt\n",
            "./213.txt\n",
            "./207.txt\n",
            "./488.png\n",
            "./561.txt\n",
            "./107.png\n",
            "./661.png\n",
            "./950.txt\n",
            "./788.txt\n",
            "./675.png\n",
            "./944.txt\n",
            "./113.png\n",
            "./885.png\n",
            "./649.png\n",
            "./978.txt\n",
            "./891.png\n",
            "./993.txt\n",
            "./987.txt\n",
            "./846.png\n",
            "./777.txt\n",
            "./852.png\n",
            "./763.txt\n",
            "./12.png\n",
            "./64.txt\n",
            "./824.txt\n",
            "./715.png\n",
            "./70.txt\n",
            "./830.txt\n",
            "./701.png\n",
            "./58.txt\n",
            "./818.txt\n",
            "./729.png\n",
            "./159.txt\n",
            "./165.txt\n",
            "./603.txt\n",
            "./932.png\n",
            "./617.txt\n",
            "./926.png\n",
            "./171.txt\n",
            "./517.png\n",
            "./398.txt\n",
            "./271.png\n",
            "./265.png\n",
            "./503.png\n",
            "./259.png\n",
            "./429.txt\n",
            "./401.txt\n",
            "./367.txt\n",
            "./373.txt\n",
            "./415.txt\n",
            "./372.txt\n",
            "./414.txt\n",
            "./400.txt\n",
            "./366.txt\n",
            "./428.txt\n",
            "./258.png\n",
            "./264.png\n",
            "./502.png\n",
            "./516.png\n",
            "./270.png\n",
            "./399.txt\n",
            "./927.png\n",
            "./616.txt\n",
            "./170.txt\n",
            "./164.txt\n",
            "./933.png\n",
            "./602.txt\n",
            "./158.txt\n",
            "./728.png\n",
            "./819.txt\n",
            "./59.txt\n",
            "./700.png\n",
            "./831.txt\n",
            "./71.txt\n",
            "./714.png\n",
            "./825.txt\n",
            "./65.txt\n",
            "./13.png\n",
            "./762.txt\n",
            "./853.png\n",
            "./776.txt\n",
            "./847.png\n",
            "./986.txt\n",
            "./992.txt\n",
            "./890.png\n",
            "./979.txt\n",
            "./648.png\n",
            "./884.png\n",
            "./945.txt\n",
            "./674.png\n",
            "./112.png\n",
            "./106.png\n",
            "./789.txt\n",
            "./951.txt\n",
            "./660.png\n",
            "./206.txt\n",
            "./560.txt\n",
            "./489.png\n",
            "./574.txt\n",
            "./212.txt\n",
            "./548.txt\n",
            "./338.png\n",
            "./310.png\n",
            "./476.png\n",
            "./462.png\n",
            "./304.png\n",
            "./474.png\n",
            "./312.png\n",
            "./306.png\n",
            "./589.txt\n",
            "./460.png\n",
            "./448.png\n",
            "./238.txt\n",
            "./562.txt\n",
            "./204.txt\n",
            "./210.txt\n",
            "./576.txt\n",
            "./110.png\n",
            "./676.png\n",
            "./947.txt\n",
            "./662.png\n",
            "./953.txt\n",
            "./104.png\n",
            "./892.png\n",
            "./886.png\n",
            "./138.png\n",
            "./984.txt\n",
            "./879.png\n",
            "./748.txt\n",
            "./990.txt\n",
            "./39.png\n",
            "./851.png\n",
            "./760.txt\n",
            "./689.png\n",
            "./11.png\n",
            "./845.png\n",
            "./774.txt\n",
            "./73.txt\n",
            "./833.txt\n",
            "./702.png\n",
            "./67.txt\n",
            "./827.txt\n",
            "./716.png\n",
            "./199.txt\n",
            "./9.txt\n",
            "./628.txt\n",
            "./919.png\n",
            "./172.txt\n",
            "./614.txt\n",
            "./925.png\n",
            "./600.txt\n",
            "./98.txt\n",
            "./931.png\n",
            "./166.txt\n",
            "./500.png\n",
            "./266.png\n",
            "./272.png\n",
            "./514.png\n",
            "./528.png\n",
            "./358.txt\n",
            "./416.txt\n",
            "./299.png\n",
            "./370.txt\n",
            "./364.txt\n",
            "./402.txt\n",
            "./365.txt\n",
            "./403.txt\n",
            "./417.txt\n",
            "./371.txt\n",
            "./298.png\n",
            "./359.txt\n",
            "./529.png\n",
            "./273.png\n",
            "./515.png\n",
            "./501.png\n",
            "./267.png\n",
            "./930.png\n",
            "./99.txt\n",
            "./601.txt\n",
            "./167.txt\n",
            "./173.txt\n",
            "./924.png\n",
            "./615.txt\n",
            "./918.png\n",
            "./629.txt\n",
            "./8.txt\n",
            "./717.png\n",
            "./826.txt\n",
            "./66.txt\n",
            "./198.txt\n",
            "./703.png\n",
            "./832.txt\n",
            "./72.txt\n",
            "./775.txt\n",
            "./844.png\n",
            "./10.png\n",
            "./688.png\n",
            "./761.txt\n",
            "./850.png\n",
            "./38.png\n",
            "./991.txt\n",
            "./749.txt\n",
            "./878.png\n",
            "./985.txt\n",
            "./887.png\n",
            "./139.png\n",
            "./893.png\n",
            "./952.txt\n",
            "./663.png\n",
            "./105.png\n",
            "./111.png\n",
            "./946.txt\n",
            "./677.png\n",
            "./211.txt\n",
            "./577.txt\n",
            "./563.txt\n",
            "./205.txt\n",
            "./239.txt\n",
            "./449.png\n",
            "./307.png\n",
            "./461.png\n",
            "./588.txt\n",
            "./475.png\n",
            "./313.png\n",
            "./585.txt\n",
            "./591.txt\n",
            "./478.png\n",
            "./336.png\n",
            "./450.png\n",
            "./444.png\n",
            "./322.png\n",
            "./220.txt\n",
            "./546.txt\n",
            "./552.txt\n",
            "./234.txt\n",
            "./493.png\n",
            "./487.png\n",
            "./208.txt\n",
            "./787.txt\n",
            "./108.png\n",
            "./793.txt\n",
            "./963.txt\n",
            "./652.png\n",
            "./134.png\n",
            "./120.png\n",
            "./977.txt\n",
            "./646.png\n",
            "./744.txt\n",
            "./875.png\n",
            "./35.png\n",
            "./750.txt\n",
            "./861.png\n",
            "./21.png\n",
            "./988.txt\n",
            "./778.txt\n",
            "./849.png\n",
            "./691.png\n",
            "./685.png\n",
            "./195.txt\n",
            "./181.txt\n",
            "./57.txt\n",
            "./726.png\n",
            "./817.txt\n",
            "./5.txt\n",
            "./43.txt\n",
            "./732.png\n",
            "./803.txt\n",
            "./901.png\n",
            "./630.txt\n",
            "./156.txt\n",
            "./142.txt\n",
            "./915.png\n",
            "./624.txt\n",
            "./94.txt\n",
            "./929.png\n",
            "./80.txt\n",
            "./618.txt\n",
            "./397.txt\n",
            "./518.png\n",
            "./383.txt\n",
            "./242.png\n",
            "./524.png\n",
            "./530.png\n",
            "./256.png\n",
            "./354.txt\n",
            "./432.txt\n",
            "./426.txt\n",
            "./340.txt\n",
            "./281.png\n",
            "./368.txt\n",
            "./295.png\n",
            "./294.png\n",
            "./369.txt\n",
            "./280.png\n",
            "./427.txt\n",
            "./341.txt\n",
            "./355.txt\n",
            "./433.txt\n",
            "./531.png\n",
            "./257.png\n",
            "./243.png\n",
            "./525.png\n",
            "./382.txt\n",
            "./396.txt\n",
            "./519.png\n",
            "./619.txt\n",
            "./81.txt\n",
            "./928.png\n",
            "./95.txt\n",
            "./143.txt\n",
            "./625.txt\n",
            "./914.png\n",
            "./631.txt\n",
            "./900.png\n",
            "./157.txt\n",
            "./802.txt\n",
            "./733.png\n",
            "./42.txt\n",
            "./816.txt\n",
            "./727.png\n",
            "./56.txt\n",
            "./4.txt\n",
            "./180.txt\n",
            "./194.txt\n",
            "./684.png\n",
            "./690.png\n",
            "./848.png\n",
            "./779.txt\n",
            "./989.txt\n",
            "./20.png\n",
            "./860.png\n",
            "./751.txt\n",
            "./34.png\n",
            "./874.png\n",
            "./745.txt\n",
            "./121.png\n",
            "./647.png\n",
            "./976.txt\n",
            "./653.png\n",
            "./962.txt\n",
            "./135.png\n",
            "./792.txt\n",
            "./786.txt\n",
            "./109.png\n",
            "./486.png\n",
            "./209.txt\n",
            "./492.png\n",
            "./553.txt\n",
            "./235.txt\n",
            "./221.txt\n",
            "./547.txt\n",
            "./445.png\n",
            "./323.png\n",
            "./337.png\n",
            "./451.png\n",
            "./479.png\n",
            "./590.txt\n",
            "./584.txt\n",
            "./592.txt\n",
            "./586.txt\n",
            "./309.png\n",
            "./321.png\n",
            "./447.png\n",
            "./453.png\n",
            "./335.png\n",
            "./237.txt\n",
            "./551.txt\n",
            "./545.txt\n",
            "./223.txt\n",
            "./484.png\n",
            "./490.png\n",
            "./579.txt\n",
            "./948.txt\n",
            "./679.png\n",
            "./790.txt\n",
            "./784.txt\n",
            "./974.txt\n",
            "./645.png\n",
            "./123.png\n",
            "./137.png\n",
            "./960.txt\n",
            "./651.png\n",
            "./889.png\n",
            "./753.txt\n",
            "./862.png\n",
            "./22.png\n",
            "./747.txt\n",
            "./876.png\n",
            "./36.png\n",
            "./686.png\n",
            "./692.png\n",
            "./182.txt\n",
            "./196.txt\n",
            "./68.txt\n",
            "./719.png\n",
            "./828.txt\n",
            "./40.txt\n",
            "./731.png\n",
            "./800.txt\n",
            "./6.txt\n",
            "./54.txt\n",
            "./725.png\n",
            "./814.txt\n",
            "./916.png\n",
            "./627.txt\n",
            "./141.txt\n",
            "./155.txt\n",
            "./902.png\n",
            "./633.txt\n",
            "./83.txt\n",
            "./169.txt\n",
            "./97.txt\n",
            "./380.txt\n",
            "./269.png\n",
            "./394.txt\n",
            "./255.png\n",
            "./533.png\n",
            "./527.png\n",
            "./241.png\n",
            "./343.txt\n",
            "./425.txt\n",
            "./431.txt\n",
            "./357.txt\n",
            "./296.png\n",
            "./419.txt\n",
            "./282.png\n",
            "./283.png\n",
            "./297.png\n",
            "./418.txt\n",
            "./430.txt\n",
            "./356.txt\n",
            "./342.txt\n",
            "./424.txt\n",
            "./526.png\n",
            "./240.png\n",
            "./254.png\n",
            "./532.png\n",
            "./395.txt\n",
            "./268.png\n",
            "./381.txt\n",
            "./168.txt\n",
            "./96.txt\n",
            "./82.txt\n",
            "./154.txt\n",
            "./632.txt\n",
            "./903.png\n",
            "./626.txt\n",
            "./917.png\n",
            "./140.txt\n",
            "./7.txt\n",
            "./815.txt\n",
            "./724.png\n",
            "./55.txt\n",
            "./801.txt\n",
            "./730.png\n",
            "./41.txt\n",
            "./197.txt\n",
            "./829.txt\n",
            "./718.png\n",
            "./69.txt\n",
            "./183.txt\n",
            "./693.png\n",
            "./687.png\n",
            "./37.png\n",
            "./877.png\n",
            "./746.txt\n",
            "./23.png\n",
            "./863.png\n",
            "./752.txt\n",
            "./136.png\n",
            "./888.png\n",
            "./650.png\n",
            "./961.txt\n",
            "./644.png\n",
            "./975.txt\n",
            "./122.png\n",
            "./785.txt\n",
            "./791.txt\n",
            "./678.png\n",
            "./949.txt\n",
            "./578.txt\n",
            "./491.png\n",
            "./485.png\n",
            "./544.txt\n",
            "./222.txt\n",
            "./236.txt\n",
            "./550.txt\n",
            "./452.png\n",
            "./334.png\n",
            "./320.png\n",
            "./446.png\n",
            "./587.txt\n",
            "./308.png\n",
            "./593.txt\n",
            "./442.png\n",
            "./324.png\n",
            "./330.png\n",
            "./456.png\n",
            "./597.txt\n",
            "./318.png\n",
            "./583.txt\n",
            "./481.png\n",
            "./568.txt\n",
            "./495.png\n",
            "./554.txt\n",
            "./232.txt\n",
            "./226.txt\n",
            "./540.txt\n",
            "./126.png\n",
            "./640.png\n",
            "./971.txt\n",
            "./898.png\n",
            "./654.png\n",
            "./965.txt\n",
            "./132.png\n",
            "./795.txt\n",
            "./668.png\n",
            "./959.txt\n",
            "./781.txt\n",
            "./683.png\n",
            "./697.png\n",
            "./867.png\n",
            "./756.txt\n",
            "./27.png\n",
            "./873.png\n",
            "./742.txt\n",
            "./33.png\n",
            "./45.txt\n",
            "./805.txt\n",
            "./734.png\n",
            "./51.txt\n",
            "./811.txt\n",
            "./720.png\n",
            "./3.txt\n",
            "./187.txt\n",
            "./79.txt\n",
            "./839.txt\n",
            "./708.png\n",
            "./193.txt\n",
            "./178.txt\n",
            "./86.txt\n",
            "./92.txt\n",
            "./144.txt\n",
            "./622.txt\n",
            "./913.png\n",
            "./636.txt\n",
            "./907.png\n",
            "./150.txt\n",
            "./536.png\n",
            "./250.png\n",
            "./244.png\n",
            "./522.png\n",
            "./385.txt\n",
            "./391.txt\n",
            "./278.png\n",
            "./293.png\n",
            "./287.png\n",
            "./408.txt\n",
            "./420.txt\n",
            "./346.txt\n",
            "./352.txt\n",
            "./434.txt\n",
            "./353.txt\n",
            "./435.txt\n",
            "./421.txt\n",
            "./347.txt\n",
            "./286.png\n",
            "./409.txt\n",
            "./292.png\n",
            "./279.png\n",
            "./390.txt\n",
            "./384.txt\n",
            "./245.png\n",
            "./523.png\n",
            "./537.png\n",
            "./251.png\n",
            "./906.png\n",
            "./637.txt\n",
            "./151.txt\n",
            "./145.txt\n",
            "./912.png\n",
            "./623.txt\n",
            "./93.txt\n",
            "./179.txt\n",
            "./87.txt\n",
            "./192.txt\n",
            "./186.txt\n",
            "./709.png\n",
            "./838.txt\n",
            "./78.txt\n",
            "./721.png\n",
            "./810.txt\n",
            "./50.txt\n",
            "./2.txt\n",
            "./735.png\n",
            "./804.txt\n",
            "./44.txt\n",
            "./32.png\n",
            "./743.txt\n",
            "./872.png\n",
            "./26.png\n",
            "./757.txt\n",
            "./866.png\n",
            "./696.png\n",
            "./682.png\n",
            "./780.txt\n",
            "./958.txt\n",
            "./669.png\n",
            "./794.txt\n",
            "./964.txt\n",
            "./655.png\n",
            "./133.png\n",
            "./127.png\n",
            "./899.png\n",
            "./970.txt\n",
            "./641.png\n",
            "./227.txt\n",
            "./541.txt\n",
            "./555.txt\n",
            "./233.txt\n",
            "./494.png\n",
            "./569.txt\n",
            "./480.png\n",
            "./582.txt\n",
            "./596.txt\n",
            "./319.png\n",
            "./331.png\n",
            "./457.png\n",
            "./443.png\n",
            "./325.png\n",
            "./455.png\n",
            "./333.png\n",
            "./327.png\n",
            "./441.png\n",
            "./580.txt\n",
            "./469.png\n",
            "./594.txt\n",
            "./1000.txt\n",
            "./496.png\n",
            "./219.txt\n",
            "./482.png\n",
            "./543.txt\n",
            "./225.txt\n",
            "./231.txt\n",
            "./557.txt\n",
            "./131.png\n",
            "./657.png\n",
            "./966.txt\n",
            "./643.png\n",
            "./972.txt\n",
            "./125.png\n",
            "./782.txt\n",
            "./796.txt\n",
            "./119.png\n",
            "./694.png\n",
            "./858.png\n",
            "./769.txt\n",
            "./680.png\n",
            "./18.png\n",
            "./870.png\n",
            "./741.txt\n",
            "./30.png\n",
            "./999.txt\n",
            "./864.png\n",
            "./755.txt\n",
            "./24.png\n",
            "./52.txt\n",
            "./812.txt\n",
            "./723.png\n",
            "./46.txt\n",
            "./806.txt\n",
            "./737.png\n",
            "./190.txt\n",
            "./184.txt\n",
            "./609.txt\n",
            "./938.png\n",
            "./91.txt\n",
            "./85.txt\n",
            "./153.txt\n",
            "./635.txt\n",
            "./904.png\n",
            "./621.txt\n",
            "./910.png\n",
            "./147.txt\n",
            "./521.png\n",
            "./247.png\n",
            "./253.png\n",
            "./535.png\n",
            "./392.txt\n",
            "./386.txt\n",
            "./509.png\n",
            "./284.png\n",
            "./290.png\n",
            "./379.txt\n",
            "./437.txt\n",
            "./351.txt\n",
            "./345.txt\n",
            "./423.txt\n",
            "./344.txt\n",
            "./422.txt\n",
            "./436.txt\n",
            "./350.txt\n",
            "./378.txt\n",
            "./291.png\n",
            "./285.png\n",
            "./387.txt\n",
            "./508.png\n",
            "./393.txt\n",
            "./252.png\n",
            "./534.png\n",
            "./520.png\n",
            "./246.png\n",
            "./911.png\n",
            "./620.txt\n",
            "./146.txt\n",
            "./152.txt\n",
            "./905.png\n",
            "./634.txt\n",
            "./84.txt\n",
            "./90.txt\n",
            "./939.png\n",
            "./608.txt\n",
            "./185.txt\n",
            "./191.txt\n",
            "./736.png\n",
            "./807.txt\n",
            "./47.txt\n",
            "./._1.txt\n",
            "tar: Ignoring unknown extended header keyword 'LIBARCHIVE.xattr.com.apple.lastuseddate#PS'\n",
            "./1.txt\n",
            "./722.png\n",
            "./813.txt\n",
            "./53.txt\n",
            "./25.png\n",
            "./754.txt\n",
            "./865.png\n",
            "./998.txt\n",
            "./31.png\n",
            "./740.txt\n",
            "./871.png\n",
            "./19.png\n",
            "./681.png\n",
            "./768.txt\n",
            "./859.png\n",
            "./695.png\n",
            "./797.txt\n",
            "./118.png\n",
            "./783.txt\n",
            "./973.txt\n",
            "./642.png\n",
            "./124.png\n",
            "./130.png\n",
            "./967.txt\n",
            "./656.png\n",
            "./230.txt\n",
            "./556.txt\n",
            "./542.txt\n",
            "./224.txt\n",
            "./483.png\n",
            "./497.png\n",
            "./218.txt\n",
            "./595.txt\n",
            "./468.png\n",
            "./581.txt\n",
            "./326.png\n",
            "./440.png\n",
            "./454.png\n",
            "./332.png\n",
            "./369.png\n",
            "./280.txt\n",
            "./294.txt\n",
            "./433.png\n",
            "./355.png\n",
            "./341.png\n",
            "./427.png\n",
            "./525.txt\n",
            "./243.txt\n",
            "./257.txt\n",
            "./531.txt\n",
            "./519.txt\n",
            "./396.png\n",
            "./382.png\n",
            "./95.png\n",
            "./81.png\n",
            "./928.txt\n",
            "./619.png\n",
            "./157.png\n",
            "./900.txt\n",
            "./631.png\n",
            "./914.txt\n",
            "./625.png\n",
            "./143.png\n",
            "./4.png\n",
            "./727.txt\n",
            "./816.png\n",
            "./56.png\n",
            "./733.txt\n",
            "./802.png\n",
            "./42.png\n",
            "./194.png\n",
            "./180.png\n",
            "./690.txt\n",
            "./779.png\n",
            "./848.txt\n",
            "./684.txt\n",
            "./34.txt\n",
            "./745.png\n",
            "./874.txt\n",
            "./989.png\n",
            "./20.txt\n",
            "./751.png\n",
            "./860.txt\n",
            "./135.txt\n",
            "./962.png\n",
            "./653.txt\n",
            "./976.png\n",
            "./647.txt\n",
            "./121.txt\n",
            "./109.txt\n",
            "./786.png\n",
            "./792.png\n",
            "./492.txt\n",
            "./209.png\n",
            "./486.txt\n",
            "./547.png\n",
            "./221.png\n",
            "./235.png\n",
            "./553.png\n",
            "./451.txt\n",
            "./337.txt\n",
            "./323.txt\n",
            "./445.txt\n",
            "./584.png\n",
            "./479.txt\n",
            "./590.png\n",
            "./591.png\n",
            "./478.txt\n",
            "./585.png\n",
            "./322.txt\n",
            "./444.txt\n",
            "./450.txt\n",
            "./336.txt\n",
            "./234.png\n",
            "./552.png\n",
            "./546.png\n",
            "./220.png\n",
            "./208.png\n",
            "./487.txt\n",
            "./493.txt\n",
            "./793.png\n",
            "./108.txt\n",
            "./787.png\n",
            "./646.txt\n",
            "./977.png\n",
            "./120.txt\n",
            "./134.txt\n",
            "./652.txt\n",
            "./963.png\n",
            "./861.txt\n",
            "./750.png\n",
            "./21.txt\n",
            "./988.png\n",
            "./875.txt\n",
            "./744.png\n",
            "./35.txt\n",
            "./685.txt\n",
            "./849.txt\n",
            "./778.png\n",
            "./691.txt\n",
            "./181.png\n",
            "./195.png\n",
            "./43.png\n",
            "./803.png\n",
            "./732.txt\n",
            "./5.png\n",
            "./57.png\n",
            "./817.png\n",
            "./726.txt\n",
            "./624.png\n",
            "./915.txt\n",
            "./142.png\n",
            "./156.png\n",
            "./630.png\n",
            "./901.txt\n",
            "./618.png\n",
            "./929.txt\n",
            "./80.png\n",
            "./94.png\n",
            "./383.png\n",
            "./518.txt\n",
            "./397.png\n",
            "./256.txt\n",
            "./530.txt\n",
            "./524.txt\n",
            "./242.txt\n",
            "./340.png\n",
            "./426.png\n",
            "./432.png\n",
            "./354.png\n",
            "./295.txt\n",
            "./281.txt\n",
            "./368.png\n",
            "./418.png\n",
            "./297.txt\n",
            "./283.txt\n",
            "./424.png\n",
            "./342.png\n",
            "./356.png\n",
            "./430.png\n",
            "./532.txt\n",
            "./254.txt\n",
            "./240.txt\n",
            "./526.txt\n",
            "./268.txt\n",
            "./381.png\n",
            "./395.png\n",
            "./82.png\n",
            "./96.png\n",
            "./168.png\n",
            "./140.png\n",
            "./917.txt\n",
            "./626.png\n",
            "./903.txt\n",
            "./632.png\n",
            "./154.png\n",
            "./730.txt\n",
            "./801.png\n",
            "./41.png\n",
            "./724.txt\n",
            "./815.png\n",
            "./55.png\n",
            "./7.png\n",
            "./183.png\n",
            "./718.txt\n",
            "./829.png\n",
            "./69.png\n",
            "./197.png\n",
            "./687.txt\n",
            "./693.txt\n",
            "./23.txt\n",
            "./752.png\n",
            "./863.txt\n",
            "./37.txt\n",
            "./746.png\n",
            "./877.txt\n",
            "./122.txt\n",
            "./975.png\n",
            "./644.txt\n",
            "./888.txt\n",
            "./961.png\n",
            "./650.txt\n",
            "./136.txt\n",
            "./791.png\n",
            "./949.png\n",
            "./678.txt\n",
            "./785.png\n",
            "./485.txt\n",
            "./578.png\n",
            "./491.txt\n",
            "./550.png\n",
            "./236.png\n",
            "./222.png\n",
            "./544.png\n",
            "./446.txt\n",
            "./320.txt\n",
            "./334.txt\n",
            "./452.txt\n",
            "./593.png\n",
            "./308.txt\n",
            "./587.png\n",
            "./309.txt\n",
            "./586.png\n",
            "./592.png\n",
            "./335.txt\n",
            "./453.txt\n",
            "./447.txt\n",
            "./321.txt\n",
            "./223.png\n",
            "./545.png\n",
            "./551.png\n",
            "./237.png\n",
            "./490.txt\n",
            "./579.png\n",
            "./484.txt\n",
            "./784.png\n",
            "./679.txt\n",
            "./948.png\n",
            "./790.png\n",
            "./651.txt\n",
            "./960.png\n",
            "./889.txt\n",
            "./137.txt\n",
            "./123.txt\n",
            "./645.txt\n",
            "./974.png\n",
            "./876.txt\n",
            "./747.png\n",
            "./36.txt\n",
            "./862.txt\n",
            "./753.png\n",
            "./22.txt\n",
            "./692.txt\n",
            "./686.txt\n",
            "./68.png\n",
            "./828.png\n",
            "./719.txt\n",
            "./196.png\n",
            "./182.png\n",
            "./54.png\n",
            "./814.png\n",
            "./725.txt\n",
            "./6.png\n",
            "./40.png\n",
            "./800.png\n",
            "./731.txt\n",
            "./633.png\n",
            "./902.txt\n",
            "./155.png\n",
            "./141.png\n",
            "./627.png\n",
            "./916.txt\n",
            "./97.png\n",
            "./169.png\n",
            "./83.png\n",
            "./394.png\n",
            "./380.png\n",
            "./269.txt\n",
            "./241.txt\n",
            "./527.txt\n",
            "./533.txt\n",
            "./255.txt\n",
            "./357.png\n",
            "./431.png\n",
            "./425.png\n",
            "./343.png\n",
            "./282.txt\n",
            "./419.png\n",
            "./296.txt\n",
            "./347.png\n",
            "./421.png\n",
            "./435.png\n",
            "./353.png\n",
            "./292.txt\n",
            "./409.png\n",
            "./286.txt\n",
            "./384.png\n",
            "./279.txt\n",
            "./390.png\n",
            "./251.txt\n",
            "./537.txt\n",
            "./523.txt\n",
            "./245.txt\n",
            "./623.png\n",
            "./912.txt\n",
            "./145.png\n",
            "./151.png\n",
            "./637.png\n",
            "./906.txt\n",
            "./87.png\n",
            "./179.png\n",
            "./93.png\n",
            "./838.png\n",
            "./709.txt\n",
            "./78.png\n",
            "./186.png\n",
            "./192.png\n",
            "./804.png\n",
            "./735.txt\n",
            "./44.png\n",
            "./2.png\n",
            "./810.png\n",
            "./721.txt\n",
            "./50.png\n",
            "./26.txt\n",
            "./866.txt\n",
            "./757.png\n",
            "./32.txt\n",
            "./872.txt\n",
            "./743.png\n",
            "./682.txt\n",
            "./696.txt\n",
            "./794.png\n",
            "./780.png\n",
            "./669.txt\n",
            "./958.png\n",
            "./899.txt\n",
            "./641.txt\n",
            "./970.png\n",
            "./127.txt\n",
            "./133.txt\n",
            "./655.txt\n",
            "./964.png\n",
            "./233.png\n",
            "./555.png\n",
            "./541.png\n",
            "./227.png\n",
            "./569.png\n",
            "./480.txt\n",
            "./494.txt\n",
            "./319.txt\n",
            "./596.png\n",
            "./582.png\n",
            "./325.txt\n",
            "./443.txt\n",
            "./457.txt\n",
            "./331.txt\n",
            "./456.txt\n",
            "./330.txt\n",
            "./324.txt\n",
            "./442.txt\n",
            "./583.png\n",
            "./318.txt\n",
            "./597.png\n",
            "./495.txt\n",
            "./481.txt\n",
            "./568.png\n",
            "./540.png\n",
            "./226.png\n",
            "./232.png\n",
            "./554.png\n",
            "./132.txt\n",
            "./965.png\n",
            "./654.txt\n",
            "./971.png\n",
            "./640.txt\n",
            "./898.txt\n",
            "./126.txt\n",
            "./959.png\n",
            "./668.txt\n",
            "./781.png\n",
            "./795.png\n",
            "./697.txt\n",
            "./683.txt\n",
            "./742.png\n",
            "./873.txt\n",
            "./33.txt\n",
            "./756.png\n",
            "./867.txt\n",
            "./27.txt\n",
            "./3.png\n",
            "./51.png\n",
            "./720.txt\n",
            "./811.png\n",
            "./45.png\n",
            "./734.txt\n",
            "./805.png\n",
            "./193.png\n",
            "./79.png\n",
            "./708.txt\n",
            "./839.png\n",
            "./187.png\n",
            "./92.png\n",
            "./86.png\n",
            "./178.png\n",
            "./150.png\n",
            "./907.txt\n",
            "./636.png\n",
            "./913.txt\n",
            "./622.png\n",
            "./144.png\n",
            "./522.txt\n",
            "./244.txt\n",
            "./250.txt\n",
            "./536.txt\n",
            "./391.png\n",
            "./278.txt\n",
            "./385.png\n",
            "./408.png\n",
            "./287.txt\n",
            "./293.txt\n",
            "./434.png\n",
            "./352.png\n",
            "./346.png\n",
            "./420.png\n",
            "./350.png\n",
            "./436.png\n",
            "./422.png\n",
            "./344.png\n",
            "./285.txt\n",
            "./378.png\n",
            "./291.txt\n",
            "./393.png\n",
            "./508.txt\n",
            "./387.png\n",
            "./246.txt\n",
            "./520.txt\n",
            "./534.txt\n",
            "./252.txt\n",
            "./634.png\n",
            "./905.txt\n",
            "./152.png\n",
            "./146.png\n",
            "./620.png\n",
            "./911.txt\n",
            "./608.png\n",
            "./90.png\n",
            "./939.txt\n",
            "./84.png\n",
            "./191.png\n",
            "./185.png\n",
            "./813.png\n",
            "./722.txt\n",
            "./53.png\n",
            "./1.png\n",
            "./807.png\n",
            "./736.txt\n",
            "./47.png\n",
            "./998.png\n",
            "./31.txt\n",
            "./871.txt\n",
            "./740.png\n",
            "./25.txt\n",
            "./865.txt\n",
            "./754.png\n",
            "./695.txt\n",
            "./681.txt\n",
            "./19.txt\n",
            "./859.txt\n",
            "./768.png\n",
            "./783.png\n",
            "./118.txt\n",
            "./797.png\n",
            "./656.txt\n",
            "./967.png\n",
            "./130.txt\n",
            "./124.txt\n",
            "./642.txt\n",
            "./973.png\n",
            "./224.png\n",
            "./542.png\n",
            "./556.png\n",
            "./230.png\n",
            "./218.png\n",
            "./497.txt\n",
            "./483.txt\n",
            "./468.txt\n",
            "./581.png\n",
            "./595.png\n",
            "./332.txt\n",
            "./454.txt\n",
            "./440.txt\n",
            "./326.txt\n",
            "./441.txt\n",
            "./327.txt\n",
            "./333.txt\n",
            "./455.txt\n",
            "./594.png\n",
            "./1000.png\n",
            "./580.png\n",
            "./469.txt\n",
            "./482.txt\n",
            "./219.png\n",
            "./496.txt\n",
            "./557.png\n",
            "./231.png\n",
            "./225.png\n",
            "./543.png\n",
            "./125.txt\n",
            "./972.png\n",
            "./643.txt\n",
            "./966.png\n",
            "./657.txt\n",
            "./131.txt\n",
            "./119.txt\n",
            "./796.png\n",
            "./782.png\n",
            "./769.png\n",
            "./858.txt\n",
            "./18.txt\n",
            "./680.txt\n",
            "./694.txt\n",
            "./755.png\n",
            "./864.txt\n",
            "./24.txt\n",
            "./741.png\n",
            "./870.txt\n",
            "./30.txt\n",
            "./999.png\n",
            "./46.png\n",
            "./737.txt\n",
            "./806.png\n",
            "./52.png\n",
            "./723.txt\n",
            "./812.png\n",
            "./184.png\n",
            "./190.png\n",
            "./85.png\n",
            "./938.txt\n",
            "./91.png\n",
            "./609.png\n",
            "./147.png\n",
            "./910.txt\n",
            "./621.png\n",
            "./904.txt\n",
            "./635.png\n",
            "./153.png\n",
            "./535.txt\n",
            "./253.txt\n",
            "./247.txt\n",
            "./521.txt\n",
            "./509.txt\n",
            "./386.png\n",
            "./392.png\n",
            "./290.txt\n",
            "./379.png\n",
            "./284.txt\n",
            "./423.png\n",
            "./345.png\n",
            "./351.png\n",
            "./437.png\n"
          ]
        }
      ]
    },
    {
      "cell_type": "code",
      "source": [
        "import pandas as pd\n",
        "import torch\n",
        "import numpy as np"
      ],
      "metadata": {
        "id": "zoL9j3OeEo-m"
      },
      "execution_count": 4,
      "outputs": []
    },
    {
      "cell_type": "code",
      "source": [
        "filters = pd.read_csv('/content/extracted_files/algos.csv', header=None, index_col=False)"
      ],
      "metadata": {
        "id": "SfOdAPT6Nk4x"
      },
      "execution_count": 5,
      "outputs": []
    },
    {
      "cell_type": "code",
      "source": [
        "filter1, filter2 = filters.values"
      ],
      "metadata": {
        "id": "VRZAJOPiubv-"
      },
      "execution_count": 6,
      "outputs": []
    },
    {
      "cell_type": "code",
      "source": [
        "filters"
      ],
      "metadata": {
        "colab": {
          "base_uri": "https://localhost:8080/",
          "height": 112
        },
        "id": "Kp27Tu7gyliF",
        "outputId": "af152e4a-4a66-4d03-c74b-38133b1e8570"
      },
      "execution_count": 113,
      "outputs": [
        {
          "output_type": "execute_result",
          "data": {
            "text/plain": [
              "        0       1       2       3       4       5       6       7       8\n",
              "0 -1.0000 -0.5000  0.0000 -0.5000  0.5000  0.5000  0.0000  0.5000  1.0000\n",
              "1  0.0625  0.0625  0.0625  0.0625  0.0625  0.0625  0.0625  0.0625  0.0625"
            ],
            "text/html": [
              "\n",
              "  <div id=\"df-54b62345-2800-45dd-91af-55f622fb6b46\" class=\"colab-df-container\">\n",
              "    <div>\n",
              "<style scoped>\n",
              "    .dataframe tbody tr th:only-of-type {\n",
              "        vertical-align: middle;\n",
              "    }\n",
              "\n",
              "    .dataframe tbody tr th {\n",
              "        vertical-align: top;\n",
              "    }\n",
              "\n",
              "    .dataframe thead th {\n",
              "        text-align: right;\n",
              "    }\n",
              "</style>\n",
              "<table border=\"1\" class=\"dataframe\">\n",
              "  <thead>\n",
              "    <tr style=\"text-align: right;\">\n",
              "      <th></th>\n",
              "      <th>0</th>\n",
              "      <th>1</th>\n",
              "      <th>2</th>\n",
              "      <th>3</th>\n",
              "      <th>4</th>\n",
              "      <th>5</th>\n",
              "      <th>6</th>\n",
              "      <th>7</th>\n",
              "      <th>8</th>\n",
              "    </tr>\n",
              "  </thead>\n",
              "  <tbody>\n",
              "    <tr>\n",
              "      <th>0</th>\n",
              "      <td>-1.0000</td>\n",
              "      <td>-0.5000</td>\n",
              "      <td>0.0000</td>\n",
              "      <td>-0.5000</td>\n",
              "      <td>0.5000</td>\n",
              "      <td>0.5000</td>\n",
              "      <td>0.0000</td>\n",
              "      <td>0.5000</td>\n",
              "      <td>1.0000</td>\n",
              "    </tr>\n",
              "    <tr>\n",
              "      <th>1</th>\n",
              "      <td>0.0625</td>\n",
              "      <td>0.0625</td>\n",
              "      <td>0.0625</td>\n",
              "      <td>0.0625</td>\n",
              "      <td>0.0625</td>\n",
              "      <td>0.0625</td>\n",
              "      <td>0.0625</td>\n",
              "      <td>0.0625</td>\n",
              "      <td>0.0625</td>\n",
              "    </tr>\n",
              "  </tbody>\n",
              "</table>\n",
              "</div>\n",
              "    <div class=\"colab-df-buttons\">\n",
              "\n",
              "  <div class=\"colab-df-container\">\n",
              "    <button class=\"colab-df-convert\" onclick=\"convertToInteractive('df-54b62345-2800-45dd-91af-55f622fb6b46')\"\n",
              "            title=\"Convert this dataframe to an interactive table.\"\n",
              "            style=\"display:none;\">\n",
              "\n",
              "  <svg xmlns=\"http://www.w3.org/2000/svg\" height=\"24px\" viewBox=\"0 -960 960 960\">\n",
              "    <path d=\"M120-120v-720h720v720H120Zm60-500h600v-160H180v160Zm220 220h160v-160H400v160Zm0 220h160v-160H400v160ZM180-400h160v-160H180v160Zm440 0h160v-160H620v160ZM180-180h160v-160H180v160Zm440 0h160v-160H620v160Z\"/>\n",
              "  </svg>\n",
              "    </button>\n",
              "\n",
              "  <style>\n",
              "    .colab-df-container {\n",
              "      display:flex;\n",
              "      gap: 12px;\n",
              "    }\n",
              "\n",
              "    .colab-df-convert {\n",
              "      background-color: #E8F0FE;\n",
              "      border: none;\n",
              "      border-radius: 50%;\n",
              "      cursor: pointer;\n",
              "      display: none;\n",
              "      fill: #1967D2;\n",
              "      height: 32px;\n",
              "      padding: 0 0 0 0;\n",
              "      width: 32px;\n",
              "    }\n",
              "\n",
              "    .colab-df-convert:hover {\n",
              "      background-color: #E2EBFA;\n",
              "      box-shadow: 0px 1px 2px rgba(60, 64, 67, 0.3), 0px 1px 3px 1px rgba(60, 64, 67, 0.15);\n",
              "      fill: #174EA6;\n",
              "    }\n",
              "\n",
              "    .colab-df-buttons div {\n",
              "      margin-bottom: 4px;\n",
              "    }\n",
              "\n",
              "    [theme=dark] .colab-df-convert {\n",
              "      background-color: #3B4455;\n",
              "      fill: #D2E3FC;\n",
              "    }\n",
              "\n",
              "    [theme=dark] .colab-df-convert:hover {\n",
              "      background-color: #434B5C;\n",
              "      box-shadow: 0px 1px 3px 1px rgba(0, 0, 0, 0.15);\n",
              "      filter: drop-shadow(0px 1px 2px rgba(0, 0, 0, 0.3));\n",
              "      fill: #FFFFFF;\n",
              "    }\n",
              "  </style>\n",
              "\n",
              "    <script>\n",
              "      const buttonEl =\n",
              "        document.querySelector('#df-54b62345-2800-45dd-91af-55f622fb6b46 button.colab-df-convert');\n",
              "      buttonEl.style.display =\n",
              "        google.colab.kernel.accessAllowed ? 'block' : 'none';\n",
              "\n",
              "      async function convertToInteractive(key) {\n",
              "        const element = document.querySelector('#df-54b62345-2800-45dd-91af-55f622fb6b46');\n",
              "        const dataTable =\n",
              "          await google.colab.kernel.invokeFunction('convertToInteractive',\n",
              "                                                    [key], {});\n",
              "        if (!dataTable) return;\n",
              "\n",
              "        const docLinkHtml = 'Like what you see? Visit the ' +\n",
              "          '<a target=\"_blank\" href=https://colab.research.google.com/notebooks/data_table.ipynb>data table notebook</a>'\n",
              "          + ' to learn more about interactive tables.';\n",
              "        element.innerHTML = '';\n",
              "        dataTable['output_type'] = 'display_data';\n",
              "        await google.colab.output.renderOutput(dataTable, element);\n",
              "        const docLink = document.createElement('div');\n",
              "        docLink.innerHTML = docLinkHtml;\n",
              "        element.appendChild(docLink);\n",
              "      }\n",
              "    </script>\n",
              "  </div>\n",
              "\n",
              "\n",
              "    <div id=\"df-b5945cab-d0b1-4504-b184-132261c485c7\">\n",
              "      <button class=\"colab-df-quickchart\" onclick=\"quickchart('df-b5945cab-d0b1-4504-b184-132261c485c7')\"\n",
              "                title=\"Suggest charts\"\n",
              "                style=\"display:none;\">\n",
              "\n",
              "<svg xmlns=\"http://www.w3.org/2000/svg\" height=\"24px\"viewBox=\"0 0 24 24\"\n",
              "     width=\"24px\">\n",
              "    <g>\n",
              "        <path d=\"M19 3H5c-1.1 0-2 .9-2 2v14c0 1.1.9 2 2 2h14c1.1 0 2-.9 2-2V5c0-1.1-.9-2-2-2zM9 17H7v-7h2v7zm4 0h-2V7h2v10zm4 0h-2v-4h2v4z\"/>\n",
              "    </g>\n",
              "</svg>\n",
              "      </button>\n",
              "\n",
              "<style>\n",
              "  .colab-df-quickchart {\n",
              "      --bg-color: #E8F0FE;\n",
              "      --fill-color: #1967D2;\n",
              "      --hover-bg-color: #E2EBFA;\n",
              "      --hover-fill-color: #174EA6;\n",
              "      --disabled-fill-color: #AAA;\n",
              "      --disabled-bg-color: #DDD;\n",
              "  }\n",
              "\n",
              "  [theme=dark] .colab-df-quickchart {\n",
              "      --bg-color: #3B4455;\n",
              "      --fill-color: #D2E3FC;\n",
              "      --hover-bg-color: #434B5C;\n",
              "      --hover-fill-color: #FFFFFF;\n",
              "      --disabled-bg-color: #3B4455;\n",
              "      --disabled-fill-color: #666;\n",
              "  }\n",
              "\n",
              "  .colab-df-quickchart {\n",
              "    background-color: var(--bg-color);\n",
              "    border: none;\n",
              "    border-radius: 50%;\n",
              "    cursor: pointer;\n",
              "    display: none;\n",
              "    fill: var(--fill-color);\n",
              "    height: 32px;\n",
              "    padding: 0;\n",
              "    width: 32px;\n",
              "  }\n",
              "\n",
              "  .colab-df-quickchart:hover {\n",
              "    background-color: var(--hover-bg-color);\n",
              "    box-shadow: 0 1px 2px rgba(60, 64, 67, 0.3), 0 1px 3px 1px rgba(60, 64, 67, 0.15);\n",
              "    fill: var(--button-hover-fill-color);\n",
              "  }\n",
              "\n",
              "  .colab-df-quickchart-complete:disabled,\n",
              "  .colab-df-quickchart-complete:disabled:hover {\n",
              "    background-color: var(--disabled-bg-color);\n",
              "    fill: var(--disabled-fill-color);\n",
              "    box-shadow: none;\n",
              "  }\n",
              "\n",
              "  .colab-df-spinner {\n",
              "    border: 2px solid var(--fill-color);\n",
              "    border-color: transparent;\n",
              "    border-bottom-color: var(--fill-color);\n",
              "    animation:\n",
              "      spin 1s steps(1) infinite;\n",
              "  }\n",
              "\n",
              "  @keyframes spin {\n",
              "    0% {\n",
              "      border-color: transparent;\n",
              "      border-bottom-color: var(--fill-color);\n",
              "      border-left-color: var(--fill-color);\n",
              "    }\n",
              "    20% {\n",
              "      border-color: transparent;\n",
              "      border-left-color: var(--fill-color);\n",
              "      border-top-color: var(--fill-color);\n",
              "    }\n",
              "    30% {\n",
              "      border-color: transparent;\n",
              "      border-left-color: var(--fill-color);\n",
              "      border-top-color: var(--fill-color);\n",
              "      border-right-color: var(--fill-color);\n",
              "    }\n",
              "    40% {\n",
              "      border-color: transparent;\n",
              "      border-right-color: var(--fill-color);\n",
              "      border-top-color: var(--fill-color);\n",
              "    }\n",
              "    60% {\n",
              "      border-color: transparent;\n",
              "      border-right-color: var(--fill-color);\n",
              "    }\n",
              "    80% {\n",
              "      border-color: transparent;\n",
              "      border-right-color: var(--fill-color);\n",
              "      border-bottom-color: var(--fill-color);\n",
              "    }\n",
              "    90% {\n",
              "      border-color: transparent;\n",
              "      border-bottom-color: var(--fill-color);\n",
              "    }\n",
              "  }\n",
              "</style>\n",
              "\n",
              "      <script>\n",
              "        async function quickchart(key) {\n",
              "          const quickchartButtonEl =\n",
              "            document.querySelector('#' + key + ' button');\n",
              "          quickchartButtonEl.disabled = true;  // To prevent multiple clicks.\n",
              "          quickchartButtonEl.classList.add('colab-df-spinner');\n",
              "          try {\n",
              "            const charts = await google.colab.kernel.invokeFunction(\n",
              "                'suggestCharts', [key], {});\n",
              "          } catch (error) {\n",
              "            console.error('Error during call to suggestCharts:', error);\n",
              "          }\n",
              "          quickchartButtonEl.classList.remove('colab-df-spinner');\n",
              "          quickchartButtonEl.classList.add('colab-df-quickchart-complete');\n",
              "        }\n",
              "        (() => {\n",
              "          let quickchartButtonEl =\n",
              "            document.querySelector('#df-b5945cab-d0b1-4504-b184-132261c485c7 button');\n",
              "          quickchartButtonEl.style.display =\n",
              "            google.colab.kernel.accessAllowed ? 'block' : 'none';\n",
              "        })();\n",
              "      </script>\n",
              "    </div>\n",
              "    </div>\n",
              "  </div>\n"
            ],
            "application/vnd.google.colaboratory.intrinsic+json": {
              "type": "dataframe",
              "variable_name": "filters",
              "summary": "{\n  \"name\": \"filters\",\n  \"rows\": 2,\n  \"fields\": [\n    {\n      \"column\": 0,\n      \"properties\": {\n        \"dtype\": \"number\",\n        \"std\": 0.7513009550107067,\n        \"min\": -1.0,\n        \"max\": 0.0625,\n        \"num_unique_values\": 2,\n        \"samples\": [\n          0.0625,\n          -1.0\n        ],\n        \"semantic_type\": \"\",\n        \"description\": \"\"\n      }\n    },\n    {\n      \"column\": 1,\n      \"properties\": {\n        \"dtype\": \"number\",\n        \"std\": 0.397747564417433,\n        \"min\": -0.5,\n        \"max\": 0.0625,\n        \"num_unique_values\": 2,\n        \"samples\": [\n          0.0625,\n          -0.5\n        ],\n        \"semantic_type\": \"\",\n        \"description\": \"\"\n      }\n    },\n    {\n      \"column\": 2,\n      \"properties\": {\n        \"dtype\": \"number\",\n        \"std\": 0.04419417382415922,\n        \"min\": 0.0,\n        \"max\": 0.0625,\n        \"num_unique_values\": 2,\n        \"samples\": [\n          0.0625,\n          0.0\n        ],\n        \"semantic_type\": \"\",\n        \"description\": \"\"\n      }\n    },\n    {\n      \"column\": 3,\n      \"properties\": {\n        \"dtype\": \"number\",\n        \"std\": 0.397747564417433,\n        \"min\": -0.5,\n        \"max\": 0.0625,\n        \"num_unique_values\": 2,\n        \"samples\": [\n          0.0625,\n          -0.5\n        ],\n        \"semantic_type\": \"\",\n        \"description\": \"\"\n      }\n    },\n    {\n      \"column\": 4,\n      \"properties\": {\n        \"dtype\": \"number\",\n        \"std\": 0.30935921676911454,\n        \"min\": 0.0625,\n        \"max\": 0.5,\n        \"num_unique_values\": 2,\n        \"samples\": [\n          0.0625,\n          0.5\n        ],\n        \"semantic_type\": \"\",\n        \"description\": \"\"\n      }\n    },\n    {\n      \"column\": 5,\n      \"properties\": {\n        \"dtype\": \"number\",\n        \"std\": 0.30935921676911454,\n        \"min\": 0.0625,\n        \"max\": 0.5,\n        \"num_unique_values\": 2,\n        \"samples\": [\n          0.0625,\n          0.5\n        ],\n        \"semantic_type\": \"\",\n        \"description\": \"\"\n      }\n    },\n    {\n      \"column\": 6,\n      \"properties\": {\n        \"dtype\": \"number\",\n        \"std\": 0.04419417382415922,\n        \"min\": 0.0,\n        \"max\": 0.0625,\n        \"num_unique_values\": 2,\n        \"samples\": [\n          0.0625,\n          0.0\n        ],\n        \"semantic_type\": \"\",\n        \"description\": \"\"\n      }\n    },\n    {\n      \"column\": 7,\n      \"properties\": {\n        \"dtype\": \"number\",\n        \"std\": 0.30935921676911454,\n        \"min\": 0.0625,\n        \"max\": 0.5,\n        \"num_unique_values\": 2,\n        \"samples\": [\n          0.0625,\n          0.5\n        ],\n        \"semantic_type\": \"\",\n        \"description\": \"\"\n      }\n    },\n    {\n      \"column\": 8,\n      \"properties\": {\n        \"dtype\": \"number\",\n        \"std\": 0.6629126073623883,\n        \"min\": 0.0625,\n        \"max\": 1.0,\n        \"num_unique_values\": 2,\n        \"samples\": [\n          0.0625,\n          1.0\n        ],\n        \"semantic_type\": \"\",\n        \"description\": \"\"\n      }\n    }\n  ]\n}"
            }
          },
          "metadata": {},
          "execution_count": 113
        }
      ]
    },
    {
      "cell_type": "markdown",
      "source": [
        "Data preparing"
      ],
      "metadata": {
        "id": "ztMLY-aXNyPJ"
      }
    },
    {
      "cell_type": "code",
      "source": [
        "from PIL import Image\n",
        "from torch.utils.data import Dataset\n",
        "import io\n",
        "\n",
        "class ImageDataset(Dataset):\n",
        "  def __init__(self, data_dir):\n",
        "    self.data_dir = data_dir\n",
        "\n",
        "    data, target = list(), list()\n",
        "    for i in range(1, 1001):\n",
        "      img_path = f\"{self.data_dir}/{i}.png\"\n",
        "      data.append(torch.tensor(np.array(Image.open(img_path))).unsqueeze(0))\n",
        "\n",
        "      with open(f'{self.data_dir}/{i}.txt', 'r') as file:\n",
        "        string_data = file.read()\n",
        "        converted_data = np.genfromtxt(io.StringIO(string_data), delimiter=' ', dtype=\"float32\")\n",
        "        target.append(torch.tensor(converted_data).unsqueeze(0))\n",
        "\n",
        "\n",
        "    self.target = torch.tensor(np.array(target), dtype=torch.float32)\n",
        "    self.data = torch.tensor(np.array(data), dtype=torch.float32)\n",
        "\n",
        "\n",
        "  def __len__(self):\n",
        "    return self.data.shape[0]\n",
        "\n",
        "  def __getitem__(self, index):\n",
        "    return self.data[index], self.target[index]"
      ],
      "metadata": {
        "id": "JKPkzebBPl8n"
      },
      "execution_count": 10,
      "outputs": []
    },
    {
      "cell_type": "code",
      "source": [
        "dataset = ImageDataset(\"/content/extracted_files\")"
      ],
      "metadata": {
        "id": "11eptrQsbNTs"
      },
      "execution_count": 11,
      "outputs": []
    },
    {
      "cell_type": "code",
      "source": [
        "from torch.utils.data import DataLoader\n",
        "from torch.utils.data import random_split\n",
        "\n",
        "train_ratio = 0.9\n",
        "train_size = int(len(dataset) * train_ratio)\n",
        "test_size = len(dataset) - train_size\n",
        "train_dataset, test_dataaset = random_split(dataset, [train_size, test_size])\n",
        "\n",
        "\n",
        "train_dataloader = DataLoader(dataset=train_dataset, batch_size=32, shuffle=True)\n",
        "test_dataloader = DataLoader(dataset=test_dataaset, batch_size=32, shuffle=True)"
      ],
      "metadata": {
        "id": "mAyZ9iXNcfmO"
      },
      "execution_count": 13,
      "outputs": []
    },
    {
      "cell_type": "code",
      "source": [
        "from torch import nn\n",
        "class Net(nn.Module):\n",
        "  def __init__(self, filter1, filter2):\n",
        "    super(Net, self).__init__()\n",
        "\n",
        "    self.conv1 = nn.Conv2d(in_channels=1, out_channels=1, kernel_size=3, padding=1, bias=False)\n",
        "    self.conv2 = nn.Conv2d(in_channels=1, out_channels=1, kernel_size=3, padding=1, bias=False)\n",
        "    self.conv3 = nn.Conv2d(in_channels=1, out_channels=1, kernel_size=3, padding=1, bias=False)\n",
        "\n",
        "    with torch.no_grad():\n",
        "      weights1 = torch.zeros(1, 1, 3, 3)\n",
        "      weights1[0, 0] = torch.tensor(filter1.reshape(3, 3))\n",
        "\n",
        "      self.conv1.weight.data = weights1\n",
        "\n",
        "      weights2 = torch.zeros(1, 1, 3, 3)\n",
        "      weights2[0, 0] = torch.tensor(filter2.reshape(3, 3))\n",
        "\n",
        "      self.conv2.weight.data = weights2\n",
        "\n",
        "    self.conv1.weight.requires_grad = False\n",
        "    self.conv2.weight.requires_grad = False\n",
        "\n",
        "\n",
        "  def forward(self, x):\n",
        "    x = self.conv2(x)\n",
        "    x = self.conv3(x)\n",
        "    x = self.conv1(x)\n",
        "    return x\n"
      ],
      "metadata": {
        "id": "QMj5x974gZ2q"
      },
      "execution_count": 63,
      "outputs": []
    },
    {
      "cell_type": "code",
      "source": [
        "net = Net(filter1, filter2)"
      ],
      "metadata": {
        "id": "ez1P1eIDh8K4"
      },
      "execution_count": 64,
      "outputs": []
    },
    {
      "cell_type": "code",
      "source": [
        "import torch.optim as optim\n",
        "from tqdm import tqdm\n",
        "\n",
        "criterion = nn.MSELoss()\n",
        "optimizer = optim.Adam(net.parameters(), lr=0.0001)\n",
        "\n",
        "num_epochs = 400\n",
        "\n",
        "for epoch in range(num_epochs):\n",
        "  net.train()\n",
        "\n",
        "  running_loss = 0\n",
        "  correct = 0\n",
        "  total = 0\n",
        "  train_loop = tqdm(train_dataloader,desc=f\"Epoch {epoch+1}/{num_epochs} [Train]\")\n",
        "\n",
        "  for images, targets in train_loop:\n",
        "    optimizer.zero_grad()\n",
        "\n",
        "    outputs = net(images)\n",
        "\n",
        "    loss = criterion(outputs, targets)\n",
        "\n",
        "    loss.backward()\n",
        "    optimizer.step()\n",
        "\n",
        "\n",
        "    running_loss += loss.item()\n",
        "    _, predicted = torch.max(outputs.data, 1)\n",
        "    total += targets.size(0)\n",
        "    correct += (predicted == targets).sum().item()\n",
        "\n",
        "    train_loop.set_postfix(loss=loss.item(), acc=correct/total)\n",
        "\n",
        "\n",
        "  net.eval()\n",
        "  val_loss = 0.0\n",
        "  val_correct = 0\n",
        "  val_total = 0\n",
        "\n",
        "  with torch.no_grad():\n",
        "      val_loop = tqdm(test_dataloader, desc=f\"Epoch {epoch+1}/{num_epochs} [Val]\")\n",
        "      for images, labels in val_loop:\n",
        "          outputs = net(images)\n",
        "          loss = criterion(outputs, labels)\n",
        "\n",
        "          val_loss += loss.item()\n",
        "          _, predicted = torch.max(outputs.data, 1)\n",
        "          val_total += labels.size(0)\n",
        "          val_correct += (predicted == labels).sum().item()\n",
        "\n",
        "          val_loop.set_postfix(loss=loss.item(), acc=val_correct/val_total)\n",
        "\n",
        "  # Вывод статистики по эпохе\n",
        "  print(f\"\\nEpoch {epoch+1} Summary:\")\n",
        "  print(f\"Train Loss: {running_loss/len(train_dataloader):.4f} | Acc: {100*correct/total:.2f}%\")\n",
        "  print(f\"Val Loss: {val_loss/len(test_dataloader):.4f} | Acc: {100*val_correct/val_total:.2f}%\\n\")\n"
      ],
      "metadata": {
        "colab": {
          "base_uri": "https://localhost:8080/"
        },
        "id": "REUwuAZsu_9U",
        "outputId": "fd8bd7db-e408-4f7c-d097-8ca353525055"
      },
      "execution_count": 71,
      "outputs": [
        {
          "output_type": "stream",
          "name": "stderr",
          "text": [
            "Epoch 1/100 [Train]: 100%|██████████| 29/29 [00:01<00:00, 20.88it/s, acc=41.2, loss=0.000226]\n",
            "Epoch 1/100 [Val]: 100%|██████████| 4/4 [00:00<00:00, 32.10it/s, acc=3.52, loss=0.000344]\n"
          ]
        },
        {
          "output_type": "stream",
          "name": "stdout",
          "text": [
            "\n",
            "Epoch 1 Summary:\n",
            "Train Loss: 0.0005 | Acc: 4124.44%\n",
            "Val Loss: 0.0003 | Acc: 352.00%\n",
            "\n"
          ]
        },
        {
          "output_type": "stream",
          "name": "stderr",
          "text": [
            "Epoch 2/100 [Train]: 100%|██████████| 29/29 [00:01<00:00, 20.89it/s, acc=41.2, loss=0.000177]\n",
            "Epoch 2/100 [Val]: 100%|██████████| 4/4 [00:00<00:00, 30.66it/s, acc=2.96, loss=0.000195]\n"
          ]
        },
        {
          "output_type": "stream",
          "name": "stdout",
          "text": [
            "\n",
            "Epoch 2 Summary:\n",
            "Train Loss: 0.0003 | Acc: 4124.44%\n",
            "Val Loss: 0.0003 | Acc: 296.00%\n",
            "\n"
          ]
        },
        {
          "output_type": "stream",
          "name": "stderr",
          "text": [
            "Epoch 3/100 [Train]: 100%|██████████| 29/29 [00:01<00:00, 21.06it/s, acc=41.2, loss=0.000348]\n",
            "Epoch 3/100 [Val]: 100%|██████████| 4/4 [00:00<00:00, 30.43it/s, acc=3.52, loss=0.000405]\n"
          ]
        },
        {
          "output_type": "stream",
          "name": "stdout",
          "text": [
            "\n",
            "Epoch 3 Summary:\n",
            "Train Loss: 0.0003 | Acc: 4124.44%\n",
            "Val Loss: 0.0003 | Acc: 352.00%\n",
            "\n"
          ]
        },
        {
          "output_type": "stream",
          "name": "stderr",
          "text": [
            "Epoch 4/100 [Train]: 100%|██████████| 29/29 [00:01<00:00, 21.13it/s, acc=41.2, loss=0.00024]\n",
            "Epoch 4/100 [Val]: 100%|██████████| 4/4 [00:00<00:00, 32.91it/s, acc=3.52, loss=0.000253]\n"
          ]
        },
        {
          "output_type": "stream",
          "name": "stdout",
          "text": [
            "\n",
            "Epoch 4 Summary:\n",
            "Train Loss: 0.0003 | Acc: 4124.44%\n",
            "Val Loss: 0.0003 | Acc: 352.00%\n",
            "\n"
          ]
        },
        {
          "output_type": "stream",
          "name": "stderr",
          "text": [
            "Epoch 5/100 [Train]: 100%|██████████| 29/29 [00:01<00:00, 21.20it/s, acc=41.2, loss=0.000138]\n",
            "Epoch 5/100 [Val]: 100%|██████████| 4/4 [00:00<00:00, 31.87it/s, acc=3.52, loss=0.000383]\n"
          ]
        },
        {
          "output_type": "stream",
          "name": "stdout",
          "text": [
            "\n",
            "Epoch 5 Summary:\n",
            "Train Loss: 0.0003 | Acc: 4124.44%\n",
            "Val Loss: 0.0003 | Acc: 352.00%\n",
            "\n"
          ]
        },
        {
          "output_type": "stream",
          "name": "stderr",
          "text": [
            "Epoch 6/100 [Train]: 100%|██████████| 29/29 [00:01<00:00, 20.97it/s, acc=41.2, loss=0.000389]\n",
            "Epoch 6/100 [Val]: 100%|██████████| 4/4 [00:00<00:00, 32.73it/s, acc=2.96, loss=0.000181]\n"
          ]
        },
        {
          "output_type": "stream",
          "name": "stdout",
          "text": [
            "\n",
            "Epoch 6 Summary:\n",
            "Train Loss: 0.0003 | Acc: 4118.22%\n",
            "Val Loss: 0.0003 | Acc: 296.00%\n",
            "\n"
          ]
        },
        {
          "output_type": "stream",
          "name": "stderr",
          "text": [
            "Epoch 7/100 [Train]: 100%|██████████| 29/29 [00:01<00:00, 18.69it/s, acc=41.2, loss=0.00023]\n",
            "Epoch 7/100 [Val]: 100%|██████████| 4/4 [00:00<00:00, 22.39it/s, acc=2.96, loss=0.0002]\n"
          ]
        },
        {
          "output_type": "stream",
          "name": "stdout",
          "text": [
            "\n",
            "Epoch 7 Summary:\n",
            "Train Loss: 0.0003 | Acc: 4124.44%\n",
            "Val Loss: 0.0003 | Acc: 296.00%\n",
            "\n"
          ]
        },
        {
          "output_type": "stream",
          "name": "stderr",
          "text": [
            "Epoch 8/100 [Train]: 100%|██████████| 29/29 [00:01<00:00, 15.17it/s, acc=41.2, loss=0.00039]\n",
            "Epoch 8/100 [Val]: 100%|██████████| 4/4 [00:00<00:00, 32.99it/s, acc=3.52, loss=0.000259]\n"
          ]
        },
        {
          "output_type": "stream",
          "name": "stdout",
          "text": [
            "\n",
            "Epoch 8 Summary:\n",
            "Train Loss: 0.0003 | Acc: 4124.44%\n",
            "Val Loss: 0.0003 | Acc: 352.00%\n",
            "\n"
          ]
        },
        {
          "output_type": "stream",
          "name": "stderr",
          "text": [
            "Epoch 9/100 [Train]: 100%|██████████| 29/29 [00:01<00:00, 21.02it/s, acc=41.2, loss=0.000357]\n",
            "Epoch 9/100 [Val]: 100%|██████████| 4/4 [00:00<00:00, 33.04it/s, acc=3.52, loss=0.000148]\n"
          ]
        },
        {
          "output_type": "stream",
          "name": "stdout",
          "text": [
            "\n",
            "Epoch 9 Summary:\n",
            "Train Loss: 0.0003 | Acc: 4124.44%\n",
            "Val Loss: 0.0003 | Acc: 352.00%\n",
            "\n"
          ]
        },
        {
          "output_type": "stream",
          "name": "stderr",
          "text": [
            "Epoch 10/100 [Train]: 100%|██████████| 29/29 [00:01<00:00, 21.47it/s, acc=41.2, loss=0.000315]\n",
            "Epoch 10/100 [Val]: 100%|██████████| 4/4 [00:00<00:00, 34.10it/s, acc=3.52, loss=0.000189]\n"
          ]
        },
        {
          "output_type": "stream",
          "name": "stdout",
          "text": [
            "\n",
            "Epoch 10 Summary:\n",
            "Train Loss: 0.0003 | Acc: 4121.33%\n",
            "Val Loss: 0.0003 | Acc: 352.00%\n",
            "\n"
          ]
        },
        {
          "output_type": "stream",
          "name": "stderr",
          "text": [
            "Epoch 11/100 [Train]: 100%|██████████| 29/29 [00:01<00:00, 21.22it/s, acc=41.2, loss=0.000288]\n",
            "Epoch 11/100 [Val]: 100%|██████████| 4/4 [00:00<00:00, 32.64it/s, acc=2.96, loss=0.000426]\n"
          ]
        },
        {
          "output_type": "stream",
          "name": "stdout",
          "text": [
            "\n",
            "Epoch 11 Summary:\n",
            "Train Loss: 0.0003 | Acc: 4121.33%\n",
            "Val Loss: 0.0003 | Acc: 296.00%\n",
            "\n"
          ]
        },
        {
          "output_type": "stream",
          "name": "stderr",
          "text": [
            "Epoch 12/100 [Train]: 100%|██████████| 29/29 [00:01<00:00, 20.97it/s, acc=41.2, loss=0.000319]\n",
            "Epoch 12/100 [Val]: 100%|██████████| 4/4 [00:00<00:00, 32.83it/s, acc=3.24, loss=0.000379]\n"
          ]
        },
        {
          "output_type": "stream",
          "name": "stdout",
          "text": [
            "\n",
            "Epoch 12 Summary:\n",
            "Train Loss: 0.0003 | Acc: 4124.44%\n",
            "Val Loss: 0.0003 | Acc: 324.00%\n",
            "\n"
          ]
        },
        {
          "output_type": "stream",
          "name": "stderr",
          "text": [
            "Epoch 13/100 [Train]: 100%|██████████| 29/29 [00:01<00:00, 21.04it/s, acc=41.2, loss=0.000308]\n",
            "Epoch 13/100 [Val]: 100%|██████████| 4/4 [00:00<00:00, 33.56it/s, acc=3.52, loss=0.000258]\n"
          ]
        },
        {
          "output_type": "stream",
          "name": "stdout",
          "text": [
            "\n",
            "Epoch 13 Summary:\n",
            "Train Loss: 0.0003 | Acc: 4124.44%\n",
            "Val Loss: 0.0003 | Acc: 352.00%\n",
            "\n"
          ]
        },
        {
          "output_type": "stream",
          "name": "stderr",
          "text": [
            "Epoch 14/100 [Train]: 100%|██████████| 29/29 [00:01<00:00, 21.08it/s, acc=41.2, loss=0.000339]\n",
            "Epoch 14/100 [Val]: 100%|██████████| 4/4 [00:00<00:00, 33.98it/s, acc=3.52, loss=0.000298]\n"
          ]
        },
        {
          "output_type": "stream",
          "name": "stdout",
          "text": [
            "\n",
            "Epoch 14 Summary:\n",
            "Train Loss: 0.0003 | Acc: 4124.44%\n",
            "Val Loss: 0.0003 | Acc: 352.00%\n",
            "\n"
          ]
        },
        {
          "output_type": "stream",
          "name": "stderr",
          "text": [
            "Epoch 15/100 [Train]: 100%|██████████| 29/29 [00:01<00:00, 17.38it/s, acc=41.2, loss=8.93e-5]\n",
            "Epoch 15/100 [Val]: 100%|██████████| 4/4 [00:00<00:00, 25.52it/s, acc=3.52, loss=0.000331]\n"
          ]
        },
        {
          "output_type": "stream",
          "name": "stdout",
          "text": [
            "\n",
            "Epoch 15 Summary:\n",
            "Train Loss: 0.0002 | Acc: 4124.44%\n",
            "Val Loss: 0.0003 | Acc: 352.00%\n",
            "\n"
          ]
        },
        {
          "output_type": "stream",
          "name": "stderr",
          "text": [
            "Epoch 16/100 [Train]: 100%|██████████| 29/29 [00:01<00:00, 16.15it/s, acc=41.2, loss=0.000211]\n",
            "Epoch 16/100 [Val]: 100%|██████████| 4/4 [00:00<00:00, 32.53it/s, acc=3.24, loss=0.00029]\n"
          ]
        },
        {
          "output_type": "stream",
          "name": "stdout",
          "text": [
            "\n",
            "Epoch 16 Summary:\n",
            "Train Loss: 0.0002 | Acc: 4121.33%\n",
            "Val Loss: 0.0003 | Acc: 324.00%\n",
            "\n"
          ]
        },
        {
          "output_type": "stream",
          "name": "stderr",
          "text": [
            "Epoch 17/100 [Train]: 100%|██████████| 29/29 [00:01<00:00, 21.45it/s, acc=41.2, loss=0.000243]\n",
            "Epoch 17/100 [Val]: 100%|██████████| 4/4 [00:00<00:00, 32.86it/s, acc=3.24, loss=0.000201]\n"
          ]
        },
        {
          "output_type": "stream",
          "name": "stdout",
          "text": [
            "\n",
            "Epoch 17 Summary:\n",
            "Train Loss: 0.0002 | Acc: 4121.33%\n",
            "Val Loss: 0.0002 | Acc: 324.00%\n",
            "\n"
          ]
        },
        {
          "output_type": "stream",
          "name": "stderr",
          "text": [
            "Epoch 18/100 [Train]: 100%|██████████| 29/29 [00:01<00:00, 20.32it/s, acc=41.2, loss=0.000172]\n",
            "Epoch 18/100 [Val]: 100%|██████████| 4/4 [00:00<00:00, 28.08it/s, acc=3.24, loss=0.00034]\n"
          ]
        },
        {
          "output_type": "stream",
          "name": "stdout",
          "text": [
            "\n",
            "Epoch 18 Summary:\n",
            "Train Loss: 0.0002 | Acc: 4124.44%\n",
            "Val Loss: 0.0003 | Acc: 324.00%\n",
            "\n"
          ]
        },
        {
          "output_type": "stream",
          "name": "stderr",
          "text": [
            "Epoch 19/100 [Train]: 100%|██████████| 29/29 [00:01<00:00, 20.97it/s, acc=41.2, loss=0.000212]\n",
            "Epoch 19/100 [Val]: 100%|██████████| 4/4 [00:00<00:00, 33.44it/s, acc=3.52, loss=0.000216]\n"
          ]
        },
        {
          "output_type": "stream",
          "name": "stdout",
          "text": [
            "\n",
            "Epoch 19 Summary:\n",
            "Train Loss: 0.0002 | Acc: 4124.44%\n",
            "Val Loss: 0.0002 | Acc: 352.00%\n",
            "\n"
          ]
        },
        {
          "output_type": "stream",
          "name": "stderr",
          "text": [
            "Epoch 20/100 [Train]: 100%|██████████| 29/29 [00:01<00:00, 21.39it/s, acc=41.2, loss=0.000161]\n",
            "Epoch 20/100 [Val]: 100%|██████████| 4/4 [00:00<00:00, 30.77it/s, acc=3.52, loss=0.000218]\n"
          ]
        },
        {
          "output_type": "stream",
          "name": "stdout",
          "text": [
            "\n",
            "Epoch 20 Summary:\n",
            "Train Loss: 0.0002 | Acc: 4124.44%\n",
            "Val Loss: 0.0002 | Acc: 352.00%\n",
            "\n"
          ]
        },
        {
          "output_type": "stream",
          "name": "stderr",
          "text": [
            "Epoch 21/100 [Train]: 100%|██████████| 29/29 [00:01<00:00, 20.79it/s, acc=41.2, loss=0.000207]\n",
            "Epoch 21/100 [Val]: 100%|██████████| 4/4 [00:00<00:00, 30.29it/s, acc=2.96, loss=0.000198]\n"
          ]
        },
        {
          "output_type": "stream",
          "name": "stdout",
          "text": [
            "\n",
            "Epoch 21 Summary:\n",
            "Train Loss: 0.0002 | Acc: 4124.44%\n",
            "Val Loss: 0.0002 | Acc: 296.00%\n",
            "\n"
          ]
        },
        {
          "output_type": "stream",
          "name": "stderr",
          "text": [
            "Epoch 22/100 [Train]: 100%|██████████| 29/29 [00:01<00:00, 21.17it/s, acc=41.2, loss=0.000183]\n",
            "Epoch 22/100 [Val]: 100%|██████████| 4/4 [00:00<00:00, 32.38it/s, acc=3.52, loss=0.000165]\n"
          ]
        },
        {
          "output_type": "stream",
          "name": "stdout",
          "text": [
            "\n",
            "Epoch 22 Summary:\n",
            "Train Loss: 0.0002 | Acc: 4121.33%\n",
            "Val Loss: 0.0002 | Acc: 352.00%\n",
            "\n"
          ]
        },
        {
          "output_type": "stream",
          "name": "stderr",
          "text": [
            "Epoch 23/100 [Train]: 100%|██████████| 29/29 [00:01<00:00, 16.88it/s, acc=41.2, loss=0.000172]\n",
            "Epoch 23/100 [Val]: 100%|██████████| 4/4 [00:00<00:00, 25.76it/s, acc=2.96, loss=0.000324]\n"
          ]
        },
        {
          "output_type": "stream",
          "name": "stdout",
          "text": [
            "\n",
            "Epoch 23 Summary:\n",
            "Train Loss: 0.0002 | Acc: 4124.44%\n",
            "Val Loss: 0.0002 | Acc: 296.00%\n",
            "\n"
          ]
        },
        {
          "output_type": "stream",
          "name": "stderr",
          "text": [
            "Epoch 24/100 [Train]: 100%|██████████| 29/29 [00:01<00:00, 16.77it/s, acc=41.2, loss=0.000117]\n",
            "Epoch 24/100 [Val]: 100%|██████████| 4/4 [00:00<00:00, 33.17it/s, acc=3.52, loss=0.000228]\n"
          ]
        },
        {
          "output_type": "stream",
          "name": "stdout",
          "text": [
            "\n",
            "Epoch 24 Summary:\n",
            "Train Loss: 0.0002 | Acc: 4124.44%\n",
            "Val Loss: 0.0002 | Acc: 352.00%\n",
            "\n"
          ]
        },
        {
          "output_type": "stream",
          "name": "stderr",
          "text": [
            "Epoch 25/100 [Train]: 100%|██████████| 29/29 [00:01<00:00, 21.39it/s, acc=41.2, loss=0.000362]\n",
            "Epoch 25/100 [Val]: 100%|██████████| 4/4 [00:00<00:00, 33.93it/s, acc=2.68, loss=0.000134]\n"
          ]
        },
        {
          "output_type": "stream",
          "name": "stdout",
          "text": [
            "\n",
            "Epoch 25 Summary:\n",
            "Train Loss: 0.0002 | Acc: 4124.44%\n",
            "Val Loss: 0.0002 | Acc: 268.00%\n",
            "\n"
          ]
        },
        {
          "output_type": "stream",
          "name": "stderr",
          "text": [
            "Epoch 26/100 [Train]: 100%|██████████| 29/29 [00:01<00:00, 21.38it/s, acc=41.2, loss=0.000125]\n",
            "Epoch 26/100 [Val]: 100%|██████████| 4/4 [00:00<00:00, 32.53it/s, acc=3.52, loss=0.000225]\n"
          ]
        },
        {
          "output_type": "stream",
          "name": "stdout",
          "text": [
            "\n",
            "Epoch 26 Summary:\n",
            "Train Loss: 0.0002 | Acc: 4124.44%\n",
            "Val Loss: 0.0002 | Acc: 352.00%\n",
            "\n"
          ]
        },
        {
          "output_type": "stream",
          "name": "stderr",
          "text": [
            "Epoch 27/100 [Train]: 100%|██████████| 29/29 [00:01<00:00, 21.23it/s, acc=41.2, loss=0.000142]\n",
            "Epoch 27/100 [Val]: 100%|██████████| 4/4 [00:00<00:00, 34.28it/s, acc=3.52, loss=0.000209]\n"
          ]
        },
        {
          "output_type": "stream",
          "name": "stdout",
          "text": [
            "\n",
            "Epoch 27 Summary:\n",
            "Train Loss: 0.0002 | Acc: 4121.33%\n",
            "Val Loss: 0.0002 | Acc: 352.00%\n",
            "\n"
          ]
        },
        {
          "output_type": "stream",
          "name": "stderr",
          "text": [
            "Epoch 28/100 [Train]: 100%|██████████| 29/29 [00:01<00:00, 21.03it/s, acc=41.2, loss=0.000109]\n",
            "Epoch 28/100 [Val]: 100%|██████████| 4/4 [00:00<00:00, 33.50it/s, acc=3.52, loss=0.00032]\n"
          ]
        },
        {
          "output_type": "stream",
          "name": "stdout",
          "text": [
            "\n",
            "Epoch 28 Summary:\n",
            "Train Loss: 0.0002 | Acc: 4124.44%\n",
            "Val Loss: 0.0002 | Acc: 352.00%\n",
            "\n"
          ]
        },
        {
          "output_type": "stream",
          "name": "stderr",
          "text": [
            "Epoch 29/100 [Train]: 100%|██████████| 29/29 [00:01<00:00, 21.55it/s, acc=41.2, loss=0.000222]\n",
            "Epoch 29/100 [Val]: 100%|██████████| 4/4 [00:00<00:00, 32.22it/s, acc=3.52, loss=0.000204]\n"
          ]
        },
        {
          "output_type": "stream",
          "name": "stdout",
          "text": [
            "\n",
            "Epoch 29 Summary:\n",
            "Train Loss: 0.0002 | Acc: 4124.44%\n",
            "Val Loss: 0.0002 | Acc: 352.00%\n",
            "\n"
          ]
        },
        {
          "output_type": "stream",
          "name": "stderr",
          "text": [
            "Epoch 30/100 [Train]: 100%|██████████| 29/29 [00:01<00:00, 21.54it/s, acc=41.2, loss=0.000237]\n",
            "Epoch 30/100 [Val]: 100%|██████████| 4/4 [00:00<00:00, 32.13it/s, acc=3.52, loss=9.71e-5]\n"
          ]
        },
        {
          "output_type": "stream",
          "name": "stdout",
          "text": [
            "\n",
            "Epoch 30 Summary:\n",
            "Train Loss: 0.0002 | Acc: 4124.44%\n",
            "Val Loss: 0.0002 | Acc: 352.00%\n",
            "\n"
          ]
        },
        {
          "output_type": "stream",
          "name": "stderr",
          "text": [
            "Epoch 31/100 [Train]: 100%|██████████| 29/29 [00:01<00:00, 16.55it/s, acc=41.2, loss=0.000181]\n",
            "Epoch 31/100 [Val]: 100%|██████████| 4/4 [00:00<00:00, 25.21it/s, acc=3.52, loss=0.000191]\n"
          ]
        },
        {
          "output_type": "stream",
          "name": "stdout",
          "text": [
            "\n",
            "Epoch 31 Summary:\n",
            "Train Loss: 0.0002 | Acc: 4124.44%\n",
            "Val Loss: 0.0002 | Acc: 352.00%\n",
            "\n"
          ]
        },
        {
          "output_type": "stream",
          "name": "stderr",
          "text": [
            "Epoch 32/100 [Train]: 100%|██████████| 29/29 [00:01<00:00, 16.80it/s, acc=41.2, loss=0.000137]\n",
            "Epoch 32/100 [Val]: 100%|██████████| 4/4 [00:00<00:00, 33.64it/s, acc=3.52, loss=0.000217]\n"
          ]
        },
        {
          "output_type": "stream",
          "name": "stdout",
          "text": [
            "\n",
            "Epoch 32 Summary:\n",
            "Train Loss: 0.0002 | Acc: 4124.44%\n",
            "Val Loss: 0.0002 | Acc: 352.00%\n",
            "\n"
          ]
        },
        {
          "output_type": "stream",
          "name": "stderr",
          "text": [
            "Epoch 33/100 [Train]: 100%|██████████| 29/29 [00:01<00:00, 20.73it/s, acc=41.2, loss=0.000131]\n",
            "Epoch 33/100 [Val]: 100%|██████████| 4/4 [00:00<00:00, 28.44it/s, acc=3.52, loss=0.000163]\n"
          ]
        },
        {
          "output_type": "stream",
          "name": "stdout",
          "text": [
            "\n",
            "Epoch 33 Summary:\n",
            "Train Loss: 0.0002 | Acc: 4124.44%\n",
            "Val Loss: 0.0002 | Acc: 352.00%\n",
            "\n"
          ]
        },
        {
          "output_type": "stream",
          "name": "stderr",
          "text": [
            "Epoch 34/100 [Train]: 100%|██████████| 29/29 [00:01<00:00, 20.18it/s, acc=41.2, loss=0.000228]\n",
            "Epoch 34/100 [Val]: 100%|██████████| 4/4 [00:00<00:00, 31.60it/s, acc=3.52, loss=0.000142]\n"
          ]
        },
        {
          "output_type": "stream",
          "name": "stdout",
          "text": [
            "\n",
            "Epoch 34 Summary:\n",
            "Train Loss: 0.0002 | Acc: 4124.44%\n",
            "Val Loss: 0.0002 | Acc: 352.00%\n",
            "\n"
          ]
        },
        {
          "output_type": "stream",
          "name": "stderr",
          "text": [
            "Epoch 35/100 [Train]: 100%|██████████| 29/29 [00:01<00:00, 20.69it/s, acc=41.2, loss=9.76e-5]\n",
            "Epoch 35/100 [Val]: 100%|██████████| 4/4 [00:00<00:00, 31.44it/s, acc=3.52, loss=0.000135]\n"
          ]
        },
        {
          "output_type": "stream",
          "name": "stdout",
          "text": [
            "\n",
            "Epoch 35 Summary:\n",
            "Train Loss: 0.0002 | Acc: 4124.44%\n",
            "Val Loss: 0.0002 | Acc: 352.00%\n",
            "\n"
          ]
        },
        {
          "output_type": "stream",
          "name": "stderr",
          "text": [
            "Epoch 36/100 [Train]: 100%|██████████| 29/29 [00:01<00:00, 20.47it/s, acc=41.2, loss=0.000223]\n",
            "Epoch 36/100 [Val]: 100%|██████████| 4/4 [00:00<00:00, 32.67it/s, acc=2.96, loss=7.36e-5]\n"
          ]
        },
        {
          "output_type": "stream",
          "name": "stdout",
          "text": [
            "\n",
            "Epoch 36 Summary:\n",
            "Train Loss: 0.0002 | Acc: 4124.44%\n",
            "Val Loss: 0.0001 | Acc: 296.00%\n",
            "\n"
          ]
        },
        {
          "output_type": "stream",
          "name": "stderr",
          "text": [
            "Epoch 37/100 [Train]: 100%|██████████| 29/29 [00:01<00:00, 20.57it/s, acc=41.2, loss=0.000227]\n",
            "Epoch 37/100 [Val]: 100%|██████████| 4/4 [00:00<00:00, 31.04it/s, acc=2.96, loss=0.000196]\n"
          ]
        },
        {
          "output_type": "stream",
          "name": "stdout",
          "text": [
            "\n",
            "Epoch 37 Summary:\n",
            "Train Loss: 0.0002 | Acc: 4121.33%\n",
            "Val Loss: 0.0002 | Acc: 296.00%\n",
            "\n"
          ]
        },
        {
          "output_type": "stream",
          "name": "stderr",
          "text": [
            "Epoch 38/100 [Train]: 100%|██████████| 29/29 [00:01<00:00, 20.84it/s, acc=41.2, loss=0.00015]\n",
            "Epoch 38/100 [Val]: 100%|██████████| 4/4 [00:00<00:00, 33.19it/s, acc=3.52, loss=0.000261]\n"
          ]
        },
        {
          "output_type": "stream",
          "name": "stdout",
          "text": [
            "\n",
            "Epoch 38 Summary:\n",
            "Train Loss: 0.0001 | Acc: 4124.44%\n",
            "Val Loss: 0.0002 | Acc: 352.00%\n",
            "\n"
          ]
        },
        {
          "output_type": "stream",
          "name": "stderr",
          "text": [
            "Epoch 39/100 [Train]: 100%|██████████| 29/29 [00:01<00:00, 15.56it/s, acc=41.2, loss=0.000108]\n",
            "Epoch 39/100 [Val]: 100%|██████████| 4/4 [00:00<00:00, 23.38it/s, acc=3.24, loss=0.000135]\n"
          ]
        },
        {
          "output_type": "stream",
          "name": "stdout",
          "text": [
            "\n",
            "Epoch 39 Summary:\n",
            "Train Loss: 0.0001 | Acc: 4124.44%\n",
            "Val Loss: 0.0001 | Acc: 324.00%\n",
            "\n"
          ]
        },
        {
          "output_type": "stream",
          "name": "stderr",
          "text": [
            "Epoch 40/100 [Train]: 100%|██████████| 29/29 [00:01<00:00, 17.78it/s, acc=41.2, loss=0.000151]\n",
            "Epoch 40/100 [Val]: 100%|██████████| 4/4 [00:00<00:00, 31.63it/s, acc=3.24, loss=0.000118]\n"
          ]
        },
        {
          "output_type": "stream",
          "name": "stdout",
          "text": [
            "\n",
            "Epoch 40 Summary:\n",
            "Train Loss: 0.0001 | Acc: 4124.44%\n",
            "Val Loss: 0.0001 | Acc: 324.00%\n",
            "\n"
          ]
        },
        {
          "output_type": "stream",
          "name": "stderr",
          "text": [
            "Epoch 41/100 [Train]: 100%|██████████| 29/29 [00:01<00:00, 20.88it/s, acc=41.2, loss=0.000114]\n",
            "Epoch 41/100 [Val]: 100%|██████████| 4/4 [00:00<00:00, 32.72it/s, acc=3.24, loss=0.000131]\n"
          ]
        },
        {
          "output_type": "stream",
          "name": "stdout",
          "text": [
            "\n",
            "Epoch 41 Summary:\n",
            "Train Loss: 0.0001 | Acc: 4124.44%\n",
            "Val Loss: 0.0001 | Acc: 324.00%\n",
            "\n"
          ]
        },
        {
          "output_type": "stream",
          "name": "stderr",
          "text": [
            "Epoch 42/100 [Train]: 100%|██████████| 29/29 [00:01<00:00, 20.93it/s, acc=41.2, loss=7.8e-5]\n",
            "Epoch 42/100 [Val]: 100%|██████████| 4/4 [00:00<00:00, 33.12it/s, acc=3.52, loss=0.00012]\n"
          ]
        },
        {
          "output_type": "stream",
          "name": "stdout",
          "text": [
            "\n",
            "Epoch 42 Summary:\n",
            "Train Loss: 0.0001 | Acc: 4124.44%\n",
            "Val Loss: 0.0001 | Acc: 352.00%\n",
            "\n"
          ]
        },
        {
          "output_type": "stream",
          "name": "stderr",
          "text": [
            "Epoch 43/100 [Train]: 100%|██████████| 29/29 [00:01<00:00, 21.23it/s, acc=41.2, loss=0.000185]\n",
            "Epoch 43/100 [Val]: 100%|██████████| 4/4 [00:00<00:00, 33.04it/s, acc=3.52, loss=0.000137]\n"
          ]
        },
        {
          "output_type": "stream",
          "name": "stdout",
          "text": [
            "\n",
            "Epoch 43 Summary:\n",
            "Train Loss: 0.0001 | Acc: 4124.44%\n",
            "Val Loss: 0.0001 | Acc: 352.00%\n",
            "\n"
          ]
        },
        {
          "output_type": "stream",
          "name": "stderr",
          "text": [
            "Epoch 44/100 [Train]: 100%|██████████| 29/29 [00:01<00:00, 21.49it/s, acc=41.2, loss=8.22e-5]\n",
            "Epoch 44/100 [Val]: 100%|██████████| 4/4 [00:00<00:00, 34.59it/s, acc=3.52, loss=7.84e-5]\n"
          ]
        },
        {
          "output_type": "stream",
          "name": "stdout",
          "text": [
            "\n",
            "Epoch 44 Summary:\n",
            "Train Loss: 0.0001 | Acc: 4118.22%\n",
            "Val Loss: 0.0001 | Acc: 352.00%\n",
            "\n"
          ]
        },
        {
          "output_type": "stream",
          "name": "stderr",
          "text": [
            "Epoch 45/100 [Train]: 100%|██████████| 29/29 [00:01<00:00, 21.37it/s, acc=41.2, loss=8.41e-5]\n",
            "Epoch 45/100 [Val]: 100%|██████████| 4/4 [00:00<00:00, 30.53it/s, acc=3.24, loss=0.000111]\n"
          ]
        },
        {
          "output_type": "stream",
          "name": "stdout",
          "text": [
            "\n",
            "Epoch 45 Summary:\n",
            "Train Loss: 0.0001 | Acc: 4124.44%\n",
            "Val Loss: 0.0001 | Acc: 324.00%\n",
            "\n"
          ]
        },
        {
          "output_type": "stream",
          "name": "stderr",
          "text": [
            "Epoch 46/100 [Train]: 100%|██████████| 29/29 [00:01<00:00, 21.47it/s, acc=41.2, loss=7.84e-5]\n",
            "Epoch 46/100 [Val]: 100%|██████████| 4/4 [00:00<00:00, 32.91it/s, acc=3.52, loss=0.000119]\n"
          ]
        },
        {
          "output_type": "stream",
          "name": "stdout",
          "text": [
            "\n",
            "Epoch 46 Summary:\n",
            "Train Loss: 0.0001 | Acc: 4124.44%\n",
            "Val Loss: 0.0001 | Acc: 352.00%\n",
            "\n"
          ]
        },
        {
          "output_type": "stream",
          "name": "stderr",
          "text": [
            "Epoch 47/100 [Train]: 100%|██████████| 29/29 [00:01<00:00, 15.18it/s, acc=41.2, loss=0.000116]\n",
            "Epoch 47/100 [Val]: 100%|██████████| 4/4 [00:00<00:00, 25.07it/s, acc=3.24, loss=8.73e-5]\n"
          ]
        },
        {
          "output_type": "stream",
          "name": "stdout",
          "text": [
            "\n",
            "Epoch 47 Summary:\n",
            "Train Loss: 0.0001 | Acc: 4124.44%\n",
            "Val Loss: 0.0001 | Acc: 324.00%\n",
            "\n"
          ]
        },
        {
          "output_type": "stream",
          "name": "stderr",
          "text": [
            "Epoch 48/100 [Train]: 100%|██████████| 29/29 [00:01<00:00, 18.25it/s, acc=41.2, loss=0.00013]\n",
            "Epoch 48/100 [Val]: 100%|██████████| 4/4 [00:00<00:00, 31.04it/s, acc=3.24, loss=6.95e-5]\n"
          ]
        },
        {
          "output_type": "stream",
          "name": "stdout",
          "text": [
            "\n",
            "Epoch 48 Summary:\n",
            "Train Loss: 0.0001 | Acc: 4124.44%\n",
            "Val Loss: 0.0001 | Acc: 324.00%\n",
            "\n"
          ]
        },
        {
          "output_type": "stream",
          "name": "stderr",
          "text": [
            "Epoch 49/100 [Train]: 100%|██████████| 29/29 [00:01<00:00, 21.16it/s, acc=41.2, loss=0.000121]\n",
            "Epoch 49/100 [Val]: 100%|██████████| 4/4 [00:00<00:00, 33.49it/s, acc=3.52, loss=0.000165]\n"
          ]
        },
        {
          "output_type": "stream",
          "name": "stdout",
          "text": [
            "\n",
            "Epoch 49 Summary:\n",
            "Train Loss: 0.0001 | Acc: 4124.44%\n",
            "Val Loss: 0.0001 | Acc: 352.00%\n",
            "\n"
          ]
        },
        {
          "output_type": "stream",
          "name": "stderr",
          "text": [
            "Epoch 50/100 [Train]: 100%|██████████| 29/29 [00:01<00:00, 20.95it/s, acc=41.2, loss=8.79e-5]\n",
            "Epoch 50/100 [Val]: 100%|██████████| 4/4 [00:00<00:00, 29.92it/s, acc=3.52, loss=9.54e-5]\n"
          ]
        },
        {
          "output_type": "stream",
          "name": "stdout",
          "text": [
            "\n",
            "Epoch 50 Summary:\n",
            "Train Loss: 0.0001 | Acc: 4124.44%\n",
            "Val Loss: 0.0001 | Acc: 352.00%\n",
            "\n"
          ]
        },
        {
          "output_type": "stream",
          "name": "stderr",
          "text": [
            "Epoch 51/100 [Train]: 100%|██████████| 29/29 [00:01<00:00, 21.17it/s, acc=41.2, loss=0.000118]\n",
            "Epoch 51/100 [Val]: 100%|██████████| 4/4 [00:00<00:00, 32.92it/s, acc=3.52, loss=0.000101]\n"
          ]
        },
        {
          "output_type": "stream",
          "name": "stdout",
          "text": [
            "\n",
            "Epoch 51 Summary:\n",
            "Train Loss: 0.0001 | Acc: 4124.44%\n",
            "Val Loss: 0.0001 | Acc: 352.00%\n",
            "\n"
          ]
        },
        {
          "output_type": "stream",
          "name": "stderr",
          "text": [
            "Epoch 52/100 [Train]: 100%|██████████| 29/29 [00:01<00:00, 20.91it/s, acc=41.2, loss=0.000109]\n",
            "Epoch 52/100 [Val]: 100%|██████████| 4/4 [00:00<00:00, 31.08it/s, acc=3.52, loss=9.7e-5]\n"
          ]
        },
        {
          "output_type": "stream",
          "name": "stdout",
          "text": [
            "\n",
            "Epoch 52 Summary:\n",
            "Train Loss: 0.0001 | Acc: 4124.44%\n",
            "Val Loss: 0.0001 | Acc: 352.00%\n",
            "\n"
          ]
        },
        {
          "output_type": "stream",
          "name": "stderr",
          "text": [
            "Epoch 53/100 [Train]: 100%|██████████| 29/29 [00:01<00:00, 20.99it/s, acc=41.2, loss=6.29e-5]\n",
            "Epoch 53/100 [Val]: 100%|██████████| 4/4 [00:00<00:00, 33.14it/s, acc=3.24, loss=4.41e-5]\n"
          ]
        },
        {
          "output_type": "stream",
          "name": "stdout",
          "text": [
            "\n",
            "Epoch 53 Summary:\n",
            "Train Loss: 0.0001 | Acc: 4124.44%\n",
            "Val Loss: 0.0001 | Acc: 324.00%\n",
            "\n"
          ]
        },
        {
          "output_type": "stream",
          "name": "stderr",
          "text": [
            "Epoch 54/100 [Train]: 100%|██████████| 29/29 [00:01<00:00, 21.46it/s, acc=41.2, loss=5.31e-5]\n",
            "Epoch 54/100 [Val]: 100%|██████████| 4/4 [00:00<00:00, 25.76it/s, acc=3.24, loss=6.35e-5]\n"
          ]
        },
        {
          "output_type": "stream",
          "name": "stdout",
          "text": [
            "\n",
            "Epoch 54 Summary:\n",
            "Train Loss: 0.0001 | Acc: 4124.44%\n",
            "Val Loss: 0.0001 | Acc: 324.00%\n",
            "\n"
          ]
        },
        {
          "output_type": "stream",
          "name": "stderr",
          "text": [
            "Epoch 55/100 [Train]: 100%|██████████| 29/29 [00:01<00:00, 15.27it/s, acc=41.2, loss=4.53e-5]\n",
            "Epoch 55/100 [Val]: 100%|██████████| 4/4 [00:00<00:00, 21.66it/s, acc=3.52, loss=5.68e-5]\n"
          ]
        },
        {
          "output_type": "stream",
          "name": "stdout",
          "text": [
            "\n",
            "Epoch 55 Summary:\n",
            "Train Loss: 0.0001 | Acc: 4124.44%\n",
            "Val Loss: 0.0001 | Acc: 352.00%\n",
            "\n"
          ]
        },
        {
          "output_type": "stream",
          "name": "stderr",
          "text": [
            "Epoch 56/100 [Train]: 100%|██████████| 29/29 [00:01<00:00, 18.45it/s, acc=41.2, loss=3.67e-5]\n",
            "Epoch 56/100 [Val]: 100%|██████████| 4/4 [00:00<00:00, 31.95it/s, acc=3.24, loss=0.000103]\n"
          ]
        },
        {
          "output_type": "stream",
          "name": "stdout",
          "text": [
            "\n",
            "Epoch 56 Summary:\n",
            "Train Loss: 0.0001 | Acc: 4124.44%\n",
            "Val Loss: 0.0001 | Acc: 324.00%\n",
            "\n"
          ]
        },
        {
          "output_type": "stream",
          "name": "stderr",
          "text": [
            "Epoch 57/100 [Train]: 100%|██████████| 29/29 [00:01<00:00, 21.06it/s, acc=41.2, loss=8.12e-5]\n",
            "Epoch 57/100 [Val]: 100%|██████████| 4/4 [00:00<00:00, 34.37it/s, acc=3.52, loss=5.87e-5]\n"
          ]
        },
        {
          "output_type": "stream",
          "name": "stdout",
          "text": [
            "\n",
            "Epoch 57 Summary:\n",
            "Train Loss: 0.0001 | Acc: 4124.44%\n",
            "Val Loss: 0.0001 | Acc: 352.00%\n",
            "\n"
          ]
        },
        {
          "output_type": "stream",
          "name": "stderr",
          "text": [
            "Epoch 58/100 [Train]: 100%|██████████| 29/29 [00:01<00:00, 20.86it/s, acc=41.2, loss=5.07e-5]\n",
            "Epoch 58/100 [Val]: 100%|██████████| 4/4 [00:00<00:00, 32.66it/s, acc=3.52, loss=6.61e-5]\n"
          ]
        },
        {
          "output_type": "stream",
          "name": "stdout",
          "text": [
            "\n",
            "Epoch 58 Summary:\n",
            "Train Loss: 0.0001 | Acc: 4124.44%\n",
            "Val Loss: 0.0001 | Acc: 352.00%\n",
            "\n"
          ]
        },
        {
          "output_type": "stream",
          "name": "stderr",
          "text": [
            "Epoch 59/100 [Train]: 100%|██████████| 29/29 [00:01<00:00, 21.18it/s, acc=41.2, loss=3.65e-5]\n",
            "Epoch 59/100 [Val]: 100%|██████████| 4/4 [00:00<00:00, 32.64it/s, acc=3.52, loss=5.82e-5]\n"
          ]
        },
        {
          "output_type": "stream",
          "name": "stdout",
          "text": [
            "\n",
            "Epoch 59 Summary:\n",
            "Train Loss: 0.0001 | Acc: 4124.44%\n",
            "Val Loss: 0.0001 | Acc: 352.00%\n",
            "\n"
          ]
        },
        {
          "output_type": "stream",
          "name": "stderr",
          "text": [
            "Epoch 60/100 [Train]: 100%|██████████| 29/29 [00:01<00:00, 21.20it/s, acc=41.2, loss=5.33e-5]\n",
            "Epoch 60/100 [Val]: 100%|██████████| 4/4 [00:00<00:00, 32.27it/s, acc=3.52, loss=7.53e-5]\n"
          ]
        },
        {
          "output_type": "stream",
          "name": "stdout",
          "text": [
            "\n",
            "Epoch 60 Summary:\n",
            "Train Loss: 0.0001 | Acc: 4124.44%\n",
            "Val Loss: 0.0001 | Acc: 352.00%\n",
            "\n"
          ]
        },
        {
          "output_type": "stream",
          "name": "stderr",
          "text": [
            "Epoch 61/100 [Train]: 100%|██████████| 29/29 [00:01<00:00, 21.22it/s, acc=40.8, loss=7.95e-5]\n",
            "Epoch 61/100 [Val]: 100%|██████████| 4/4 [00:00<00:00, 32.28it/s, acc=2.96, loss=4.73e-5]\n"
          ]
        },
        {
          "output_type": "stream",
          "name": "stdout",
          "text": [
            "\n",
            "Epoch 61 Summary:\n",
            "Train Loss: 0.0001 | Acc: 4080.89%\n",
            "Val Loss: 0.0001 | Acc: 296.00%\n",
            "\n"
          ]
        },
        {
          "output_type": "stream",
          "name": "stderr",
          "text": [
            "Epoch 62/100 [Train]: 100%|██████████| 29/29 [00:01<00:00, 21.19it/s, acc=41.2, loss=3.38e-5]\n",
            "Epoch 62/100 [Val]: 100%|██████████| 4/4 [00:00<00:00, 22.78it/s, acc=3.52, loss=6.59e-5]\n"
          ]
        },
        {
          "output_type": "stream",
          "name": "stdout",
          "text": [
            "\n",
            "Epoch 62 Summary:\n",
            "Train Loss: 0.0001 | Acc: 4124.44%\n",
            "Val Loss: 0.0001 | Acc: 352.00%\n",
            "\n"
          ]
        },
        {
          "output_type": "stream",
          "name": "stderr",
          "text": [
            "Epoch 63/100 [Train]: 100%|██████████| 29/29 [00:01<00:00, 15.50it/s, acc=41.2, loss=3.9e-5]\n",
            "Epoch 63/100 [Val]: 100%|██████████| 4/4 [00:00<00:00, 21.31it/s, acc=2.96, loss=3.48e-5]\n"
          ]
        },
        {
          "output_type": "stream",
          "name": "stdout",
          "text": [
            "\n",
            "Epoch 63 Summary:\n",
            "Train Loss: 0.0001 | Acc: 4124.44%\n",
            "Val Loss: 0.0001 | Acc: 296.00%\n",
            "\n"
          ]
        },
        {
          "output_type": "stream",
          "name": "stderr",
          "text": [
            "Epoch 64/100 [Train]: 100%|██████████| 29/29 [00:01<00:00, 19.10it/s, acc=41.2, loss=4.64e-5]\n",
            "Epoch 64/100 [Val]: 100%|██████████| 4/4 [00:00<00:00, 33.38it/s, acc=3.52, loss=4.91e-5]\n"
          ]
        },
        {
          "output_type": "stream",
          "name": "stdout",
          "text": [
            "\n",
            "Epoch 64 Summary:\n",
            "Train Loss: 0.0001 | Acc: 4124.44%\n",
            "Val Loss: 0.0001 | Acc: 352.00%\n",
            "\n"
          ]
        },
        {
          "output_type": "stream",
          "name": "stderr",
          "text": [
            "Epoch 65/100 [Train]: 100%|██████████| 29/29 [00:01<00:00, 21.08it/s, acc=41.2, loss=3.47e-5]\n",
            "Epoch 65/100 [Val]: 100%|██████████| 4/4 [00:00<00:00, 30.83it/s, acc=3.52, loss=3.9e-5]\n"
          ]
        },
        {
          "output_type": "stream",
          "name": "stdout",
          "text": [
            "\n",
            "Epoch 65 Summary:\n",
            "Train Loss: 0.0001 | Acc: 4124.44%\n",
            "Val Loss: 0.0000 | Acc: 352.00%\n",
            "\n"
          ]
        },
        {
          "output_type": "stream",
          "name": "stderr",
          "text": [
            "Epoch 66/100 [Train]: 100%|██████████| 29/29 [00:01<00:00, 21.35it/s, acc=41.2, loss=2.41e-5]\n",
            "Epoch 66/100 [Val]: 100%|██████████| 4/4 [00:00<00:00, 32.40it/s, acc=3.52, loss=3.35e-5]\n"
          ]
        },
        {
          "output_type": "stream",
          "name": "stdout",
          "text": [
            "\n",
            "Epoch 66 Summary:\n",
            "Train Loss: 0.0000 | Acc: 4124.44%\n",
            "Val Loss: 0.0000 | Acc: 352.00%\n",
            "\n"
          ]
        },
        {
          "output_type": "stream",
          "name": "stderr",
          "text": [
            "Epoch 67/100 [Train]: 100%|██████████| 29/29 [00:01<00:00, 21.05it/s, acc=41.2, loss=4.77e-5]\n",
            "Epoch 67/100 [Val]: 100%|██████████| 4/4 [00:00<00:00, 34.33it/s, acc=3.52, loss=6.21e-5]\n"
          ]
        },
        {
          "output_type": "stream",
          "name": "stdout",
          "text": [
            "\n",
            "Epoch 67 Summary:\n",
            "Train Loss: 0.0000 | Acc: 4124.44%\n",
            "Val Loss: 0.0001 | Acc: 352.00%\n",
            "\n"
          ]
        },
        {
          "output_type": "stream",
          "name": "stderr",
          "text": [
            "Epoch 68/100 [Train]: 100%|██████████| 29/29 [00:01<00:00, 20.98it/s, acc=41.2, loss=3.51e-5]\n",
            "Epoch 68/100 [Val]: 100%|██████████| 4/4 [00:00<00:00, 30.77it/s, acc=3.24, loss=3.72e-5]\n"
          ]
        },
        {
          "output_type": "stream",
          "name": "stdout",
          "text": [
            "\n",
            "Epoch 68 Summary:\n",
            "Train Loss: 0.0000 | Acc: 4124.44%\n",
            "Val Loss: 0.0000 | Acc: 324.00%\n",
            "\n"
          ]
        },
        {
          "output_type": "stream",
          "name": "stderr",
          "text": [
            "Epoch 69/100 [Train]: 100%|██████████| 29/29 [00:01<00:00, 21.17it/s, acc=41.2, loss=3.5e-5]\n",
            "Epoch 69/100 [Val]: 100%|██████████| 4/4 [00:00<00:00, 32.60it/s, acc=3.52, loss=4.99e-5]\n"
          ]
        },
        {
          "output_type": "stream",
          "name": "stdout",
          "text": [
            "\n",
            "Epoch 69 Summary:\n",
            "Train Loss: 0.0000 | Acc: 4124.44%\n",
            "Val Loss: 0.0001 | Acc: 352.00%\n",
            "\n"
          ]
        },
        {
          "output_type": "stream",
          "name": "stderr",
          "text": [
            "Epoch 70/100 [Train]: 100%|██████████| 29/29 [00:01<00:00, 20.73it/s, acc=41.2, loss=4.01e-5]\n",
            "Epoch 70/100 [Val]: 100%|██████████| 4/4 [00:00<00:00, 24.29it/s, acc=3.52, loss=6.4e-5]\n"
          ]
        },
        {
          "output_type": "stream",
          "name": "stdout",
          "text": [
            "\n",
            "Epoch 70 Summary:\n",
            "Train Loss: 0.0000 | Acc: 4124.44%\n",
            "Val Loss: 0.0000 | Acc: 352.00%\n",
            "\n"
          ]
        },
        {
          "output_type": "stream",
          "name": "stderr",
          "text": [
            "Epoch 71/100 [Train]: 100%|██████████| 29/29 [00:01<00:00, 15.13it/s, acc=41.2, loss=2.53e-5]\n",
            "Epoch 71/100 [Val]: 100%|██████████| 4/4 [00:00<00:00, 20.47it/s, acc=3.24, loss=4.95e-5]\n"
          ]
        },
        {
          "output_type": "stream",
          "name": "stdout",
          "text": [
            "\n",
            "Epoch 71 Summary:\n",
            "Train Loss: 0.0000 | Acc: 4121.33%\n",
            "Val Loss: 0.0000 | Acc: 324.00%\n",
            "\n"
          ]
        },
        {
          "output_type": "stream",
          "name": "stderr",
          "text": [
            "Epoch 72/100 [Train]: 100%|██████████| 29/29 [00:01<00:00, 19.04it/s, acc=41.2, loss=4.09e-5]\n",
            "Epoch 72/100 [Val]: 100%|██████████| 4/4 [00:00<00:00, 33.61it/s, acc=3.24, loss=4.74e-5]\n"
          ]
        },
        {
          "output_type": "stream",
          "name": "stdout",
          "text": [
            "\n",
            "Epoch 72 Summary:\n",
            "Train Loss: 0.0000 | Acc: 4121.33%\n",
            "Val Loss: 0.0000 | Acc: 324.00%\n",
            "\n"
          ]
        },
        {
          "output_type": "stream",
          "name": "stderr",
          "text": [
            "Epoch 73/100 [Train]: 100%|██████████| 29/29 [00:01<00:00, 21.08it/s, acc=41.2, loss=3.57e-5]\n",
            "Epoch 73/100 [Val]: 100%|██████████| 4/4 [00:00<00:00, 33.10it/s, acc=3.52, loss=4.6e-5]\n"
          ]
        },
        {
          "output_type": "stream",
          "name": "stdout",
          "text": [
            "\n",
            "Epoch 73 Summary:\n",
            "Train Loss: 0.0000 | Acc: 4124.44%\n",
            "Val Loss: 0.0000 | Acc: 352.00%\n",
            "\n"
          ]
        },
        {
          "output_type": "stream",
          "name": "stderr",
          "text": [
            "Epoch 74/100 [Train]: 100%|██████████| 29/29 [00:01<00:00, 21.55it/s, acc=41.2, loss=3.69e-5]\n",
            "Epoch 74/100 [Val]: 100%|██████████| 4/4 [00:00<00:00, 27.83it/s, acc=3.24, loss=8.54e-5]\n"
          ]
        },
        {
          "output_type": "stream",
          "name": "stdout",
          "text": [
            "\n",
            "Epoch 74 Summary:\n",
            "Train Loss: 0.0000 | Acc: 4121.33%\n",
            "Val Loss: 0.0001 | Acc: 324.00%\n",
            "\n"
          ]
        },
        {
          "output_type": "stream",
          "name": "stderr",
          "text": [
            "Epoch 75/100 [Train]: 100%|██████████| 29/29 [00:01<00:00, 20.53it/s, acc=41.2, loss=2.56e-5]\n",
            "Epoch 75/100 [Val]: 100%|██████████| 4/4 [00:00<00:00, 30.31it/s, acc=2.96, loss=3.84e-5]\n"
          ]
        },
        {
          "output_type": "stream",
          "name": "stdout",
          "text": [
            "\n",
            "Epoch 75 Summary:\n",
            "Train Loss: 0.0000 | Acc: 4124.44%\n",
            "Val Loss: 0.0000 | Acc: 296.00%\n",
            "\n"
          ]
        },
        {
          "output_type": "stream",
          "name": "stderr",
          "text": [
            "Epoch 76/100 [Train]: 100%|██████████| 29/29 [00:01<00:00, 20.70it/s, acc=41.2, loss=2.64e-5]\n",
            "Epoch 76/100 [Val]: 100%|██████████| 4/4 [00:00<00:00, 31.67it/s, acc=2.96, loss=3.54e-5]\n"
          ]
        },
        {
          "output_type": "stream",
          "name": "stdout",
          "text": [
            "\n",
            "Epoch 76 Summary:\n",
            "Train Loss: 0.0000 | Acc: 4124.44%\n",
            "Val Loss: 0.0000 | Acc: 296.00%\n",
            "\n"
          ]
        },
        {
          "output_type": "stream",
          "name": "stderr",
          "text": [
            "Epoch 77/100 [Train]: 100%|██████████| 29/29 [00:01<00:00, 20.37it/s, acc=41.2, loss=3.53e-5]\n",
            "Epoch 77/100 [Val]: 100%|██████████| 4/4 [00:00<00:00, 32.34it/s, acc=3.52, loss=2.49e-5]\n"
          ]
        },
        {
          "output_type": "stream",
          "name": "stdout",
          "text": [
            "\n",
            "Epoch 77 Summary:\n",
            "Train Loss: 0.0000 | Acc: 4124.44%\n",
            "Val Loss: 0.0000 | Acc: 352.00%\n",
            "\n"
          ]
        },
        {
          "output_type": "stream",
          "name": "stderr",
          "text": [
            "Epoch 78/100 [Train]: 100%|██████████| 29/29 [00:01<00:00, 20.00it/s, acc=41.2, loss=2.3e-5]\n",
            "Epoch 78/100 [Val]: 100%|██████████| 4/4 [00:00<00:00, 21.91it/s, acc=3.52, loss=5.38e-5]\n"
          ]
        },
        {
          "output_type": "stream",
          "name": "stdout",
          "text": [
            "\n",
            "Epoch 78 Summary:\n",
            "Train Loss: 0.0000 | Acc: 4124.44%\n",
            "Val Loss: 0.0000 | Acc: 352.00%\n",
            "\n"
          ]
        },
        {
          "output_type": "stream",
          "name": "stderr",
          "text": [
            "Epoch 79/100 [Train]: 100%|██████████| 29/29 [00:01<00:00, 14.72it/s, acc=41.2, loss=2.6e-5]\n",
            "Epoch 79/100 [Val]: 100%|██████████| 4/4 [00:00<00:00, 22.96it/s, acc=3.52, loss=3.69e-5]\n"
          ]
        },
        {
          "output_type": "stream",
          "name": "stdout",
          "text": [
            "\n",
            "Epoch 79 Summary:\n",
            "Train Loss: 0.0000 | Acc: 4124.44%\n",
            "Val Loss: 0.0000 | Acc: 352.00%\n",
            "\n"
          ]
        },
        {
          "output_type": "stream",
          "name": "stderr",
          "text": [
            "Epoch 80/100 [Train]: 100%|██████████| 29/29 [00:01<00:00, 20.69it/s, acc=41.2, loss=3.24e-5]\n",
            "Epoch 80/100 [Val]: 100%|██████████| 4/4 [00:00<00:00, 33.17it/s, acc=3.24, loss=1.64e-5]\n"
          ]
        },
        {
          "output_type": "stream",
          "name": "stdout",
          "text": [
            "\n",
            "Epoch 80 Summary:\n",
            "Train Loss: 0.0000 | Acc: 4118.22%\n",
            "Val Loss: 0.0000 | Acc: 324.00%\n",
            "\n"
          ]
        },
        {
          "output_type": "stream",
          "name": "stderr",
          "text": [
            "Epoch 81/100 [Train]: 100%|██████████| 29/29 [00:01<00:00, 21.05it/s, acc=41.2, loss=2.67e-5]\n",
            "Epoch 81/100 [Val]: 100%|██████████| 4/4 [00:00<00:00, 31.40it/s, acc=3.24, loss=2.39e-5]\n"
          ]
        },
        {
          "output_type": "stream",
          "name": "stdout",
          "text": [
            "\n",
            "Epoch 81 Summary:\n",
            "Train Loss: 0.0000 | Acc: 4121.33%\n",
            "Val Loss: 0.0000 | Acc: 324.00%\n",
            "\n"
          ]
        },
        {
          "output_type": "stream",
          "name": "stderr",
          "text": [
            "Epoch 82/100 [Train]: 100%|██████████| 29/29 [00:01<00:00, 21.24it/s, acc=41.2, loss=2.36e-5]\n",
            "Epoch 82/100 [Val]: 100%|██████████| 4/4 [00:00<00:00, 29.90it/s, acc=3.24, loss=1.46e-5]\n"
          ]
        },
        {
          "output_type": "stream",
          "name": "stdout",
          "text": [
            "\n",
            "Epoch 82 Summary:\n",
            "Train Loss: 0.0000 | Acc: 4124.44%\n",
            "Val Loss: 0.0000 | Acc: 324.00%\n",
            "\n"
          ]
        },
        {
          "output_type": "stream",
          "name": "stderr",
          "text": [
            "Epoch 83/100 [Train]: 100%|██████████| 29/29 [00:01<00:00, 20.88it/s, acc=41.2, loss=3.74e-5]\n",
            "Epoch 83/100 [Val]: 100%|██████████| 4/4 [00:00<00:00, 31.51it/s, acc=3.52, loss=2.65e-5]\n"
          ]
        },
        {
          "output_type": "stream",
          "name": "stdout",
          "text": [
            "\n",
            "Epoch 83 Summary:\n",
            "Train Loss: 0.0000 | Acc: 4124.44%\n",
            "Val Loss: 0.0000 | Acc: 352.00%\n",
            "\n"
          ]
        },
        {
          "output_type": "stream",
          "name": "stderr",
          "text": [
            "Epoch 84/100 [Train]: 100%|██████████| 29/29 [00:01<00:00, 21.04it/s, acc=41.2, loss=1.27e-5]\n",
            "Epoch 84/100 [Val]: 100%|██████████| 4/4 [00:00<00:00, 31.17it/s, acc=3.52, loss=2.79e-5]\n"
          ]
        },
        {
          "output_type": "stream",
          "name": "stdout",
          "text": [
            "\n",
            "Epoch 84 Summary:\n",
            "Train Loss: 0.0000 | Acc: 4124.44%\n",
            "Val Loss: 0.0000 | Acc: 352.00%\n",
            "\n"
          ]
        },
        {
          "output_type": "stream",
          "name": "stderr",
          "text": [
            "Epoch 85/100 [Train]: 100%|██████████| 29/29 [00:01<00:00, 20.68it/s, acc=41.2, loss=1.73e-5]\n",
            "Epoch 85/100 [Val]: 100%|██████████| 4/4 [00:00<00:00, 32.69it/s, acc=3.52, loss=3.04e-5]\n"
          ]
        },
        {
          "output_type": "stream",
          "name": "stdout",
          "text": [
            "\n",
            "Epoch 85 Summary:\n",
            "Train Loss: 0.0000 | Acc: 4124.44%\n",
            "Val Loss: 0.0000 | Acc: 352.00%\n",
            "\n"
          ]
        },
        {
          "output_type": "stream",
          "name": "stderr",
          "text": [
            "Epoch 86/100 [Train]: 100%|██████████| 29/29 [00:01<00:00, 18.37it/s, acc=41.2, loss=1.54e-5]\n",
            "Epoch 86/100 [Val]: 100%|██████████| 4/4 [00:00<00:00, 23.41it/s, acc=2.96, loss=2.33e-5]\n"
          ]
        },
        {
          "output_type": "stream",
          "name": "stdout",
          "text": [
            "\n",
            "Epoch 86 Summary:\n",
            "Train Loss: 0.0000 | Acc: 4121.33%\n",
            "Val Loss: 0.0000 | Acc: 296.00%\n",
            "\n"
          ]
        },
        {
          "output_type": "stream",
          "name": "stderr",
          "text": [
            "Epoch 87/100 [Train]: 100%|██████████| 29/29 [00:01<00:00, 15.23it/s, acc=41.2, loss=3.4e-5]\n",
            "Epoch 87/100 [Val]: 100%|██████████| 4/4 [00:00<00:00, 28.84it/s, acc=3.52, loss=2.92e-5]\n"
          ]
        },
        {
          "output_type": "stream",
          "name": "stdout",
          "text": [
            "\n",
            "Epoch 87 Summary:\n",
            "Train Loss: 0.0000 | Acc: 4124.44%\n",
            "Val Loss: 0.0000 | Acc: 352.00%\n",
            "\n"
          ]
        },
        {
          "output_type": "stream",
          "name": "stderr",
          "text": [
            "Epoch 88/100 [Train]: 100%|██████████| 29/29 [00:01<00:00, 21.06it/s, acc=41.2, loss=1.83e-5]\n",
            "Epoch 88/100 [Val]: 100%|██████████| 4/4 [00:00<00:00, 32.90it/s, acc=3.52, loss=1.46e-5]\n"
          ]
        },
        {
          "output_type": "stream",
          "name": "stdout",
          "text": [
            "\n",
            "Epoch 88 Summary:\n",
            "Train Loss: 0.0000 | Acc: 4124.44%\n",
            "Val Loss: 0.0000 | Acc: 352.00%\n",
            "\n"
          ]
        },
        {
          "output_type": "stream",
          "name": "stderr",
          "text": [
            "Epoch 89/100 [Train]: 100%|██████████| 29/29 [00:01<00:00, 21.20it/s, acc=41.2, loss=1.97e-5]\n",
            "Epoch 89/100 [Val]: 100%|██████████| 4/4 [00:00<00:00, 32.34it/s, acc=3.52, loss=1.5e-5]\n"
          ]
        },
        {
          "output_type": "stream",
          "name": "stdout",
          "text": [
            "\n",
            "Epoch 89 Summary:\n",
            "Train Loss: 0.0000 | Acc: 4124.44%\n",
            "Val Loss: 0.0000 | Acc: 352.00%\n",
            "\n"
          ]
        },
        {
          "output_type": "stream",
          "name": "stderr",
          "text": [
            "Epoch 90/100 [Train]: 100%|██████████| 29/29 [00:01<00:00, 20.70it/s, acc=41.2, loss=1.14e-5]\n",
            "Epoch 90/100 [Val]: 100%|██████████| 4/4 [00:00<00:00, 32.37it/s, acc=2.96, loss=1.27e-5]\n"
          ]
        },
        {
          "output_type": "stream",
          "name": "stdout",
          "text": [
            "\n",
            "Epoch 90 Summary:\n",
            "Train Loss: 0.0000 | Acc: 4124.44%\n",
            "Val Loss: 0.0000 | Acc: 296.00%\n",
            "\n"
          ]
        },
        {
          "output_type": "stream",
          "name": "stderr",
          "text": [
            "Epoch 91/100 [Train]: 100%|██████████| 29/29 [00:01<00:00, 20.71it/s, acc=41.2, loss=2.63e-5]\n",
            "Epoch 91/100 [Val]: 100%|██████████| 4/4 [00:00<00:00, 31.13it/s, acc=3.52, loss=1.77e-5]\n"
          ]
        },
        {
          "output_type": "stream",
          "name": "stdout",
          "text": [
            "\n",
            "Epoch 91 Summary:\n",
            "Train Loss: 0.0000 | Acc: 4121.33%\n",
            "Val Loss: 0.0000 | Acc: 352.00%\n",
            "\n"
          ]
        },
        {
          "output_type": "stream",
          "name": "stderr",
          "text": [
            "Epoch 92/100 [Train]: 100%|██████████| 29/29 [00:01<00:00, 20.86it/s, acc=41.2, loss=1.25e-5]\n",
            "Epoch 92/100 [Val]: 100%|██████████| 4/4 [00:00<00:00, 32.41it/s, acc=3.52, loss=2.37e-5]\n"
          ]
        },
        {
          "output_type": "stream",
          "name": "stdout",
          "text": [
            "\n",
            "Epoch 92 Summary:\n",
            "Train Loss: 0.0000 | Acc: 4124.44%\n",
            "Val Loss: 0.0000 | Acc: 352.00%\n",
            "\n"
          ]
        },
        {
          "output_type": "stream",
          "name": "stderr",
          "text": [
            "Epoch 93/100 [Train]: 100%|██████████| 29/29 [00:01<00:00, 20.27it/s, acc=41.2, loss=1.21e-5]\n",
            "Epoch 93/100 [Val]: 100%|██████████| 4/4 [00:00<00:00, 29.78it/s, acc=3.52, loss=9.73e-6]\n"
          ]
        },
        {
          "output_type": "stream",
          "name": "stdout",
          "text": [
            "\n",
            "Epoch 93 Summary:\n",
            "Train Loss: 0.0000 | Acc: 4124.44%\n",
            "Val Loss: 0.0000 | Acc: 352.00%\n",
            "\n"
          ]
        },
        {
          "output_type": "stream",
          "name": "stderr",
          "text": [
            "Epoch 94/100 [Train]: 100%|██████████| 29/29 [00:01<00:00, 16.79it/s, acc=41.2, loss=0.000148]\n",
            "Epoch 94/100 [Val]: 100%|██████████| 4/4 [00:00<00:00, 23.36it/s, acc=2.96, loss=1.48e-5]\n"
          ]
        },
        {
          "output_type": "stream",
          "name": "stdout",
          "text": [
            "\n",
            "Epoch 94 Summary:\n",
            "Train Loss: 0.0000 | Acc: 4121.33%\n",
            "Val Loss: 0.0000 | Acc: 296.00%\n",
            "\n"
          ]
        },
        {
          "output_type": "stream",
          "name": "stderr",
          "text": [
            "Epoch 95/100 [Train]: 100%|██████████| 29/29 [00:01<00:00, 15.73it/s, acc=41.2, loss=1.93e-5]\n",
            "Epoch 95/100 [Val]: 100%|██████████| 4/4 [00:00<00:00, 30.14it/s, acc=3.52, loss=1.87e-5]\n"
          ]
        },
        {
          "output_type": "stream",
          "name": "stdout",
          "text": [
            "\n",
            "Epoch 95 Summary:\n",
            "Train Loss: 0.0000 | Acc: 4124.44%\n",
            "Val Loss: 0.0000 | Acc: 352.00%\n",
            "\n"
          ]
        },
        {
          "output_type": "stream",
          "name": "stderr",
          "text": [
            "Epoch 96/100 [Train]: 100%|██████████| 29/29 [00:01<00:00, 20.93it/s, acc=41.2, loss=1.37e-5]\n",
            "Epoch 96/100 [Val]: 100%|██████████| 4/4 [00:00<00:00, 31.75it/s, acc=3.24, loss=1.29e-5]\n"
          ]
        },
        {
          "output_type": "stream",
          "name": "stdout",
          "text": [
            "\n",
            "Epoch 96 Summary:\n",
            "Train Loss: 0.0000 | Acc: 4124.44%\n",
            "Val Loss: 0.0000 | Acc: 324.00%\n",
            "\n"
          ]
        },
        {
          "output_type": "stream",
          "name": "stderr",
          "text": [
            "Epoch 97/100 [Train]: 100%|██████████| 29/29 [00:01<00:00, 20.29it/s, acc=41.2, loss=8.21e-6]\n",
            "Epoch 97/100 [Val]: 100%|██████████| 4/4 [00:00<00:00, 30.89it/s, acc=3.52, loss=1.6e-5]\n"
          ]
        },
        {
          "output_type": "stream",
          "name": "stdout",
          "text": [
            "\n",
            "Epoch 97 Summary:\n",
            "Train Loss: 0.0000 | Acc: 4124.44%\n",
            "Val Loss: 0.0000 | Acc: 352.00%\n",
            "\n"
          ]
        },
        {
          "output_type": "stream",
          "name": "stderr",
          "text": [
            "Epoch 98/100 [Train]: 100%|██████████| 29/29 [00:01<00:00, 20.66it/s, acc=41.2, loss=1.21e-5]\n",
            "Epoch 98/100 [Val]: 100%|██████████| 4/4 [00:00<00:00, 31.44it/s, acc=3.52, loss=7.12e-6]\n"
          ]
        },
        {
          "output_type": "stream",
          "name": "stdout",
          "text": [
            "\n",
            "Epoch 98 Summary:\n",
            "Train Loss: 0.0000 | Acc: 4124.44%\n",
            "Val Loss: 0.0000 | Acc: 352.00%\n",
            "\n"
          ]
        },
        {
          "output_type": "stream",
          "name": "stderr",
          "text": [
            "Epoch 99/100 [Train]: 100%|██████████| 29/29 [00:01<00:00, 20.84it/s, acc=41.2, loss=5.58e-6]\n",
            "Epoch 99/100 [Val]: 100%|██████████| 4/4 [00:00<00:00, 33.20it/s, acc=3.24, loss=1.72e-5]\n"
          ]
        },
        {
          "output_type": "stream",
          "name": "stdout",
          "text": [
            "\n",
            "Epoch 99 Summary:\n",
            "Train Loss: 0.0000 | Acc: 4124.44%\n",
            "Val Loss: 0.0000 | Acc: 324.00%\n",
            "\n"
          ]
        },
        {
          "output_type": "stream",
          "name": "stderr",
          "text": [
            "Epoch 100/100 [Train]: 100%|██████████| 29/29 [00:01<00:00, 21.03it/s, acc=41.2, loss=1.06e-5]\n",
            "Epoch 100/100 [Val]: 100%|██████████| 4/4 [00:00<00:00, 32.23it/s, acc=3.24, loss=5.92e-6]"
          ]
        },
        {
          "output_type": "stream",
          "name": "stdout",
          "text": [
            "\n",
            "Epoch 100 Summary:\n",
            "Train Loss: 0.0000 | Acc: 4121.33%\n",
            "Val Loss: 0.0000 | Acc: 324.00%\n",
            "\n"
          ]
        },
        {
          "output_type": "stream",
          "name": "stderr",
          "text": [
            "\n"
          ]
        }
      ]
    },
    {
      "cell_type": "code",
      "source": [
        "net.conv3.weight.view(9)"
      ],
      "metadata": {
        "colab": {
          "base_uri": "https://localhost:8080/"
        },
        "id": "rRFWDV_x_Rnk",
        "outputId": "ba254dd0-cb4c-40e9-a4cf-84ec15381a62"
      },
      "execution_count": 75,
      "outputs": [
        {
          "output_type": "execute_result",
          "data": {
            "text/plain": [
              "tensor([0.1259, 0.2484, 0.1258, 0.2484, 0.5031, 0.2484, 0.1257, 0.2484, 0.1259],\n",
              "       grad_fn=<ViewBackward0>)"
            ]
          },
          "metadata": {},
          "execution_count": 75
        }
      ]
    },
    {
      "cell_type": "code",
      "source": [
        "pd.DataFrame(\n",
        "    [\n",
        "        np.array(net.conv2.weight.view(9)),\n",
        "       np.array(net.conv3.weight.detach().view(9)),\n",
        "        np.array(net.conv1.weight.view(9))\n",
        "    ]\n",
        ").to_csv(\"reconstructed_algos.csv\", index=False, header=False)"
      ],
      "metadata": {
        "id": "j8VThIhfKlzi"
      },
      "execution_count": 115,
      "outputs": []
    }
  ]
}