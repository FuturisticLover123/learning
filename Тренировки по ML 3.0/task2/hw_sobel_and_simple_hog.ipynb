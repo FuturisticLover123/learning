{
  "cells": [
    {
      "cell_type": "markdown",
      "metadata": {
        "id": "nDsVMGiVgSq2"
      },
      "source": [
        "## Фильтры границ\n",
        "\n",
        "##### Автор: [Радослав Нейчев](https://www.linkedin.com/in/radoslav-neychev/), https://t.me/s/girafe_ai"
      ]
    },
    {
      "cell_type": "code",
      "execution_count": null,
      "metadata": {
        "id": "3isBRG6PgSq6"
      },
      "outputs": [],
      "source": [
        "# do not change the code in the block below\n",
        "# __________start of block__________\n",
        "import json\n",
        "import os\n",
        "import cv2\n",
        "import random\n",
        "\n",
        "import numpy as np\n",
        "import torch\n",
        "import torchvision\n",
        "from IPython.display import clear_output\n",
        "from matplotlib import pyplot as plt\n",
        "from torchvision.datasets import FashionMNIST\n",
        "\n",
        "# __________end of block__________"
      ]
    },
    {
      "cell_type": "markdown",
      "metadata": {
        "id": "zeA6Q5-CgSq7"
      },
      "source": [
        "Продолжим работать с набором данных [FashionMNIST](https://github.com/zalandoresearch/fashion-mnist).\n",
        "\n",
        "__Ваша задача: реализовать механизм выделения границ (Sobel filter) и упрощенный вариант построения гистограммы ориентированных градиентов.__\n",
        "\n",
        "Точность классификации оцениваться не будет, вам лишь необходимо реализовать функции и сдать их в контест.\n",
        "\n",
        "В ноутбуке присутствует несколько тестов, которые помогут вам отладить свое решение."
      ]
    },
    {
      "cell_type": "code",
      "execution_count": null,
      "metadata": {
        "colab": {
          "base_uri": "https://localhost:8080/",
          "height": 469
        },
        "id": "aYcL28OsgSq8",
        "outputId": "cb0ac0e4-249a-4d6a-d1aa-03c28ce4b73e"
      },
      "outputs": [
        {
          "output_type": "execute_result",
          "data": {
            "text/plain": [
              "Text(0.5, 1.0, 'Image label: 4')"
            ]
          },
          "metadata": {},
          "execution_count": 54
        },
        {
          "output_type": "display_data",
          "data": {
            "text/plain": [
              "<Figure size 640x480 with 1 Axes>"
            ],
            "image/png": "[encoded data removed]"
          },
          "metadata": {}
        }
      ],
      "source": [
        "# do not change the code in the block below\n",
        "# __________start of block__________\n",
        "\n",
        "train_fmnist_data = FashionMNIST(\n",
        "    \".\", train=True, transform=torchvision.transforms.ToTensor(), download=True\n",
        ")\n",
        "\n",
        "train_data_loader = torch.utils.data.DataLoader(\n",
        "    train_fmnist_data, batch_size=32, shuffle=True, num_workers=2\n",
        ")\n",
        "\n",
        "random_batch = next(iter(train_data_loader))\n",
        "_image, _label = random_batch[0][0], random_batch[1][0]\n",
        "plt.figure()\n",
        "plt.imshow(_image.reshape(28, 28))\n",
        "plt.title(f\"Image label: {_label}\")\n",
        "# __________end of block__________"
      ]
    },
    {
      "cell_type": "markdown",
      "metadata": {
        "id": "ybm5nwN5uUKq"
      },
      "source": [
        "#### Шаг 1. Sobel filtering\n",
        "Реализуйте функцию `compute_sobel_gradients_two_loops`. Часть функции уже написана, пожалуйста, не меняйте написанный код."
      ]
    },
    {
      "cell_type": "code",
      "execution_count": null,
      "metadata": {
        "id": "mqPxpFgduUKq"
      },
      "outputs": [],
      "source": [
        "# do not change the code in the block below\n",
        "# __________start of block__________\n",
        "import numpy as np\n",
        "def compute_sobel_gradients_two_loops(image):\n",
        "    # Get image dimensions\n",
        "    height, width = image.shape\n",
        "\n",
        "    # Initialize output gradients\n",
        "    gradient_x = np.zeros_like(image, dtype=np.float64)\n",
        "    gradient_y = np.zeros_like(image, dtype=np.float64)\n",
        "\n",
        "    # Pad the image with zeros to handle borders\n",
        "    padded_image = np.pad(image, ((1, 1), (1, 1)), mode='constant', constant_values=0)\n",
        "# __________end of block__________\n",
        "\n",
        "    # Define the Sobel kernels for X and Y gradients\n",
        "    sobel_x = np.array([[-1, 0, 1], [-2, 0, 2], [-1, 0, 1]])\n",
        "    sobel_y = np.array([[-1, -2, -1], [0 , 0, 0], [1, 2, 1]])\n",
        "\n",
        "    # Apply Sobel filter for X and Y gradients using convolution\n",
        "    for i in range(1, height + 1):\n",
        "        for j in range(1, width + 1):\n",
        "          window = padded_image[i - 1: i + 2, j - 1: j + 2]\n",
        "\n",
        "          gradient_x[i-1, j-1] = np.vdot(window, sobel_x)\n",
        "          gradient_y[i-1, j-1] = np.vdot(window, sobel_y)\n",
        "\n",
        "    return gradient_x, gradient_y"
      ]
    },
    {
      "cell_type": "code",
      "source": [
        "np.vdot(np.array([[1,2],[3,4]]),np.array([[1,2],[3,4]]))"
      ],
      "metadata": {
        "colab": {
          "base_uri": "https://localhost:8080/"
        },
        "id": "D6ze5zYSR2xp",
        "outputId": "9c949875-e9a9-4da8-b1d2-b8c043131fdb"
      },
      "execution_count": null,
      "outputs": [
        {
          "output_type": "execute_result",
          "data": {
            "text/plain": [
              "np.int64(30)"
            ]
          },
          "metadata": {},
          "execution_count": 75
        }
      ]
    },
    {
      "cell_type": "markdown",
      "metadata": {
        "id": "mHujQpkpuUKr"
      },
      "source": [
        "Для проверки написанного кода мы обратимся к уже реализованной версии в из opencv. Ввиду того, что операция padding'а может произвоиться иначе, будем игнорировать расхождения на краях изображения."
      ]
    },
    {
      "cell_type": "code",
      "execution_count": null,
      "metadata": {
        "id": "HxPPLesBuUKr"
      },
      "outputs": [],
      "source": [
        "# do not change the code in the block below\n",
        "# __________start of block__________\n",
        "def compute_sobel_gradients_opencv(image):\n",
        "    # Apply Sobel filter for horizontal and vertical gradients\n",
        "    sobel_x = cv2.Sobel(image, cv2.CV_64F, 1, 0, ksize=3)\n",
        "    sobel_y = cv2.Sobel(image, cv2.CV_64F, 0, 1, ksize=3)\n",
        "\n",
        "    # Return gradients in both directions\n",
        "    return sobel_x, sobel_y\n",
        "# __________end of block__________\n"
      ]
    },
    {
      "cell_type": "code",
      "execution_count": null,
      "metadata": {
        "colab": {
          "base_uri": "https://localhost:8080/"
        },
        "id": "UuQ97CMSuUKs",
        "outputId": "6a260cce-c7da-4d59-a106-e72c7be6fd21"
      },
      "outputs": [
        {
          "output_type": "stream",
          "name": "stdout",
          "text": [
            "Everything seems fine!\n"
          ]
        }
      ],
      "source": [
        "# do not change the code in the block below\n",
        "# __________start of block__________\n",
        "image = train_fmnist_data[7][0][0].numpy()\n",
        "gradients_two_loops = compute_sobel_gradients_two_loops(image)\n",
        "gradients_opencv = compute_sobel_gradients_opencv(image)\n",
        "\n",
        "assert np.allclose(gradients_two_loops[0][1:-1, 1:-1], gradients_opencv[0][1:-1, 1:-1], atol=1e-2), \"gradients_two_loops[0] and gradients_opencv[0] are not close\"\n",
        "assert np.allclose(gradients_two_loops[1][1:-1, 1:-1], gradients_opencv[1][1:-1, 1:-1], atol=1e-2), \"gradients_two_loops[1] and gradients_opencv[1] are not close\"\n",
        "print(\"Everything seems fine!\")\n",
        "# __________end of block__________\n"
      ]
    },
    {
      "cell_type": "code",
      "execution_count": null,
      "metadata": {
        "colab": {
          "base_uri": "https://localhost:8080/",
          "height": 226
        },
        "id": "qDxW1EkzuUKs",
        "outputId": "994a14c3-c000-4098-dafb-124d221803b1"
      },
      "outputs": [
        {
          "output_type": "execute_result",
          "data": {
            "text/plain": [
              "<matplotlib.image.AxesImage at 0x78e2d8a05190>"
            ]
          },
          "metadata": {},
          "execution_count": 58
        },
        {
          "output_type": "display_data",
          "data": {
            "text/plain": [
              "<Figure size 640x480 with 3 Axes>"
            ],
            "image/png": "[encoded data removed]"
          },
          "metadata": {}
        }
      ],
      "source": [
        "image = random.choice(train_fmnist_data)[0][0].numpy()\n",
        "gradients_two_loops = compute_sobel_gradients_two_loops(image)\n",
        "\n",
        "plt.subplot(1, 3, 1)\n",
        "plt.imshow(image)\n",
        "plt.subplot(1, 3, 2)\n",
        "plt.imshow(gradients_two_loops[0])\n",
        "plt.subplot(1, 3, 3)\n",
        "plt.imshow(gradients_two_loops[1])"
      ]
    },
    {
      "cell_type": "markdown",
      "metadata": {
        "id": "6_eGaK_huUKs"
      },
      "source": [
        "#### Шаг 2. Подсчет градиентов в полярных координатах.\n",
        "Реализуйте две функции:\n",
        " * `compute_gradient_magnitude`, котрая считает евклидову норму градиента\n",
        " * `compute_gradient_direction`, которая счиает его направление в виде угла относительно оси $x$. Возвращаемый угол должен быть в диапазоне $(-180; 180]$."
      ]
    },
    {
      "cell_type": "code",
      "execution_count": null,
      "metadata": {
        "id": "zpcPSy4zuUKs"
      },
      "outputs": [],
      "source": [
        "import numpy as np # for your convenience when you copy the code to the contest\n",
        "def compute_gradient_magnitude(sobel_x, sobel_y):\n",
        "    '''\n",
        "    Compute the magnitude of the gradient given the x and y gradients.\n",
        "\n",
        "    Inputs:\n",
        "        sobel_x: numpy array of the x gradient.\n",
        "        sobel_y: numpy array of the y gradient.\n",
        "\n",
        "    Returns:\n",
        "        magnitude: numpy array of the same shape as the input [0] with the magnitude of the gradient.\n",
        "    '''\n",
        "    return np.sqrt(np.pow(sobel_x, 2) + np.pow(sobel_y, 2))\n",
        "\n",
        "\n",
        "def compute_gradient_direction(sobel_x, sobel_y):\n",
        "    '''\n",
        "    Compute the direction of the gradient given the x and y gradients. Angle must be in degrees in the range (-180; 180].\n",
        "    Use arctan2 function to compute the angle.\n",
        "\n",
        "    Inputs:\n",
        "        sobel_x: numpy array of the x gradient.\n",
        "        sobel_y: numpy array of the y gradient.\n",
        "\n",
        "    Returns:\n",
        "        gradient_direction: numpy array of the same shape as the input [0] with the direction of the gradient.\n",
        "    '''\n",
        "    return np.degrees(np.arctan2(sobel_y, sobel_x))\n"
      ]
    },
    {
      "cell_type": "code",
      "source": [
        "np.pow(2,3)"
      ],
      "metadata": {
        "colab": {
          "base_uri": "https://localhost:8080/"
        },
        "id": "2RtLxD9RRZ_4",
        "outputId": "457c8e18-f590-49a4-c881-96acf914003c"
      },
      "execution_count": null,
      "outputs": [
        {
          "output_type": "execute_result",
          "data": {
            "text/plain": [
              "np.int64(8)"
            ]
          },
          "metadata": {},
          "execution_count": 74
        }
      ]
    },
    {
      "cell_type": "markdown",
      "metadata": {
        "id": "d7sj-dwfuUKt"
      },
      "source": [
        "Небольшие тесты для функции `compute_gradient_direction`"
      ]
    },
    {
      "cell_type": "code",
      "execution_count": null,
      "metadata": {
        "colab": {
          "base_uri": "https://localhost:8080/"
        },
        "id": "61HkhpBfuUKt",
        "outputId": "0fb3e370-3ba4-4c66-9372-4938ef030f9e"
      },
      "outputs": [
        {
          "output_type": "stream",
          "name": "stdout",
          "text": [
            "Everything seems fine!\n"
          ]
        }
      ],
      "source": [
        "# do not change the code in the block below\n",
        "# __________start of block__________\n",
        "\n",
        "image = train_fmnist_data[7][0][0].numpy()\n",
        "gradients_two_loops = compute_sobel_gradients_two_loops(image)\n",
        "\n",
        "magnitudes = compute_gradient_magnitude(gradients_two_loops[0], gradients_two_loops[1])\n",
        "angles = compute_gradient_direction(gradients_two_loops[0], gradients_two_loops[1])\n",
        "assert np.all(magnitudes >= 0), \"Magnitudes should be non-negative\"\n",
        "assert np.all(angles > -180) and np.all(angles <= 180), \"Angles should be in the range (-180, 180]\"\n",
        "print(\"Everything seems fine!\")\n",
        "# __________end of block__________\n"
      ]
    },
    {
      "cell_type": "code",
      "source": [
        "image = train_fmnist_data[7][0][0].numpy()\n",
        "x, y = compute_sobel_gradients_two_loops(image)\n",
        "compute_gradient_direction(x, y)"
      ],
      "metadata": {
        "colab": {
          "base_uri": "https://localhost:8080/"
        },
        "id": "pyzNCfNmEVHg",
        "outputId": "65c058db-6764-4d0a-fbf0-fc77befdaa30"
      },
      "execution_count": null,
      "outputs": [
        {
          "output_type": "execute_result",
          "data": {
            "text/plain": [
              "array([[ 0.00000000e+00,  0.00000000e+00,  0.00000000e+00,\n",
              "         0.00000000e+00,  2.65650512e+01,  6.34349488e+01,\n",
              "         1.53434949e+02,  4.71210965e+01,  5.53048465e+01,\n",
              "         6.77638239e+01,  7.35385975e+01,  8.60196318e+01,\n",
              "         9.70420392e+01,  9.31424958e+01,  9.00000000e+01,\n",
              "         8.62977869e+01,  8.06747704e+01,  9.41462645e+01,\n",
              "         1.09902733e+02,  1.17818799e+02,  1.35000000e+02,\n",
              "         0.00000000e+00,  4.50000000e+01,  9.00000000e+01,\n",
              "         1.35000000e+02,  0.00000000e+00,  0.00000000e+00,\n",
              "         0.00000000e+00],\n",
              "       [ 0.00000000e+00,  0.00000000e+00,  0.00000000e+00,\n",
              "         4.50000000e+01,  3.09637565e+01, -1.35000000e+02,\n",
              "         4.52836402e+01,  6.54638453e+01,  7.25528118e+01,\n",
              "         6.68014095e+01,  7.15650512e+01,  8.61374845e+01,\n",
              "         9.50921151e+01,  9.40713628e+01,  8.94011113e+01,\n",
              "         8.55410045e+01,  8.42822168e+01,  9.37313971e+01,\n",
              "         1.11597672e+02,  1.17266597e+02,  1.09249526e+02,\n",
              "         1.12482430e+02,  1.34297020e+02,  4.50000000e+01,\n",
              "         1.35000000e+02,  1.35000000e+02,  0.00000000e+00,\n",
              "         0.00000000e+00],\n",
              "       [ 0.00000000e+00,  0.00000000e+00,  4.50000000e+01,\n",
              "         2.65650512e+01, -4.50000000e+01,  4.50000000e+01,\n",
              "         4.43867659e+01,  5.88309502e+01,  7.53084705e+01,\n",
              "         6.25432579e+01,  3.93594511e+01, -8.13843518e+01,\n",
              "        -9.74314080e+01, -1.38366461e+02, -7.71957339e+01,\n",
              "        -4.87517291e+01, -9.07848246e+01, -1.01309932e+02,\n",
              "         1.47050784e+02,  1.19267995e+02,  1.06997721e+02,\n",
              "         1.19684549e+02,  1.33939088e+02,  1.35000000e+02,\n",
              "        -1.35000000e+02,  1.53434949e+02,  1.35000000e+02,\n",
              "         0.00000000e+00],\n",
              "       [ 0.00000000e+00,  0.00000000e+00,  0.00000000e+00,\n",
              "        -4.50000000e+01,  4.42654789e+01,  3.24940012e+01,\n",
              "         3.55249680e+01,  4.52068431e+01, -4.50000000e+01,\n",
              "        -7.00168935e+01, -1.45007980e+02,  1.16565051e+02,\n",
              "         6.09453959e+01,  1.02264774e+02,  9.31798301e+01,\n",
              "         7.15650512e+01,  1.13099325e+01,  1.25537678e+02,\n",
              "        -6.34349488e+01, -9.40856168e+01,  1.36218875e+02,\n",
              "         1.32722391e+02,  1.42920067e+02,  1.46800772e+02,\n",
              "         1.35818455e+02, -1.35000000e+02,  1.80000000e+02,\n",
              "         0.00000000e+00],\n",
              "       [ 0.00000000e+00,  4.50000000e+01,  7.86900670e+01,\n",
              "         1.61565053e+02,  3.14072755e+01,  3.00973455e+01,\n",
              "         3.09637563e+01,  1.68690068e+02, -7.96951535e+01,\n",
              "         0.00000000e+00,  1.01309932e+02,  1.25537678e+02,\n",
              "        -7.86900675e+01, -7.40546041e+01, -9.48990925e+01,\n",
              "        -1.20963757e+02, -4.50000000e+01, -1.13099325e+01,\n",
              "         1.18300756e+02,  1.20963757e+02, -1.00304846e+02,\n",
              "         1.73659808e+02,  1.47514925e+02,  1.46053813e+02,\n",
              "         1.42947196e+02,  1.27568592e+02,  9.81301024e+01,\n",
              "         1.35000000e+02],\n",
              "       [ 0.00000000e+00,  0.00000000e+00,  0.00000000e+00,\n",
              "         4.59877604e+01,  3.16690860e+01,  3.09637567e+01,\n",
              "         4.40906196e+01,  1.58198591e+02,  1.49931417e+02,\n",
              "        -2.37494945e+01, -7.86900675e+01, -1.20963757e+02,\n",
              "         1.08434949e+02,  1.16565051e+02,  9.00000000e+01,\n",
              "         4.50000000e+01, -4.50000000e+01, -4.50000000e+01,\n",
              "        -9.00000000e+01, -1.39398705e+02,  1.77510447e+02,\n",
              "        -1.01309932e+02,  1.23789368e+02,  1.52689400e+02,\n",
              "         1.57169436e+02,  1.44977712e+02,  9.00000000e+01,\n",
              "         1.73659808e+02],\n",
              "       [ 0.00000000e+00, -4.50000000e+01, -9.00000000e+01,\n",
              "         2.15476652e+01,  2.49393971e+01,  3.13286936e+01,\n",
              "        -2.18014095e+01,  1.32397438e+02,  1.73659808e+02,\n",
              "        -1.34957333e+01, -6.94439548e+01, -7.59637565e+01,\n",
              "        -5.75288077e+01, -1.20963757e+02, -1.61565051e+02,\n",
              "         0.00000000e+00,  0.00000000e+00, -9.00000000e+01,\n",
              "        -1.23690068e+02, -1.46309932e+02, -1.49036243e+02,\n",
              "        -1.68690068e+02, -5.33215888e+00,  1.68846719e+02,\n",
              "         1.67005383e+02,  1.61462186e+02, -9.00000000e+01,\n",
              "        -1.46309932e+02],\n",
              "       [ 0.00000000e+00,  0.00000000e+00,  0.00000000e+00,\n",
              "         3.15794458e+00,  5.78764301e+00,  5.50805980e+01,\n",
              "         7.35237936e+00,  1.72568592e+02, -1.75236358e+02,\n",
              "        -1.62602047e+01, -7.86900675e+01, -8.10273734e+01,\n",
              "        -6.55560452e+01, -9.47636417e+01, -9.43987054e+01,\n",
              "        -8.25685920e+01, -8.69872125e+01, -1.03392498e+02,\n",
              "        -1.05642246e+02, -1.02528808e+02, -1.30601295e+02,\n",
              "        -1.49036243e+02,  1.39718103e+00,  1.54637832e+02,\n",
              "         1.64115283e+02,  1.66642049e+02, -9.00000000e+01,\n",
              "        -1.35000000e+02],\n",
              "       [ 0.00000000e+00,  0.00000000e+00,  4.50000000e+01,\n",
              "         6.44847568e+00,  3.86460762e+00,  1.80000000e+02,\n",
              "        -3.57633437e+00,  1.75236358e+02,  1.79464541e+02,\n",
              "        -2.59065080e+01, -7.70053832e+01, -9.24895529e+01,\n",
              "        -7.02011236e+01, -1.04931417e+02, -9.33664607e+01,\n",
              "        -7.59637565e+01, -8.61859252e+01, -1.03570434e+02,\n",
              "        -9.94623222e+01, -7.15650512e+01, -1.35000000e+02,\n",
              "         1.40362435e+01,  1.10409402e+01,  1.43219209e+02,\n",
              "         1.70745957e+02,  1.74008984e+02,  0.00000000e+00,\n",
              "         0.00000000e+00],\n",
              "       [ 0.00000000e+00,  0.00000000e+00,  1.93780040e+01,\n",
              "         7.39579524e+00,  6.30822746e+00,  1.37489553e+02,\n",
              "         1.58323866e+01,  1.61565051e+02,  1.75601295e+02,\n",
              "         2.44439548e+01, -3.09637565e+01, -1.01309932e+02,\n",
              "        -2.65650512e+01, -1.64744881e+02, -1.35000000e+02,\n",
              "        -6.34019175e+00, -9.00000000e+01, -1.35000000e+02,\n",
              "         1.13099325e+01, -4.50000000e+01, -1.59775141e+02,\n",
              "         1.56422465e+01,  2.00560947e+01,  1.35000000e+02,\n",
              "         1.77557021e+02,  1.78537447e+02,  0.00000000e+00,\n",
              "         0.00000000e+00],\n",
              "       [ 0.00000000e+00,  0.00000000e+00,  1.21886331e+01,\n",
              "         6.65632065e+00,  5.79524992e+00,  1.43530766e+02,\n",
              "         1.44702941e+01, -1.69777831e+02, -1.71027373e+02,\n",
              "         6.49831065e+01,  9.00000000e+01,  7.15650512e+01,\n",
              "         2.31985905e+01,  1.61565051e+02,  9.00000000e+01,\n",
              "         2.90546041e+01,  1.20963757e+02,  1.35000000e+02,\n",
              "         3.09637565e+01,  1.40710593e+02,  1.67471192e+02,\n",
              "         8.74616226e+00,  6.34019175e+00, -1.35000000e+02,\n",
              "         1.75108228e+02,  1.72673593e+02,  1.35000000e+02,\n",
              "         0.00000000e+00],\n",
              "       [ 0.00000000e+00,  0.00000000e+00,  8.17528829e+00,\n",
              "         6.16562414e+00,  6.31773162e+00, -1.75914383e+02,\n",
              "        -1.45344551e+01, -1.65963757e+02, -1.60769328e+02,\n",
              "         0.00000000e+00, -1.68690068e+02, -2.31985905e+01,\n",
              "         1.13099325e+01,  1.49036243e+02,  9.00000000e+01,\n",
              "         3.09637565e+01,  1.56801409e+02,  1.80000000e+02,\n",
              "         1.95366549e+01,  1.46888658e+02,  1.59775141e+02,\n",
              "         1.29946168e+01,  9.27263110e+01, -1.12380135e+02,\n",
              "         1.67292055e+02,  1.61634458e+02,  1.48914725e+02,\n",
              "         0.00000000e+00],\n",
              "       [ 0.00000000e+00,  0.00000000e+00, -1.59516627e+00,\n",
              "        -1.12550896e+00, -7.75717461e-01, -1.69992020e+02,\n",
              "        -3.73039483e+01, -1.59904769e+02, -1.63610460e+02,\n",
              "         9.46232221e+00, -1.71027373e+02,  1.00079798e+01,\n",
              "         6.68014095e+01,  9.00000000e+01,  9.00000000e+01,\n",
              "         4.50000000e+01,  1.53434949e+02, -1.64744881e+02,\n",
              "         0.00000000e+00,  1.63810794e+02,  1.47094757e+02,\n",
              "         4.39870535e+00, -1.62474432e+02, -1.26253838e+02,\n",
              "         1.60665190e+02,  1.66278339e+02,  1.67988522e+02,\n",
              "         0.00000000e+00],\n",
              "       [ 0.00000000e+00,  0.00000000e+00,  1.25533665e+01,\n",
              "         1.19597623e+01,  1.32558728e+01, -1.67005383e+02,\n",
              "        -8.13010235e+00,  1.62181111e+02,  1.08434949e+02,\n",
              "         9.81301024e+01,  1.68690068e+02,  7.43140797e+00,\n",
              "         7.15650512e+01,  4.50000000e+01,  0.00000000e+00,\n",
              "         0.00000000e+00,  1.64744881e+02, -1.75601295e+02,\n",
              "        -1.02221686e+01,  1.73659808e+02,  9.87461623e+01,\n",
              "         4.18491613e+00, -1.55556045e+02, -6.09453959e+01,\n",
              "         1.54895431e+02,  1.70585529e+02,  1.73350457e+02,\n",
              "         1.35000000e+02],\n",
              "       [ 0.00000000e+00,  0.00000000e+00,  1.15420151e+01,\n",
              "         1.66254773e+01,  4.13987221e+01,  1.78781125e+02,\n",
              "         6.34019175e+00, -1.63178590e+02,  4.50000000e+01,\n",
              "         1.52102729e+02,  1.80000000e+02, -2.29061004e+00,\n",
              "         0.00000000e+00,  0.00000000e+00,  0.00000000e+00,\n",
              "         0.00000000e+00,  1.61565051e+02,  1.76820170e+02,\n",
              "        -1.13099325e+01,  3.36646066e+00,  5.94702941e+01,\n",
              "         4.95739213e+01,  1.78919076e+02,  2.26198649e+01,\n",
              "         1.19981639e+02,  1.74468605e+02,  1.76973965e+02,\n",
              "         1.80000000e+02],\n",
              "       [ 0.00000000e+00,  4.50000000e+01,  5.78764324e+00,\n",
              "         5.92684768e+00,  1.30914383e+02,  1.20963757e+02,\n",
              "        -1.54983107e+02, -1.24508523e+02, -3.36900675e+01,\n",
              "         1.80000000e+02, -1.77878904e+02, -1.22647737e+01,\n",
              "        -4.50000000e+01,  4.50000000e+01,  9.00000000e+01,\n",
              "         6.68014095e+01, -1.65963757e+02, -1.76633539e+02,\n",
              "        -1.72414594e+01, -3.12213046e+00,  2.65650512e+01,\n",
              "         1.65579227e+02, -1.64054604e+02,  1.28042661e+01,\n",
              "         1.05945396e+02, -1.79879631e+02, -1.79699395e+02,\n",
              "        -1.35000000e+02],\n",
              "       [ 0.00000000e+00,  3.17872533e+01,  1.04345878e+01,\n",
              "         6.88778641e+00,  1.75030259e+02,  6.02551187e+01,\n",
              "        -1.75683972e+02, -1.45885527e+02, -3.44738685e+00,\n",
              "        -1.66429566e+02, -1.60201124e+02, -3.20053832e+01,\n",
              "        -2.97448813e+01,  1.25288077e+01,  9.63401917e+01,\n",
              "         1.46309932e+02, -1.68690068e+02, -1.73659808e+02,\n",
              "        -5.75288077e+01, -2.09245017e+01, -3.18274466e+01,\n",
              "        -1.48448615e+02, -1.71869898e+02,  1.84349488e+01,\n",
              "         7.15650512e+01,  1.76457354e+02,  1.78133588e+02,\n",
              "         0.00000000e+00],\n",
              "       [ 0.00000000e+00,  1.10785916e+01,  6.26619836e+00,\n",
              "         4.12390784e+00, -1.59443955e+02,  1.52551187e+01,\n",
              "         1.73088773e+02,  1.18610460e+02,  1.03758449e+01,\n",
              "        -1.69824489e+02, -1.54653824e+02, -3.24711923e+01,\n",
              "        -4.39870535e+00,  0.00000000e+00, -1.26869898e+02,\n",
              "        -1.26869898e+02,  1.80000000e+02,  1.61565051e+02,\n",
              "        -1.76185925e+02, -3.75041424e+01, -6.37586503e+01,\n",
              "        -1.05068488e+02,  1.77838884e+01,  6.34349488e+01,\n",
              "        -1.13099325e+01, -1.79878094e+02,  1.79830986e+02,\n",
              "         0.00000000e+00],\n",
              "       [ 0.00000000e+00, -1.39377971e+01, -7.59464355e+00,\n",
              "        -6.85707246e+00, -1.46309932e+02, -1.47435628e+01,\n",
              "         1.72998732e+02,  1.00619655e+02,  9.78240703e+00,\n",
              "        -1.55772255e+02, -1.41340192e+02,  4.39870535e+00,\n",
              "         1.66992442e+01,  6.09453959e+01, -1.52102729e+02,\n",
              "        -8.05376778e+01, -1.46309932e+02,  1.41340192e+02,\n",
              "         1.60463345e+02, -3.09637565e+01, -6.05241110e+01,\n",
              "        -1.75255684e+01,  6.74557965e+00,  1.74093859e+02,\n",
              "        -2.21663458e+01, -1.79690964e+02,  1.80000000e+02,\n",
              "         0.00000000e+00],\n",
              "       [ 0.00000000e+00,  3.15071614e+00,  1.34788720e+00,\n",
              "         4.25666581e-01, -1.45491477e+02, -4.14462374e+00,\n",
              "         1.55772255e+02,  1.44782407e+02, -1.22905243e+02,\n",
              "        -1.43972627e+02,  5.63099325e+01,  4.02363583e+01,\n",
              "         2.72631099e+00, -1.43130102e+02, -1.63072487e+02,\n",
              "        -2.65650512e+01,  4.50000000e+01,  8.05376778e+01,\n",
              "         1.52102729e+02,  1.45304846e+02, -3.36900675e+01,\n",
              "         6.70983681e+00,  8.13010235e+00, -1.72746805e+02,\n",
              "        -1.94400348e+01, -1.79812963e+02,  1.80000000e+02,\n",
              "         0.00000000e+00],\n",
              "       [ 0.00000000e+00,  2.13018262e+01,  1.60788490e+01,\n",
              "         1.53332854e+01, -1.46560131e+02, -7.23692203e+00,\n",
              "        -1.49381394e+02, -1.05292987e+02, -3.09637574e+01,\n",
              "         9.54403320e+01,  9.42678933e+01,  9.63401917e+01,\n",
              "         3.81407483e+00, -1.08434949e+02, -1.71869898e+02,\n",
              "         2.65650512e+01,  2.18014095e+01,  4.50000000e+01,\n",
              "         1.11250506e+02,  9.47636417e+01,  1.41632515e+02,\n",
              "        -2.34046896e+01, -9.46232221e+00, -1.76378515e+02,\n",
              "        -1.31725534e+01,  1.78649844e+02,  1.77417822e+02,\n",
              "         1.35000000e+02],\n",
              "       [ 0.00000000e+00,  7.38257642e+00,  8.08230314e+00,\n",
              "         1.23005401e+01, -1.70837653e+02, -4.51398846e+00,\n",
              "        -1.56376077e+02, -1.06869879e+02, -3.63072184e+01,\n",
              "        -3.95596680e+01,  8.64964684e+01,  1.12557247e+02,\n",
              "         1.31308614e+02,  6.76198649e+01,  1.01309932e+02,\n",
              "         9.00000000e+01,  6.34349488e+01,  1.74471884e+01,\n",
              "         6.05928109e+01,  1.23690068e+02, -1.48404562e+02,\n",
              "        -7.48422134e+01, -2.63950352e+01, -1.75006256e+02,\n",
              "        -1.20305961e+01,  1.72671480e+02,  1.68798132e+02,\n",
              "         1.45508022e+02],\n",
              "       [ 0.00000000e+00,  4.18209904e-01,  5.76396812e-01,\n",
              "         5.09211512e+00,  1.58198591e+02,  3.87125623e+00,\n",
              "        -1.74442408e+02, -1.41022114e+02, -5.28855352e+01,\n",
              "        -7.85782499e+01, -8.74433199e+01, -9.12293343e+01,\n",
              "        -9.15481575e+01, -8.81043778e+01, -9.02754583e+01,\n",
              "        -9.05495829e+01, -9.11525407e+01, -8.84413160e+01,\n",
              "        -8.78516482e+01, -9.49926089e+01, -1.12073546e+02,\n",
              "        -6.02647766e+01, -1.79151430e+01, -1.79492971e+02,\n",
              "        -7.59464337e+00,  1.64687181e+02,  1.63420414e+02,\n",
              "         1.58962489e+02],\n",
              "       [ 0.00000000e+00, -1.64128170e+01, -1.66418079e+01,\n",
              "        -1.74314642e+01,  1.49036243e+02,  1.02568198e+01,\n",
              "        -1.79938852e+02, -1.71034052e+02, -6.55907284e+01,\n",
              "        -8.29005664e+01, -8.82679131e+01, -8.96484965e+01,\n",
              "        -8.86116490e+01, -8.78608107e+01, -9.01216469e+01,\n",
              "        -9.04280288e+01, -9.12346317e+01, -9.13407204e+01,\n",
              "        -9.04686668e+01, -9.30826447e+01, -1.02902741e+02,\n",
              "        -2.66523483e+01, -9.08007281e+00, -1.64981639e+02,\n",
              "         0.00000000e+00,  1.77737210e+02,  1.77997467e+02,\n",
              "         1.78210090e+02],\n",
              "       [ 0.00000000e+00, -4.01354854e+01, -3.55921808e+01,\n",
              "        -4.06535363e+01, -5.36525412e+01, -9.31798301e+01,\n",
              "        -1.69573260e+02, -1.74301713e+02,  0.00000000e+00,\n",
              "         0.00000000e+00,  4.50000000e+01,  0.00000000e+00,\n",
              "        -4.00302597e+01, -7.36104601e+01, -9.08814039e+01,\n",
              "        -9.26425451e+01, -9.78533136e+01, -1.22905244e+02,\n",
              "        -1.61565053e+02,  1.08434949e+02,  9.00000000e+01,\n",
              "        -6.91727282e+00, -1.12873744e+01, -5.11466257e+01,\n",
              "        -1.36363928e+02, -1.48288654e+02, -1.55685590e+02,\n",
              "        -1.56834663e+02],\n",
              "       [ 0.00000000e+00, -4.50000000e+01, -4.23369994e+01,\n",
              "        -3.01231549e+01, -2.00803356e+01, -1.69534662e+02,\n",
              "        -1.73865861e+02, -1.76226063e+02,  9.00000000e+01,\n",
              "         1.35000000e+02,  0.00000000e+00,  0.00000000e+00,\n",
              "         0.00000000e+00,  0.00000000e+00,  1.80000000e+02,\n",
              "         1.80000000e+02,  1.80000000e+02,  1.80000000e+02,\n",
              "         1.80000000e+02,  6.34349488e+01,  9.00000000e+01,\n",
              "        -1.04914768e+01, -1.33820861e+01, -1.60908173e+01,\n",
              "        -1.56982438e+02, -1.50815044e+02, -1.48523161e+02,\n",
              "        -1.35000000e+02],\n",
              "       [ 0.00000000e+00,  0.00000000e+00, -4.30908475e+01,\n",
              "        -1.35751546e+01, -2.99609158e+01, -1.08674178e+02,\n",
              "        -1.54975539e+02, -1.69386403e+02,  9.00000000e+01,\n",
              "         1.71253838e+02, -4.50000000e+01, -6.34349488e+01,\n",
              "        -7.59637571e+01, -8.72736893e+01, -9.27263107e+01,\n",
              "        -9.30127872e+01, -9.33664603e+01, -9.81301024e+01,\n",
              "        -1.16565051e+02, -6.80350842e-07,  9.00000000e+01,\n",
              "        -8.91749500e+00, -8.81644257e+00, -1.09711591e+01,\n",
              "        -1.67305658e+02, -1.66865978e+02, -1.64400915e+02,\n",
              "         0.00000000e+00],\n",
              "       [ 0.00000000e+00,  0.00000000e+00,  0.00000000e+00,\n",
              "        -2.88937257e+01, -6.06234373e+01, -9.78553869e+01,\n",
              "        -1.22703393e+02, -1.43800198e+02, -9.00000000e+01,\n",
              "        -1.49931418e+02,  0.00000000e+00,  0.00000000e+00,\n",
              "         0.00000000e+00,  0.00000000e+00,  0.00000000e+00,\n",
              "         0.00000000e+00,  0.00000000e+00,  0.00000000e+00,\n",
              "         0.00000000e+00, -2.18014100e+01, -9.00000000e+01,\n",
              "        -2.26040328e+01, -3.21196890e+01, -6.23031947e+01,\n",
              "        -1.22030746e+02, -1.51124101e+02, -1.61241350e+02,\n",
              "         0.00000000e+00]])"
            ]
          },
          "metadata": {},
          "execution_count": 61
        }
      ]
    },
    {
      "cell_type": "markdown",
      "metadata": {
        "id": "hrcllIE1uUKt"
      },
      "source": [
        "Пример визуализации итоговых границ, полученных с помощью фильтра Собеля:"
      ]
    },
    {
      "cell_type": "code",
      "source": [
        "x.shape"
      ],
      "metadata": {
        "colab": {
          "base_uri": "https://localhost:8080/"
        },
        "id": "PCd7VzfFIExt",
        "outputId": "5b73ff18-5074-4e12-ec31-34820e10e7e2"
      },
      "execution_count": null,
      "outputs": [
        {
          "output_type": "execute_result",
          "data": {
            "text/plain": [
              "(28, 28)"
            ]
          },
          "metadata": {},
          "execution_count": 62
        }
      ]
    },
    {
      "cell_type": "code",
      "execution_count": null,
      "metadata": {
        "colab": {
          "base_uri": "https://localhost:8080/",
          "height": 304
        },
        "id": "bdeBoylVuUKt",
        "outputId": "b27e3ff3-5c6a-444a-d61c-fa8f08dc893b"
      },
      "outputs": [
        {
          "output_type": "execute_result",
          "data": {
            "text/plain": [
              "<matplotlib.image.AxesImage at 0x78e2e6a98710>"
            ]
          },
          "metadata": {},
          "execution_count": 63
        },
        {
          "output_type": "display_data",
          "data": {
            "text/plain": [
              "<Figure size 640x480 with 2 Axes>"
            ],
            "image/png": "[encoded data removed]"
          },
          "metadata": {}
        }
      ],
      "source": [
        "image = random.choice(train_fmnist_data)[0][0].numpy()\n",
        "magnitudes = compute_gradient_magnitude(*compute_sobel_gradients_two_loops(image))\n",
        "\n",
        "plt.subplot(1, 2, 1)\n",
        "plt.imshow(image)\n",
        "plt.subplot(1, 2, 2)\n",
        "plt.imshow(magnitudes)"
      ]
    },
    {
      "cell_type": "markdown",
      "metadata": {
        "id": "O1IsgMFKuUKt"
      },
      "source": [
        "#### Шаг 3. Упрощённый вариант HoG.\n",
        "Вам предстоит реализовать гистограмму ориентированных градиентов (HoG). В общем виде это происходит следующим образом:\n",
        "1. Перевод изображения в одноканальное. Если изображение цветное, то оно долнжо быть преобразовано в оттенки серого. Можно воспользоваться формулой из [Wiki](https://en.wikipedia.org/wiki/Grayscale):\n",
        "$$\n",
        "\\text{brightness}_{i, j} = \\text{Red}_{i, j} * 0.2126 + \\text{Green}_{i, j} * 0.7152 + \\text{Blue}_{i, j} * 0.0722,\n",
        "$$\n",
        "но для простоты просто будем усреднять все каналы.\n",
        "\n",
        "*Примечание: это далеко не единственный способ преобразования, и он может быть нелинейным. Подробности доступны по ссылке выше*.\n",
        "\n",
        "2. Вычисление градиентов изображения с помощью фитра Собеля.\n",
        "\n",
        "3. Определение направления и нормы градиента для каждого пикселя.\n",
        "\n",
        "4. Построение гистограмм направлений градиентов. Для этого изображение разбивается на непересекающиеся квадратные ячейки. Размер каждой ячейки задается параметром `pixels_per_cell`, который по умолчанию равен равным (8, 8). Для каждой ячейки изображения строится гистограмму направлений градиентов. Для этого:\n",
        "    * Каждое направление градиента будет отнесено к определенному бину (всего 9 бинов от -180 до 180).\n",
        "    * Для каждого бина все попавшие в нее нормы суммируются.\n",
        "    * Построенная гистограмма нормируется (чтобы сумма всех бинов была равна 1).\n",
        "5. Групповая нормализация гистограмм. Для большей адаптивности метода к изменениям освещенности производится нормировка. Подробнее о ней можно почитать [здесь](https://scikit-image.org/docs/dev/auto_examples/features_detection/plot_hog.html). В данном задании она производиться **не будет**.\n",
        "\n",
        "На этом этапе вам нужно выполнить только шаги 1-4. Обратите внимание, что **групповая нормализация** гистограмм не выполняется (этот шаг пропущен)."
      ]
    },
    {
      "cell_type": "code",
      "execution_count": null,
      "metadata": {
        "id": "w19UlOoouUKu"
      },
      "outputs": [],
      "source": [
        "cell_size = 7\n",
        "def compute_hog(image, pixels_per_cell=(cell_size, cell_size), bins=9):\n",
        "    # 1. Convert the image to grayscale if it's not already (assuming the image is in RGB or BGR)\n",
        "    if len(image.shape) == 3:\n",
        "        image = np.mean(image, axis=2)  # Simple averaging to convert to grayscale\n",
        "\n",
        "\n",
        "    # 2. Compute gradients with Sobel filter\n",
        "    gradient_x, gradient_y = compute_sobel_gradients_two_loops(image)\n",
        "\n",
        "    # 3. Compute gradient magnitude and direction\n",
        "    magnitude = compute_gradient_magnitude(gradient_x, gradient_y)\n",
        "    direction = compute_gradient_direction(gradient_x, gradient_y)\n",
        "\n",
        "\n",
        "    # 4. Create histograms of gradient directions for each cell\n",
        "    cell_height, cell_width = pixels_per_cell\n",
        "    n_cells_x = image.shape[1] // cell_width\n",
        "    n_cells_y = image.shape[0] // cell_height\n",
        "\n",
        "    histograms = np.zeros((n_cells_y, n_cells_x, bins))\n",
        "\n",
        "    for i in range(n_cells_y):\n",
        "        for j in range(n_cells_x):\n",
        "            cell_magnitude = magnitude[i* cell_height: (i+1)* cell_height, j* cell_width: (j+1)* cell_width]\n",
        "            cell_direction = direction[i* cell_height: (i+1)* cell_height, j* cell_width: (j+1)* cell_width]\n",
        "\n",
        "            bin_edges = np.linspace(-180, 180, bins+1)\n",
        "            cell_histogram, _ = np.histogram(a=cell_direction, weights = cell_magnitude, range=(-180, 180) ,bins=bin_edges)\n",
        "            eps = 1e-7\n",
        "            histograms[i, j] = cell_histogram / (np.sum(cell_histogram) + eps)\n",
        "\n",
        "    return histograms"
      ]
    },
    {
      "cell_type": "code",
      "source": [
        "# do not change the code in the block below\n",
        "# __________start of block__________\n",
        "import numpy as np\n",
        "def compute_sobel_gradients_two_loops(image):\n",
        "    # Get image dimensions\n",
        "    height, width = image.shape\n",
        "\n",
        "    # Initialize output gradients\n",
        "    gradient_x = np.zeros_like(image, dtype=np.float64)\n",
        "    gradient_y = np.zeros_like(image, dtype=np.float64)\n",
        "\n",
        "    # Pad the image with zeros to handle borders\n",
        "    padded_image = np.pad(image, ((1, 1), (1, 1)), mode='constant', constant_values=0)\n",
        "# __________end of block__________\n",
        "\n",
        "    # Define the Sobel kernels for X and Y gradients\n",
        "    sobel_x = np.array([[-1, 0, 1], [-2, 0, 2], [-1, 0, 1]])\n",
        "    sobel_y = np.array([[-1, -2, -1], [0 , 0, 0], [1, 2, 1]])\n",
        "\n",
        "    # Apply Sobel filter for X and Y gradients using convolution\n",
        "    for i in range(1, height + 1):\n",
        "        for j in range(1, width + 1):\n",
        "          window = padded_image[i - 1: i + 2, j - 1: j + 2]\n",
        "\n",
        "          gradient_x[i-1, j-1] = np.vdot(window, sobel_x)\n",
        "          gradient_y[i-1, j-1] = np.vdot(window, sobel_y)\n",
        "\n",
        "    return gradient_x, gradient_y\n",
        "\n",
        "\n",
        "import numpy as np # for your convenience when you copy the code to the contest\n",
        "def compute_gradient_magnitude(sobel_x, sobel_y):\n",
        "    '''\n",
        "    Compute the magnitude of the gradient given the x and y gradients.\n",
        "\n",
        "    Inputs:\n",
        "        sobel_x: numpy array of the x gradient.\n",
        "        sobel_y: numpy array of the y gradient.\n",
        "\n",
        "    Returns:\n",
        "        magnitude: numpy array of the same shape as the input [0] with the magnitude of the gradient.\n",
        "    '''\n",
        "    return np.sqrt(sobel_x**2 + sobel_y**2)\n",
        "\n",
        "\n",
        "def compute_gradient_direction(sobel_x, sobel_y):\n",
        "    '''\n",
        "    Compute the direction of the gradient given the x and y gradients. Angle must be in degrees in the range (-180; 180].\n",
        "    Use arctan2 function to compute the angle.\n",
        "\n",
        "    Inputs:\n",
        "        sobel_x: numpy array of the x gradient.\n",
        "        sobel_y: numpy array of the y gradient.\n",
        "\n",
        "    Returns:\n",
        "        gradient_direction: numpy array of the same shape as the input [0] with the direction of the gradient.\n",
        "    '''\n",
        "    return np.degrees(np.arctan2(sobel_y, sobel_x))\n",
        "\n",
        "cell_size = 7\n",
        "def compute_hog(image, pixels_per_cell=(cell_size, cell_size), bins=9):\n",
        "    # 1. Convert the image to grayscale if it's not already (assuming the image is in RGB or BGR)\n",
        "    if len(image.shape) == 3:\n",
        "        image = np.mean(image, axis=2)  # Simple averaging to convert to grayscale\n",
        "\n",
        "\n",
        "    # 2. Compute gradients with Sobel filter\n",
        "    gradient_x, gradient_y = compute_sobel_gradients_two_loops(image)\n",
        "\n",
        "    # 3. Compute gradient magnitude and direction\n",
        "    magnitude = compute_gradient_magnitude(gradient_x, gradient_y)\n",
        "    direction = compute_gradient_direction(gradient_x, gradient_y)\n",
        "\n",
        "\n",
        "    # 4. Create histograms of gradient directions for each cell\n",
        "    cell_height, cell_width = pixels_per_cell\n",
        "    n_cells_x = image.shape[1] // cell_width\n",
        "    n_cells_y = image.shape[0] // cell_height\n",
        "\n",
        "    histograms = np.zeros((n_cells_y, n_cells_x, bins))\n",
        "\n",
        "    for i in range(n_cells_y):\n",
        "        for j in range(n_cells_x):\n",
        "            cell_magnitude = magnitude[i* cell_height: (i+1)* cell_height, j* cell_width: (j+1)* cell_width]\n",
        "            cell_direction = direction[i* cell_height: (i+1)* cell_height, j* cell_width: (j+1)* cell_width]\n",
        "\n",
        "            bin_edges = np.linspace(-180, 180, bins+1)\n",
        "            cell_histogram, _ = np.histogram(a=cell_direction, weights = cell_magnitude, range=(-180, 180) ,bins=bin_edges)\n",
        "            eps = 1e-7\n",
        "            histograms[i, j] = cell_histogram / (np.sum(cell_histogram) + eps)\n",
        "\n",
        "    return histograms\n"
      ],
      "metadata": {
        "id": "fa49hcfPWuPn"
      },
      "execution_count": null,
      "outputs": []
    },
    {
      "cell_type": "markdown",
      "metadata": {
        "id": "gBh2fw2duUKu"
      },
      "source": [
        "Для запуска тестов ниже файлы `hog_data.npy` и `image_data.npy` из репозитория должны быть доступны в той же директории, что и ноутбук. Вы можете скачать их в репозитории."
      ]
    },
    {
      "cell_type": "code",
      "execution_count": null,
      "metadata": {
        "colab": {
          "base_uri": "https://localhost:8080/",
          "height": 1000
        },
        "id": "uOx7DdjuuUKu",
        "outputId": "27daeaf9-e483-48cf-d6eb-3fa7e4f679f2"
      },
      "outputs": [
        {
          "output_type": "stream",
          "name": "stdout",
          "text": [
            "Everything seems fine! 0\n",
            "Everything seems fine! 1\n",
            "Everything seems fine! 2\n",
            "Everything seems fine! 3\n",
            "Everything seems fine! 4\n",
            "Everything seems fine! 5\n",
            "Everything seems fine! 6\n",
            "Everything seems fine! 7\n",
            "Everything seems fine! 8\n",
            "Everything seems fine! 9\n",
            "Everything seems fine! 10\n",
            "Everything seems fine! 11\n",
            "Everything seems fine! 12\n",
            "Everything seems fine! 13\n",
            "Everything seems fine! 14\n",
            "Everything seems fine! 15\n",
            "Everything seems fine! 16\n",
            "Everything seems fine! 17\n",
            "Everything seems fine! 18\n",
            "Everything seems fine! 19\n",
            "Everything seems fine! 20\n",
            "Everything seems fine! 21\n",
            "Everything seems fine! 22\n",
            "Everything seems fine! 23\n",
            "Everything seems fine! 24\n",
            "Everything seems fine! 25\n",
            "Everything seems fine! 26\n",
            "Everything seems fine! 27\n",
            "Everything seems fine! 28\n",
            "Everything seems fine! 29\n",
            "Everything seems fine! 30\n",
            "Everything seems fine! 31\n",
            "Everything seems fine! 32\n",
            "Everything seems fine! 33\n",
            "Everything seems fine! 34\n",
            "Everything seems fine! 35\n",
            "Everything seems fine! 36\n",
            "Everything seems fine! 37\n",
            "Everything seems fine! 38\n",
            "Everything seems fine! 39\n",
            "Everything seems fine! 40\n",
            "Everything seems fine! 41\n",
            "Everything seems fine! 42\n",
            "Everything seems fine! 43\n",
            "Everything seems fine! 44\n",
            "Everything seems fine! 45\n",
            "Everything seems fine! 46\n",
            "Everything seems fine! 47\n",
            "Everything seems fine! 48\n",
            "Everything seems fine! 49\n",
            "Everything seems fine! 50\n"
          ]
        },
        {
          "output_type": "error",
          "ename": "KeyboardInterrupt",
          "evalue": "",
          "traceback": [
            "\u001b[0;31m---------------------------------------------------------------------------\u001b[0m",
            "\u001b[0;31mKeyboardInterrupt\u001b[0m                         Traceback (most recent call last)",
            "\u001b[0;32m<ipython-input-79-008acc789cfd>\u001b[0m in \u001b[0;36m<cell line: 0>\u001b[0;34m()\u001b[0m\n\u001b[1;32m     15\u001b[0m       \u001b[0mimage_data\u001b[0m \u001b[0;34m=\u001b[0m \u001b[0mnp\u001b[0m\u001b[0;34m.\u001b[0m\u001b[0mload\u001b[0m\u001b[0;34m(\u001b[0m\u001b[0mf\u001b[0m\u001b[0;34m,\u001b[0m \u001b[0mallow_pickle\u001b[0m\u001b[0;34m=\u001b[0m\u001b[0;32mTrue\u001b[0m\u001b[0;34m)\u001b[0m\u001b[0;34m\u001b[0m\u001b[0;34m\u001b[0m\u001b[0m\n\u001b[1;32m     16\u001b[0m   \u001b[0;32mfor\u001b[0m \u001b[0mtest_image\u001b[0m\u001b[0;34m,\u001b[0m \u001b[0mtest_hog\u001b[0m \u001b[0;32min\u001b[0m \u001b[0mzip\u001b[0m\u001b[0;34m(\u001b[0m\u001b[0mimage_data\u001b[0m\u001b[0;34m,\u001b[0m \u001b[0mhog_data\u001b[0m\u001b[0;34m)\u001b[0m\u001b[0;34m:\u001b[0m\u001b[0;34m\u001b[0m\u001b[0;34m\u001b[0m\u001b[0m\n\u001b[0;32m---> 17\u001b[0;31m       \u001b[0mhog\u001b[0m \u001b[0;34m=\u001b[0m \u001b[0mcompute_hog\u001b[0m\u001b[0;34m(\u001b[0m\u001b[0mtest_image\u001b[0m\u001b[0;34m)\u001b[0m\u001b[0;34m\u001b[0m\u001b[0;34m\u001b[0m\u001b[0m\n\u001b[0m\u001b[1;32m     18\u001b[0m       \u001b[0;32massert\u001b[0m \u001b[0mnp\u001b[0m\u001b[0;34m.\u001b[0m\u001b[0mallclose\u001b[0m\u001b[0;34m(\u001b[0m\u001b[0mhog\u001b[0m\u001b[0;34m,\u001b[0m \u001b[0mtest_hog\u001b[0m\u001b[0;34m)\u001b[0m\u001b[0;34m,\u001b[0m \u001b[0;34m\"hog should be the same\"\u001b[0m\u001b[0;34m\u001b[0m\u001b[0;34m\u001b[0m\u001b[0m\n\u001b[1;32m     19\u001b[0m \u001b[0;34m\u001b[0m\u001b[0m\n",
            "\u001b[0;32m<ipython-input-78-98ab077409e7>\u001b[0m in \u001b[0;36mcompute_hog\u001b[0;34m(image, pixels_per_cell, bins)\u001b[0m\n\u001b[1;32m     85\u001b[0m             \u001b[0mcell_direction\u001b[0m \u001b[0;34m=\u001b[0m \u001b[0mdirection\u001b[0m\u001b[0;34m[\u001b[0m\u001b[0mi\u001b[0m\u001b[0;34m*\u001b[0m \u001b[0mcell_height\u001b[0m\u001b[0;34m:\u001b[0m \u001b[0;34m(\u001b[0m\u001b[0mi\u001b[0m\u001b[0;34m+\u001b[0m\u001b[0;36m1\u001b[0m\u001b[0;34m)\u001b[0m\u001b[0;34m*\u001b[0m \u001b[0mcell_height\u001b[0m\u001b[0;34m,\u001b[0m \u001b[0mj\u001b[0m\u001b[0;34m*\u001b[0m \u001b[0mcell_width\u001b[0m\u001b[0;34m:\u001b[0m \u001b[0;34m(\u001b[0m\u001b[0mj\u001b[0m\u001b[0;34m+\u001b[0m\u001b[0;36m1\u001b[0m\u001b[0;34m)\u001b[0m\u001b[0;34m*\u001b[0m \u001b[0mcell_width\u001b[0m\u001b[0;34m]\u001b[0m\u001b[0;34m\u001b[0m\u001b[0;34m\u001b[0m\u001b[0m\n\u001b[1;32m     86\u001b[0m \u001b[0;34m\u001b[0m\u001b[0m\n\u001b[0;32m---> 87\u001b[0;31m             \u001b[0mbin_edges\u001b[0m \u001b[0;34m=\u001b[0m \u001b[0mnp\u001b[0m\u001b[0;34m.\u001b[0m\u001b[0mlinspace\u001b[0m\u001b[0;34m(\u001b[0m\u001b[0;34m-\u001b[0m\u001b[0;36m180\u001b[0m\u001b[0;34m,\u001b[0m \u001b[0;36m180\u001b[0m\u001b[0;34m,\u001b[0m \u001b[0mbins\u001b[0m\u001b[0;34m+\u001b[0m\u001b[0;36m1\u001b[0m\u001b[0;34m)\u001b[0m\u001b[0;34m\u001b[0m\u001b[0;34m\u001b[0m\u001b[0m\n\u001b[0m\u001b[1;32m     88\u001b[0m             \u001b[0mcell_histogram\u001b[0m\u001b[0;34m,\u001b[0m \u001b[0m_\u001b[0m \u001b[0;34m=\u001b[0m \u001b[0mnp\u001b[0m\u001b[0;34m.\u001b[0m\u001b[0mhistogram\u001b[0m\u001b[0;34m(\u001b[0m\u001b[0ma\u001b[0m\u001b[0;34m=\u001b[0m\u001b[0mcell_direction\u001b[0m\u001b[0;34m,\u001b[0m \u001b[0mweights\u001b[0m \u001b[0;34m=\u001b[0m \u001b[0mcell_magnitude\u001b[0m\u001b[0;34m,\u001b[0m \u001b[0mrange\u001b[0m\u001b[0;34m=\u001b[0m\u001b[0;34m(\u001b[0m\u001b[0;34m-\u001b[0m\u001b[0;36m180\u001b[0m\u001b[0;34m,\u001b[0m \u001b[0;36m180\u001b[0m\u001b[0;34m)\u001b[0m \u001b[0;34m,\u001b[0m\u001b[0mbins\u001b[0m\u001b[0;34m=\u001b[0m\u001b[0mbin_edges\u001b[0m\u001b[0;34m)\u001b[0m\u001b[0;34m\u001b[0m\u001b[0;34m\u001b[0m\u001b[0m\n\u001b[1;32m     89\u001b[0m             \u001b[0meps\u001b[0m \u001b[0;34m=\u001b[0m \u001b[0;36m1e-7\u001b[0m\u001b[0;34m\u001b[0m\u001b[0;34m\u001b[0m\u001b[0m\n",
            "\u001b[0;32m/usr/local/lib/python3.11/dist-packages/numpy/_core/function_base.py\u001b[0m in \u001b[0;36mlinspace\u001b[0;34m(start, stop, num, endpoint, retstep, dtype, axis, device)\u001b[0m\n\u001b[1;32m    132\u001b[0m     \u001b[0mdiv\u001b[0m \u001b[0;34m=\u001b[0m \u001b[0;34m(\u001b[0m\u001b[0mnum\u001b[0m \u001b[0;34m-\u001b[0m \u001b[0;36m1\u001b[0m\u001b[0;34m)\u001b[0m \u001b[0;32mif\u001b[0m \u001b[0mendpoint\u001b[0m \u001b[0;32melse\u001b[0m \u001b[0mnum\u001b[0m\u001b[0;34m\u001b[0m\u001b[0;34m\u001b[0m\u001b[0m\n\u001b[1;32m    133\u001b[0m \u001b[0;34m\u001b[0m\u001b[0m\n\u001b[0;32m--> 134\u001b[0;31m     \u001b[0mconv\u001b[0m \u001b[0;34m=\u001b[0m \u001b[0m_array_converter\u001b[0m\u001b[0;34m(\u001b[0m\u001b[0mstart\u001b[0m\u001b[0;34m,\u001b[0m \u001b[0mstop\u001b[0m\u001b[0;34m)\u001b[0m\u001b[0;34m\u001b[0m\u001b[0;34m\u001b[0m\u001b[0m\n\u001b[0m\u001b[1;32m    135\u001b[0m     \u001b[0mstart\u001b[0m\u001b[0;34m,\u001b[0m \u001b[0mstop\u001b[0m \u001b[0;34m=\u001b[0m \u001b[0mconv\u001b[0m\u001b[0;34m.\u001b[0m\u001b[0mas_arrays\u001b[0m\u001b[0;34m(\u001b[0m\u001b[0;34m)\u001b[0m\u001b[0;34m\u001b[0m\u001b[0;34m\u001b[0m\u001b[0m\n\u001b[1;32m    136\u001b[0m     \u001b[0mdt\u001b[0m \u001b[0;34m=\u001b[0m \u001b[0mconv\u001b[0m\u001b[0;34m.\u001b[0m\u001b[0mresult_type\u001b[0m\u001b[0;34m(\u001b[0m\u001b[0mensure_inexact\u001b[0m\u001b[0;34m=\u001b[0m\u001b[0;32mTrue\u001b[0m\u001b[0;34m)\u001b[0m\u001b[0;34m\u001b[0m\u001b[0;34m\u001b[0m\u001b[0m\n",
            "\u001b[0;31mKeyboardInterrupt\u001b[0m: "
          ]
        }
      ],
      "source": [
        "# do not change the code in the block below\n",
        "# __________start of block__________\n",
        "image = random.choice(train_fmnist_data)[0][0].numpy()\n",
        "\n",
        "for i, img in enumerate(train_fmnist_data):\n",
        "  image = img[0][0].numpy()\n",
        "  hog = compute_hog(image)\n",
        "  assert hog.shape == (4, 4, 9), \"hog should have shape (4, 4, 9) for the FashionMNIST image with default parameters\"\n",
        "  print(\"Everything seems fine!\", i)\n",
        "\n",
        "  assert os.path.exists(\"hog_data.npy\") and os.path.exists(\"image_data.npy\"), \"hog_data.npy and image_data.npy should be in the same directory as the notebook\"\n",
        "  with open(\"hog_data.npy\", \"rb\") as f:\n",
        "      hog_data = np.load(f, allow_pickle=True)\n",
        "  with open(\"image_data.npy\", \"rb\") as f:\n",
        "      image_data = np.load(f, allow_pickle=True)\n",
        "  for test_image, test_hog in zip(image_data, hog_data):\n",
        "      hog = compute_hog(test_image)\n",
        "      assert np.allclose(hog, test_hog), \"hog should be the same\"\n",
        "\n",
        "# __________end of block__________\n"
      ]
    },
    {
      "cell_type": "markdown",
      "metadata": {
        "id": "zUQHzvAJuUKu"
      },
      "source": [
        "Визуализация полученных гистограмм. Сетка выглядит чуть сдвинутой из-за существенного размера пискеля, это нормально."
      ]
    },
    {
      "cell_type": "code",
      "execution_count": null,
      "metadata": {
        "colab": {
          "base_uri": "https://localhost:8080/",
          "height": 1000
        },
        "id": "Djxse4ciuUKu",
        "outputId": "c9b59a50-f1a2-4222-d1dc-83b65bde0d83"
      },
      "outputs": [
        {
          "output_type": "display_data",
          "data": {
            "text/plain": [
              "<Figure size 640x480 with 1 Axes>"
            ],
            "image/png": "[encoded data removed]"
          },
          "metadata": {}
        },
        {
          "output_type": "display_data",
          "data": {
            "text/plain": [
              "<Figure size 1000x1000 with 16 Axes>"
            ],
            "image/png": "[encoded data removed]"
          },
          "metadata": {}
        }
      ],
      "source": [
        "#plot all the histograms for (3, 3) cells:\n",
        "image = random.choice(train_fmnist_data)[0][0].numpy()\n",
        "hog = compute_hog(image)\n",
        "\n",
        "# draw cells on the image\n",
        "plt.imshow(image)\n",
        "for i in range(4):\n",
        "    for j in range(4):\n",
        "        plt.gca().add_patch(plt.Rectangle((j * cell_size, i * cell_size), cell_size, cell_size, fill=False, edgecolor='red', linewidth=1))\n",
        "plt.show()\n",
        "\n",
        "\n",
        "plt.figure(figsize=(10, 10))\n",
        "for i in range(4):\n",
        "    for j in range(4):\n",
        "        plt.subplot(4, 4, i * 4 + j + 1)\n",
        "        plt.bar(range(len(hog[i, j])), hog[i, j])\n",
        "        plt.title(f\"Cell {i}, {j}\")\n",
        "plt.show()\n"
      ]
    },
    {
      "cell_type": "markdown",
      "metadata": {
        "id": "nGuHaINtuUKu"
      },
      "source": [
        "### Сдача задания\n",
        "Сдайте функции в задачу в соревновании. Не забудьте, что при вставке кода все импортируемые библиотеки также должны вставляться вместе с вашим кодом. Вы не должны использовать что-либо, кроме `numpy` при написании решения."
      ]
    },
    {
      "cell_type": "markdown",
      "metadata": {
        "id": "OtWnYAN_gSrA"
      },
      "source": [
        "На этом задание завершено. Поздравляем!"
      ]
    }
  ],
  "metadata": {
    "accelerator": "GPU",
    "colab": {
      "gpuType": "T4",
      "provenance": [],
      "toc_visible": true
    },
    "kernelspec": {
      "display_name": "py3_main",
      "language": "python",
      "name": "python3"
    },
    "language_info": {
      "codemirror_mode": {
        "name": "ipython",
        "version": 3
      },
      "file_extension": ".py",
      "mimetype": "text/x-python",
      "name": "python",
      "nbconvert_exporter": "python",
      "pygments_lexer": "ipython3",
      "version": "3.12.9"
    },
    "toc": {
      "base_numbering": 1,
      "nav_menu": {},
      "number_sections": true,
      "sideBar": true,
      "skip_h1_title": false,
      "title_cell": "Table of Contents",
      "title_sidebar": "Contents",
      "toc_cell": false,
      "toc_position": {},
      "toc_section_display": true,
      "toc_window_display": false
    }
  },
  "nbformat": 4,
  "nbformat_minor": 0
}